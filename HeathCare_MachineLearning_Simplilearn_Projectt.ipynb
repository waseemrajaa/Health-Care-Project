<!DOCTYPE html>
<html>
<head><meta charset="utf-8" />

<title>HeathCare_MachineLearning_Simplilearn_Project (2)</title>

<script src="https://cdnjs.cloudflare.com/ajax/libs/require.js/2.1.10/require.min.js"></script>
<script src="https://cdnjs.cloudflare.com/ajax/libs/jquery/2.0.3/jquery.min.js"></script>



<style type="text/css">
    /*!
*
* Twitter Bootstrap
*
*/
/*!
 * Bootstrap v3.3.7 (http://getbootstrap.com)
 * Copyright 2011-2016 Twitter, Inc.
 * Licensed under MIT (https://github.com/twbs/bootstrap/blob/master/LICENSE)
 */
/*! normalize.css v3.0.3 | MIT License | github.com/necolas/normalize.css */
html {
  font-family: sans-serif;
  -ms-text-size-adjust: 100%;
  -webkit-text-size-adjust: 100%;
}
body {
  margin: 0;
}
article,
aside,
details,
figcaption,
figure,
footer,
header,
hgroup,
main,
menu,
nav,
section,
summary {
  display: block;
}
audio,
canvas,
progress,
video {
  display: inline-block;
  vertical-align: baseline;
}
audio:not([controls]) {
  display: none;
  height: 0;
}
[hidden],
template {
  display: none;
}
a {
  background-color: transparent;
}
a:active,
a:hover {
  outline: 0;
}
abbr[title] {
  border-bottom: 1px dotted;
}
b,
strong {
  font-weight: bold;
}
dfn {
  font-style: italic;
}
h1 {
  font-size: 2em;
  margin: 0.67em 0;
}
mark {
  background: #ff0;
  color: #000;
}
small {
  font-size: 80%;
}
sub,
sup {
  font-size: 75%;
  line-height: 0;
  position: relative;
  vertical-align: baseline;
}
sup {
  top: -0.5em;
}
sub {
  bottom: -0.25em;
}
img {
  border: 0;
}
svg:not(:root) {
  overflow: hidden;
}
figure {
  margin: 1em 40px;
}
hr {
  box-sizing: content-box;
  height: 0;
}
pre {
  overflow: auto;
}
code,
kbd,
pre,
samp {
  font-family: monospace, monospace;
  font-size: 1em;
}
button,
input,
optgroup,
select,
textarea {
  color: inherit;
  font: inherit;
  margin: 0;
}
button {
  overflow: visible;
}
button,
select {
  text-transform: none;
}
button,
html input[type="button"],
input[type="reset"],
input[type="submit"] {
  -webkit-appearance: button;
  cursor: pointer;
}
button[disabled],
html input[disabled] {
  cursor: default;
}
button::-moz-focus-inner,
input::-moz-focus-inner {
  border: 0;
  padding: 0;
}
input {
  line-height: normal;
}
input[type="checkbox"],
input[type="radio"] {
  box-sizing: border-box;
  padding: 0;
}
input[type="number"]::-webkit-inner-spin-button,
input[type="number"]::-webkit-outer-spin-button {
  height: auto;
}
input[type="search"] {
  -webkit-appearance: textfield;
  box-sizing: content-box;
}
input[type="search"]::-webkit-search-cancel-button,
input[type="search"]::-webkit-search-decoration {
  -webkit-appearance: none;
}
fieldset {
  border: 1px solid #c0c0c0;
  margin: 0 2px;
  padding: 0.35em 0.625em 0.75em;
}
legend {
  border: 0;
  padding: 0;
}
textarea {
  overflow: auto;
}
optgroup {
  font-weight: bold;
}
table {
  border-collapse: collapse;
  border-spacing: 0;
}
td,
th {
  padding: 0;
}
/*! Source: https://github.com/h5bp/html5-boilerplate/blob/master/src/css/main.css */
@media print {
  *,
  *:before,
  *:after {
    background: transparent !important;
    box-shadow: none !important;
    text-shadow: none !important;
  }
  a,
  a:visited {
    text-decoration: underline;
  }
  a[href]:after {
    content: " (" attr(href) ")";
  }
  abbr[title]:after {
    content: " (" attr(title) ")";
  }
  a[href^="#"]:after,
  a[href^="javascript:"]:after {
    content: "";
  }
  pre,
  blockquote {
    border: 1px solid #999;
    page-break-inside: avoid;
  }
  thead {
    display: table-header-group;
  }
  tr,
  img {
    page-break-inside: avoid;
  }
  img {
    max-width: 100% !important;
  }
  p,
  h2,
  h3 {
    orphans: 3;
    widows: 3;
  }
  h2,
  h3 {
    page-break-after: avoid;
  }
  .navbar {
    display: none;
  }
  .btn > .caret,
  .dropup > .btn > .caret {
    border-top-color: #000 !important;
  }
  .label {
    border: 1px solid #000;
  }
  .table {
    border-collapse: collapse !important;
  }
  .table td,
  .table th {
    background-color: #fff !important;
  }
  .table-bordered th,
  .table-bordered td {
    border: 1px solid #ddd !important;
  }
}
@font-face {
  font-family: 'Glyphicons Halflings';
  src: url('../components/bootstrap/fonts/glyphicons-halflings-regular.eot');
  src: url('../components/bootstrap/fonts/glyphicons-halflings-regular.eot?#iefix') format('embedded-opentype'), url('../components/bootstrap/fonts/glyphicons-halflings-regular.woff2') format('woff2'), url('../components/bootstrap/fonts/glyphicons-halflings-regular.woff') format('woff'), url('../components/bootstrap/fonts/glyphicons-halflings-regular.ttf') format('truetype'), url('../components/bootstrap/fonts/glyphicons-halflings-regular.svg#glyphicons_halflingsregular') format('svg');
}
.glyphicon {
  position: relative;
  top: 1px;
  display: inline-block;
  font-family: 'Glyphicons Halflings';
  font-style: normal;
  font-weight: normal;
  line-height: 1;
  -webkit-font-smoothing: antialiased;
  -moz-osx-font-smoothing: grayscale;
}
.glyphicon-asterisk:before {
  content: "\002a";
}
.glyphicon-plus:before {
  content: "\002b";
}
.glyphicon-euro:before,
.glyphicon-eur:before {
  content: "\20ac";
}
.glyphicon-minus:before {
  content: "\2212";
}
.glyphicon-cloud:before {
  content: "\2601";
}
.glyphicon-envelope:before {
  content: "\2709";
}
.glyphicon-pencil:before {
  content: "\270f";
}
.glyphicon-glass:before {
  content: "\e001";
}
.glyphicon-music:before {
  content: "\e002";
}
.glyphicon-search:before {
  content: "\e003";
}
.glyphicon-heart:before {
  content: "\e005";
}
.glyphicon-star:before {
  content: "\e006";
}
.glyphicon-star-empty:before {
  content: "\e007";
}
.glyphicon-user:before {
  content: "\e008";
}
.glyphicon-film:before {
  content: "\e009";
}
.glyphicon-th-large:before {
  content: "\e010";
}
.glyphicon-th:before {
  content: "\e011";
}
.glyphicon-th-list:before {
  content: "\e012";
}
.glyphicon-ok:before {
  content: "\e013";
}
.glyphicon-remove:before {
  content: "\e014";
}
.glyphicon-zoom-in:before {
  content: "\e015";
}
.glyphicon-zoom-out:before {
  content: "\e016";
}
.glyphicon-off:before {
  content: "\e017";
}
.glyphicon-signal:before {
  content: "\e018";
}
.glyphicon-cog:before {
  content: "\e019";
}
.glyphicon-trash:before {
  content: "\e020";
}
.glyphicon-home:before {
  content: "\e021";
}
.glyphicon-file:before {
  content: "\e022";
}
.glyphicon-time:before {
  content: "\e023";
}
.glyphicon-road:before {
  content: "\e024";
}
.glyphicon-download-alt:before {
  content: "\e025";
}
.glyphicon-download:before {
  content: "\e026";
}
.glyphicon-upload:before {
  content: "\e027";
}
.glyphicon-inbox:before {
  content: "\e028";
}
.glyphicon-play-circle:before {
  content: "\e029";
}
.glyphicon-repeat:before {
  content: "\e030";
}
.glyphicon-refresh:before {
  content: "\e031";
}
.glyphicon-list-alt:before {
  content: "\e032";
}
.glyphicon-lock:before {
  content: "\e033";
}
.glyphicon-flag:before {
  content: "\e034";
}
.glyphicon-headphones:before {
  content: "\e035";
}
.glyphicon-volume-off:before {
  content: "\e036";
}
.glyphicon-volume-down:before {
  content: "\e037";
}
.glyphicon-volume-up:before {
  content: "\e038";
}
.glyphicon-qrcode:before {
  content: "\e039";
}
.glyphicon-barcode:before {
  content: "\e040";
}
.glyphicon-tag:before {
  content: "\e041";
}
.glyphicon-tags:before {
  content: "\e042";
}
.glyphicon-book:before {
  content: "\e043";
}
.glyphicon-bookmark:before {
  content: "\e044";
}
.glyphicon-print:before {
  content: "\e045";
}
.glyphicon-camera:before {
  content: "\e046";
}
.glyphicon-font:before {
  content: "\e047";
}
.glyphicon-bold:before {
  content: "\e048";
}
.glyphicon-italic:before {
  content: "\e049";
}
.glyphicon-text-height:before {
  content: "\e050";
}
.glyphicon-text-width:before {
  content: "\e051";
}
.glyphicon-align-left:before {
  content: "\e052";
}
.glyphicon-align-center:before {
  content: "\e053";
}
.glyphicon-align-right:before {
  content: "\e054";
}
.glyphicon-align-justify:before {
  content: "\e055";
}
.glyphicon-list:before {
  content: "\e056";
}
.glyphicon-indent-left:before {
  content: "\e057";
}
.glyphicon-indent-right:before {
  content: "\e058";
}
.glyphicon-facetime-video:before {
  content: "\e059";
}
.glyphicon-picture:before {
  content: "\e060";
}
.glyphicon-map-marker:before {
  content: "\e062";
}
.glyphicon-adjust:before {
  content: "\e063";
}
.glyphicon-tint:before {
  content: "\e064";
}
.glyphicon-edit:before {
  content: "\e065";
}
.glyphicon-share:before {
  content: "\e066";
}
.glyphicon-check:before {
  content: "\e067";
}
.glyphicon-move:before {
  content: "\e068";
}
.glyphicon-step-backward:before {
  content: "\e069";
}
.glyphicon-fast-backward:before {
  content: "\e070";
}
.glyphicon-backward:before {
  content: "\e071";
}
.glyphicon-play:before {
  content: "\e072";
}
.glyphicon-pause:before {
  content: "\e073";
}
.glyphicon-stop:before {
  content: "\e074";
}
.glyphicon-forward:before {
  content: "\e075";
}
.glyphicon-fast-forward:before {
  content: "\e076";
}
.glyphicon-step-forward:before {
  content: "\e077";
}
.glyphicon-eject:before {
  content: "\e078";
}
.glyphicon-chevron-left:before {
  content: "\e079";
}
.glyphicon-chevron-right:before {
  content: "\e080";
}
.glyphicon-plus-sign:before {
  content: "\e081";
}
.glyphicon-minus-sign:before {
  content: "\e082";
}
.glyphicon-remove-sign:before {
  content: "\e083";
}
.glyphicon-ok-sign:before {
  content: "\e084";
}
.glyphicon-question-sign:before {
  content: "\e085";
}
.glyphicon-info-sign:before {
  content: "\e086";
}
.glyphicon-screenshot:before {
  content: "\e087";
}
.glyphicon-remove-circle:before {
  content: "\e088";
}
.glyphicon-ok-circle:before {
  content: "\e089";
}
.glyphicon-ban-circle:before {
  content: "\e090";
}
.glyphicon-arrow-left:before {
  content: "\e091";
}
.glyphicon-arrow-right:before {
  content: "\e092";
}
.glyphicon-arrow-up:before {
  content: "\e093";
}
.glyphicon-arrow-down:before {
  content: "\e094";
}
.glyphicon-share-alt:before {
  content: "\e095";
}
.glyphicon-resize-full:before {
  content: "\e096";
}
.glyphicon-resize-small:before {
  content: "\e097";
}
.glyphicon-exclamation-sign:before {
  content: "\e101";
}
.glyphicon-gift:before {
  content: "\e102";
}
.glyphicon-leaf:before {
  content: "\e103";
}
.glyphicon-fire:before {
  content: "\e104";
}
.glyphicon-eye-open:before {
  content: "\e105";
}
.glyphicon-eye-close:before {
  content: "\e106";
}
.glyphicon-warning-sign:before {
  content: "\e107";
}
.glyphicon-plane:before {
  content: "\e108";
}
.glyphicon-calendar:before {
  content: "\e109";
}
.glyphicon-random:before {
  content: "\e110";
}
.glyphicon-comment:before {
  content: "\e111";
}
.glyphicon-magnet:before {
  content: "\e112";
}
.glyphicon-chevron-up:before {
  content: "\e113";
}
.glyphicon-chevron-down:before {
  content: "\e114";
}
.glyphicon-retweet:before {
  content: "\e115";
}
.glyphicon-shopping-cart:before {
  content: "\e116";
}
.glyphicon-folder-close:before {
  content: "\e117";
}
.glyphicon-folder-open:before {
  content: "\e118";
}
.glyphicon-resize-vertical:before {
  content: "\e119";
}
.glyphicon-resize-horizontal:before {
  content: "\e120";
}
.glyphicon-hdd:before {
  content: "\e121";
}
.glyphicon-bullhorn:before {
  content: "\e122";
}
.glyphicon-bell:before {
  content: "\e123";
}
.glyphicon-certificate:before {
  content: "\e124";
}
.glyphicon-thumbs-up:before {
  content: "\e125";
}
.glyphicon-thumbs-down:before {
  content: "\e126";
}
.glyphicon-hand-right:before {
  content: "\e127";
}
.glyphicon-hand-left:before {
  content: "\e128";
}
.glyphicon-hand-up:before {
  content: "\e129";
}
.glyphicon-hand-down:before {
  content: "\e130";
}
.glyphicon-circle-arrow-right:before {
  content: "\e131";
}
.glyphicon-circle-arrow-left:before {
  content: "\e132";
}
.glyphicon-circle-arrow-up:before {
  content: "\e133";
}
.glyphicon-circle-arrow-down:before {
  content: "\e134";
}
.glyphicon-globe:before {
  content: "\e135";
}
.glyphicon-wrench:before {
  content: "\e136";
}
.glyphicon-tasks:before {
  content: "\e137";
}
.glyphicon-filter:before {
  content: "\e138";
}
.glyphicon-briefcase:before {
  content: "\e139";
}
.glyphicon-fullscreen:before {
  content: "\e140";
}
.glyphicon-dashboard:before {
  content: "\e141";
}
.glyphicon-paperclip:before {
  content: "\e142";
}
.glyphicon-heart-empty:before {
  content: "\e143";
}
.glyphicon-link:before {
  content: "\e144";
}
.glyphicon-phone:before {
  content: "\e145";
}
.glyphicon-pushpin:before {
  content: "\e146";
}
.glyphicon-usd:before {
  content: "\e148";
}
.glyphicon-gbp:before {
  content: "\e149";
}
.glyphicon-sort:before {
  content: "\e150";
}
.glyphicon-sort-by-alphabet:before {
  content: "\e151";
}
.glyphicon-sort-by-alphabet-alt:before {
  content: "\e152";
}
.glyphicon-sort-by-order:before {
  content: "\e153";
}
.glyphicon-sort-by-order-alt:before {
  content: "\e154";
}
.glyphicon-sort-by-attributes:before {
  content: "\e155";
}
.glyphicon-sort-by-attributes-alt:before {
  content: "\e156";
}
.glyphicon-unchecked:before {
  content: "\e157";
}
.glyphicon-expand:before {
  content: "\e158";
}
.glyphicon-collapse-down:before {
  content: "\e159";
}
.glyphicon-collapse-up:before {
  content: "\e160";
}
.glyphicon-log-in:before {
  content: "\e161";
}
.glyphicon-flash:before {
  content: "\e162";
}
.glyphicon-log-out:before {
  content: "\e163";
}
.glyphicon-new-window:before {
  content: "\e164";
}
.glyphicon-record:before {
  content: "\e165";
}
.glyphicon-save:before {
  content: "\e166";
}
.glyphicon-open:before {
  content: "\e167";
}
.glyphicon-saved:before {
  content: "\e168";
}
.glyphicon-import:before {
  content: "\e169";
}
.glyphicon-export:before {
  content: "\e170";
}
.glyphicon-send:before {
  content: "\e171";
}
.glyphicon-floppy-disk:before {
  content: "\e172";
}
.glyphicon-floppy-saved:before {
  content: "\e173";
}
.glyphicon-floppy-remove:before {
  content: "\e174";
}
.glyphicon-floppy-save:before {
  content: "\e175";
}
.glyphicon-floppy-open:before {
  content: "\e176";
}
.glyphicon-credit-card:before {
  content: "\e177";
}
.glyphicon-transfer:before {
  content: "\e178";
}
.glyphicon-cutlery:before {
  content: "\e179";
}
.glyphicon-header:before {
  content: "\e180";
}
.glyphicon-compressed:before {
  content: "\e181";
}
.glyphicon-earphone:before {
  content: "\e182";
}
.glyphicon-phone-alt:before {
  content: "\e183";
}
.glyphicon-tower:before {
  content: "\e184";
}
.glyphicon-stats:before {
  content: "\e185";
}
.glyphicon-sd-video:before {
  content: "\e186";
}
.glyphicon-hd-video:before {
  content: "\e187";
}
.glyphicon-subtitles:before {
  content: "\e188";
}
.glyphicon-sound-stereo:before {
  content: "\e189";
}
.glyphicon-sound-dolby:before {
  content: "\e190";
}
.glyphicon-sound-5-1:before {
  content: "\e191";
}
.glyphicon-sound-6-1:before {
  content: "\e192";
}
.glyphicon-sound-7-1:before {
  content: "\e193";
}
.glyphicon-copyright-mark:before {
  content: "\e194";
}
.glyphicon-registration-mark:before {
  content: "\e195";
}
.glyphicon-cloud-download:before {
  content: "\e197";
}
.glyphicon-cloud-upload:before {
  content: "\e198";
}
.glyphicon-tree-conifer:before {
  content: "\e199";
}
.glyphicon-tree-deciduous:before {
  content: "\e200";
}
.glyphicon-cd:before {
  content: "\e201";
}
.glyphicon-save-file:before {
  content: "\e202";
}
.glyphicon-open-file:before {
  content: "\e203";
}
.glyphicon-level-up:before {
  content: "\e204";
}
.glyphicon-copy:before {
  content: "\e205";
}
.glyphicon-paste:before {
  content: "\e206";
}
.glyphicon-alert:before {
  content: "\e209";
}
.glyphicon-equalizer:before {
  content: "\e210";
}
.glyphicon-king:before {
  content: "\e211";
}
.glyphicon-queen:before {
  content: "\e212";
}
.glyphicon-pawn:before {
  content: "\e213";
}
.glyphicon-bishop:before {
  content: "\e214";
}
.glyphicon-knight:before {
  content: "\e215";
}
.glyphicon-baby-formula:before {
  content: "\e216";
}
.glyphicon-tent:before {
  content: "\26fa";
}
.glyphicon-blackboard:before {
  content: "\e218";
}
.glyphicon-bed:before {
  content: "\e219";
}
.glyphicon-apple:before {
  content: "\f8ff";
}
.glyphicon-erase:before {
  content: "\e221";
}
.glyphicon-hourglass:before {
  content: "\231b";
}
.glyphicon-lamp:before {
  content: "\e223";
}
.glyphicon-duplicate:before {
  content: "\e224";
}
.glyphicon-piggy-bank:before {
  content: "\e225";
}
.glyphicon-scissors:before {
  content: "\e226";
}
.glyphicon-bitcoin:before {
  content: "\e227";
}
.glyphicon-btc:before {
  content: "\e227";
}
.glyphicon-xbt:before {
  content: "\e227";
}
.glyphicon-yen:before {
  content: "\00a5";
}
.glyphicon-jpy:before {
  content: "\00a5";
}
.glyphicon-ruble:before {
  content: "\20bd";
}
.glyphicon-rub:before {
  content: "\20bd";
}
.glyphicon-scale:before {
  content: "\e230";
}
.glyphicon-ice-lolly:before {
  content: "\e231";
}
.glyphicon-ice-lolly-tasted:before {
  content: "\e232";
}
.glyphicon-education:before {
  content: "\e233";
}
.glyphicon-option-horizontal:before {
  content: "\e234";
}
.glyphicon-option-vertical:before {
  content: "\e235";
}
.glyphicon-menu-hamburger:before {
  content: "\e236";
}
.glyphicon-modal-window:before {
  content: "\e237";
}
.glyphicon-oil:before {
  content: "\e238";
}
.glyphicon-grain:before {
  content: "\e239";
}
.glyphicon-sunglasses:before {
  content: "\e240";
}
.glyphicon-text-size:before {
  content: "\e241";
}
.glyphicon-text-color:before {
  content: "\e242";
}
.glyphicon-text-background:before {
  content: "\e243";
}
.glyphicon-object-align-top:before {
  content: "\e244";
}
.glyphicon-object-align-bottom:before {
  content: "\e245";
}
.glyphicon-object-align-horizontal:before {
  content: "\e246";
}
.glyphicon-object-align-left:before {
  content: "\e247";
}
.glyphicon-object-align-vertical:before {
  content: "\e248";
}
.glyphicon-object-align-right:before {
  content: "\e249";
}
.glyphicon-triangle-right:before {
  content: "\e250";
}
.glyphicon-triangle-left:before {
  content: "\e251";
}
.glyphicon-triangle-bottom:before {
  content: "\e252";
}
.glyphicon-triangle-top:before {
  content: "\e253";
}
.glyphicon-console:before {
  content: "\e254";
}
.glyphicon-superscript:before {
  content: "\e255";
}
.glyphicon-subscript:before {
  content: "\e256";
}
.glyphicon-menu-left:before {
  content: "\e257";
}
.glyphicon-menu-right:before {
  content: "\e258";
}
.glyphicon-menu-down:before {
  content: "\e259";
}
.glyphicon-menu-up:before {
  content: "\e260";
}
* {
  -webkit-box-sizing: border-box;
  -moz-box-sizing: border-box;
  box-sizing: border-box;
}
*:before,
*:after {
  -webkit-box-sizing: border-box;
  -moz-box-sizing: border-box;
  box-sizing: border-box;
}
html {
  font-size: 10px;
  -webkit-tap-highlight-color: rgba(0, 0, 0, 0);
}
body {
  font-family: "Helvetica Neue", Helvetica, Arial, sans-serif;
  font-size: 13px;
  line-height: 1.42857143;
  color: #000;
  background-color: #fff;
}
input,
button,
select,
textarea {
  font-family: inherit;
  font-size: inherit;
  line-height: inherit;
}
a {
  color: #337ab7;
  text-decoration: none;
}
a:hover,
a:focus {
  color: #23527c;
  text-decoration: underline;
}
a:focus {
  outline: 5px auto -webkit-focus-ring-color;
  outline-offset: -2px;
}
figure {
  margin: 0;
}
img {
  vertical-align: middle;
}
.img-responsive,
.thumbnail > img,
.thumbnail a > img,
.carousel-inner > .item > img,
.carousel-inner > .item > a > img {
  display: block;
  max-width: 100%;
  height: auto;
}
.img-rounded {
  border-radius: 3px;
}
.img-thumbnail {
  padding: 4px;
  line-height: 1.42857143;
  background-color: #fff;
  border: 1px solid #ddd;
  border-radius: 2px;
  -webkit-transition: all 0.2s ease-in-out;
  -o-transition: all 0.2s ease-in-out;
  transition: all 0.2s ease-in-out;
  display: inline-block;
  max-width: 100%;
  height: auto;
}
.img-circle {
  border-radius: 50%;
}
hr {
  margin-top: 18px;
  margin-bottom: 18px;
  border: 0;
  border-top: 1px solid #eeeeee;
}
.sr-only {
  position: absolute;
  width: 1px;
  height: 1px;
  margin: -1px;
  padding: 0;
  overflow: hidden;
  clip: rect(0, 0, 0, 0);
  border: 0;
}
.sr-only-focusable:active,
.sr-only-focusable:focus {
  position: static;
  width: auto;
  height: auto;
  margin: 0;
  overflow: visible;
  clip: auto;
}
[role="button"] {
  cursor: pointer;
}
h1,
h2,
h3,
h4,
h5,
h6,
.h1,
.h2,
.h3,
.h4,
.h5,
.h6 {
  font-family: inherit;
  font-weight: 500;
  line-height: 1.1;
  color: inherit;
}
h1 small,
h2 small,
h3 small,
h4 small,
h5 small,
h6 small,
.h1 small,
.h2 small,
.h3 small,
.h4 small,
.h5 small,
.h6 small,
h1 .small,
h2 .small,
h3 .small,
h4 .small,
h5 .small,
h6 .small,
.h1 .small,
.h2 .small,
.h3 .small,
.h4 .small,
.h5 .small,
.h6 .small {
  font-weight: normal;
  line-height: 1;
  color: #777777;
}
h1,
.h1,
h2,
.h2,
h3,
.h3 {
  margin-top: 18px;
  margin-bottom: 9px;
}
h1 small,
.h1 small,
h2 small,
.h2 small,
h3 small,
.h3 small,
h1 .small,
.h1 .small,
h2 .small,
.h2 .small,
h3 .small,
.h3 .small {
  font-size: 65%;
}
h4,
.h4,
h5,
.h5,
h6,
.h6 {
  margin-top: 9px;
  margin-bottom: 9px;
}
h4 small,
.h4 small,
h5 small,
.h5 small,
h6 small,
.h6 small,
h4 .small,
.h4 .small,
h5 .small,
.h5 .small,
h6 .small,
.h6 .small {
  font-size: 75%;
}
h1,
.h1 {
  font-size: 33px;
}
h2,
.h2 {
  font-size: 27px;
}
h3,
.h3 {
  font-size: 23px;
}
h4,
.h4 {
  font-size: 17px;
}
h5,
.h5 {
  font-size: 13px;
}
h6,
.h6 {
  font-size: 12px;
}
p {
  margin: 0 0 9px;
}
.lead {
  margin-bottom: 18px;
  font-size: 14px;
  font-weight: 300;
  line-height: 1.4;
}
@media (min-width: 768px) {
  .lead {
    font-size: 19.5px;
  }
}
small,
.small {
  font-size: 92%;
}
mark,
.mark {
  background-color: #fcf8e3;
  padding: .2em;
}
.text-left {
  text-align: left;
}
.text-right {
  text-align: right;
}
.text-center {
  text-align: center;
}
.text-justify {
  text-align: justify;
}
.text-nowrap {
  white-space: nowrap;
}
.text-lowercase {
  text-transform: lowercase;
}
.text-uppercase {
  text-transform: uppercase;
}
.text-capitalize {
  text-transform: capitalize;
}
.text-muted {
  color: #777777;
}
.text-primary {
  color: #337ab7;
}
a.text-primary:hover,
a.text-primary:focus {
  color: #286090;
}
.text-success {
  color: #3c763d;
}
a.text-success:hover,
a.text-success:focus {
  color: #2b542c;
}
.text-info {
  color: #31708f;
}
a.text-info:hover,
a.text-info:focus {
  color: #245269;
}
.text-warning {
  color: #8a6d3b;
}
a.text-warning:hover,
a.text-warning:focus {
  color: #66512c;
}
.text-danger {
  color: #a94442;
}
a.text-danger:hover,
a.text-danger:focus {
  color: #843534;
}
.bg-primary {
  color: #fff;
  background-color: #337ab7;
}
a.bg-primary:hover,
a.bg-primary:focus {
  background-color: #286090;
}
.bg-success {
  background-color: #dff0d8;
}
a.bg-success:hover,
a.bg-success:focus {
  background-color: #c1e2b3;
}
.bg-info {
  background-color: #d9edf7;
}
a.bg-info:hover,
a.bg-info:focus {
  background-color: #afd9ee;
}
.bg-warning {
  background-color: #fcf8e3;
}
a.bg-warning:hover,
a.bg-warning:focus {
  background-color: #f7ecb5;
}
.bg-danger {
  background-color: #f2dede;
}
a.bg-danger:hover,
a.bg-danger:focus {
  background-color: #e4b9b9;
}
.page-header {
  padding-bottom: 8px;
  margin: 36px 0 18px;
  border-bottom: 1px solid #eeeeee;
}
ul,
ol {
  margin-top: 0;
  margin-bottom: 9px;
}
ul ul,
ol ul,
ul ol,
ol ol {
  margin-bottom: 0;
}
.list-unstyled {
  padding-left: 0;
  list-style: none;
}
.list-inline {
  padding-left: 0;
  list-style: none;
  margin-left: -5px;
}
.list-inline > li {
  display: inline-block;
  padding-left: 5px;
  padding-right: 5px;
}
dl {
  margin-top: 0;
  margin-bottom: 18px;
}
dt,
dd {
  line-height: 1.42857143;
}
dt {
  font-weight: bold;
}
dd {
  margin-left: 0;
}
@media (min-width: 541px) {
  .dl-horizontal dt {
    float: left;
    width: 160px;
    clear: left;
    text-align: right;
    overflow: hidden;
    text-overflow: ellipsis;
    white-space: nowrap;
  }
  .dl-horizontal dd {
    margin-left: 180px;
  }
}
abbr[title],
abbr[data-original-title] {
  cursor: help;
  border-bottom: 1px dotted #777777;
}
.initialism {
  font-size: 90%;
  text-transform: uppercase;
}
blockquote {
  padding: 9px 18px;
  margin: 0 0 18px;
  font-size: inherit;
  border-left: 5px solid #eeeeee;
}
blockquote p:last-child,
blockquote ul:last-child,
blockquote ol:last-child {
  margin-bottom: 0;
}
blockquote footer,
blockquote small,
blockquote .small {
  display: block;
  font-size: 80%;
  line-height: 1.42857143;
  color: #777777;
}
blockquote footer:before,
blockquote small:before,
blockquote .small:before {
  content: '\2014 \00A0';
}
.blockquote-reverse,
blockquote.pull-right {
  padding-right: 15px;
  padding-left: 0;
  border-right: 5px solid #eeeeee;
  border-left: 0;
  text-align: right;
}
.blockquote-reverse footer:before,
blockquote.pull-right footer:before,
.blockquote-reverse small:before,
blockquote.pull-right small:before,
.blockquote-reverse .small:before,
blockquote.pull-right .small:before {
  content: '';
}
.blockquote-reverse footer:after,
blockquote.pull-right footer:after,
.blockquote-reverse small:after,
blockquote.pull-right small:after,
.blockquote-reverse .small:after,
blockquote.pull-right .small:after {
  content: '\00A0 \2014';
}
address {
  margin-bottom: 18px;
  font-style: normal;
  line-height: 1.42857143;
}
code,
kbd,
pre,
samp {
  font-family: monospace;
}
code {
  padding: 2px 4px;
  font-size: 90%;
  color: #c7254e;
  background-color: #f9f2f4;
  border-radius: 2px;
}
kbd {
  padding: 2px 4px;
  font-size: 90%;
  color: #888;
  background-color: transparent;
  border-radius: 1px;
  box-shadow: inset 0 -1px 0 rgba(0, 0, 0, 0.25);
}
kbd kbd {
  padding: 0;
  font-size: 100%;
  font-weight: bold;
  box-shadow: none;
}
pre {
  display: block;
  padding: 8.5px;
  margin: 0 0 9px;
  font-size: 12px;
  line-height: 1.42857143;
  word-break: break-all;
  word-wrap: break-word;
  color: #333333;
  background-color: #f5f5f5;
  border: 1px solid #ccc;
  border-radius: 2px;
}
pre code {
  padding: 0;
  font-size: inherit;
  color: inherit;
  white-space: pre-wrap;
  background-color: transparent;
  border-radius: 0;
}
.pre-scrollable {
  max-height: 340px;
  overflow-y: scroll;
}
.container {
  margin-right: auto;
  margin-left: auto;
  padding-left: 0px;
  padding-right: 0px;
}
@media (min-width: 768px) {
  .container {
    width: 768px;
  }
}
@media (min-width: 992px) {
  .container {
    width: 940px;
  }
}
@media (min-width: 1200px) {
  .container {
    width: 1140px;
  }
}
.container-fluid {
  margin-right: auto;
  margin-left: auto;
  padding-left: 0px;
  padding-right: 0px;
}
.row {
  margin-left: 0px;
  margin-right: 0px;
}
.col-xs-1, .col-sm-1, .col-md-1, .col-lg-1, .col-xs-2, .col-sm-2, .col-md-2, .col-lg-2, .col-xs-3, .col-sm-3, .col-md-3, .col-lg-3, .col-xs-4, .col-sm-4, .col-md-4, .col-lg-4, .col-xs-5, .col-sm-5, .col-md-5, .col-lg-5, .col-xs-6, .col-sm-6, .col-md-6, .col-lg-6, .col-xs-7, .col-sm-7, .col-md-7, .col-lg-7, .col-xs-8, .col-sm-8, .col-md-8, .col-lg-8, .col-xs-9, .col-sm-9, .col-md-9, .col-lg-9, .col-xs-10, .col-sm-10, .col-md-10, .col-lg-10, .col-xs-11, .col-sm-11, .col-md-11, .col-lg-11, .col-xs-12, .col-sm-12, .col-md-12, .col-lg-12 {
  position: relative;
  min-height: 1px;
  padding-left: 0px;
  padding-right: 0px;
}
.col-xs-1, .col-xs-2, .col-xs-3, .col-xs-4, .col-xs-5, .col-xs-6, .col-xs-7, .col-xs-8, .col-xs-9, .col-xs-10, .col-xs-11, .col-xs-12 {
  float: left;
}
.col-xs-12 {
  width: 100%;
}
.col-xs-11 {
  width: 91.66666667%;
}
.col-xs-10 {
  width: 83.33333333%;
}
.col-xs-9 {
  width: 75%;
}
.col-xs-8 {
  width: 66.66666667%;
}
.col-xs-7 {
  width: 58.33333333%;
}
.col-xs-6 {
  width: 50%;
}
.col-xs-5 {
  width: 41.66666667%;
}
.col-xs-4 {
  width: 33.33333333%;
}
.col-xs-3 {
  width: 25%;
}
.col-xs-2 {
  width: 16.66666667%;
}
.col-xs-1 {
  width: 8.33333333%;
}
.col-xs-pull-12 {
  right: 100%;
}
.col-xs-pull-11 {
  right: 91.66666667%;
}
.col-xs-pull-10 {
  right: 83.33333333%;
}
.col-xs-pull-9 {
  right: 75%;
}
.col-xs-pull-8 {
  right: 66.66666667%;
}
.col-xs-pull-7 {
  right: 58.33333333%;
}
.col-xs-pull-6 {
  right: 50%;
}
.col-xs-pull-5 {
  right: 41.66666667%;
}
.col-xs-pull-4 {
  right: 33.33333333%;
}
.col-xs-pull-3 {
  right: 25%;
}
.col-xs-pull-2 {
  right: 16.66666667%;
}
.col-xs-pull-1 {
  right: 8.33333333%;
}
.col-xs-pull-0 {
  right: auto;
}
.col-xs-push-12 {
  left: 100%;
}
.col-xs-push-11 {
  left: 91.66666667%;
}
.col-xs-push-10 {
  left: 83.33333333%;
}
.col-xs-push-9 {
  left: 75%;
}
.col-xs-push-8 {
  left: 66.66666667%;
}
.col-xs-push-7 {
  left: 58.33333333%;
}
.col-xs-push-6 {
  left: 50%;
}
.col-xs-push-5 {
  left: 41.66666667%;
}
.col-xs-push-4 {
  left: 33.33333333%;
}
.col-xs-push-3 {
  left: 25%;
}
.col-xs-push-2 {
  left: 16.66666667%;
}
.col-xs-push-1 {
  left: 8.33333333%;
}
.col-xs-push-0 {
  left: auto;
}
.col-xs-offset-12 {
  margin-left: 100%;
}
.col-xs-offset-11 {
  margin-left: 91.66666667%;
}
.col-xs-offset-10 {
  margin-left: 83.33333333%;
}
.col-xs-offset-9 {
  margin-left: 75%;
}
.col-xs-offset-8 {
  margin-left: 66.66666667%;
}
.col-xs-offset-7 {
  margin-left: 58.33333333%;
}
.col-xs-offset-6 {
  margin-left: 50%;
}
.col-xs-offset-5 {
  margin-left: 41.66666667%;
}
.col-xs-offset-4 {
  margin-left: 33.33333333%;
}
.col-xs-offset-3 {
  margin-left: 25%;
}
.col-xs-offset-2 {
  margin-left: 16.66666667%;
}
.col-xs-offset-1 {
  margin-left: 8.33333333%;
}
.col-xs-offset-0 {
  margin-left: 0%;
}
@media (min-width: 768px) {
  .col-sm-1, .col-sm-2, .col-sm-3, .col-sm-4, .col-sm-5, .col-sm-6, .col-sm-7, .col-sm-8, .col-sm-9, .col-sm-10, .col-sm-11, .col-sm-12 {
    float: left;
  }
  .col-sm-12 {
    width: 100%;
  }
  .col-sm-11 {
    width: 91.66666667%;
  }
  .col-sm-10 {
    width: 83.33333333%;
  }
  .col-sm-9 {
    width: 75%;
  }
  .col-sm-8 {
    width: 66.66666667%;
  }
  .col-sm-7 {
    width: 58.33333333%;
  }
  .col-sm-6 {
    width: 50%;
  }
  .col-sm-5 {
    width: 41.66666667%;
  }
  .col-sm-4 {
    width: 33.33333333%;
  }
  .col-sm-3 {
    width: 25%;
  }
  .col-sm-2 {
    width: 16.66666667%;
  }
  .col-sm-1 {
    width: 8.33333333%;
  }
  .col-sm-pull-12 {
    right: 100%;
  }
  .col-sm-pull-11 {
    right: 91.66666667%;
  }
  .col-sm-pull-10 {
    right: 83.33333333%;
  }
  .col-sm-pull-9 {
    right: 75%;
  }
  .col-sm-pull-8 {
    right: 66.66666667%;
  }
  .col-sm-pull-7 {
    right: 58.33333333%;
  }
  .col-sm-pull-6 {
    right: 50%;
  }
  .col-sm-pull-5 {
    right: 41.66666667%;
  }
  .col-sm-pull-4 {
    right: 33.33333333%;
  }
  .col-sm-pull-3 {
    right: 25%;
  }
  .col-sm-pull-2 {
    right: 16.66666667%;
  }
  .col-sm-pull-1 {
    right: 8.33333333%;
  }
  .col-sm-pull-0 {
    right: auto;
  }
  .col-sm-push-12 {
    left: 100%;
  }
  .col-sm-push-11 {
    left: 91.66666667%;
  }
  .col-sm-push-10 {
    left: 83.33333333%;
  }
  .col-sm-push-9 {
    left: 75%;
  }
  .col-sm-push-8 {
    left: 66.66666667%;
  }
  .col-sm-push-7 {
    left: 58.33333333%;
  }
  .col-sm-push-6 {
    left: 50%;
  }
  .col-sm-push-5 {
    left: 41.66666667%;
  }
  .col-sm-push-4 {
    left: 33.33333333%;
  }
  .col-sm-push-3 {
    left: 25%;
  }
  .col-sm-push-2 {
    left: 16.66666667%;
  }
  .col-sm-push-1 {
    left: 8.33333333%;
  }
  .col-sm-push-0 {
    left: auto;
  }
  .col-sm-offset-12 {
    margin-left: 100%;
  }
  .col-sm-offset-11 {
    margin-left: 91.66666667%;
  }
  .col-sm-offset-10 {
    margin-left: 83.33333333%;
  }
  .col-sm-offset-9 {
    margin-left: 75%;
  }
  .col-sm-offset-8 {
    margin-left: 66.66666667%;
  }
  .col-sm-offset-7 {
    margin-left: 58.33333333%;
  }
  .col-sm-offset-6 {
    margin-left: 50%;
  }
  .col-sm-offset-5 {
    margin-left: 41.66666667%;
  }
  .col-sm-offset-4 {
    margin-left: 33.33333333%;
  }
  .col-sm-offset-3 {
    margin-left: 25%;
  }
  .col-sm-offset-2 {
    margin-left: 16.66666667%;
  }
  .col-sm-offset-1 {
    margin-left: 8.33333333%;
  }
  .col-sm-offset-0 {
    margin-left: 0%;
  }
}
@media (min-width: 992px) {
  .col-md-1, .col-md-2, .col-md-3, .col-md-4, .col-md-5, .col-md-6, .col-md-7, .col-md-8, .col-md-9, .col-md-10, .col-md-11, .col-md-12 {
    float: left;
  }
  .col-md-12 {
    width: 100%;
  }
  .col-md-11 {
    width: 91.66666667%;
  }
  .col-md-10 {
    width: 83.33333333%;
  }
  .col-md-9 {
    width: 75%;
  }
  .col-md-8 {
    width: 66.66666667%;
  }
  .col-md-7 {
    width: 58.33333333%;
  }
  .col-md-6 {
    width: 50%;
  }
  .col-md-5 {
    width: 41.66666667%;
  }
  .col-md-4 {
    width: 33.33333333%;
  }
  .col-md-3 {
    width: 25%;
  }
  .col-md-2 {
    width: 16.66666667%;
  }
  .col-md-1 {
    width: 8.33333333%;
  }
  .col-md-pull-12 {
    right: 100%;
  }
  .col-md-pull-11 {
    right: 91.66666667%;
  }
  .col-md-pull-10 {
    right: 83.33333333%;
  }
  .col-md-pull-9 {
    right: 75%;
  }
  .col-md-pull-8 {
    right: 66.66666667%;
  }
  .col-md-pull-7 {
    right: 58.33333333%;
  }
  .col-md-pull-6 {
    right: 50%;
  }
  .col-md-pull-5 {
    right: 41.66666667%;
  }
  .col-md-pull-4 {
    right: 33.33333333%;
  }
  .col-md-pull-3 {
    right: 25%;
  }
  .col-md-pull-2 {
    right: 16.66666667%;
  }
  .col-md-pull-1 {
    right: 8.33333333%;
  }
  .col-md-pull-0 {
    right: auto;
  }
  .col-md-push-12 {
    left: 100%;
  }
  .col-md-push-11 {
    left: 91.66666667%;
  }
  .col-md-push-10 {
    left: 83.33333333%;
  }
  .col-md-push-9 {
    left: 75%;
  }
  .col-md-push-8 {
    left: 66.66666667%;
  }
  .col-md-push-7 {
    left: 58.33333333%;
  }
  .col-md-push-6 {
    left: 50%;
  }
  .col-md-push-5 {
    left: 41.66666667%;
  }
  .col-md-push-4 {
    left: 33.33333333%;
  }
  .col-md-push-3 {
    left: 25%;
  }
  .col-md-push-2 {
    left: 16.66666667%;
  }
  .col-md-push-1 {
    left: 8.33333333%;
  }
  .col-md-push-0 {
    left: auto;
  }
  .col-md-offset-12 {
    margin-left: 100%;
  }
  .col-md-offset-11 {
    margin-left: 91.66666667%;
  }
  .col-md-offset-10 {
    margin-left: 83.33333333%;
  }
  .col-md-offset-9 {
    margin-left: 75%;
  }
  .col-md-offset-8 {
    margin-left: 66.66666667%;
  }
  .col-md-offset-7 {
    margin-left: 58.33333333%;
  }
  .col-md-offset-6 {
    margin-left: 50%;
  }
  .col-md-offset-5 {
    margin-left: 41.66666667%;
  }
  .col-md-offset-4 {
    margin-left: 33.33333333%;
  }
  .col-md-offset-3 {
    margin-left: 25%;
  }
  .col-md-offset-2 {
    margin-left: 16.66666667%;
  }
  .col-md-offset-1 {
    margin-left: 8.33333333%;
  }
  .col-md-offset-0 {
    margin-left: 0%;
  }
}
@media (min-width: 1200px) {
  .col-lg-1, .col-lg-2, .col-lg-3, .col-lg-4, .col-lg-5, .col-lg-6, .col-lg-7, .col-lg-8, .col-lg-9, .col-lg-10, .col-lg-11, .col-lg-12 {
    float: left;
  }
  .col-lg-12 {
    width: 100%;
  }
  .col-lg-11 {
    width: 91.66666667%;
  }
  .col-lg-10 {
    width: 83.33333333%;
  }
  .col-lg-9 {
    width: 75%;
  }
  .col-lg-8 {
    width: 66.66666667%;
  }
  .col-lg-7 {
    width: 58.33333333%;
  }
  .col-lg-6 {
    width: 50%;
  }
  .col-lg-5 {
    width: 41.66666667%;
  }
  .col-lg-4 {
    width: 33.33333333%;
  }
  .col-lg-3 {
    width: 25%;
  }
  .col-lg-2 {
    width: 16.66666667%;
  }
  .col-lg-1 {
    width: 8.33333333%;
  }
  .col-lg-pull-12 {
    right: 100%;
  }
  .col-lg-pull-11 {
    right: 91.66666667%;
  }
  .col-lg-pull-10 {
    right: 83.33333333%;
  }
  .col-lg-pull-9 {
    right: 75%;
  }
  .col-lg-pull-8 {
    right: 66.66666667%;
  }
  .col-lg-pull-7 {
    right: 58.33333333%;
  }
  .col-lg-pull-6 {
    right: 50%;
  }
  .col-lg-pull-5 {
    right: 41.66666667%;
  }
  .col-lg-pull-4 {
    right: 33.33333333%;
  }
  .col-lg-pull-3 {
    right: 25%;
  }
  .col-lg-pull-2 {
    right: 16.66666667%;
  }
  .col-lg-pull-1 {
    right: 8.33333333%;
  }
  .col-lg-pull-0 {
    right: auto;
  }
  .col-lg-push-12 {
    left: 100%;
  }
  .col-lg-push-11 {
    left: 91.66666667%;
  }
  .col-lg-push-10 {
    left: 83.33333333%;
  }
  .col-lg-push-9 {
    left: 75%;
  }
  .col-lg-push-8 {
    left: 66.66666667%;
  }
  .col-lg-push-7 {
    left: 58.33333333%;
  }
  .col-lg-push-6 {
    left: 50%;
  }
  .col-lg-push-5 {
    left: 41.66666667%;
  }
  .col-lg-push-4 {
    left: 33.33333333%;
  }
  .col-lg-push-3 {
    left: 25%;
  }
  .col-lg-push-2 {
    left: 16.66666667%;
  }
  .col-lg-push-1 {
    left: 8.33333333%;
  }
  .col-lg-push-0 {
    left: auto;
  }
  .col-lg-offset-12 {
    margin-left: 100%;
  }
  .col-lg-offset-11 {
    margin-left: 91.66666667%;
  }
  .col-lg-offset-10 {
    margin-left: 83.33333333%;
  }
  .col-lg-offset-9 {
    margin-left: 75%;
  }
  .col-lg-offset-8 {
    margin-left: 66.66666667%;
  }
  .col-lg-offset-7 {
    margin-left: 58.33333333%;
  }
  .col-lg-offset-6 {
    margin-left: 50%;
  }
  .col-lg-offset-5 {
    margin-left: 41.66666667%;
  }
  .col-lg-offset-4 {
    margin-left: 33.33333333%;
  }
  .col-lg-offset-3 {
    margin-left: 25%;
  }
  .col-lg-offset-2 {
    margin-left: 16.66666667%;
  }
  .col-lg-offset-1 {
    margin-left: 8.33333333%;
  }
  .col-lg-offset-0 {
    margin-left: 0%;
  }
}
table {
  background-color: transparent;
}
caption {
  padding-top: 8px;
  padding-bottom: 8px;
  color: #777777;
  text-align: left;
}
th {
  text-align: left;
}
.table {
  width: 100%;
  max-width: 100%;
  margin-bottom: 18px;
}
.table > thead > tr > th,
.table > tbody > tr > th,
.table > tfoot > tr > th,
.table > thead > tr > td,
.table > tbody > tr > td,
.table > tfoot > tr > td {
  padding: 8px;
  line-height: 1.42857143;
  vertical-align: top;
  border-top: 1px solid #ddd;
}
.table > thead > tr > th {
  vertical-align: bottom;
  border-bottom: 2px solid #ddd;
}
.table > caption + thead > tr:first-child > th,
.table > colgroup + thead > tr:first-child > th,
.table > thead:first-child > tr:first-child > th,
.table > caption + thead > tr:first-child > td,
.table > colgroup + thead > tr:first-child > td,
.table > thead:first-child > tr:first-child > td {
  border-top: 0;
}
.table > tbody + tbody {
  border-top: 2px solid #ddd;
}
.table .table {
  background-color: #fff;
}
.table-condensed > thead > tr > th,
.table-condensed > tbody > tr > th,
.table-condensed > tfoot > tr > th,
.table-condensed > thead > tr > td,
.table-condensed > tbody > tr > td,
.table-condensed > tfoot > tr > td {
  padding: 5px;
}
.table-bordered {
  border: 1px solid #ddd;
}
.table-bordered > thead > tr > th,
.table-bordered > tbody > tr > th,
.table-bordered > tfoot > tr > th,
.table-bordered > thead > tr > td,
.table-bordered > tbody > tr > td,
.table-bordered > tfoot > tr > td {
  border: 1px solid #ddd;
}
.table-bordered > thead > tr > th,
.table-bordered > thead > tr > td {
  border-bottom-width: 2px;
}
.table-striped > tbody > tr:nth-of-type(odd) {
  background-color: #f9f9f9;
}
.table-hover > tbody > tr:hover {
  background-color: #f5f5f5;
}
table col[class*="col-"] {
  position: static;
  float: none;
  display: table-column;
}
table td[class*="col-"],
table th[class*="col-"] {
  position: static;
  float: none;
  display: table-cell;
}
.table > thead > tr > td.active,
.table > tbody > tr > td.active,
.table > tfoot > tr > td.active,
.table > thead > tr > th.active,
.table > tbody > tr > th.active,
.table > tfoot > tr > th.active,
.table > thead > tr.active > td,
.table > tbody > tr.active > td,
.table > tfoot > tr.active > td,
.table > thead > tr.active > th,
.table > tbody > tr.active > th,
.table > tfoot > tr.active > th {
  background-color: #f5f5f5;
}
.table-hover > tbody > tr > td.active:hover,
.table-hover > tbody > tr > th.active:hover,
.table-hover > tbody > tr.active:hover > td,
.table-hover > tbody > tr:hover > .active,
.table-hover > tbody > tr.active:hover > th {
  background-color: #e8e8e8;
}
.table > thead > tr > td.success,
.table > tbody > tr > td.success,
.table > tfoot > tr > td.success,
.table > thead > tr > th.success,
.table > tbody > tr > th.success,
.table > tfoot > tr > th.success,
.table > thead > tr.success > td,
.table > tbody > tr.success > td,
.table > tfoot > tr.success > td,
.table > thead > tr.success > th,
.table > tbody > tr.success > th,
.table > tfoot > tr.success > th {
  background-color: #dff0d8;
}
.table-hover > tbody > tr > td.success:hover,
.table-hover > tbody > tr > th.success:hover,
.table-hover > tbody > tr.success:hover > td,
.table-hover > tbody > tr:hover > .success,
.table-hover > tbody > tr.success:hover > th {
  background-color: #d0e9c6;
}
.table > thead > tr > td.info,
.table > tbody > tr > td.info,
.table > tfoot > tr > td.info,
.table > thead > tr > th.info,
.table > tbody > tr > th.info,
.table > tfoot > tr > th.info,
.table > thead > tr.info > td,
.table > tbody > tr.info > td,
.table > tfoot > tr.info > td,
.table > thead > tr.info > th,
.table > tbody > tr.info > th,
.table > tfoot > tr.info > th {
  background-color: #d9edf7;
}
.table-hover > tbody > tr > td.info:hover,
.table-hover > tbody > tr > th.info:hover,
.table-hover > tbody > tr.info:hover > td,
.table-hover > tbody > tr:hover > .info,
.table-hover > tbody > tr.info:hover > th {
  background-color: #c4e3f3;
}
.table > thead > tr > td.warning,
.table > tbody > tr > td.warning,
.table > tfoot > tr > td.warning,
.table > thead > tr > th.warning,
.table > tbody > tr > th.warning,
.table > tfoot > tr > th.warning,
.table > thead > tr.warning > td,
.table > tbody > tr.warning > td,
.table > tfoot > tr.warning > td,
.table > thead > tr.warning > th,
.table > tbody > tr.warning > th,
.table > tfoot > tr.warning > th {
  background-color: #fcf8e3;
}
.table-hover > tbody > tr > td.warning:hover,
.table-hover > tbody > tr > th.warning:hover,
.table-hover > tbody > tr.warning:hover > td,
.table-hover > tbody > tr:hover > .warning,
.table-hover > tbody > tr.warning:hover > th {
  background-color: #faf2cc;
}
.table > thead > tr > td.danger,
.table > tbody > tr > td.danger,
.table > tfoot > tr > td.danger,
.table > thead > tr > th.danger,
.table > tbody > tr > th.danger,
.table > tfoot > tr > th.danger,
.table > thead > tr.danger > td,
.table > tbody > tr.danger > td,
.table > tfoot > tr.danger > td,
.table > thead > tr.danger > th,
.table > tbody > tr.danger > th,
.table > tfoot > tr.danger > th {
  background-color: #f2dede;
}
.table-hover > tbody > tr > td.danger:hover,
.table-hover > tbody > tr > th.danger:hover,
.table-hover > tbody > tr.danger:hover > td,
.table-hover > tbody > tr:hover > .danger,
.table-hover > tbody > tr.danger:hover > th {
  background-color: #ebcccc;
}
.table-responsive {
  overflow-x: auto;
  min-height: 0.01%;
}
@media screen and (max-width: 767px) {
  .table-responsive {
    width: 100%;
    margin-bottom: 13.5px;
    overflow-y: hidden;
    -ms-overflow-style: -ms-autohiding-scrollbar;
    border: 1px solid #ddd;
  }
  .table-responsive > .table {
    margin-bottom: 0;
  }
  .table-responsive > .table > thead > tr > th,
  .table-responsive > .table > tbody > tr > th,
  .table-responsive > .table > tfoot > tr > th,
  .table-responsive > .table > thead > tr > td,
  .table-responsive > .table > tbody > tr > td,
  .table-responsive > .table > tfoot > tr > td {
    white-space: nowrap;
  }
  .table-responsive > .table-bordered {
    border: 0;
  }
  .table-responsive > .table-bordered > thead > tr > th:first-child,
  .table-responsive > .table-bordered > tbody > tr > th:first-child,
  .table-responsive > .table-bordered > tfoot > tr > th:first-child,
  .table-responsive > .table-bordered > thead > tr > td:first-child,
  .table-responsive > .table-bordered > tbody > tr > td:first-child,
  .table-responsive > .table-bordered > tfoot > tr > td:first-child {
    border-left: 0;
  }
  .table-responsive > .table-bordered > thead > tr > th:last-child,
  .table-responsive > .table-bordered > tbody > tr > th:last-child,
  .table-responsive > .table-bordered > tfoot > tr > th:last-child,
  .table-responsive > .table-bordered > thead > tr > td:last-child,
  .table-responsive > .table-bordered > tbody > tr > td:last-child,
  .table-responsive > .table-bordered > tfoot > tr > td:last-child {
    border-right: 0;
  }
  .table-responsive > .table-bordered > tbody > tr:last-child > th,
  .table-responsive > .table-bordered > tfoot > tr:last-child > th,
  .table-responsive > .table-bordered > tbody > tr:last-child > td,
  .table-responsive > .table-bordered > tfoot > tr:last-child > td {
    border-bottom: 0;
  }
}
fieldset {
  padding: 0;
  margin: 0;
  border: 0;
  min-width: 0;
}
legend {
  display: block;
  width: 100%;
  padding: 0;
  margin-bottom: 18px;
  font-size: 19.5px;
  line-height: inherit;
  color: #333333;
  border: 0;
  border-bottom: 1px solid #e5e5e5;
}
label {
  display: inline-block;
  max-width: 100%;
  margin-bottom: 5px;
  font-weight: bold;
}
input[type="search"] {
  -webkit-box-sizing: border-box;
  -moz-box-sizing: border-box;
  box-sizing: border-box;
}
input[type="radio"],
input[type="checkbox"] {
  margin: 4px 0 0;
  margin-top: 1px \9;
  line-height: normal;
}
input[type="file"] {
  display: block;
}
input[type="range"] {
  display: block;
  width: 100%;
}
select[multiple],
select[size] {
  height: auto;
}
input[type="file"]:focus,
input[type="radio"]:focus,
input[type="checkbox"]:focus {
  outline: 5px auto -webkit-focus-ring-color;
  outline-offset: -2px;
}
output {
  display: block;
  padding-top: 7px;
  font-size: 13px;
  line-height: 1.42857143;
  color: #555555;
}
.form-control {
  display: block;
  width: 100%;
  height: 32px;
  padding: 6px 12px;
  font-size: 13px;
  line-height: 1.42857143;
  color: #555555;
  background-color: #fff;
  background-image: none;
  border: 1px solid #ccc;
  border-radius: 2px;
  -webkit-box-shadow: inset 0 1px 1px rgba(0, 0, 0, 0.075);
  box-shadow: inset 0 1px 1px rgba(0, 0, 0, 0.075);
  -webkit-transition: border-color ease-in-out .15s, box-shadow ease-in-out .15s;
  -o-transition: border-color ease-in-out .15s, box-shadow ease-in-out .15s;
  transition: border-color ease-in-out .15s, box-shadow ease-in-out .15s;
}
.form-control:focus {
  border-color: #66afe9;
  outline: 0;
  -webkit-box-shadow: inset 0 1px 1px rgba(0,0,0,.075), 0 0 8px rgba(102, 175, 233, 0.6);
  box-shadow: inset 0 1px 1px rgba(0,0,0,.075), 0 0 8px rgba(102, 175, 233, 0.6);
}
.form-control::-moz-placeholder {
  color: #999;
  opacity: 1;
}
.form-control:-ms-input-placeholder {
  color: #999;
}
.form-control::-webkit-input-placeholder {
  color: #999;
}
.form-control::-ms-expand {
  border: 0;
  background-color: transparent;
}
.form-control[disabled],
.form-control[readonly],
fieldset[disabled] .form-control {
  background-color: #eeeeee;
  opacity: 1;
}
.form-control[disabled],
fieldset[disabled] .form-control {
  cursor: not-allowed;
}
textarea.form-control {
  height: auto;
}
input[type="search"] {
  -webkit-appearance: none;
}
@media screen and (-webkit-min-device-pixel-ratio: 0) {
  input[type="date"].form-control,
  input[type="time"].form-control,
  input[type="datetime-local"].form-control,
  input[type="month"].form-control {
    line-height: 32px;
  }
  input[type="date"].input-sm,
  input[type="time"].input-sm,
  input[type="datetime-local"].input-sm,
  input[type="month"].input-sm,
  .input-group-sm input[type="date"],
  .input-group-sm input[type="time"],
  .input-group-sm input[type="datetime-local"],
  .input-group-sm input[type="month"] {
    line-height: 30px;
  }
  input[type="date"].input-lg,
  input[type="time"].input-lg,
  input[type="datetime-local"].input-lg,
  input[type="month"].input-lg,
  .input-group-lg input[type="date"],
  .input-group-lg input[type="time"],
  .input-group-lg input[type="datetime-local"],
  .input-group-lg input[type="month"] {
    line-height: 45px;
  }
}
.form-group {
  margin-bottom: 15px;
}
.radio,
.checkbox {
  position: relative;
  display: block;
  margin-top: 10px;
  margin-bottom: 10px;
}
.radio label,
.checkbox label {
  min-height: 18px;
  padding-left: 20px;
  margin-bottom: 0;
  font-weight: normal;
  cursor: pointer;
}
.radio input[type="radio"],
.radio-inline input[type="radio"],
.checkbox input[type="checkbox"],
.checkbox-inline input[type="checkbox"] {
  position: absolute;
  margin-left: -20px;
  margin-top: 4px \9;
}
.radio + .radio,
.checkbox + .checkbox {
  margin-top: -5px;
}
.radio-inline,
.checkbox-inline {
  position: relative;
  display: inline-block;
  padding-left: 20px;
  margin-bottom: 0;
  vertical-align: middle;
  font-weight: normal;
  cursor: pointer;
}
.radio-inline + .radio-inline,
.checkbox-inline + .checkbox-inline {
  margin-top: 0;
  margin-left: 10px;
}
input[type="radio"][disabled],
input[type="checkbox"][disabled],
input[type="radio"].disabled,
input[type="checkbox"].disabled,
fieldset[disabled] input[type="radio"],
fieldset[disabled] input[type="checkbox"] {
  cursor: not-allowed;
}
.radio-inline.disabled,
.checkbox-inline.disabled,
fieldset[disabled] .radio-inline,
fieldset[disabled] .checkbox-inline {
  cursor: not-allowed;
}
.radio.disabled label,
.checkbox.disabled label,
fieldset[disabled] .radio label,
fieldset[disabled] .checkbox label {
  cursor: not-allowed;
}
.form-control-static {
  padding-top: 7px;
  padding-bottom: 7px;
  margin-bottom: 0;
  min-height: 31px;
}
.form-control-static.input-lg,
.form-control-static.input-sm {
  padding-left: 0;
  padding-right: 0;
}
.input-sm {
  height: 30px;
  padding: 5px 10px;
  font-size: 12px;
  line-height: 1.5;
  border-radius: 1px;
}
select.input-sm {
  height: 30px;
  line-height: 30px;
}
textarea.input-sm,
select[multiple].input-sm {
  height: auto;
}
.form-group-sm .form-control {
  height: 30px;
  padding: 5px 10px;
  font-size: 12px;
  line-height: 1.5;
  border-radius: 1px;
}
.form-group-sm select.form-control {
  height: 30px;
  line-height: 30px;
}
.form-group-sm textarea.form-control,
.form-group-sm select[multiple].form-control {
  height: auto;
}
.form-group-sm .form-control-static {
  height: 30px;
  min-height: 30px;
  padding: 6px 10px;
  font-size: 12px;
  line-height: 1.5;
}
.input-lg {
  height: 45px;
  padding: 10px 16px;
  font-size: 17px;
  line-height: 1.3333333;
  border-radius: 3px;
}
select.input-lg {
  height: 45px;
  line-height: 45px;
}
textarea.input-lg,
select[multiple].input-lg {
  height: auto;
}
.form-group-lg .form-control {
  height: 45px;
  padding: 10px 16px;
  font-size: 17px;
  line-height: 1.3333333;
  border-radius: 3px;
}
.form-group-lg select.form-control {
  height: 45px;
  line-height: 45px;
}
.form-group-lg textarea.form-control,
.form-group-lg select[multiple].form-control {
  height: auto;
}
.form-group-lg .form-control-static {
  height: 45px;
  min-height: 35px;
  padding: 11px 16px;
  font-size: 17px;
  line-height: 1.3333333;
}
.has-feedback {
  position: relative;
}
.has-feedback .form-control {
  padding-right: 40px;
}
.form-control-feedback {
  position: absolute;
  top: 0;
  right: 0;
  z-index: 2;
  display: block;
  width: 32px;
  height: 32px;
  line-height: 32px;
  text-align: center;
  pointer-events: none;
}
.input-lg + .form-control-feedback,
.input-group-lg + .form-control-feedback,
.form-group-lg .form-control + .form-control-feedback {
  width: 45px;
  height: 45px;
  line-height: 45px;
}
.input-sm + .form-control-feedback,
.input-group-sm + .form-control-feedback,
.form-group-sm .form-control + .form-control-feedback {
  width: 30px;
  height: 30px;
  line-height: 30px;
}
.has-success .help-block,
.has-success .control-label,
.has-success .radio,
.has-success .checkbox,
.has-success .radio-inline,
.has-success .checkbox-inline,
.has-success.radio label,
.has-success.checkbox label,
.has-success.radio-inline label,
.has-success.checkbox-inline label {
  color: #3c763d;
}
.has-success .form-control {
  border-color: #3c763d;
  -webkit-box-shadow: inset 0 1px 1px rgba(0, 0, 0, 0.075);
  box-shadow: inset 0 1px 1px rgba(0, 0, 0, 0.075);
}
.has-success .form-control:focus {
  border-color: #2b542c;
  -webkit-box-shadow: inset 0 1px 1px rgba(0, 0, 0, 0.075), 0 0 6px #67b168;
  box-shadow: inset 0 1px 1px rgba(0, 0, 0, 0.075), 0 0 6px #67b168;
}
.has-success .input-group-addon {
  color: #3c763d;
  border-color: #3c763d;
  background-color: #dff0d8;
}
.has-success .form-control-feedback {
  color: #3c763d;
}
.has-warning .help-block,
.has-warning .control-label,
.has-warning .radio,
.has-warning .checkbox,
.has-warning .radio-inline,
.has-warning .checkbox-inline,
.has-warning.radio label,
.has-warning.checkbox label,
.has-warning.radio-inline label,
.has-warning.checkbox-inline label {
  color: #8a6d3b;
}
.has-warning .form-control {
  border-color: #8a6d3b;
  -webkit-box-shadow: inset 0 1px 1px rgba(0, 0, 0, 0.075);
  box-shadow: inset 0 1px 1px rgba(0, 0, 0, 0.075);
}
.has-warning .form-control:focus {
  border-color: #66512c;
  -webkit-box-shadow: inset 0 1px 1px rgba(0, 0, 0, 0.075), 0 0 6px #c0a16b;
  box-shadow: inset 0 1px 1px rgba(0, 0, 0, 0.075), 0 0 6px #c0a16b;
}
.has-warning .input-group-addon {
  color: #8a6d3b;
  border-color: #8a6d3b;
  background-color: #fcf8e3;
}
.has-warning .form-control-feedback {
  color: #8a6d3b;
}
.has-error .help-block,
.has-error .control-label,
.has-error .radio,
.has-error .checkbox,
.has-error .radio-inline,
.has-error .checkbox-inline,
.has-error.radio label,
.has-error.checkbox label,
.has-error.radio-inline label,
.has-error.checkbox-inline label {
  color: #a94442;
}
.has-error .form-control {
  border-color: #a94442;
  -webkit-box-shadow: inset 0 1px 1px rgba(0, 0, 0, 0.075);
  box-shadow: inset 0 1px 1px rgba(0, 0, 0, 0.075);
}
.has-error .form-control:focus {
  border-color: #843534;
  -webkit-box-shadow: inset 0 1px 1px rgba(0, 0, 0, 0.075), 0 0 6px #ce8483;
  box-shadow: inset 0 1px 1px rgba(0, 0, 0, 0.075), 0 0 6px #ce8483;
}
.has-error .input-group-addon {
  color: #a94442;
  border-color: #a94442;
  background-color: #f2dede;
}
.has-error .form-control-feedback {
  color: #a94442;
}
.has-feedback label ~ .form-control-feedback {
  top: 23px;
}
.has-feedback label.sr-only ~ .form-control-feedback {
  top: 0;
}
.help-block {
  display: block;
  margin-top: 5px;
  margin-bottom: 10px;
  color: #404040;
}
@media (min-width: 768px) {
  .form-inline .form-group {
    display: inline-block;
    margin-bottom: 0;
    vertical-align: middle;
  }
  .form-inline .form-control {
    display: inline-block;
    width: auto;
    vertical-align: middle;
  }
  .form-inline .form-control-static {
    display: inline-block;
  }
  .form-inline .input-group {
    display: inline-table;
    vertical-align: middle;
  }
  .form-inline .input-group .input-group-addon,
  .form-inline .input-group .input-group-btn,
  .form-inline .input-group .form-control {
    width: auto;
  }
  .form-inline .input-group > .form-control {
    width: 100%;
  }
  .form-inline .control-label {
    margin-bottom: 0;
    vertical-align: middle;
  }
  .form-inline .radio,
  .form-inline .checkbox {
    display: inline-block;
    margin-top: 0;
    margin-bottom: 0;
    vertical-align: middle;
  }
  .form-inline .radio label,
  .form-inline .checkbox label {
    padding-left: 0;
  }
  .form-inline .radio input[type="radio"],
  .form-inline .checkbox input[type="checkbox"] {
    position: relative;
    margin-left: 0;
  }
  .form-inline .has-feedback .form-control-feedback {
    top: 0;
  }
}
.form-horizontal .radio,
.form-horizontal .checkbox,
.form-horizontal .radio-inline,
.form-horizontal .checkbox-inline {
  margin-top: 0;
  margin-bottom: 0;
  padding-top: 7px;
}
.form-horizontal .radio,
.form-horizontal .checkbox {
  min-height: 25px;
}
.form-horizontal .form-group {
  margin-left: 0px;
  margin-right: 0px;
}
@media (min-width: 768px) {
  .form-horizontal .control-label {
    text-align: right;
    margin-bottom: 0;
    padding-top: 7px;
  }
}
.form-horizontal .has-feedback .form-control-feedback {
  right: 0px;
}
@media (min-width: 768px) {
  .form-horizontal .form-group-lg .control-label {
    padding-top: 11px;
    font-size: 17px;
  }
}
@media (min-width: 768px) {
  .form-horizontal .form-group-sm .control-label {
    padding-top: 6px;
    font-size: 12px;
  }
}
.btn {
  display: inline-block;
  margin-bottom: 0;
  font-weight: normal;
  text-align: center;
  vertical-align: middle;
  touch-action: manipulation;
  cursor: pointer;
  background-image: none;
  border: 1px solid transparent;
  white-space: nowrap;
  padding: 6px 12px;
  font-size: 13px;
  line-height: 1.42857143;
  border-radius: 2px;
  -webkit-user-select: none;
  -moz-user-select: none;
  -ms-user-select: none;
  user-select: none;
}
.btn:focus,
.btn:active:focus,
.btn.active:focus,
.btn.focus,
.btn:active.focus,
.btn.active.focus {
  outline: 5px auto -webkit-focus-ring-color;
  outline-offset: -2px;
}
.btn:hover,
.btn:focus,
.btn.focus {
  color: #333;
  text-decoration: none;
}
.btn:active,
.btn.active {
  outline: 0;
  background-image: none;
  -webkit-box-shadow: inset 0 3px 5px rgba(0, 0, 0, 0.125);
  box-shadow: inset 0 3px 5px rgba(0, 0, 0, 0.125);
}
.btn.disabled,
.btn[disabled],
fieldset[disabled] .btn {
  cursor: not-allowed;
  opacity: 0.65;
  filter: alpha(opacity=65);
  -webkit-box-shadow: none;
  box-shadow: none;
}
a.btn.disabled,
fieldset[disabled] a.btn {
  pointer-events: none;
}
.btn-default {
  color: #333;
  background-color: #fff;
  border-color: #ccc;
}
.btn-default:focus,
.btn-default.focus {
  color: #333;
  background-color: #e6e6e6;
  border-color: #8c8c8c;
}
.btn-default:hover {
  color: #333;
  background-color: #e6e6e6;
  border-color: #adadad;
}
.btn-default:active,
.btn-default.active,
.open > .dropdown-toggle.btn-default {
  color: #333;
  background-color: #e6e6e6;
  border-color: #adadad;
}
.btn-default:active:hover,
.btn-default.active:hover,
.open > .dropdown-toggle.btn-default:hover,
.btn-default:active:focus,
.btn-default.active:focus,
.open > .dropdown-toggle.btn-default:focus,
.btn-default:active.focus,
.btn-default.active.focus,
.open > .dropdown-toggle.btn-default.focus {
  color: #333;
  background-color: #d4d4d4;
  border-color: #8c8c8c;
}
.btn-default:active,
.btn-default.active,
.open > .dropdown-toggle.btn-default {
  background-image: none;
}
.btn-default.disabled:hover,
.btn-default[disabled]:hover,
fieldset[disabled] .btn-default:hover,
.btn-default.disabled:focus,
.btn-default[disabled]:focus,
fieldset[disabled] .btn-default:focus,
.btn-default.disabled.focus,
.btn-default[disabled].focus,
fieldset[disabled] .btn-default.focus {
  background-color: #fff;
  border-color: #ccc;
}
.btn-default .badge {
  color: #fff;
  background-color: #333;
}
.btn-primary {
  color: #fff;
  background-color: #337ab7;
  border-color: #2e6da4;
}
.btn-primary:focus,
.btn-primary.focus {
  color: #fff;
  background-color: #286090;
  border-color: #122b40;
}
.btn-primary:hover {
  color: #fff;
  background-color: #286090;
  border-color: #204d74;
}
.btn-primary:active,
.btn-primary.active,
.open > .dropdown-toggle.btn-primary {
  color: #fff;
  background-color: #286090;
  border-color: #204d74;
}
.btn-primary:active:hover,
.btn-primary.active:hover,
.open > .dropdown-toggle.btn-primary:hover,
.btn-primary:active:focus,
.btn-primary.active:focus,
.open > .dropdown-toggle.btn-primary:focus,
.btn-primary:active.focus,
.btn-primary.active.focus,
.open > .dropdown-toggle.btn-primary.focus {
  color: #fff;
  background-color: #204d74;
  border-color: #122b40;
}
.btn-primary:active,
.btn-primary.active,
.open > .dropdown-toggle.btn-primary {
  background-image: none;
}
.btn-primary.disabled:hover,
.btn-primary[disabled]:hover,
fieldset[disabled] .btn-primary:hover,
.btn-primary.disabled:focus,
.btn-primary[disabled]:focus,
fieldset[disabled] .btn-primary:focus,
.btn-primary.disabled.focus,
.btn-primary[disabled].focus,
fieldset[disabled] .btn-primary.focus {
  background-color: #337ab7;
  border-color: #2e6da4;
}
.btn-primary .badge {
  color: #337ab7;
  background-color: #fff;
}
.btn-success {
  color: #fff;
  background-color: #5cb85c;
  border-color: #4cae4c;
}
.btn-success:focus,
.btn-success.focus {
  color: #fff;
  background-color: #449d44;
  border-color: #255625;
}
.btn-success:hover {
  color: #fff;
  background-color: #449d44;
  border-color: #398439;
}
.btn-success:active,
.btn-success.active,
.open > .dropdown-toggle.btn-success {
  color: #fff;
  background-color: #449d44;
  border-color: #398439;
}
.btn-success:active:hover,
.btn-success.active:hover,
.open > .dropdown-toggle.btn-success:hover,
.btn-success:active:focus,
.btn-success.active:focus,
.open > .dropdown-toggle.btn-success:focus,
.btn-success:active.focus,
.btn-success.active.focus,
.open > .dropdown-toggle.btn-success.focus {
  color: #fff;
  background-color: #398439;
  border-color: #255625;
}
.btn-success:active,
.btn-success.active,
.open > .dropdown-toggle.btn-success {
  background-image: none;
}
.btn-success.disabled:hover,
.btn-success[disabled]:hover,
fieldset[disabled] .btn-success:hover,
.btn-success.disabled:focus,
.btn-success[disabled]:focus,
fieldset[disabled] .btn-success:focus,
.btn-success.disabled.focus,
.btn-success[disabled].focus,
fieldset[disabled] .btn-success.focus {
  background-color: #5cb85c;
  border-color: #4cae4c;
}
.btn-success .badge {
  color: #5cb85c;
  background-color: #fff;
}
.btn-info {
  color: #fff;
  background-color: #5bc0de;
  border-color: #46b8da;
}
.btn-info:focus,
.btn-info.focus {
  color: #fff;
  background-color: #31b0d5;
  border-color: #1b6d85;
}
.btn-info:hover {
  color: #fff;
  background-color: #31b0d5;
  border-color: #269abc;
}
.btn-info:active,
.btn-info.active,
.open > .dropdown-toggle.btn-info {
  color: #fff;
  background-color: #31b0d5;
  border-color: #269abc;
}
.btn-info:active:hover,
.btn-info.active:hover,
.open > .dropdown-toggle.btn-info:hover,
.btn-info:active:focus,
.btn-info.active:focus,
.open > .dropdown-toggle.btn-info:focus,
.btn-info:active.focus,
.btn-info.active.focus,
.open > .dropdown-toggle.btn-info.focus {
  color: #fff;
  background-color: #269abc;
  border-color: #1b6d85;
}
.btn-info:active,
.btn-info.active,
.open > .dropdown-toggle.btn-info {
  background-image: none;
}
.btn-info.disabled:hover,
.btn-info[disabled]:hover,
fieldset[disabled] .btn-info:hover,
.btn-info.disabled:focus,
.btn-info[disabled]:focus,
fieldset[disabled] .btn-info:focus,
.btn-info.disabled.focus,
.btn-info[disabled].focus,
fieldset[disabled] .btn-info.focus {
  background-color: #5bc0de;
  border-color: #46b8da;
}
.btn-info .badge {
  color: #5bc0de;
  background-color: #fff;
}
.btn-warning {
  color: #fff;
  background-color: #f0ad4e;
  border-color: #eea236;
}
.btn-warning:focus,
.btn-warning.focus {
  color: #fff;
  background-color: #ec971f;
  border-color: #985f0d;
}
.btn-warning:hover {
  color: #fff;
  background-color: #ec971f;
  border-color: #d58512;
}
.btn-warning:active,
.btn-warning.active,
.open > .dropdown-toggle.btn-warning {
  color: #fff;
  background-color: #ec971f;
  border-color: #d58512;
}
.btn-warning:active:hover,
.btn-warning.active:hover,
.open > .dropdown-toggle.btn-warning:hover,
.btn-warning:active:focus,
.btn-warning.active:focus,
.open > .dropdown-toggle.btn-warning:focus,
.btn-warning:active.focus,
.btn-warning.active.focus,
.open > .dropdown-toggle.btn-warning.focus {
  color: #fff;
  background-color: #d58512;
  border-color: #985f0d;
}
.btn-warning:active,
.btn-warning.active,
.open > .dropdown-toggle.btn-warning {
  background-image: none;
}
.btn-warning.disabled:hover,
.btn-warning[disabled]:hover,
fieldset[disabled] .btn-warning:hover,
.btn-warning.disabled:focus,
.btn-warning[disabled]:focus,
fieldset[disabled] .btn-warning:focus,
.btn-warning.disabled.focus,
.btn-warning[disabled].focus,
fieldset[disabled] .btn-warning.focus {
  background-color: #f0ad4e;
  border-color: #eea236;
}
.btn-warning .badge {
  color: #f0ad4e;
  background-color: #fff;
}
.btn-danger {
  color: #fff;
  background-color: #d9534f;
  border-color: #d43f3a;
}
.btn-danger:focus,
.btn-danger.focus {
  color: #fff;
  background-color: #c9302c;
  border-color: #761c19;
}
.btn-danger:hover {
  color: #fff;
  background-color: #c9302c;
  border-color: #ac2925;
}
.btn-danger:active,
.btn-danger.active,
.open > .dropdown-toggle.btn-danger {
  color: #fff;
  background-color: #c9302c;
  border-color: #ac2925;
}
.btn-danger:active:hover,
.btn-danger.active:hover,
.open > .dropdown-toggle.btn-danger:hover,
.btn-danger:active:focus,
.btn-danger.active:focus,
.open > .dropdown-toggle.btn-danger:focus,
.btn-danger:active.focus,
.btn-danger.active.focus,
.open > .dropdown-toggle.btn-danger.focus {
  color: #fff;
  background-color: #ac2925;
  border-color: #761c19;
}
.btn-danger:active,
.btn-danger.active,
.open > .dropdown-toggle.btn-danger {
  background-image: none;
}
.btn-danger.disabled:hover,
.btn-danger[disabled]:hover,
fieldset[disabled] .btn-danger:hover,
.btn-danger.disabled:focus,
.btn-danger[disabled]:focus,
fieldset[disabled] .btn-danger:focus,
.btn-danger.disabled.focus,
.btn-danger[disabled].focus,
fieldset[disabled] .btn-danger.focus {
  background-color: #d9534f;
  border-color: #d43f3a;
}
.btn-danger .badge {
  color: #d9534f;
  background-color: #fff;
}
.btn-link {
  color: #337ab7;
  font-weight: normal;
  border-radius: 0;
}
.btn-link,
.btn-link:active,
.btn-link.active,
.btn-link[disabled],
fieldset[disabled] .btn-link {
  background-color: transparent;
  -webkit-box-shadow: none;
  box-shadow: none;
}
.btn-link,
.btn-link:hover,
.btn-link:focus,
.btn-link:active {
  border-color: transparent;
}
.btn-link:hover,
.btn-link:focus {
  color: #23527c;
  text-decoration: underline;
  background-color: transparent;
}
.btn-link[disabled]:hover,
fieldset[disabled] .btn-link:hover,
.btn-link[disabled]:focus,
fieldset[disabled] .btn-link:focus {
  color: #777777;
  text-decoration: none;
}
.btn-lg,
.btn-group-lg > .btn {
  padding: 10px 16px;
  font-size: 17px;
  line-height: 1.3333333;
  border-radius: 3px;
}
.btn-sm,
.btn-group-sm > .btn {
  padding: 5px 10px;
  font-size: 12px;
  line-height: 1.5;
  border-radius: 1px;
}
.btn-xs,
.btn-group-xs > .btn {
  padding: 1px 5px;
  font-size: 12px;
  line-height: 1.5;
  border-radius: 1px;
}
.btn-block {
  display: block;
  width: 100%;
}
.btn-block + .btn-block {
  margin-top: 5px;
}
input[type="submit"].btn-block,
input[type="reset"].btn-block,
input[type="button"].btn-block {
  width: 100%;
}
.fade {
  opacity: 0;
  -webkit-transition: opacity 0.15s linear;
  -o-transition: opacity 0.15s linear;
  transition: opacity 0.15s linear;
}
.fade.in {
  opacity: 1;
}
.collapse {
  display: none;
}
.collapse.in {
  display: block;
}
tr.collapse.in {
  display: table-row;
}
tbody.collapse.in {
  display: table-row-group;
}
.collapsing {
  position: relative;
  height: 0;
  overflow: hidden;
  -webkit-transition-property: height, visibility;
  transition-property: height, visibility;
  -webkit-transition-duration: 0.35s;
  transition-duration: 0.35s;
  -webkit-transition-timing-function: ease;
  transition-timing-function: ease;
}
.caret {
  display: inline-block;
  width: 0;
  height: 0;
  margin-left: 2px;
  vertical-align: middle;
  border-top: 4px dashed;
  border-top: 4px solid \9;
  border-right: 4px solid transparent;
  border-left: 4px solid transparent;
}
.dropup,
.dropdown {
  position: relative;
}
.dropdown-toggle:focus {
  outline: 0;
}
.dropdown-menu {
  position: absolute;
  top: 100%;
  left: 0;
  z-index: 1000;
  display: none;
  float: left;
  min-width: 160px;
  padding: 5px 0;
  margin: 2px 0 0;
  list-style: none;
  font-size: 13px;
  text-align: left;
  background-color: #fff;
  border: 1px solid #ccc;
  border: 1px solid rgba(0, 0, 0, 0.15);
  border-radius: 2px;
  -webkit-box-shadow: 0 6px 12px rgba(0, 0, 0, 0.175);
  box-shadow: 0 6px 12px rgba(0, 0, 0, 0.175);
  background-clip: padding-box;
}
.dropdown-menu.pull-right {
  right: 0;
  left: auto;
}
.dropdown-menu .divider {
  height: 1px;
  margin: 8px 0;
  overflow: hidden;
  background-color: #e5e5e5;
}
.dropdown-menu > li > a {
  display: block;
  padding: 3px 20px;
  clear: both;
  font-weight: normal;
  line-height: 1.42857143;
  color: #333333;
  white-space: nowrap;
}
.dropdown-menu > li > a:hover,
.dropdown-menu > li > a:focus {
  text-decoration: none;
  color: #262626;
  background-color: #f5f5f5;
}
.dropdown-menu > .active > a,
.dropdown-menu > .active > a:hover,
.dropdown-menu > .active > a:focus {
  color: #fff;
  text-decoration: none;
  outline: 0;
  background-color: #337ab7;
}
.dropdown-menu > .disabled > a,
.dropdown-menu > .disabled > a:hover,
.dropdown-menu > .disabled > a:focus {
  color: #777777;
}
.dropdown-menu > .disabled > a:hover,
.dropdown-menu > .disabled > a:focus {
  text-decoration: none;
  background-color: transparent;
  background-image: none;
  filter: progid:DXImageTransform.Microsoft.gradient(enabled = false);
  cursor: not-allowed;
}
.open > .dropdown-menu {
  display: block;
}
.open > a {
  outline: 0;
}
.dropdown-menu-right {
  left: auto;
  right: 0;
}
.dropdown-menu-left {
  left: 0;
  right: auto;
}
.dropdown-header {
  display: block;
  padding: 3px 20px;
  font-size: 12px;
  line-height: 1.42857143;
  color: #777777;
  white-space: nowrap;
}
.dropdown-backdrop {
  position: fixed;
  left: 0;
  right: 0;
  bottom: 0;
  top: 0;
  z-index: 990;
}
.pull-right > .dropdown-menu {
  right: 0;
  left: auto;
}
.dropup .caret,
.navbar-fixed-bottom .dropdown .caret {
  border-top: 0;
  border-bottom: 4px dashed;
  border-bottom: 4px solid \9;
  content: "";
}
.dropup .dropdown-menu,
.navbar-fixed-bottom .dropdown .dropdown-menu {
  top: auto;
  bottom: 100%;
  margin-bottom: 2px;
}
@media (min-width: 541px) {
  .navbar-right .dropdown-menu {
    left: auto;
    right: 0;
  }
  .navbar-right .dropdown-menu-left {
    left: 0;
    right: auto;
  }
}
.btn-group,
.btn-group-vertical {
  position: relative;
  display: inline-block;
  vertical-align: middle;
}
.btn-group > .btn,
.btn-group-vertical > .btn {
  position: relative;
  float: left;
}
.btn-group > .btn:hover,
.btn-group-vertical > .btn:hover,
.btn-group > .btn:focus,
.btn-group-vertical > .btn:focus,
.btn-group > .btn:active,
.btn-group-vertical > .btn:active,
.btn-group > .btn.active,
.btn-group-vertical > .btn.active {
  z-index: 2;
}
.btn-group .btn + .btn,
.btn-group .btn + .btn-group,
.btn-group .btn-group + .btn,
.btn-group .btn-group + .btn-group {
  margin-left: -1px;
}
.btn-toolbar {
  margin-left: -5px;
}
.btn-toolbar .btn,
.btn-toolbar .btn-group,
.btn-toolbar .input-group {
  float: left;
}
.btn-toolbar > .btn,
.btn-toolbar > .btn-group,
.btn-toolbar > .input-group {
  margin-left: 5px;
}
.btn-group > .btn:not(:first-child):not(:last-child):not(.dropdown-toggle) {
  border-radius: 0;
}
.btn-group > .btn:first-child {
  margin-left: 0;
}
.btn-group > .btn:first-child:not(:last-child):not(.dropdown-toggle) {
  border-bottom-right-radius: 0;
  border-top-right-radius: 0;
}
.btn-group > .btn:last-child:not(:first-child),
.btn-group > .dropdown-toggle:not(:first-child) {
  border-bottom-left-radius: 0;
  border-top-left-radius: 0;
}
.btn-group > .btn-group {
  float: left;
}
.btn-group > .btn-group:not(:first-child):not(:last-child) > .btn {
  border-radius: 0;
}
.btn-group > .btn-group:first-child:not(:last-child) > .btn:last-child,
.btn-group > .btn-group:first-child:not(:last-child) > .dropdown-toggle {
  border-bottom-right-radius: 0;
  border-top-right-radius: 0;
}
.btn-group > .btn-group:last-child:not(:first-child) > .btn:first-child {
  border-bottom-left-radius: 0;
  border-top-left-radius: 0;
}
.btn-group .dropdown-toggle:active,
.btn-group.open .dropdown-toggle {
  outline: 0;
}
.btn-group > .btn + .dropdown-toggle {
  padding-left: 8px;
  padding-right: 8px;
}
.btn-group > .btn-lg + .dropdown-toggle {
  padding-left: 12px;
  padding-right: 12px;
}
.btn-group.open .dropdown-toggle {
  -webkit-box-shadow: inset 0 3px 5px rgba(0, 0, 0, 0.125);
  box-shadow: inset 0 3px 5px rgba(0, 0, 0, 0.125);
}
.btn-group.open .dropdown-toggle.btn-link {
  -webkit-box-shadow: none;
  box-shadow: none;
}
.btn .caret {
  margin-left: 0;
}
.btn-lg .caret {
  border-width: 5px 5px 0;
  border-bottom-width: 0;
}
.dropup .btn-lg .caret {
  border-width: 0 5px 5px;
}
.btn-group-vertical > .btn,
.btn-group-vertical > .btn-group,
.btn-group-vertical > .btn-group > .btn {
  display: block;
  float: none;
  width: 100%;
  max-width: 100%;
}
.btn-group-vertical > .btn-group > .btn {
  float: none;
}
.btn-group-vertical > .btn + .btn,
.btn-group-vertical > .btn + .btn-group,
.btn-group-vertical > .btn-group + .btn,
.btn-group-vertical > .btn-group + .btn-group {
  margin-top: -1px;
  margin-left: 0;
}
.btn-group-vertical > .btn:not(:first-child):not(:last-child) {
  border-radius: 0;
}
.btn-group-vertical > .btn:first-child:not(:last-child) {
  border-top-right-radius: 2px;
  border-top-left-radius: 2px;
  border-bottom-right-radius: 0;
  border-bottom-left-radius: 0;
}
.btn-group-vertical > .btn:last-child:not(:first-child) {
  border-top-right-radius: 0;
  border-top-left-radius: 0;
  border-bottom-right-radius: 2px;
  border-bottom-left-radius: 2px;
}
.btn-group-vertical > .btn-group:not(:first-child):not(:last-child) > .btn {
  border-radius: 0;
}
.btn-group-vertical > .btn-group:first-child:not(:last-child) > .btn:last-child,
.btn-group-vertical > .btn-group:first-child:not(:last-child) > .dropdown-toggle {
  border-bottom-right-radius: 0;
  border-bottom-left-radius: 0;
}
.btn-group-vertical > .btn-group:last-child:not(:first-child) > .btn:first-child {
  border-top-right-radius: 0;
  border-top-left-radius: 0;
}
.btn-group-justified {
  display: table;
  width: 100%;
  table-layout: fixed;
  border-collapse: separate;
}
.btn-group-justified > .btn,
.btn-group-justified > .btn-group {
  float: none;
  display: table-cell;
  width: 1%;
}
.btn-group-justified > .btn-group .btn {
  width: 100%;
}
.btn-group-justified > .btn-group .dropdown-menu {
  left: auto;
}
[data-toggle="buttons"] > .btn input[type="radio"],
[data-toggle="buttons"] > .btn-group > .btn input[type="radio"],
[data-toggle="buttons"] > .btn input[type="checkbox"],
[data-toggle="buttons"] > .btn-group > .btn input[type="checkbox"] {
  position: absolute;
  clip: rect(0, 0, 0, 0);
  pointer-events: none;
}
.input-group {
  position: relative;
  display: table;
  border-collapse: separate;
}
.input-group[class*="col-"] {
  float: none;
  padding-left: 0;
  padding-right: 0;
}
.input-group .form-control {
  position: relative;
  z-index: 2;
  float: left;
  width: 100%;
  margin-bottom: 0;
}
.input-group .form-control:focus {
  z-index: 3;
}
.input-group-lg > .form-control,
.input-group-lg > .input-group-addon,
.input-group-lg > .input-group-btn > .btn {
  height: 45px;
  padding: 10px 16px;
  font-size: 17px;
  line-height: 1.3333333;
  border-radius: 3px;
}
select.input-group-lg > .form-control,
select.input-group-lg > .input-group-addon,
select.input-group-lg > .input-group-btn > .btn {
  height: 45px;
  line-height: 45px;
}
textarea.input-group-lg > .form-control,
textarea.input-group-lg > .input-group-addon,
textarea.input-group-lg > .input-group-btn > .btn,
select[multiple].input-group-lg > .form-control,
select[multiple].input-group-lg > .input-group-addon,
select[multiple].input-group-lg > .input-group-btn > .btn {
  height: auto;
}
.input-group-sm > .form-control,
.input-group-sm > .input-group-addon,
.input-group-sm > .input-group-btn > .btn {
  height: 30px;
  padding: 5px 10px;
  font-size: 12px;
  line-height: 1.5;
  border-radius: 1px;
}
select.input-group-sm > .form-control,
select.input-group-sm > .input-group-addon,
select.input-group-sm > .input-group-btn > .btn {
  height: 30px;
  line-height: 30px;
}
textarea.input-group-sm > .form-control,
textarea.input-group-sm > .input-group-addon,
textarea.input-group-sm > .input-group-btn > .btn,
select[multiple].input-group-sm > .form-control,
select[multiple].input-group-sm > .input-group-addon,
select[multiple].input-group-sm > .input-group-btn > .btn {
  height: auto;
}
.input-group-addon,
.input-group-btn,
.input-group .form-control {
  display: table-cell;
}
.input-group-addon:not(:first-child):not(:last-child),
.input-group-btn:not(:first-child):not(:last-child),
.input-group .form-control:not(:first-child):not(:last-child) {
  border-radius: 0;
}
.input-group-addon,
.input-group-btn {
  width: 1%;
  white-space: nowrap;
  vertical-align: middle;
}
.input-group-addon {
  padding: 6px 12px;
  font-size: 13px;
  font-weight: normal;
  line-height: 1;
  color: #555555;
  text-align: center;
  background-color: #eeeeee;
  border: 1px solid #ccc;
  border-radius: 2px;
}
.input-group-addon.input-sm {
  padding: 5px 10px;
  font-size: 12px;
  border-radius: 1px;
}
.input-group-addon.input-lg {
  padding: 10px 16px;
  font-size: 17px;
  border-radius: 3px;
}
.input-group-addon input[type="radio"],
.input-group-addon input[type="checkbox"] {
  margin-top: 0;
}
.input-group .form-control:first-child,
.input-group-addon:first-child,
.input-group-btn:first-child > .btn,
.input-group-btn:first-child > .btn-group > .btn,
.input-group-btn:first-child > .dropdown-toggle,
.input-group-btn:last-child > .btn:not(:last-child):not(.dropdown-toggle),
.input-group-btn:last-child > .btn-group:not(:last-child) > .btn {
  border-bottom-right-radius: 0;
  border-top-right-radius: 0;
}
.input-group-addon:first-child {
  border-right: 0;
}
.input-group .form-control:last-child,
.input-group-addon:last-child,
.input-group-btn:last-child > .btn,
.input-group-btn:last-child > .btn-group > .btn,
.input-group-btn:last-child > .dropdown-toggle,
.input-group-btn:first-child > .btn:not(:first-child),
.input-group-btn:first-child > .btn-group:not(:first-child) > .btn {
  border-bottom-left-radius: 0;
  border-top-left-radius: 0;
}
.input-group-addon:last-child {
  border-left: 0;
}
.input-group-btn {
  position: relative;
  font-size: 0;
  white-space: nowrap;
}
.input-group-btn > .btn {
  position: relative;
}
.input-group-btn > .btn + .btn {
  margin-left: -1px;
}
.input-group-btn > .btn:hover,
.input-group-btn > .btn:focus,
.input-group-btn > .btn:active {
  z-index: 2;
}
.input-group-btn:first-child > .btn,
.input-group-btn:first-child > .btn-group {
  margin-right: -1px;
}
.input-group-btn:last-child > .btn,
.input-group-btn:last-child > .btn-group {
  z-index: 2;
  margin-left: -1px;
}
.nav {
  margin-bottom: 0;
  padding-left: 0;
  list-style: none;
}
.nav > li {
  position: relative;
  display: block;
}
.nav > li > a {
  position: relative;
  display: block;
  padding: 10px 15px;
}
.nav > li > a:hover,
.nav > li > a:focus {
  text-decoration: none;
  background-color: #eeeeee;
}
.nav > li.disabled > a {
  color: #777777;
}
.nav > li.disabled > a:hover,
.nav > li.disabled > a:focus {
  color: #777777;
  text-decoration: none;
  background-color: transparent;
  cursor: not-allowed;
}
.nav .open > a,
.nav .open > a:hover,
.nav .open > a:focus {
  background-color: #eeeeee;
  border-color: #337ab7;
}
.nav .nav-divider {
  height: 1px;
  margin: 8px 0;
  overflow: hidden;
  background-color: #e5e5e5;
}
.nav > li > a > img {
  max-width: none;
}
.nav-tabs {
  border-bottom: 1px solid #ddd;
}
.nav-tabs > li {
  float: left;
  margin-bottom: -1px;
}
.nav-tabs > li > a {
  margin-right: 2px;
  line-height: 1.42857143;
  border: 1px solid transparent;
  border-radius: 2px 2px 0 0;
}
.nav-tabs > li > a:hover {
  border-color: #eeeeee #eeeeee #ddd;
}
.nav-tabs > li.active > a,
.nav-tabs > li.active > a:hover,
.nav-tabs > li.active > a:focus {
  color: #555555;
  background-color: #fff;
  border: 1px solid #ddd;
  border-bottom-color: transparent;
  cursor: default;
}
.nav-tabs.nav-justified {
  width: 100%;
  border-bottom: 0;
}
.nav-tabs.nav-justified > li {
  float: none;
}
.nav-tabs.nav-justified > li > a {
  text-align: center;
  margin-bottom: 5px;
}
.nav-tabs.nav-justified > .dropdown .dropdown-menu {
  top: auto;
  left: auto;
}
@media (min-width: 768px) {
  .nav-tabs.nav-justified > li {
    display: table-cell;
    width: 1%;
  }
  .nav-tabs.nav-justified > li > a {
    margin-bottom: 0;
  }
}
.nav-tabs.nav-justified > li > a {
  margin-right: 0;
  border-radius: 2px;
}
.nav-tabs.nav-justified > .active > a,
.nav-tabs.nav-justified > .active > a:hover,
.nav-tabs.nav-justified > .active > a:focus {
  border: 1px solid #ddd;
}
@media (min-width: 768px) {
  .nav-tabs.nav-justified > li > a {
    border-bottom: 1px solid #ddd;
    border-radius: 2px 2px 0 0;
  }
  .nav-tabs.nav-justified > .active > a,
  .nav-tabs.nav-justified > .active > a:hover,
  .nav-tabs.nav-justified > .active > a:focus {
    border-bottom-color: #fff;
  }
}
.nav-pills > li {
  float: left;
}
.nav-pills > li > a {
  border-radius: 2px;
}
.nav-pills > li + li {
  margin-left: 2px;
}
.nav-pills > li.active > a,
.nav-pills > li.active > a:hover,
.nav-pills > li.active > a:focus {
  color: #fff;
  background-color: #337ab7;
}
.nav-stacked > li {
  float: none;
}
.nav-stacked > li + li {
  margin-top: 2px;
  margin-left: 0;
}
.nav-justified {
  width: 100%;
}
.nav-justified > li {
  float: none;
}
.nav-justified > li > a {
  text-align: center;
  margin-bottom: 5px;
}
.nav-justified > .dropdown .dropdown-menu {
  top: auto;
  left: auto;
}
@media (min-width: 768px) {
  .nav-justified > li {
    display: table-cell;
    width: 1%;
  }
  .nav-justified > li > a {
    margin-bottom: 0;
  }
}
.nav-tabs-justified {
  border-bottom: 0;
}
.nav-tabs-justified > li > a {
  margin-right: 0;
  border-radius: 2px;
}
.nav-tabs-justified > .active > a,
.nav-tabs-justified > .active > a:hover,
.nav-tabs-justified > .active > a:focus {
  border: 1px solid #ddd;
}
@media (min-width: 768px) {
  .nav-tabs-justified > li > a {
    border-bottom: 1px solid #ddd;
    border-radius: 2px 2px 0 0;
  }
  .nav-tabs-justified > .active > a,
  .nav-tabs-justified > .active > a:hover,
  .nav-tabs-justified > .active > a:focus {
    border-bottom-color: #fff;
  }
}
.tab-content > .tab-pane {
  display: none;
}
.tab-content > .active {
  display: block;
}
.nav-tabs .dropdown-menu {
  margin-top: -1px;
  border-top-right-radius: 0;
  border-top-left-radius: 0;
}
.navbar {
  position: relative;
  min-height: 30px;
  margin-bottom: 18px;
  border: 1px solid transparent;
}
@media (min-width: 541px) {
  .navbar {
    border-radius: 2px;
  }
}
@media (min-width: 541px) {
  .navbar-header {
    float: left;
  }
}
.navbar-collapse {
  overflow-x: visible;
  padding-right: 0px;
  padding-left: 0px;
  border-top: 1px solid transparent;
  box-shadow: inset 0 1px 0 rgba(255, 255, 255, 0.1);
  -webkit-overflow-scrolling: touch;
}
.navbar-collapse.in {
  overflow-y: auto;
}
@media (min-width: 541px) {
  .navbar-collapse {
    width: auto;
    border-top: 0;
    box-shadow: none;
  }
  .navbar-collapse.collapse {
    display: block !important;
    height: auto !important;
    padding-bottom: 0;
    overflow: visible !important;
  }
  .navbar-collapse.in {
    overflow-y: visible;
  }
  .navbar-fixed-top .navbar-collapse,
  .navbar-static-top .navbar-collapse,
  .navbar-fixed-bottom .navbar-collapse {
    padding-left: 0;
    padding-right: 0;
  }
}
.navbar-fixed-top .navbar-collapse,
.navbar-fixed-bottom .navbar-collapse {
  max-height: 340px;
}
@media (max-device-width: 540px) and (orientation: landscape) {
  .navbar-fixed-top .navbar-collapse,
  .navbar-fixed-bottom .navbar-collapse {
    max-height: 200px;
  }
}
.container > .navbar-header,
.container-fluid > .navbar-header,
.container > .navbar-collapse,
.container-fluid > .navbar-collapse {
  margin-right: 0px;
  margin-left: 0px;
}
@media (min-width: 541px) {
  .container > .navbar-header,
  .container-fluid > .navbar-header,
  .container > .navbar-collapse,
  .container-fluid > .navbar-collapse {
    margin-right: 0;
    margin-left: 0;
  }
}
.navbar-static-top {
  z-index: 1000;
  border-width: 0 0 1px;
}
@media (min-width: 541px) {
  .navbar-static-top {
    border-radius: 0;
  }
}
.navbar-fixed-top,
.navbar-fixed-bottom {
  position: fixed;
  right: 0;
  left: 0;
  z-index: 1030;
}
@media (min-width: 541px) {
  .navbar-fixed-top,
  .navbar-fixed-bottom {
    border-radius: 0;
  }
}
.navbar-fixed-top {
  top: 0;
  border-width: 0 0 1px;
}
.navbar-fixed-bottom {
  bottom: 0;
  margin-bottom: 0;
  border-width: 1px 0 0;
}
.navbar-brand {
  float: left;
  padding: 6px 0px;
  font-size: 17px;
  line-height: 18px;
  height: 30px;
}
.navbar-brand:hover,
.navbar-brand:focus {
  text-decoration: none;
}
.navbar-brand > img {
  display: block;
}
@media (min-width: 541px) {
  .navbar > .container .navbar-brand,
  .navbar > .container-fluid .navbar-brand {
    margin-left: 0px;
  }
}
.navbar-toggle {
  position: relative;
  float: right;
  margin-right: 0px;
  padding: 9px 10px;
  margin-top: -2px;
  margin-bottom: -2px;
  background-color: transparent;
  background-image: none;
  border: 1px solid transparent;
  border-radius: 2px;
}
.navbar-toggle:focus {
  outline: 0;
}
.navbar-toggle .icon-bar {
  display: block;
  width: 22px;
  height: 2px;
  border-radius: 1px;
}
.navbar-toggle .icon-bar + .icon-bar {
  margin-top: 4px;
}
@media (min-width: 541px) {
  .navbar-toggle {
    display: none;
  }
}
.navbar-nav {
  margin: 3px 0px;
}
.navbar-nav > li > a {
  padding-top: 10px;
  padding-bottom: 10px;
  line-height: 18px;
}
@media (max-width: 540px) {
  .navbar-nav .open .dropdown-menu {
    position: static;
    float: none;
    width: auto;
    margin-top: 0;
    background-color: transparent;
    border: 0;
    box-shadow: none;
  }
  .navbar-nav .open .dropdown-menu > li > a,
  .navbar-nav .open .dropdown-menu .dropdown-header {
    padding: 5px 15px 5px 25px;
  }
  .navbar-nav .open .dropdown-menu > li > a {
    line-height: 18px;
  }
  .navbar-nav .open .dropdown-menu > li > a:hover,
  .navbar-nav .open .dropdown-menu > li > a:focus {
    background-image: none;
  }
}
@media (min-width: 541px) {
  .navbar-nav {
    float: left;
    margin: 0;
  }
  .navbar-nav > li {
    float: left;
  }
  .navbar-nav > li > a {
    padding-top: 6px;
    padding-bottom: 6px;
  }
}
.navbar-form {
  margin-left: 0px;
  margin-right: 0px;
  padding: 10px 0px;
  border-top: 1px solid transparent;
  border-bottom: 1px solid transparent;
  -webkit-box-shadow: inset 0 1px 0 rgba(255, 255, 255, 0.1), 0 1px 0 rgba(255, 255, 255, 0.1);
  box-shadow: inset 0 1px 0 rgba(255, 255, 255, 0.1), 0 1px 0 rgba(255, 255, 255, 0.1);
  margin-top: -1px;
  margin-bottom: -1px;
}
@media (min-width: 768px) {
  .navbar-form .form-group {
    display: inline-block;
    margin-bottom: 0;
    vertical-align: middle;
  }
  .navbar-form .form-control {
    display: inline-block;
    width: auto;
    vertical-align: middle;
  }
  .navbar-form .form-control-static {
    display: inline-block;
  }
  .navbar-form .input-group {
    display: inline-table;
    vertical-align: middle;
  }
  .navbar-form .input-group .input-group-addon,
  .navbar-form .input-group .input-group-btn,
  .navbar-form .input-group .form-control {
    width: auto;
  }
  .navbar-form .input-group > .form-control {
    width: 100%;
  }
  .navbar-form .control-label {
    margin-bottom: 0;
    vertical-align: middle;
  }
  .navbar-form .radio,
  .navbar-form .checkbox {
    display: inline-block;
    margin-top: 0;
    margin-bottom: 0;
    vertical-align: middle;
  }
  .navbar-form .radio label,
  .navbar-form .checkbox label {
    padding-left: 0;
  }
  .navbar-form .radio input[type="radio"],
  .navbar-form .checkbox input[type="checkbox"] {
    position: relative;
    margin-left: 0;
  }
  .navbar-form .has-feedback .form-control-feedback {
    top: 0;
  }
}
@media (max-width: 540px) {
  .navbar-form .form-group {
    margin-bottom: 5px;
  }
  .navbar-form .form-group:last-child {
    margin-bottom: 0;
  }
}
@media (min-width: 541px) {
  .navbar-form {
    width: auto;
    border: 0;
    margin-left: 0;
    margin-right: 0;
    padding-top: 0;
    padding-bottom: 0;
    -webkit-box-shadow: none;
    box-shadow: none;
  }
}
.navbar-nav > li > .dropdown-menu {
  margin-top: 0;
  border-top-right-radius: 0;
  border-top-left-radius: 0;
}
.navbar-fixed-bottom .navbar-nav > li > .dropdown-menu {
  margin-bottom: 0;
  border-top-right-radius: 2px;
  border-top-left-radius: 2px;
  border-bottom-right-radius: 0;
  border-bottom-left-radius: 0;
}
.navbar-btn {
  margin-top: -1px;
  margin-bottom: -1px;
}
.navbar-btn.btn-sm {
  margin-top: 0px;
  margin-bottom: 0px;
}
.navbar-btn.btn-xs {
  margin-top: 4px;
  margin-bottom: 4px;
}
.navbar-text {
  margin-top: 6px;
  margin-bottom: 6px;
}
@media (min-width: 541px) {
  .navbar-text {
    float: left;
    margin-left: 0px;
    margin-right: 0px;
  }
}
@media (min-width: 541px) {
  .navbar-left {
    float: left !important;
    float: left;
  }
  .navbar-right {
    float: right !important;
    float: right;
    margin-right: 0px;
  }
  .navbar-right ~ .navbar-right {
    margin-right: 0;
  }
}
.navbar-default {
  background-color: #f8f8f8;
  border-color: #e7e7e7;
}
.navbar-default .navbar-brand {
  color: #777;
}
.navbar-default .navbar-brand:hover,
.navbar-default .navbar-brand:focus {
  color: #5e5e5e;
  background-color: transparent;
}
.navbar-default .navbar-text {
  color: #777;
}
.navbar-default .navbar-nav > li > a {
  color: #777;
}
.navbar-default .navbar-nav > li > a:hover,
.navbar-default .navbar-nav > li > a:focus {
  color: #333;
  background-color: transparent;
}
.navbar-default .navbar-nav > .active > a,
.navbar-default .navbar-nav > .active > a:hover,
.navbar-default .navbar-nav > .active > a:focus {
  color: #555;
  background-color: #e7e7e7;
}
.navbar-default .navbar-nav > .disabled > a,
.navbar-default .navbar-nav > .disabled > a:hover,
.navbar-default .navbar-nav > .disabled > a:focus {
  color: #ccc;
  background-color: transparent;
}
.navbar-default .navbar-toggle {
  border-color: #ddd;
}
.navbar-default .navbar-toggle:hover,
.navbar-default .navbar-toggle:focus {
  background-color: #ddd;
}
.navbar-default .navbar-toggle .icon-bar {
  background-color: #888;
}
.navbar-default .navbar-collapse,
.navbar-default .navbar-form {
  border-color: #e7e7e7;
}
.navbar-default .navbar-nav > .open > a,
.navbar-default .navbar-nav > .open > a:hover,
.navbar-default .navbar-nav > .open > a:focus {
  background-color: #e7e7e7;
  color: #555;
}
@media (max-width: 540px) {
  .navbar-default .navbar-nav .open .dropdown-menu > li > a {
    color: #777;
  }
  .navbar-default .navbar-nav .open .dropdown-menu > li > a:hover,
  .navbar-default .navbar-nav .open .dropdown-menu > li > a:focus {
    color: #333;
    background-color: transparent;
  }
  .navbar-default .navbar-nav .open .dropdown-menu > .active > a,
  .navbar-default .navbar-nav .open .dropdown-menu > .active > a:hover,
  .navbar-default .navbar-nav .open .dropdown-menu > .active > a:focus {
    color: #555;
    background-color: #e7e7e7;
  }
  .navbar-default .navbar-nav .open .dropdown-menu > .disabled > a,
  .navbar-default .navbar-nav .open .dropdown-menu > .disabled > a:hover,
  .navbar-default .navbar-nav .open .dropdown-menu > .disabled > a:focus {
    color: #ccc;
    background-color: transparent;
  }
}
.navbar-default .navbar-link {
  color: #777;
}
.navbar-default .navbar-link:hover {
  color: #333;
}
.navbar-default .btn-link {
  color: #777;
}
.navbar-default .btn-link:hover,
.navbar-default .btn-link:focus {
  color: #333;
}
.navbar-default .btn-link[disabled]:hover,
fieldset[disabled] .navbar-default .btn-link:hover,
.navbar-default .btn-link[disabled]:focus,
fieldset[disabled] .navbar-default .btn-link:focus {
  color: #ccc;
}
.navbar-inverse {
  background-color: #222;
  border-color: #080808;
}
.navbar-inverse .navbar-brand {
  color: #9d9d9d;
}
.navbar-inverse .navbar-brand:hover,
.navbar-inverse .navbar-brand:focus {
  color: #fff;
  background-color: transparent;
}
.navbar-inverse .navbar-text {
  color: #9d9d9d;
}
.navbar-inverse .navbar-nav > li > a {
  color: #9d9d9d;
}
.navbar-inverse .navbar-nav > li > a:hover,
.navbar-inverse .navbar-nav > li > a:focus {
  color: #fff;
  background-color: transparent;
}
.navbar-inverse .navbar-nav > .active > a,
.navbar-inverse .navbar-nav > .active > a:hover,
.navbar-inverse .navbar-nav > .active > a:focus {
  color: #fff;
  background-color: #080808;
}
.navbar-inverse .navbar-nav > .disabled > a,
.navbar-inverse .navbar-nav > .disabled > a:hover,
.navbar-inverse .navbar-nav > .disabled > a:focus {
  color: #444;
  background-color: transparent;
}
.navbar-inverse .navbar-toggle {
  border-color: #333;
}
.navbar-inverse .navbar-toggle:hover,
.navbar-inverse .navbar-toggle:focus {
  background-color: #333;
}
.navbar-inverse .navbar-toggle .icon-bar {
  background-color: #fff;
}
.navbar-inverse .navbar-collapse,
.navbar-inverse .navbar-form {
  border-color: #101010;
}
.navbar-inverse .navbar-nav > .open > a,
.navbar-inverse .navbar-nav > .open > a:hover,
.navbar-inverse .navbar-nav > .open > a:focus {
  background-color: #080808;
  color: #fff;
}
@media (max-width: 540px) {
  .navbar-inverse .navbar-nav .open .dropdown-menu > .dropdown-header {
    border-color: #080808;
  }
  .navbar-inverse .navbar-nav .open .dropdown-menu .divider {
    background-color: #080808;
  }
  .navbar-inverse .navbar-nav .open .dropdown-menu > li > a {
    color: #9d9d9d;
  }
  .navbar-inverse .navbar-nav .open .dropdown-menu > li > a:hover,
  .navbar-inverse .navbar-nav .open .dropdown-menu > li > a:focus {
    color: #fff;
    background-color: transparent;
  }
  .navbar-inverse .navbar-nav .open .dropdown-menu > .active > a,
  .navbar-inverse .navbar-nav .open .dropdown-menu > .active > a:hover,
  .navbar-inverse .navbar-nav .open .dropdown-menu > .active > a:focus {
    color: #fff;
    background-color: #080808;
  }
  .navbar-inverse .navbar-nav .open .dropdown-menu > .disabled > a,
  .navbar-inverse .navbar-nav .open .dropdown-menu > .disabled > a:hover,
  .navbar-inverse .navbar-nav .open .dropdown-menu > .disabled > a:focus {
    color: #444;
    background-color: transparent;
  }
}
.navbar-inverse .navbar-link {
  color: #9d9d9d;
}
.navbar-inverse .navbar-link:hover {
  color: #fff;
}
.navbar-inverse .btn-link {
  color: #9d9d9d;
}
.navbar-inverse .btn-link:hover,
.navbar-inverse .btn-link:focus {
  color: #fff;
}
.navbar-inverse .btn-link[disabled]:hover,
fieldset[disabled] .navbar-inverse .btn-link:hover,
.navbar-inverse .btn-link[disabled]:focus,
fieldset[disabled] .navbar-inverse .btn-link:focus {
  color: #444;
}
.breadcrumb {
  padding: 8px 15px;
  margin-bottom: 18px;
  list-style: none;
  background-color: #f5f5f5;
  border-radius: 2px;
}
.breadcrumb > li {
  display: inline-block;
}
.breadcrumb > li + li:before {
  content: "/\00a0";
  padding: 0 5px;
  color: #5e5e5e;
}
.breadcrumb > .active {
  color: #777777;
}
.pagination {
  display: inline-block;
  padding-left: 0;
  margin: 18px 0;
  border-radius: 2px;
}
.pagination > li {
  display: inline;
}
.pagination > li > a,
.pagination > li > span {
  position: relative;
  float: left;
  padding: 6px 12px;
  line-height: 1.42857143;
  text-decoration: none;
  color: #337ab7;
  background-color: #fff;
  border: 1px solid #ddd;
  margin-left: -1px;
}
.pagination > li:first-child > a,
.pagination > li:first-child > span {
  margin-left: 0;
  border-bottom-left-radius: 2px;
  border-top-left-radius: 2px;
}
.pagination > li:last-child > a,
.pagination > li:last-child > span {
  border-bottom-right-radius: 2px;
  border-top-right-radius: 2px;
}
.pagination > li > a:hover,
.pagination > li > span:hover,
.pagination > li > a:focus,
.pagination > li > span:focus {
  z-index: 2;
  color: #23527c;
  background-color: #eeeeee;
  border-color: #ddd;
}
.pagination > .active > a,
.pagination > .active > span,
.pagination > .active > a:hover,
.pagination > .active > span:hover,
.pagination > .active > a:focus,
.pagination > .active > span:focus {
  z-index: 3;
  color: #fff;
  background-color: #337ab7;
  border-color: #337ab7;
  cursor: default;
}
.pagination > .disabled > span,
.pagination > .disabled > span:hover,
.pagination > .disabled > span:focus,
.pagination > .disabled > a,
.pagination > .disabled > a:hover,
.pagination > .disabled > a:focus {
  color: #777777;
  background-color: #fff;
  border-color: #ddd;
  cursor: not-allowed;
}
.pagination-lg > li > a,
.pagination-lg > li > span {
  padding: 10px 16px;
  font-size: 17px;
  line-height: 1.3333333;
}
.pagination-lg > li:first-child > a,
.pagination-lg > li:first-child > span {
  border-bottom-left-radius: 3px;
  border-top-left-radius: 3px;
}
.pagination-lg > li:last-child > a,
.pagination-lg > li:last-child > span {
  border-bottom-right-radius: 3px;
  border-top-right-radius: 3px;
}
.pagination-sm > li > a,
.pagination-sm > li > span {
  padding: 5px 10px;
  font-size: 12px;
  line-height: 1.5;
}
.pagination-sm > li:first-child > a,
.pagination-sm > li:first-child > span {
  border-bottom-left-radius: 1px;
  border-top-left-radius: 1px;
}
.pagination-sm > li:last-child > a,
.pagination-sm > li:last-child > span {
  border-bottom-right-radius: 1px;
  border-top-right-radius: 1px;
}
.pager {
  padding-left: 0;
  margin: 18px 0;
  list-style: none;
  text-align: center;
}
.pager li {
  display: inline;
}
.pager li > a,
.pager li > span {
  display: inline-block;
  padding: 5px 14px;
  background-color: #fff;
  border: 1px solid #ddd;
  border-radius: 15px;
}
.pager li > a:hover,
.pager li > a:focus {
  text-decoration: none;
  background-color: #eeeeee;
}
.pager .next > a,
.pager .next > span {
  float: right;
}
.pager .previous > a,
.pager .previous > span {
  float: left;
}
.pager .disabled > a,
.pager .disabled > a:hover,
.pager .disabled > a:focus,
.pager .disabled > span {
  color: #777777;
  background-color: #fff;
  cursor: not-allowed;
}
.label {
  display: inline;
  padding: .2em .6em .3em;
  font-size: 75%;
  font-weight: bold;
  line-height: 1;
  color: #fff;
  text-align: center;
  white-space: nowrap;
  vertical-align: baseline;
  border-radius: .25em;
}
a.label:hover,
a.label:focus {
  color: #fff;
  text-decoration: none;
  cursor: pointer;
}
.label:empty {
  display: none;
}
.btn .label {
  position: relative;
  top: -1px;
}
.label-default {
  background-color: #777777;
}
.label-default[href]:hover,
.label-default[href]:focus {
  background-color: #5e5e5e;
}
.label-primary {
  background-color: #337ab7;
}
.label-primary[href]:hover,
.label-primary[href]:focus {
  background-color: #286090;
}
.label-success {
  background-color: #5cb85c;
}
.label-success[href]:hover,
.label-success[href]:focus {
  background-color: #449d44;
}
.label-info {
  background-color: #5bc0de;
}
.label-info[href]:hover,
.label-info[href]:focus {
  background-color: #31b0d5;
}
.label-warning {
  background-color: #f0ad4e;
}
.label-warning[href]:hover,
.label-warning[href]:focus {
  background-color: #ec971f;
}
.label-danger {
  background-color: #d9534f;
}
.label-danger[href]:hover,
.label-danger[href]:focus {
  background-color: #c9302c;
}
.badge {
  display: inline-block;
  min-width: 10px;
  padding: 3px 7px;
  font-size: 12px;
  font-weight: bold;
  color: #fff;
  line-height: 1;
  vertical-align: middle;
  white-space: nowrap;
  text-align: center;
  background-color: #777777;
  border-radius: 10px;
}
.badge:empty {
  display: none;
}
.btn .badge {
  position: relative;
  top: -1px;
}
.btn-xs .badge,
.btn-group-xs > .btn .badge {
  top: 0;
  padding: 1px 5px;
}
a.badge:hover,
a.badge:focus {
  color: #fff;
  text-decoration: none;
  cursor: pointer;
}
.list-group-item.active > .badge,
.nav-pills > .active > a > .badge {
  color: #337ab7;
  background-color: #fff;
}
.list-group-item > .badge {
  float: right;
}
.list-group-item > .badge + .badge {
  margin-right: 5px;
}
.nav-pills > li > a > .badge {
  margin-left: 3px;
}
.jumbotron {
  padding-top: 30px;
  padding-bottom: 30px;
  margin-bottom: 30px;
  color: inherit;
  background-color: #eeeeee;
}
.jumbotron h1,
.jumbotron .h1 {
  color: inherit;
}
.jumbotron p {
  margin-bottom: 15px;
  font-size: 20px;
  font-weight: 200;
}
.jumbotron > hr {
  border-top-color: #d5d5d5;
}
.container .jumbotron,
.container-fluid .jumbotron {
  border-radius: 3px;
  padding-left: 0px;
  padding-right: 0px;
}
.jumbotron .container {
  max-width: 100%;
}
@media screen and (min-width: 768px) {
  .jumbotron {
    padding-top: 48px;
    padding-bottom: 48px;
  }
  .container .jumbotron,
  .container-fluid .jumbotron {
    padding-left: 60px;
    padding-right: 60px;
  }
  .jumbotron h1,
  .jumbotron .h1 {
    font-size: 59px;
  }
}
.thumbnail {
  display: block;
  padding: 4px;
  margin-bottom: 18px;
  line-height: 1.42857143;
  background-color: #fff;
  border: 1px solid #ddd;
  border-radius: 2px;
  -webkit-transition: border 0.2s ease-in-out;
  -o-transition: border 0.2s ease-in-out;
  transition: border 0.2s ease-in-out;
}
.thumbnail > img,
.thumbnail a > img {
  margin-left: auto;
  margin-right: auto;
}
a.thumbnail:hover,
a.thumbnail:focus,
a.thumbnail.active {
  border-color: #337ab7;
}
.thumbnail .caption {
  padding: 9px;
  color: #000;
}
.alert {
  padding: 15px;
  margin-bottom: 18px;
  border: 1px solid transparent;
  border-radius: 2px;
}
.alert h4 {
  margin-top: 0;
  color: inherit;
}
.alert .alert-link {
  font-weight: bold;
}
.alert > p,
.alert > ul {
  margin-bottom: 0;
}
.alert > p + p {
  margin-top: 5px;
}
.alert-dismissable,
.alert-dismissible {
  padding-right: 35px;
}
.alert-dismissable .close,
.alert-dismissible .close {
  position: relative;
  top: -2px;
  right: -21px;
  color: inherit;
}
.alert-success {
  background-color: #dff0d8;
  border-color: #d6e9c6;
  color: #3c763d;
}
.alert-success hr {
  border-top-color: #c9e2b3;
}
.alert-success .alert-link {
  color: #2b542c;
}
.alert-info {
  background-color: #d9edf7;
  border-color: #bce8f1;
  color: #31708f;
}
.alert-info hr {
  border-top-color: #a6e1ec;
}
.alert-info .alert-link {
  color: #245269;
}
.alert-warning {
  background-color: #fcf8e3;
  border-color: #faebcc;
  color: #8a6d3b;
}
.alert-warning hr {
  border-top-color: #f7e1b5;
}
.alert-warning .alert-link {
  color: #66512c;
}
.alert-danger {
  background-color: #f2dede;
  border-color: #ebccd1;
  color: #a94442;
}
.alert-danger hr {
  border-top-color: #e4b9c0;
}
.alert-danger .alert-link {
  color: #843534;
}
@-webkit-keyframes progress-bar-stripes {
  from {
    background-position: 40px 0;
  }
  to {
    background-position: 0 0;
  }
}
@keyframes progress-bar-stripes {
  from {
    background-position: 40px 0;
  }
  to {
    background-position: 0 0;
  }
}
.progress {
  overflow: hidden;
  height: 18px;
  margin-bottom: 18px;
  background-color: #f5f5f5;
  border-radius: 2px;
  -webkit-box-shadow: inset 0 1px 2px rgba(0, 0, 0, 0.1);
  box-shadow: inset 0 1px 2px rgba(0, 0, 0, 0.1);
}
.progress-bar {
  float: left;
  width: 0%;
  height: 100%;
  font-size: 12px;
  line-height: 18px;
  color: #fff;
  text-align: center;
  background-color: #337ab7;
  -webkit-box-shadow: inset 0 -1px 0 rgba(0, 0, 0, 0.15);
  box-shadow: inset 0 -1px 0 rgba(0, 0, 0, 0.15);
  -webkit-transition: width 0.6s ease;
  -o-transition: width 0.6s ease;
  transition: width 0.6s ease;
}
.progress-striped .progress-bar,
.progress-bar-striped {
  background-image: -webkit-linear-gradient(45deg, rgba(255, 255, 255, 0.15) 25%, transparent 25%, transparent 50%, rgba(255, 255, 255, 0.15) 50%, rgba(255, 255, 255, 0.15) 75%, transparent 75%, transparent);
  background-image: -o-linear-gradient(45deg, rgba(255, 255, 255, 0.15) 25%, transparent 25%, transparent 50%, rgba(255, 255, 255, 0.15) 50%, rgba(255, 255, 255, 0.15) 75%, transparent 75%, transparent);
  background-image: linear-gradient(45deg, rgba(255, 255, 255, 0.15) 25%, transparent 25%, transparent 50%, rgba(255, 255, 255, 0.15) 50%, rgba(255, 255, 255, 0.15) 75%, transparent 75%, transparent);
  background-size: 40px 40px;
}
.progress.active .progress-bar,
.progress-bar.active {
  -webkit-animation: progress-bar-stripes 2s linear infinite;
  -o-animation: progress-bar-stripes 2s linear infinite;
  animation: progress-bar-stripes 2s linear infinite;
}
.progress-bar-success {
  background-color: #5cb85c;
}
.progress-striped .progress-bar-success {
  background-image: -webkit-linear-gradient(45deg, rgba(255, 255, 255, 0.15) 25%, transparent 25%, transparent 50%, rgba(255, 255, 255, 0.15) 50%, rgba(255, 255, 255, 0.15) 75%, transparent 75%, transparent);
  background-image: -o-linear-gradient(45deg, rgba(255, 255, 255, 0.15) 25%, transparent 25%, transparent 50%, rgba(255, 255, 255, 0.15) 50%, rgba(255, 255, 255, 0.15) 75%, transparent 75%, transparent);
  background-image: linear-gradient(45deg, rgba(255, 255, 255, 0.15) 25%, transparent 25%, transparent 50%, rgba(255, 255, 255, 0.15) 50%, rgba(255, 255, 255, 0.15) 75%, transparent 75%, transparent);
}
.progress-bar-info {
  background-color: #5bc0de;
}
.progress-striped .progress-bar-info {
  background-image: -webkit-linear-gradient(45deg, rgba(255, 255, 255, 0.15) 25%, transparent 25%, transparent 50%, rgba(255, 255, 255, 0.15) 50%, rgba(255, 255, 255, 0.15) 75%, transparent 75%, transparent);
  background-image: -o-linear-gradient(45deg, rgba(255, 255, 255, 0.15) 25%, transparent 25%, transparent 50%, rgba(255, 255, 255, 0.15) 50%, rgba(255, 255, 255, 0.15) 75%, transparent 75%, transparent);
  background-image: linear-gradient(45deg, rgba(255, 255, 255, 0.15) 25%, transparent 25%, transparent 50%, rgba(255, 255, 255, 0.15) 50%, rgba(255, 255, 255, 0.15) 75%, transparent 75%, transparent);
}
.progress-bar-warning {
  background-color: #f0ad4e;
}
.progress-striped .progress-bar-warning {
  background-image: -webkit-linear-gradient(45deg, rgba(255, 255, 255, 0.15) 25%, transparent 25%, transparent 50%, rgba(255, 255, 255, 0.15) 50%, rgba(255, 255, 255, 0.15) 75%, transparent 75%, transparent);
  background-image: -o-linear-gradient(45deg, rgba(255, 255, 255, 0.15) 25%, transparent 25%, transparent 50%, rgba(255, 255, 255, 0.15) 50%, rgba(255, 255, 255, 0.15) 75%, transparent 75%, transparent);
  background-image: linear-gradient(45deg, rgba(255, 255, 255, 0.15) 25%, transparent 25%, transparent 50%, rgba(255, 255, 255, 0.15) 50%, rgba(255, 255, 255, 0.15) 75%, transparent 75%, transparent);
}
.progress-bar-danger {
  background-color: #d9534f;
}
.progress-striped .progress-bar-danger {
  background-image: -webkit-linear-gradient(45deg, rgba(255, 255, 255, 0.15) 25%, transparent 25%, transparent 50%, rgba(255, 255, 255, 0.15) 50%, rgba(255, 255, 255, 0.15) 75%, transparent 75%, transparent);
  background-image: -o-linear-gradient(45deg, rgba(255, 255, 255, 0.15) 25%, transparent 25%, transparent 50%, rgba(255, 255, 255, 0.15) 50%, rgba(255, 255, 255, 0.15) 75%, transparent 75%, transparent);
  background-image: linear-gradient(45deg, rgba(255, 255, 255, 0.15) 25%, transparent 25%, transparent 50%, rgba(255, 255, 255, 0.15) 50%, rgba(255, 255, 255, 0.15) 75%, transparent 75%, transparent);
}
.media {
  margin-top: 15px;
}
.media:first-child {
  margin-top: 0;
}
.media,
.media-body {
  zoom: 1;
  overflow: hidden;
}
.media-body {
  width: 10000px;
}
.media-object {
  display: block;
}
.media-object.img-thumbnail {
  max-width: none;
}
.media-right,
.media > .pull-right {
  padding-left: 10px;
}
.media-left,
.media > .pull-left {
  padding-right: 10px;
}
.media-left,
.media-right,
.media-body {
  display: table-cell;
  vertical-align: top;
}
.media-middle {
  vertical-align: middle;
}
.media-bottom {
  vertical-align: bottom;
}
.media-heading {
  margin-top: 0;
  margin-bottom: 5px;
}
.media-list {
  padding-left: 0;
  list-style: none;
}
.list-group {
  margin-bottom: 20px;
  padding-left: 0;
}
.list-group-item {
  position: relative;
  display: block;
  padding: 10px 15px;
  margin-bottom: -1px;
  background-color: #fff;
  border: 1px solid #ddd;
}
.list-group-item:first-child {
  border-top-right-radius: 2px;
  border-top-left-radius: 2px;
}
.list-group-item:last-child {
  margin-bottom: 0;
  border-bottom-right-radius: 2px;
  border-bottom-left-radius: 2px;
}
a.list-group-item,
button.list-group-item {
  color: #555;
}
a.list-group-item .list-group-item-heading,
button.list-group-item .list-group-item-heading {
  color: #333;
}
a.list-group-item:hover,
button.list-group-item:hover,
a.list-group-item:focus,
button.list-group-item:focus {
  text-decoration: none;
  color: #555;
  background-color: #f5f5f5;
}
button.list-group-item {
  width: 100%;
  text-align: left;
}
.list-group-item.disabled,
.list-group-item.disabled:hover,
.list-group-item.disabled:focus {
  background-color: #eeeeee;
  color: #777777;
  cursor: not-allowed;
}
.list-group-item.disabled .list-group-item-heading,
.list-group-item.disabled:hover .list-group-item-heading,
.list-group-item.disabled:focus .list-group-item-heading {
  color: inherit;
}
.list-group-item.disabled .list-group-item-text,
.list-group-item.disabled:hover .list-group-item-text,
.list-group-item.disabled:focus .list-group-item-text {
  color: #777777;
}
.list-group-item.active,
.list-group-item.active:hover,
.list-group-item.active:focus {
  z-index: 2;
  color: #fff;
  background-color: #337ab7;
  border-color: #337ab7;
}
.list-group-item.active .list-group-item-heading,
.list-group-item.active:hover .list-group-item-heading,
.list-group-item.active:focus .list-group-item-heading,
.list-group-item.active .list-group-item-heading > small,
.list-group-item.active:hover .list-group-item-heading > small,
.list-group-item.active:focus .list-group-item-heading > small,
.list-group-item.active .list-group-item-heading > .small,
.list-group-item.active:hover .list-group-item-heading > .small,
.list-group-item.active:focus .list-group-item-heading > .small {
  color: inherit;
}
.list-group-item.active .list-group-item-text,
.list-group-item.active:hover .list-group-item-text,
.list-group-item.active:focus .list-group-item-text {
  color: #c7ddef;
}
.list-group-item-success {
  color: #3c763d;
  background-color: #dff0d8;
}
a.list-group-item-success,
button.list-group-item-success {
  color: #3c763d;
}
a.list-group-item-success .list-group-item-heading,
button.list-group-item-success .list-group-item-heading {
  color: inherit;
}
a.list-group-item-success:hover,
button.list-group-item-success:hover,
a.list-group-item-success:focus,
button.list-group-item-success:focus {
  color: #3c763d;
  background-color: #d0e9c6;
}
a.list-group-item-success.active,
button.list-group-item-success.active,
a.list-group-item-success.active:hover,
button.list-group-item-success.active:hover,
a.list-group-item-success.active:focus,
button.list-group-item-success.active:focus {
  color: #fff;
  background-color: #3c763d;
  border-color: #3c763d;
}
.list-group-item-info {
  color: #31708f;
  background-color: #d9edf7;
}
a.list-group-item-info,
button.list-group-item-info {
  color: #31708f;
}
a.list-group-item-info .list-group-item-heading,
button.list-group-item-info .list-group-item-heading {
  color: inherit;
}
a.list-group-item-info:hover,
button.list-group-item-info:hover,
a.list-group-item-info:focus,
button.list-group-item-info:focus {
  color: #31708f;
  background-color: #c4e3f3;
}
a.list-group-item-info.active,
button.list-group-item-info.active,
a.list-group-item-info.active:hover,
button.list-group-item-info.active:hover,
a.list-group-item-info.active:focus,
button.list-group-item-info.active:focus {
  color: #fff;
  background-color: #31708f;
  border-color: #31708f;
}
.list-group-item-warning {
  color: #8a6d3b;
  background-color: #fcf8e3;
}
a.list-group-item-warning,
button.list-group-item-warning {
  color: #8a6d3b;
}
a.list-group-item-warning .list-group-item-heading,
button.list-group-item-warning .list-group-item-heading {
  color: inherit;
}
a.list-group-item-warning:hover,
button.list-group-item-warning:hover,
a.list-group-item-warning:focus,
button.list-group-item-warning:focus {
  color: #8a6d3b;
  background-color: #faf2cc;
}
a.list-group-item-warning.active,
button.list-group-item-warning.active,
a.list-group-item-warning.active:hover,
button.list-group-item-warning.active:hover,
a.list-group-item-warning.active:focus,
button.list-group-item-warning.active:focus {
  color: #fff;
  background-color: #8a6d3b;
  border-color: #8a6d3b;
}
.list-group-item-danger {
  color: #a94442;
  background-color: #f2dede;
}
a.list-group-item-danger,
button.list-group-item-danger {
  color: #a94442;
}
a.list-group-item-danger .list-group-item-heading,
button.list-group-item-danger .list-group-item-heading {
  color: inherit;
}
a.list-group-item-danger:hover,
button.list-group-item-danger:hover,
a.list-group-item-danger:focus,
button.list-group-item-danger:focus {
  color: #a94442;
  background-color: #ebcccc;
}
a.list-group-item-danger.active,
button.list-group-item-danger.active,
a.list-group-item-danger.active:hover,
button.list-group-item-danger.active:hover,
a.list-group-item-danger.active:focus,
button.list-group-item-danger.active:focus {
  color: #fff;
  background-color: #a94442;
  border-color: #a94442;
}
.list-group-item-heading {
  margin-top: 0;
  margin-bottom: 5px;
}
.list-group-item-text {
  margin-bottom: 0;
  line-height: 1.3;
}
.panel {
  margin-bottom: 18px;
  background-color: #fff;
  border: 1px solid transparent;
  border-radius: 2px;
  -webkit-box-shadow: 0 1px 1px rgba(0, 0, 0, 0.05);
  box-shadow: 0 1px 1px rgba(0, 0, 0, 0.05);
}
.panel-body {
  padding: 15px;
}
.panel-heading {
  padding: 10px 15px;
  border-bottom: 1px solid transparent;
  border-top-right-radius: 1px;
  border-top-left-radius: 1px;
}
.panel-heading > .dropdown .dropdown-toggle {
  color: inherit;
}
.panel-title {
  margin-top: 0;
  margin-bottom: 0;
  font-size: 15px;
  color: inherit;
}
.panel-title > a,
.panel-title > small,
.panel-title > .small,
.panel-title > small > a,
.panel-title > .small > a {
  color: inherit;
}
.panel-footer {
  padding: 10px 15px;
  background-color: #f5f5f5;
  border-top: 1px solid #ddd;
  border-bottom-right-radius: 1px;
  border-bottom-left-radius: 1px;
}
.panel > .list-group,
.panel > .panel-collapse > .list-group {
  margin-bottom: 0;
}
.panel > .list-group .list-group-item,
.panel > .panel-collapse > .list-group .list-group-item {
  border-width: 1px 0;
  border-radius: 0;
}
.panel > .list-group:first-child .list-group-item:first-child,
.panel > .panel-collapse > .list-group:first-child .list-group-item:first-child {
  border-top: 0;
  border-top-right-radius: 1px;
  border-top-left-radius: 1px;
}
.panel > .list-group:last-child .list-group-item:last-child,
.panel > .panel-collapse > .list-group:last-child .list-group-item:last-child {
  border-bottom: 0;
  border-bottom-right-radius: 1px;
  border-bottom-left-radius: 1px;
}
.panel > .panel-heading + .panel-collapse > .list-group .list-group-item:first-child {
  border-top-right-radius: 0;
  border-top-left-radius: 0;
}
.panel-heading + .list-group .list-group-item:first-child {
  border-top-width: 0;
}
.list-group + .panel-footer {
  border-top-width: 0;
}
.panel > .table,
.panel > .table-responsive > .table,
.panel > .panel-collapse > .table {
  margin-bottom: 0;
}
.panel > .table caption,
.panel > .table-responsive > .table caption,
.panel > .panel-collapse > .table caption {
  padding-left: 15px;
  padding-right: 15px;
}
.panel > .table:first-child,
.panel > .table-responsive:first-child > .table:first-child {
  border-top-right-radius: 1px;
  border-top-left-radius: 1px;
}
.panel > .table:first-child > thead:first-child > tr:first-child,
.panel > .table-responsive:first-child > .table:first-child > thead:first-child > tr:first-child,
.panel > .table:first-child > tbody:first-child > tr:first-child,
.panel > .table-responsive:first-child > .table:first-child > tbody:first-child > tr:first-child {
  border-top-left-radius: 1px;
  border-top-right-radius: 1px;
}
.panel > .table:first-child > thead:first-child > tr:first-child td:first-child,
.panel > .table-responsive:first-child > .table:first-child > thead:first-child > tr:first-child td:first-child,
.panel > .table:first-child > tbody:first-child > tr:first-child td:first-child,
.panel > .table-responsive:first-child > .table:first-child > tbody:first-child > tr:first-child td:first-child,
.panel > .table:first-child > thead:first-child > tr:first-child th:first-child,
.panel > .table-responsive:first-child > .table:first-child > thead:first-child > tr:first-child th:first-child,
.panel > .table:first-child > tbody:first-child > tr:first-child th:first-child,
.panel > .table-responsive:first-child > .table:first-child > tbody:first-child > tr:first-child th:first-child {
  border-top-left-radius: 1px;
}
.panel > .table:first-child > thead:first-child > tr:first-child td:last-child,
.panel > .table-responsive:first-child > .table:first-child > thead:first-child > tr:first-child td:last-child,
.panel > .table:first-child > tbody:first-child > tr:first-child td:last-child,
.panel > .table-responsive:first-child > .table:first-child > tbody:first-child > tr:first-child td:last-child,
.panel > .table:first-child > thead:first-child > tr:first-child th:last-child,
.panel > .table-responsive:first-child > .table:first-child > thead:first-child > tr:first-child th:last-child,
.panel > .table:first-child > tbody:first-child > tr:first-child th:last-child,
.panel > .table-responsive:first-child > .table:first-child > tbody:first-child > tr:first-child th:last-child {
  border-top-right-radius: 1px;
}
.panel > .table:last-child,
.panel > .table-responsive:last-child > .table:last-child {
  border-bottom-right-radius: 1px;
  border-bottom-left-radius: 1px;
}
.panel > .table:last-child > tbody:last-child > tr:last-child,
.panel > .table-responsive:last-child > .table:last-child > tbody:last-child > tr:last-child,
.panel > .table:last-child > tfoot:last-child > tr:last-child,
.panel > .table-responsive:last-child > .table:last-child > tfoot:last-child > tr:last-child {
  border-bottom-left-radius: 1px;
  border-bottom-right-radius: 1px;
}
.panel > .table:last-child > tbody:last-child > tr:last-child td:first-child,
.panel > .table-responsive:last-child > .table:last-child > tbody:last-child > tr:last-child td:first-child,
.panel > .table:last-child > tfoot:last-child > tr:last-child td:first-child,
.panel > .table-responsive:last-child > .table:last-child > tfoot:last-child > tr:last-child td:first-child,
.panel > .table:last-child > tbody:last-child > tr:last-child th:first-child,
.panel > .table-responsive:last-child > .table:last-child > tbody:last-child > tr:last-child th:first-child,
.panel > .table:last-child > tfoot:last-child > tr:last-child th:first-child,
.panel > .table-responsive:last-child > .table:last-child > tfoot:last-child > tr:last-child th:first-child {
  border-bottom-left-radius: 1px;
}
.panel > .table:last-child > tbody:last-child > tr:last-child td:last-child,
.panel > .table-responsive:last-child > .table:last-child > tbody:last-child > tr:last-child td:last-child,
.panel > .table:last-child > tfoot:last-child > tr:last-child td:last-child,
.panel > .table-responsive:last-child > .table:last-child > tfoot:last-child > tr:last-child td:last-child,
.panel > .table:last-child > tbody:last-child > tr:last-child th:last-child,
.panel > .table-responsive:last-child > .table:last-child > tbody:last-child > tr:last-child th:last-child,
.panel > .table:last-child > tfoot:last-child > tr:last-child th:last-child,
.panel > .table-responsive:last-child > .table:last-child > tfoot:last-child > tr:last-child th:last-child {
  border-bottom-right-radius: 1px;
}
.panel > .panel-body + .table,
.panel > .panel-body + .table-responsive,
.panel > .table + .panel-body,
.panel > .table-responsive + .panel-body {
  border-top: 1px solid #ddd;
}
.panel > .table > tbody:first-child > tr:first-child th,
.panel > .table > tbody:first-child > tr:first-child td {
  border-top: 0;
}
.panel > .table-bordered,
.panel > .table-responsive > .table-bordered {
  border: 0;
}
.panel > .table-bordered > thead > tr > th:first-child,
.panel > .table-responsive > .table-bordered > thead > tr > th:first-child,
.panel > .table-bordered > tbody > tr > th:first-child,
.panel > .table-responsive > .table-bordered > tbody > tr > th:first-child,
.panel > .table-bordered > tfoot > tr > th:first-child,
.panel > .table-responsive > .table-bordered > tfoot > tr > th:first-child,
.panel > .table-bordered > thead > tr > td:first-child,
.panel > .table-responsive > .table-bordered > thead > tr > td:first-child,
.panel > .table-bordered > tbody > tr > td:first-child,
.panel > .table-responsive > .table-bordered > tbody > tr > td:first-child,
.panel > .table-bordered > tfoot > tr > td:first-child,
.panel > .table-responsive > .table-bordered > tfoot > tr > td:first-child {
  border-left: 0;
}
.panel > .table-bordered > thead > tr > th:last-child,
.panel > .table-responsive > .table-bordered > thead > tr > th:last-child,
.panel > .table-bordered > tbody > tr > th:last-child,
.panel > .table-responsive > .table-bordered > tbody > tr > th:last-child,
.panel > .table-bordered > tfoot > tr > th:last-child,
.panel > .table-responsive > .table-bordered > tfoot > tr > th:last-child,
.panel > .table-bordered > thead > tr > td:last-child,
.panel > .table-responsive > .table-bordered > thead > tr > td:last-child,
.panel > .table-bordered > tbody > tr > td:last-child,
.panel > .table-responsive > .table-bordered > tbody > tr > td:last-child,
.panel > .table-bordered > tfoot > tr > td:last-child,
.panel > .table-responsive > .table-bordered > tfoot > tr > td:last-child {
  border-right: 0;
}
.panel > .table-bordered > thead > tr:first-child > td,
.panel > .table-responsive > .table-bordered > thead > tr:first-child > td,
.panel > .table-bordered > tbody > tr:first-child > td,
.panel > .table-responsive > .table-bordered > tbody > tr:first-child > td,
.panel > .table-bordered > thead > tr:first-child > th,
.panel > .table-responsive > .table-bordered > thead > tr:first-child > th,
.panel > .table-bordered > tbody > tr:first-child > th,
.panel > .table-responsive > .table-bordered > tbody > tr:first-child > th {
  border-bottom: 0;
}
.panel > .table-bordered > tbody > tr:last-child > td,
.panel > .table-responsive > .table-bordered > tbody > tr:last-child > td,
.panel > .table-bordered > tfoot > tr:last-child > td,
.panel > .table-responsive > .table-bordered > tfoot > tr:last-child > td,
.panel > .table-bordered > tbody > tr:last-child > th,
.panel > .table-responsive > .table-bordered > tbody > tr:last-child > th,
.panel > .table-bordered > tfoot > tr:last-child > th,
.panel > .table-responsive > .table-bordered > tfoot > tr:last-child > th {
  border-bottom: 0;
}
.panel > .table-responsive {
  border: 0;
  margin-bottom: 0;
}
.panel-group {
  margin-bottom: 18px;
}
.panel-group .panel {
  margin-bottom: 0;
  border-radius: 2px;
}
.panel-group .panel + .panel {
  margin-top: 5px;
}
.panel-group .panel-heading {
  border-bottom: 0;
}
.panel-group .panel-heading + .panel-collapse > .panel-body,
.panel-group .panel-heading + .panel-collapse > .list-group {
  border-top: 1px solid #ddd;
}
.panel-group .panel-footer {
  border-top: 0;
}
.panel-group .panel-footer + .panel-collapse .panel-body {
  border-bottom: 1px solid #ddd;
}
.panel-default {
  border-color: #ddd;
}
.panel-default > .panel-heading {
  color: #333333;
  background-color: #f5f5f5;
  border-color: #ddd;
}
.panel-default > .panel-heading + .panel-collapse > .panel-body {
  border-top-color: #ddd;
}
.panel-default > .panel-heading .badge {
  color: #f5f5f5;
  background-color: #333333;
}
.panel-default > .panel-footer + .panel-collapse > .panel-body {
  border-bottom-color: #ddd;
}
.panel-primary {
  border-color: #337ab7;
}
.panel-primary > .panel-heading {
  color: #fff;
  background-color: #337ab7;
  border-color: #337ab7;
}
.panel-primary > .panel-heading + .panel-collapse > .panel-body {
  border-top-color: #337ab7;
}
.panel-primary > .panel-heading .badge {
  color: #337ab7;
  background-color: #fff;
}
.panel-primary > .panel-footer + .panel-collapse > .panel-body {
  border-bottom-color: #337ab7;
}
.panel-success {
  border-color: #d6e9c6;
}
.panel-success > .panel-heading {
  color: #3c763d;
  background-color: #dff0d8;
  border-color: #d6e9c6;
}
.panel-success > .panel-heading + .panel-collapse > .panel-body {
  border-top-color: #d6e9c6;
}
.panel-success > .panel-heading .badge {
  color: #dff0d8;
  background-color: #3c763d;
}
.panel-success > .panel-footer + .panel-collapse > .panel-body {
  border-bottom-color: #d6e9c6;
}
.panel-info {
  border-color: #bce8f1;
}
.panel-info > .panel-heading {
  color: #31708f;
  background-color: #d9edf7;
  border-color: #bce8f1;
}
.panel-info > .panel-heading + .panel-collapse > .panel-body {
  border-top-color: #bce8f1;
}
.panel-info > .panel-heading .badge {
  color: #d9edf7;
  background-color: #31708f;
}
.panel-info > .panel-footer + .panel-collapse > .panel-body {
  border-bottom-color: #bce8f1;
}
.panel-warning {
  border-color: #faebcc;
}
.panel-warning > .panel-heading {
  color: #8a6d3b;
  background-color: #fcf8e3;
  border-color: #faebcc;
}
.panel-warning > .panel-heading + .panel-collapse > .panel-body {
  border-top-color: #faebcc;
}
.panel-warning > .panel-heading .badge {
  color: #fcf8e3;
  background-color: #8a6d3b;
}
.panel-warning > .panel-footer + .panel-collapse > .panel-body {
  border-bottom-color: #faebcc;
}
.panel-danger {
  border-color: #ebccd1;
}
.panel-danger > .panel-heading {
  color: #a94442;
  background-color: #f2dede;
  border-color: #ebccd1;
}
.panel-danger > .panel-heading + .panel-collapse > .panel-body {
  border-top-color: #ebccd1;
}
.panel-danger > .panel-heading .badge {
  color: #f2dede;
  background-color: #a94442;
}
.panel-danger > .panel-footer + .panel-collapse > .panel-body {
  border-bottom-color: #ebccd1;
}
.embed-responsive {
  position: relative;
  display: block;
  height: 0;
  padding: 0;
  overflow: hidden;
}
.embed-responsive .embed-responsive-item,
.embed-responsive iframe,
.embed-responsive embed,
.embed-responsive object,
.embed-responsive video {
  position: absolute;
  top: 0;
  left: 0;
  bottom: 0;
  height: 100%;
  width: 100%;
  border: 0;
}
.embed-responsive-16by9 {
  padding-bottom: 56.25%;
}
.embed-responsive-4by3 {
  padding-bottom: 75%;
}
.well {
  min-height: 20px;
  padding: 19px;
  margin-bottom: 20px;
  background-color: #f5f5f5;
  border: 1px solid #e3e3e3;
  border-radius: 2px;
  -webkit-box-shadow: inset 0 1px 1px rgba(0, 0, 0, 0.05);
  box-shadow: inset 0 1px 1px rgba(0, 0, 0, 0.05);
}
.well blockquote {
  border-color: #ddd;
  border-color: rgba(0, 0, 0, 0.15);
}
.well-lg {
  padding: 24px;
  border-radius: 3px;
}
.well-sm {
  padding: 9px;
  border-radius: 1px;
}
.close {
  float: right;
  font-size: 19.5px;
  font-weight: bold;
  line-height: 1;
  color: #000;
  text-shadow: 0 1px 0 #fff;
  opacity: 0.2;
  filter: alpha(opacity=20);
}
.close:hover,
.close:focus {
  color: #000;
  text-decoration: none;
  cursor: pointer;
  opacity: 0.5;
  filter: alpha(opacity=50);
}
button.close {
  padding: 0;
  cursor: pointer;
  background: transparent;
  border: 0;
  -webkit-appearance: none;
}
.modal-open {
  overflow: hidden;
}
.modal {
  display: none;
  overflow: hidden;
  position: fixed;
  top: 0;
  right: 0;
  bottom: 0;
  left: 0;
  z-index: 1050;
  -webkit-overflow-scrolling: touch;
  outline: 0;
}
.modal.fade .modal-dialog {
  -webkit-transform: translate(0, -25%);
  -ms-transform: translate(0, -25%);
  -o-transform: translate(0, -25%);
  transform: translate(0, -25%);
  -webkit-transition: -webkit-transform 0.3s ease-out;
  -moz-transition: -moz-transform 0.3s ease-out;
  -o-transition: -o-transform 0.3s ease-out;
  transition: transform 0.3s ease-out;
}
.modal.in .modal-dialog {
  -webkit-transform: translate(0, 0);
  -ms-transform: translate(0, 0);
  -o-transform: translate(0, 0);
  transform: translate(0, 0);
}
.modal-open .modal {
  overflow-x: hidden;
  overflow-y: auto;
}
.modal-dialog {
  position: relative;
  width: auto;
  margin: 10px;
}
.modal-content {
  position: relative;
  background-color: #fff;
  border: 1px solid #999;
  border: 1px solid rgba(0, 0, 0, 0.2);
  border-radius: 3px;
  -webkit-box-shadow: 0 3px 9px rgba(0, 0, 0, 0.5);
  box-shadow: 0 3px 9px rgba(0, 0, 0, 0.5);
  background-clip: padding-box;
  outline: 0;
}
.modal-backdrop {
  position: fixed;
  top: 0;
  right: 0;
  bottom: 0;
  left: 0;
  z-index: 1040;
  background-color: #000;
}
.modal-backdrop.fade {
  opacity: 0;
  filter: alpha(opacity=0);
}
.modal-backdrop.in {
  opacity: 0.5;
  filter: alpha(opacity=50);
}
.modal-header {
  padding: 15px;
  border-bottom: 1px solid #e5e5e5;
}
.modal-header .close {
  margin-top: -2px;
}
.modal-title {
  margin: 0;
  line-height: 1.42857143;
}
.modal-body {
  position: relative;
  padding: 15px;
}
.modal-footer {
  padding: 15px;
  text-align: right;
  border-top: 1px solid #e5e5e5;
}
.modal-footer .btn + .btn {
  margin-left: 5px;
  margin-bottom: 0;
}
.modal-footer .btn-group .btn + .btn {
  margin-left: -1px;
}
.modal-footer .btn-block + .btn-block {
  margin-left: 0;
}
.modal-scrollbar-measure {
  position: absolute;
  top: -9999px;
  width: 50px;
  height: 50px;
  overflow: scroll;
}
@media (min-width: 768px) {
  .modal-dialog {
    width: 600px;
    margin: 30px auto;
  }
  .modal-content {
    -webkit-box-shadow: 0 5px 15px rgba(0, 0, 0, 0.5);
    box-shadow: 0 5px 15px rgba(0, 0, 0, 0.5);
  }
  .modal-sm {
    width: 300px;
  }
}
@media (min-width: 992px) {
  .modal-lg {
    width: 900px;
  }
}
.tooltip {
  position: absolute;
  z-index: 1070;
  display: block;
  font-family: "Helvetica Neue", Helvetica, Arial, sans-serif;
  font-style: normal;
  font-weight: normal;
  letter-spacing: normal;
  line-break: auto;
  line-height: 1.42857143;
  text-align: left;
  text-align: start;
  text-decoration: none;
  text-shadow: none;
  text-transform: none;
  white-space: normal;
  word-break: normal;
  word-spacing: normal;
  word-wrap: normal;
  font-size: 12px;
  opacity: 0;
  filter: alpha(opacity=0);
}
.tooltip.in {
  opacity: 0.9;
  filter: alpha(opacity=90);
}
.tooltip.top {
  margin-top: -3px;
  padding: 5px 0;
}
.tooltip.right {
  margin-left: 3px;
  padding: 0 5px;
}
.tooltip.bottom {
  margin-top: 3px;
  padding: 5px 0;
}
.tooltip.left {
  margin-left: -3px;
  padding: 0 5px;
}
.tooltip-inner {
  max-width: 200px;
  padding: 3px 8px;
  color: #fff;
  text-align: center;
  background-color: #000;
  border-radius: 2px;
}
.tooltip-arrow {
  position: absolute;
  width: 0;
  height: 0;
  border-color: transparent;
  border-style: solid;
}
.tooltip.top .tooltip-arrow {
  bottom: 0;
  left: 50%;
  margin-left: -5px;
  border-width: 5px 5px 0;
  border-top-color: #000;
}
.tooltip.top-left .tooltip-arrow {
  bottom: 0;
  right: 5px;
  margin-bottom: -5px;
  border-width: 5px 5px 0;
  border-top-color: #000;
}
.tooltip.top-right .tooltip-arrow {
  bottom: 0;
  left: 5px;
  margin-bottom: -5px;
  border-width: 5px 5px 0;
  border-top-color: #000;
}
.tooltip.right .tooltip-arrow {
  top: 50%;
  left: 0;
  margin-top: -5px;
  border-width: 5px 5px 5px 0;
  border-right-color: #000;
}
.tooltip.left .tooltip-arrow {
  top: 50%;
  right: 0;
  margin-top: -5px;
  border-width: 5px 0 5px 5px;
  border-left-color: #000;
}
.tooltip.bottom .tooltip-arrow {
  top: 0;
  left: 50%;
  margin-left: -5px;
  border-width: 0 5px 5px;
  border-bottom-color: #000;
}
.tooltip.bottom-left .tooltip-arrow {
  top: 0;
  right: 5px;
  margin-top: -5px;
  border-width: 0 5px 5px;
  border-bottom-color: #000;
}
.tooltip.bottom-right .tooltip-arrow {
  top: 0;
  left: 5px;
  margin-top: -5px;
  border-width: 0 5px 5px;
  border-bottom-color: #000;
}
.popover {
  position: absolute;
  top: 0;
  left: 0;
  z-index: 1060;
  display: none;
  max-width: 276px;
  padding: 1px;
  font-family: "Helvetica Neue", Helvetica, Arial, sans-serif;
  font-style: normal;
  font-weight: normal;
  letter-spacing: normal;
  line-break: auto;
  line-height: 1.42857143;
  text-align: left;
  text-align: start;
  text-decoration: none;
  text-shadow: none;
  text-transform: none;
  white-space: normal;
  word-break: normal;
  word-spacing: normal;
  word-wrap: normal;
  font-size: 13px;
  background-color: #fff;
  background-clip: padding-box;
  border: 1px solid #ccc;
  border: 1px solid rgba(0, 0, 0, 0.2);
  border-radius: 3px;
  -webkit-box-shadow: 0 5px 10px rgba(0, 0, 0, 0.2);
  box-shadow: 0 5px 10px rgba(0, 0, 0, 0.2);
}
.popover.top {
  margin-top: -10px;
}
.popover.right {
  margin-left: 10px;
}
.popover.bottom {
  margin-top: 10px;
}
.popover.left {
  margin-left: -10px;
}
.popover-title {
  margin: 0;
  padding: 8px 14px;
  font-size: 13px;
  background-color: #f7f7f7;
  border-bottom: 1px solid #ebebeb;
  border-radius: 2px 2px 0 0;
}
.popover-content {
  padding: 9px 14px;
}
.popover > .arrow,
.popover > .arrow:after {
  position: absolute;
  display: block;
  width: 0;
  height: 0;
  border-color: transparent;
  border-style: solid;
}
.popover > .arrow {
  border-width: 11px;
}
.popover > .arrow:after {
  border-width: 10px;
  content: "";
}
.popover.top > .arrow {
  left: 50%;
  margin-left: -11px;
  border-bottom-width: 0;
  border-top-color: #999999;
  border-top-color: rgba(0, 0, 0, 0.25);
  bottom: -11px;
}
.popover.top > .arrow:after {
  content: " ";
  bottom: 1px;
  margin-left: -10px;
  border-bottom-width: 0;
  border-top-color: #fff;
}
.popover.right > .arrow {
  top: 50%;
  left: -11px;
  margin-top: -11px;
  border-left-width: 0;
  border-right-color: #999999;
  border-right-color: rgba(0, 0, 0, 0.25);
}
.popover.right > .arrow:after {
  content: " ";
  left: 1px;
  bottom: -10px;
  border-left-width: 0;
  border-right-color: #fff;
}
.popover.bottom > .arrow {
  left: 50%;
  margin-left: -11px;
  border-top-width: 0;
  border-bottom-color: #999999;
  border-bottom-color: rgba(0, 0, 0, 0.25);
  top: -11px;
}
.popover.bottom > .arrow:after {
  content: " ";
  top: 1px;
  margin-left: -10px;
  border-top-width: 0;
  border-bottom-color: #fff;
}
.popover.left > .arrow {
  top: 50%;
  right: -11px;
  margin-top: -11px;
  border-right-width: 0;
  border-left-color: #999999;
  border-left-color: rgba(0, 0, 0, 0.25);
}
.popover.left > .arrow:after {
  content: " ";
  right: 1px;
  border-right-width: 0;
  border-left-color: #fff;
  bottom: -10px;
}
.carousel {
  position: relative;
}
.carousel-inner {
  position: relative;
  overflow: hidden;
  width: 100%;
}
.carousel-inner > .item {
  display: none;
  position: relative;
  -webkit-transition: 0.6s ease-in-out left;
  -o-transition: 0.6s ease-in-out left;
  transition: 0.6s ease-in-out left;
}
.carousel-inner > .item > img,
.carousel-inner > .item > a > img {
  line-height: 1;
}
@media all and (transform-3d), (-webkit-transform-3d) {
  .carousel-inner > .item {
    -webkit-transition: -webkit-transform 0.6s ease-in-out;
    -moz-transition: -moz-transform 0.6s ease-in-out;
    -o-transition: -o-transform 0.6s ease-in-out;
    transition: transform 0.6s ease-in-out;
    -webkit-backface-visibility: hidden;
    -moz-backface-visibility: hidden;
    backface-visibility: hidden;
    -webkit-perspective: 1000px;
    -moz-perspective: 1000px;
    perspective: 1000px;
  }
  .carousel-inner > .item.next,
  .carousel-inner > .item.active.right {
    -webkit-transform: translate3d(100%, 0, 0);
    transform: translate3d(100%, 0, 0);
    left: 0;
  }
  .carousel-inner > .item.prev,
  .carousel-inner > .item.active.left {
    -webkit-transform: translate3d(-100%, 0, 0);
    transform: translate3d(-100%, 0, 0);
    left: 0;
  }
  .carousel-inner > .item.next.left,
  .carousel-inner > .item.prev.right,
  .carousel-inner > .item.active {
    -webkit-transform: translate3d(0, 0, 0);
    transform: translate3d(0, 0, 0);
    left: 0;
  }
}
.carousel-inner > .active,
.carousel-inner > .next,
.carousel-inner > .prev {
  display: block;
}
.carousel-inner > .active {
  left: 0;
}
.carousel-inner > .next,
.carousel-inner > .prev {
  position: absolute;
  top: 0;
  width: 100%;
}
.carousel-inner > .next {
  left: 100%;
}
.carousel-inner > .prev {
  left: -100%;
}
.carousel-inner > .next.left,
.carousel-inner > .prev.right {
  left: 0;
}
.carousel-inner > .active.left {
  left: -100%;
}
.carousel-inner > .active.right {
  left: 100%;
}
.carousel-control {
  position: absolute;
  top: 0;
  left: 0;
  bottom: 0;
  width: 15%;
  opacity: 0.5;
  filter: alpha(opacity=50);
  font-size: 20px;
  color: #fff;
  text-align: center;
  text-shadow: 0 1px 2px rgba(0, 0, 0, 0.6);
  background-color: rgba(0, 0, 0, 0);
}
.carousel-control.left {
  background-image: -webkit-linear-gradient(left, rgba(0, 0, 0, 0.5) 0%, rgba(0, 0, 0, 0.0001) 100%);
  background-image: -o-linear-gradient(left, rgba(0, 0, 0, 0.5) 0%, rgba(0, 0, 0, 0.0001) 100%);
  background-image: linear-gradient(to right, rgba(0, 0, 0, 0.5) 0%, rgba(0, 0, 0, 0.0001) 100%);
  background-repeat: repeat-x;
  filter: progid:DXImageTransform.Microsoft.gradient(startColorstr='#80000000', endColorstr='#00000000', GradientType=1);
}
.carousel-control.right {
  left: auto;
  right: 0;
  background-image: -webkit-linear-gradient(left, rgba(0, 0, 0, 0.0001) 0%, rgba(0, 0, 0, 0.5) 100%);
  background-image: -o-linear-gradient(left, rgba(0, 0, 0, 0.0001) 0%, rgba(0, 0, 0, 0.5) 100%);
  background-image: linear-gradient(to right, rgba(0, 0, 0, 0.0001) 0%, rgba(0, 0, 0, 0.5) 100%);
  background-repeat: repeat-x;
  filter: progid:DXImageTransform.Microsoft.gradient(startColorstr='#00000000', endColorstr='#80000000', GradientType=1);
}
.carousel-control:hover,
.carousel-control:focus {
  outline: 0;
  color: #fff;
  text-decoration: none;
  opacity: 0.9;
  filter: alpha(opacity=90);
}
.carousel-control .icon-prev,
.carousel-control .icon-next,
.carousel-control .glyphicon-chevron-left,
.carousel-control .glyphicon-chevron-right {
  position: absolute;
  top: 50%;
  margin-top: -10px;
  z-index: 5;
  display: inline-block;
}
.carousel-control .icon-prev,
.carousel-control .glyphicon-chevron-left {
  left: 50%;
  margin-left: -10px;
}
.carousel-control .icon-next,
.carousel-control .glyphicon-chevron-right {
  right: 50%;
  margin-right: -10px;
}
.carousel-control .icon-prev,
.carousel-control .icon-next {
  width: 20px;
  height: 20px;
  line-height: 1;
  font-family: serif;
}
.carousel-control .icon-prev:before {
  content: '\2039';
}
.carousel-control .icon-next:before {
  content: '\203a';
}
.carousel-indicators {
  position: absolute;
  bottom: 10px;
  left: 50%;
  z-index: 15;
  width: 60%;
  margin-left: -30%;
  padding-left: 0;
  list-style: none;
  text-align: center;
}
.carousel-indicators li {
  display: inline-block;
  width: 10px;
  height: 10px;
  margin: 1px;
  text-indent: -999px;
  border: 1px solid #fff;
  border-radius: 10px;
  cursor: pointer;
  background-color: #000 \9;
  background-color: rgba(0, 0, 0, 0);
}
.carousel-indicators .active {
  margin: 0;
  width: 12px;
  height: 12px;
  background-color: #fff;
}
.carousel-caption {
  position: absolute;
  left: 15%;
  right: 15%;
  bottom: 20px;
  z-index: 10;
  padding-top: 20px;
  padding-bottom: 20px;
  color: #fff;
  text-align: center;
  text-shadow: 0 1px 2px rgba(0, 0, 0, 0.6);
}
.carousel-caption .btn {
  text-shadow: none;
}
@media screen and (min-width: 768px) {
  .carousel-control .glyphicon-chevron-left,
  .carousel-control .glyphicon-chevron-right,
  .carousel-control .icon-prev,
  .carousel-control .icon-next {
    width: 30px;
    height: 30px;
    margin-top: -10px;
    font-size: 30px;
  }
  .carousel-control .glyphicon-chevron-left,
  .carousel-control .icon-prev {
    margin-left: -10px;
  }
  .carousel-control .glyphicon-chevron-right,
  .carousel-control .icon-next {
    margin-right: -10px;
  }
  .carousel-caption {
    left: 20%;
    right: 20%;
    padding-bottom: 30px;
  }
  .carousel-indicators {
    bottom: 20px;
  }
}
.clearfix:before,
.clearfix:after,
.dl-horizontal dd:before,
.dl-horizontal dd:after,
.container:before,
.container:after,
.container-fluid:before,
.container-fluid:after,
.row:before,
.row:after,
.form-horizontal .form-group:before,
.form-horizontal .form-group:after,
.btn-toolbar:before,
.btn-toolbar:after,
.btn-group-vertical > .btn-group:before,
.btn-group-vertical > .btn-group:after,
.nav:before,
.nav:after,
.navbar:before,
.navbar:after,
.navbar-header:before,
.navbar-header:after,
.navbar-collapse:before,
.navbar-collapse:after,
.pager:before,
.pager:after,
.panel-body:before,
.panel-body:after,
.modal-header:before,
.modal-header:after,
.modal-footer:before,
.modal-footer:after,
.item_buttons:before,
.item_buttons:after {
  content: " ";
  display: table;
}
.clearfix:after,
.dl-horizontal dd:after,
.container:after,
.container-fluid:after,
.row:after,
.form-horizontal .form-group:after,
.btn-toolbar:after,
.btn-group-vertical > .btn-group:after,
.nav:after,
.navbar:after,
.navbar-header:after,
.navbar-collapse:after,
.pager:after,
.panel-body:after,
.modal-header:after,
.modal-footer:after,
.item_buttons:after {
  clear: both;
}
.center-block {
  display: block;
  margin-left: auto;
  margin-right: auto;
}
.pull-right {
  float: right !important;
}
.pull-left {
  float: left !important;
}
.hide {
  display: none !important;
}
.show {
  display: block !important;
}
.invisible {
  visibility: hidden;
}
.text-hide {
  font: 0/0 a;
  color: transparent;
  text-shadow: none;
  background-color: transparent;
  border: 0;
}
.hidden {
  display: none !important;
}
.affix {
  position: fixed;
}
@-ms-viewport {
  width: device-width;
}
.visible-xs,
.visible-sm,
.visible-md,
.visible-lg {
  display: none !important;
}
.visible-xs-block,
.visible-xs-inline,
.visible-xs-inline-block,
.visible-sm-block,
.visible-sm-inline,
.visible-sm-inline-block,
.visible-md-block,
.visible-md-inline,
.visible-md-inline-block,
.visible-lg-block,
.visible-lg-inline,
.visible-lg-inline-block {
  display: none !important;
}
@media (max-width: 767px) {
  .visible-xs {
    display: block !important;
  }
  table.visible-xs {
    display: table !important;
  }
  tr.visible-xs {
    display: table-row !important;
  }
  th.visible-xs,
  td.visible-xs {
    display: table-cell !important;
  }
}
@media (max-width: 767px) {
  .visible-xs-block {
    display: block !important;
  }
}
@media (max-width: 767px) {
  .visible-xs-inline {
    display: inline !important;
  }
}
@media (max-width: 767px) {
  .visible-xs-inline-block {
    display: inline-block !important;
  }
}
@media (min-width: 768px) and (max-width: 991px) {
  .visible-sm {
    display: block !important;
  }
  table.visible-sm {
    display: table !important;
  }
  tr.visible-sm {
    display: table-row !important;
  }
  th.visible-sm,
  td.visible-sm {
    display: table-cell !important;
  }
}
@media (min-width: 768px) and (max-width: 991px) {
  .visible-sm-block {
    display: block !important;
  }
}
@media (min-width: 768px) and (max-width: 991px) {
  .visible-sm-inline {
    display: inline !important;
  }
}
@media (min-width: 768px) and (max-width: 991px) {
  .visible-sm-inline-block {
    display: inline-block !important;
  }
}
@media (min-width: 992px) and (max-width: 1199px) {
  .visible-md {
    display: block !important;
  }
  table.visible-md {
    display: table !important;
  }
  tr.visible-md {
    display: table-row !important;
  }
  th.visible-md,
  td.visible-md {
    display: table-cell !important;
  }
}
@media (min-width: 992px) and (max-width: 1199px) {
  .visible-md-block {
    display: block !important;
  }
}
@media (min-width: 992px) and (max-width: 1199px) {
  .visible-md-inline {
    display: inline !important;
  }
}
@media (min-width: 992px) and (max-width: 1199px) {
  .visible-md-inline-block {
    display: inline-block !important;
  }
}
@media (min-width: 1200px) {
  .visible-lg {
    display: block !important;
  }
  table.visible-lg {
    display: table !important;
  }
  tr.visible-lg {
    display: table-row !important;
  }
  th.visible-lg,
  td.visible-lg {
    display: table-cell !important;
  }
}
@media (min-width: 1200px) {
  .visible-lg-block {
    display: block !important;
  }
}
@media (min-width: 1200px) {
  .visible-lg-inline {
    display: inline !important;
  }
}
@media (min-width: 1200px) {
  .visible-lg-inline-block {
    display: inline-block !important;
  }
}
@media (max-width: 767px) {
  .hidden-xs {
    display: none !important;
  }
}
@media (min-width: 768px) and (max-width: 991px) {
  .hidden-sm {
    display: none !important;
  }
}
@media (min-width: 992px) and (max-width: 1199px) {
  .hidden-md {
    display: none !important;
  }
}
@media (min-width: 1200px) {
  .hidden-lg {
    display: none !important;
  }
}
.visible-print {
  display: none !important;
}
@media print {
  .visible-print {
    display: block !important;
  }
  table.visible-print {
    display: table !important;
  }
  tr.visible-print {
    display: table-row !important;
  }
  th.visible-print,
  td.visible-print {
    display: table-cell !important;
  }
}
.visible-print-block {
  display: none !important;
}
@media print {
  .visible-print-block {
    display: block !important;
  }
}
.visible-print-inline {
  display: none !important;
}
@media print {
  .visible-print-inline {
    display: inline !important;
  }
}
.visible-print-inline-block {
  display: none !important;
}
@media print {
  .visible-print-inline-block {
    display: inline-block !important;
  }
}
@media print {
  .hidden-print {
    display: none !important;
  }
}
/*!
*
* Font Awesome
*
*/
/*!
 *  Font Awesome 4.7.0 by @davegandy - http://fontawesome.io - @fontawesome
 *  License - http://fontawesome.io/license (Font: SIL OFL 1.1, CSS: MIT License)
 */
/* FONT PATH
 * -------------------------- */
@font-face {
  font-family: 'FontAwesome';
  src: url('../components/font-awesome/fonts/fontawesome-webfont.eot?v=4.7.0');
  src: url('../components/font-awesome/fonts/fontawesome-webfont.eot?#iefix&v=4.7.0') format('embedded-opentype'), url('../components/font-awesome/fonts/fontawesome-webfont.woff2?v=4.7.0') format('woff2'), url('../components/font-awesome/fonts/fontawesome-webfont.woff?v=4.7.0') format('woff'), url('../components/font-awesome/fonts/fontawesome-webfont.ttf?v=4.7.0') format('truetype'), url('../components/font-awesome/fonts/fontawesome-webfont.svg?v=4.7.0#fontawesomeregular') format('svg');
  font-weight: normal;
  font-style: normal;
}
.fa {
  display: inline-block;
  font: normal normal normal 14px/1 FontAwesome;
  font-size: inherit;
  text-rendering: auto;
  -webkit-font-smoothing: antialiased;
  -moz-osx-font-smoothing: grayscale;
}
/* makes the font 33% larger relative to the icon container */
.fa-lg {
  font-size: 1.33333333em;
  line-height: 0.75em;
  vertical-align: -15%;
}
.fa-2x {
  font-size: 2em;
}
.fa-3x {
  font-size: 3em;
}
.fa-4x {
  font-size: 4em;
}
.fa-5x {
  font-size: 5em;
}
.fa-fw {
  width: 1.28571429em;
  text-align: center;
}
.fa-ul {
  padding-left: 0;
  margin-left: 2.14285714em;
  list-style-type: none;
}
.fa-ul > li {
  position: relative;
}
.fa-li {
  position: absolute;
  left: -2.14285714em;
  width: 2.14285714em;
  top: 0.14285714em;
  text-align: center;
}
.fa-li.fa-lg {
  left: -1.85714286em;
}
.fa-border {
  padding: .2em .25em .15em;
  border: solid 0.08em #eee;
  border-radius: .1em;
}
.fa-pull-left {
  float: left;
}
.fa-pull-right {
  float: right;
}
.fa.fa-pull-left {
  margin-right: .3em;
}
.fa.fa-pull-right {
  margin-left: .3em;
}
/* Deprecated as of 4.4.0 */
.pull-right {
  float: right;
}
.pull-left {
  float: left;
}
.fa.pull-left {
  margin-right: .3em;
}
.fa.pull-right {
  margin-left: .3em;
}
.fa-spin {
  -webkit-animation: fa-spin 2s infinite linear;
  animation: fa-spin 2s infinite linear;
}
.fa-pulse {
  -webkit-animation: fa-spin 1s infinite steps(8);
  animation: fa-spin 1s infinite steps(8);
}
@-webkit-keyframes fa-spin {
  0% {
    -webkit-transform: rotate(0deg);
    transform: rotate(0deg);
  }
  100% {
    -webkit-transform: rotate(359deg);
    transform: rotate(359deg);
  }
}
@keyframes fa-spin {
  0% {
    -webkit-transform: rotate(0deg);
    transform: rotate(0deg);
  }
  100% {
    -webkit-transform: rotate(359deg);
    transform: rotate(359deg);
  }
}
.fa-rotate-90 {
  -ms-filter: "progid:DXImageTransform.Microsoft.BasicImage(rotation=1)";
  -webkit-transform: rotate(90deg);
  -ms-transform: rotate(90deg);
  transform: rotate(90deg);
}
.fa-rotate-180 {
  -ms-filter: "progid:DXImageTransform.Microsoft.BasicImage(rotation=2)";
  -webkit-transform: rotate(180deg);
  -ms-transform: rotate(180deg);
  transform: rotate(180deg);
}
.fa-rotate-270 {
  -ms-filter: "progid:DXImageTransform.Microsoft.BasicImage(rotation=3)";
  -webkit-transform: rotate(270deg);
  -ms-transform: rotate(270deg);
  transform: rotate(270deg);
}
.fa-flip-horizontal {
  -ms-filter: "progid:DXImageTransform.Microsoft.BasicImage(rotation=0, mirror=1)";
  -webkit-transform: scale(-1, 1);
  -ms-transform: scale(-1, 1);
  transform: scale(-1, 1);
}
.fa-flip-vertical {
  -ms-filter: "progid:DXImageTransform.Microsoft.BasicImage(rotation=2, mirror=1)";
  -webkit-transform: scale(1, -1);
  -ms-transform: scale(1, -1);
  transform: scale(1, -1);
}
:root .fa-rotate-90,
:root .fa-rotate-180,
:root .fa-rotate-270,
:root .fa-flip-horizontal,
:root .fa-flip-vertical {
  filter: none;
}
.fa-stack {
  position: relative;
  display: inline-block;
  width: 2em;
  height: 2em;
  line-height: 2em;
  vertical-align: middle;
}
.fa-stack-1x,
.fa-stack-2x {
  position: absolute;
  left: 0;
  width: 100%;
  text-align: center;
}
.fa-stack-1x {
  line-height: inherit;
}
.fa-stack-2x {
  font-size: 2em;
}
.fa-inverse {
  color: #fff;
}
/* Font Awesome uses the Unicode Private Use Area (PUA) to ensure screen
   readers do not read off random characters that represent icons */
.fa-glass:before {
  content: "\f000";
}
.fa-music:before {
  content: "\f001";
}
.fa-search:before {
  content: "\f002";
}
.fa-envelope-o:before {
  content: "\f003";
}
.fa-heart:before {
  content: "\f004";
}
.fa-star:before {
  content: "\f005";
}
.fa-star-o:before {
  content: "\f006";
}
.fa-user:before {
  content: "\f007";
}
.fa-film:before {
  content: "\f008";
}
.fa-th-large:before {
  content: "\f009";
}
.fa-th:before {
  content: "\f00a";
}
.fa-th-list:before {
  content: "\f00b";
}
.fa-check:before {
  content: "\f00c";
}
.fa-remove:before,
.fa-close:before,
.fa-times:before {
  content: "\f00d";
}
.fa-search-plus:before {
  content: "\f00e";
}
.fa-search-minus:before {
  content: "\f010";
}
.fa-power-off:before {
  content: "\f011";
}
.fa-signal:before {
  content: "\f012";
}
.fa-gear:before,
.fa-cog:before {
  content: "\f013";
}
.fa-trash-o:before {
  content: "\f014";
}
.fa-home:before {
  content: "\f015";
}
.fa-file-o:before {
  content: "\f016";
}
.fa-clock-o:before {
  content: "\f017";
}
.fa-road:before {
  content: "\f018";
}
.fa-download:before {
  content: "\f019";
}
.fa-arrow-circle-o-down:before {
  content: "\f01a";
}
.fa-arrow-circle-o-up:before {
  content: "\f01b";
}
.fa-inbox:before {
  content: "\f01c";
}
.fa-play-circle-o:before {
  content: "\f01d";
}
.fa-rotate-right:before,
.fa-repeat:before {
  content: "\f01e";
}
.fa-refresh:before {
  content: "\f021";
}
.fa-list-alt:before {
  content: "\f022";
}
.fa-lock:before {
  content: "\f023";
}
.fa-flag:before {
  content: "\f024";
}
.fa-headphones:before {
  content: "\f025";
}
.fa-volume-off:before {
  content: "\f026";
}
.fa-volume-down:before {
  content: "\f027";
}
.fa-volume-up:before {
  content: "\f028";
}
.fa-qrcode:before {
  content: "\f029";
}
.fa-barcode:before {
  content: "\f02a";
}
.fa-tag:before {
  content: "\f02b";
}
.fa-tags:before {
  content: "\f02c";
}
.fa-book:before {
  content: "\f02d";
}
.fa-bookmark:before {
  content: "\f02e";
}
.fa-print:before {
  content: "\f02f";
}
.fa-camera:before {
  content: "\f030";
}
.fa-font:before {
  content: "\f031";
}
.fa-bold:before {
  content: "\f032";
}
.fa-italic:before {
  content: "\f033";
}
.fa-text-height:before {
  content: "\f034";
}
.fa-text-width:before {
  content: "\f035";
}
.fa-align-left:before {
  content: "\f036";
}
.fa-align-center:before {
  content: "\f037";
}
.fa-align-right:before {
  content: "\f038";
}
.fa-align-justify:before {
  content: "\f039";
}
.fa-list:before {
  content: "\f03a";
}
.fa-dedent:before,
.fa-outdent:before {
  content: "\f03b";
}
.fa-indent:before {
  content: "\f03c";
}
.fa-video-camera:before {
  content: "\f03d";
}
.fa-photo:before,
.fa-image:before,
.fa-picture-o:before {
  content: "\f03e";
}
.fa-pencil:before {
  content: "\f040";
}
.fa-map-marker:before {
  content: "\f041";
}
.fa-adjust:before {
  content: "\f042";
}
.fa-tint:before {
  content: "\f043";
}
.fa-edit:before,
.fa-pencil-square-o:before {
  content: "\f044";
}
.fa-share-square-o:before {
  content: "\f045";
}
.fa-check-square-o:before {
  content: "\f046";
}
.fa-arrows:before {
  content: "\f047";
}
.fa-step-backward:before {
  content: "\f048";
}
.fa-fast-backward:before {
  content: "\f049";
}
.fa-backward:before {
  content: "\f04a";
}
.fa-play:before {
  content: "\f04b";
}
.fa-pause:before {
  content: "\f04c";
}
.fa-stop:before {
  content: "\f04d";
}
.fa-forward:before {
  content: "\f04e";
}
.fa-fast-forward:before {
  content: "\f050";
}
.fa-step-forward:before {
  content: "\f051";
}
.fa-eject:before {
  content: "\f052";
}
.fa-chevron-left:before {
  content: "\f053";
}
.fa-chevron-right:before {
  content: "\f054";
}
.fa-plus-circle:before {
  content: "\f055";
}
.fa-minus-circle:before {
  content: "\f056";
}
.fa-times-circle:before {
  content: "\f057";
}
.fa-check-circle:before {
  content: "\f058";
}
.fa-question-circle:before {
  content: "\f059";
}
.fa-info-circle:before {
  content: "\f05a";
}
.fa-crosshairs:before {
  content: "\f05b";
}
.fa-times-circle-o:before {
  content: "\f05c";
}
.fa-check-circle-o:before {
  content: "\f05d";
}
.fa-ban:before {
  content: "\f05e";
}
.fa-arrow-left:before {
  content: "\f060";
}
.fa-arrow-right:before {
  content: "\f061";
}
.fa-arrow-up:before {
  content: "\f062";
}
.fa-arrow-down:before {
  content: "\f063";
}
.fa-mail-forward:before,
.fa-share:before {
  content: "\f064";
}
.fa-expand:before {
  content: "\f065";
}
.fa-compress:before {
  content: "\f066";
}
.fa-plus:before {
  content: "\f067";
}
.fa-minus:before {
  content: "\f068";
}
.fa-asterisk:before {
  content: "\f069";
}
.fa-exclamation-circle:before {
  content: "\f06a";
}
.fa-gift:before {
  content: "\f06b";
}
.fa-leaf:before {
  content: "\f06c";
}
.fa-fire:before {
  content: "\f06d";
}
.fa-eye:before {
  content: "\f06e";
}
.fa-eye-slash:before {
  content: "\f070";
}
.fa-warning:before,
.fa-exclamation-triangle:before {
  content: "\f071";
}
.fa-plane:before {
  content: "\f072";
}
.fa-calendar:before {
  content: "\f073";
}
.fa-random:before {
  content: "\f074";
}
.fa-comment:before {
  content: "\f075";
}
.fa-magnet:before {
  content: "\f076";
}
.fa-chevron-up:before {
  content: "\f077";
}
.fa-chevron-down:before {
  content: "\f078";
}
.fa-retweet:before {
  content: "\f079";
}
.fa-shopping-cart:before {
  content: "\f07a";
}
.fa-folder:before {
  content: "\f07b";
}
.fa-folder-open:before {
  content: "\f07c";
}
.fa-arrows-v:before {
  content: "\f07d";
}
.fa-arrows-h:before {
  content: "\f07e";
}
.fa-bar-chart-o:before,
.fa-bar-chart:before {
  content: "\f080";
}
.fa-twitter-square:before {
  content: "\f081";
}
.fa-facebook-square:before {
  content: "\f082";
}
.fa-camera-retro:before {
  content: "\f083";
}
.fa-key:before {
  content: "\f084";
}
.fa-gears:before,
.fa-cogs:before {
  content: "\f085";
}
.fa-comments:before {
  content: "\f086";
}
.fa-thumbs-o-up:before {
  content: "\f087";
}
.fa-thumbs-o-down:before {
  content: "\f088";
}
.fa-star-half:before {
  content: "\f089";
}
.fa-heart-o:before {
  content: "\f08a";
}
.fa-sign-out:before {
  content: "\f08b";
}
.fa-linkedin-square:before {
  content: "\f08c";
}
.fa-thumb-tack:before {
  content: "\f08d";
}
.fa-external-link:before {
  content: "\f08e";
}
.fa-sign-in:before {
  content: "\f090";
}
.fa-trophy:before {
  content: "\f091";
}
.fa-github-square:before {
  content: "\f092";
}
.fa-upload:before {
  content: "\f093";
}
.fa-lemon-o:before {
  content: "\f094";
}
.fa-phone:before {
  content: "\f095";
}
.fa-square-o:before {
  content: "\f096";
}
.fa-bookmark-o:before {
  content: "\f097";
}
.fa-phone-square:before {
  content: "\f098";
}
.fa-twitter:before {
  content: "\f099";
}
.fa-facebook-f:before,
.fa-facebook:before {
  content: "\f09a";
}
.fa-github:before {
  content: "\f09b";
}
.fa-unlock:before {
  content: "\f09c";
}
.fa-credit-card:before {
  content: "\f09d";
}
.fa-feed:before,
.fa-rss:before {
  content: "\f09e";
}
.fa-hdd-o:before {
  content: "\f0a0";
}
.fa-bullhorn:before {
  content: "\f0a1";
}
.fa-bell:before {
  content: "\f0f3";
}
.fa-certificate:before {
  content: "\f0a3";
}
.fa-hand-o-right:before {
  content: "\f0a4";
}
.fa-hand-o-left:before {
  content: "\f0a5";
}
.fa-hand-o-up:before {
  content: "\f0a6";
}
.fa-hand-o-down:before {
  content: "\f0a7";
}
.fa-arrow-circle-left:before {
  content: "\f0a8";
}
.fa-arrow-circle-right:before {
  content: "\f0a9";
}
.fa-arrow-circle-up:before {
  content: "\f0aa";
}
.fa-arrow-circle-down:before {
  content: "\f0ab";
}
.fa-globe:before {
  content: "\f0ac";
}
.fa-wrench:before {
  content: "\f0ad";
}
.fa-tasks:before {
  content: "\f0ae";
}
.fa-filter:before {
  content: "\f0b0";
}
.fa-briefcase:before {
  content: "\f0b1";
}
.fa-arrows-alt:before {
  content: "\f0b2";
}
.fa-group:before,
.fa-users:before {
  content: "\f0c0";
}
.fa-chain:before,
.fa-link:before {
  content: "\f0c1";
}
.fa-cloud:before {
  content: "\f0c2";
}
.fa-flask:before {
  content: "\f0c3";
}
.fa-cut:before,
.fa-scissors:before {
  content: "\f0c4";
}
.fa-copy:before,
.fa-files-o:before {
  content: "\f0c5";
}
.fa-paperclip:before {
  content: "\f0c6";
}
.fa-save:before,
.fa-floppy-o:before {
  content: "\f0c7";
}
.fa-square:before {
  content: "\f0c8";
}
.fa-navicon:before,
.fa-reorder:before,
.fa-bars:before {
  content: "\f0c9";
}
.fa-list-ul:before {
  content: "\f0ca";
}
.fa-list-ol:before {
  content: "\f0cb";
}
.fa-strikethrough:before {
  content: "\f0cc";
}
.fa-underline:before {
  content: "\f0cd";
}
.fa-table:before {
  content: "\f0ce";
}
.fa-magic:before {
  content: "\f0d0";
}
.fa-truck:before {
  content: "\f0d1";
}
.fa-pinterest:before {
  content: "\f0d2";
}
.fa-pinterest-square:before {
  content: "\f0d3";
}
.fa-google-plus-square:before {
  content: "\f0d4";
}
.fa-google-plus:before {
  content: "\f0d5";
}
.fa-money:before {
  content: "\f0d6";
}
.fa-caret-down:before {
  content: "\f0d7";
}
.fa-caret-up:before {
  content: "\f0d8";
}
.fa-caret-left:before {
  content: "\f0d9";
}
.fa-caret-right:before {
  content: "\f0da";
}
.fa-columns:before {
  content: "\f0db";
}
.fa-unsorted:before,
.fa-sort:before {
  content: "\f0dc";
}
.fa-sort-down:before,
.fa-sort-desc:before {
  content: "\f0dd";
}
.fa-sort-up:before,
.fa-sort-asc:before {
  content: "\f0de";
}
.fa-envelope:before {
  content: "\f0e0";
}
.fa-linkedin:before {
  content: "\f0e1";
}
.fa-rotate-left:before,
.fa-undo:before {
  content: "\f0e2";
}
.fa-legal:before,
.fa-gavel:before {
  content: "\f0e3";
}
.fa-dashboard:before,
.fa-tachometer:before {
  content: "\f0e4";
}
.fa-comment-o:before {
  content: "\f0e5";
}
.fa-comments-o:before {
  content: "\f0e6";
}
.fa-flash:before,
.fa-bolt:before {
  content: "\f0e7";
}
.fa-sitemap:before {
  content: "\f0e8";
}
.fa-umbrella:before {
  content: "\f0e9";
}
.fa-paste:before,
.fa-clipboard:before {
  content: "\f0ea";
}
.fa-lightbulb-o:before {
  content: "\f0eb";
}
.fa-exchange:before {
  content: "\f0ec";
}
.fa-cloud-download:before {
  content: "\f0ed";
}
.fa-cloud-upload:before {
  content: "\f0ee";
}
.fa-user-md:before {
  content: "\f0f0";
}
.fa-stethoscope:before {
  content: "\f0f1";
}
.fa-suitcase:before {
  content: "\f0f2";
}
.fa-bell-o:before {
  content: "\f0a2";
}
.fa-coffee:before {
  content: "\f0f4";
}
.fa-cutlery:before {
  content: "\f0f5";
}
.fa-file-text-o:before {
  content: "\f0f6";
}
.fa-building-o:before {
  content: "\f0f7";
}
.fa-hospital-o:before {
  content: "\f0f8";
}
.fa-ambulance:before {
  content: "\f0f9";
}
.fa-medkit:before {
  content: "\f0fa";
}
.fa-fighter-jet:before {
  content: "\f0fb";
}
.fa-beer:before {
  content: "\f0fc";
}
.fa-h-square:before {
  content: "\f0fd";
}
.fa-plus-square:before {
  content: "\f0fe";
}
.fa-angle-double-left:before {
  content: "\f100";
}
.fa-angle-double-right:before {
  content: "\f101";
}
.fa-angle-double-up:before {
  content: "\f102";
}
.fa-angle-double-down:before {
  content: "\f103";
}
.fa-angle-left:before {
  content: "\f104";
}
.fa-angle-right:before {
  content: "\f105";
}
.fa-angle-up:before {
  content: "\f106";
}
.fa-angle-down:before {
  content: "\f107";
}
.fa-desktop:before {
  content: "\f108";
}
.fa-laptop:before {
  content: "\f109";
}
.fa-tablet:before {
  content: "\f10a";
}
.fa-mobile-phone:before,
.fa-mobile:before {
  content: "\f10b";
}
.fa-circle-o:before {
  content: "\f10c";
}
.fa-quote-left:before {
  content: "\f10d";
}
.fa-quote-right:before {
  content: "\f10e";
}
.fa-spinner:before {
  content: "\f110";
}
.fa-circle:before {
  content: "\f111";
}
.fa-mail-reply:before,
.fa-reply:before {
  content: "\f112";
}
.fa-github-alt:before {
  content: "\f113";
}
.fa-folder-o:before {
  content: "\f114";
}
.fa-folder-open-o:before {
  content: "\f115";
}
.fa-smile-o:before {
  content: "\f118";
}
.fa-frown-o:before {
  content: "\f119";
}
.fa-meh-o:before {
  content: "\f11a";
}
.fa-gamepad:before {
  content: "\f11b";
}
.fa-keyboard-o:before {
  content: "\f11c";
}
.fa-flag-o:before {
  content: "\f11d";
}
.fa-flag-checkered:before {
  content: "\f11e";
}
.fa-terminal:before {
  content: "\f120";
}
.fa-code:before {
  content: "\f121";
}
.fa-mail-reply-all:before,
.fa-reply-all:before {
  content: "\f122";
}
.fa-star-half-empty:before,
.fa-star-half-full:before,
.fa-star-half-o:before {
  content: "\f123";
}
.fa-location-arrow:before {
  content: "\f124";
}
.fa-crop:before {
  content: "\f125";
}
.fa-code-fork:before {
  content: "\f126";
}
.fa-unlink:before,
.fa-chain-broken:before {
  content: "\f127";
}
.fa-question:before {
  content: "\f128";
}
.fa-info:before {
  content: "\f129";
}
.fa-exclamation:before {
  content: "\f12a";
}
.fa-superscript:before {
  content: "\f12b";
}
.fa-subscript:before {
  content: "\f12c";
}
.fa-eraser:before {
  content: "\f12d";
}
.fa-puzzle-piece:before {
  content: "\f12e";
}
.fa-microphone:before {
  content: "\f130";
}
.fa-microphone-slash:before {
  content: "\f131";
}
.fa-shield:before {
  content: "\f132";
}
.fa-calendar-o:before {
  content: "\f133";
}
.fa-fire-extinguisher:before {
  content: "\f134";
}
.fa-rocket:before {
  content: "\f135";
}
.fa-maxcdn:before {
  content: "\f136";
}
.fa-chevron-circle-left:before {
  content: "\f137";
}
.fa-chevron-circle-right:before {
  content: "\f138";
}
.fa-chevron-circle-up:before {
  content: "\f139";
}
.fa-chevron-circle-down:before {
  content: "\f13a";
}
.fa-html5:before {
  content: "\f13b";
}
.fa-css3:before {
  content: "\f13c";
}
.fa-anchor:before {
  content: "\f13d";
}
.fa-unlock-alt:before {
  content: "\f13e";
}
.fa-bullseye:before {
  content: "\f140";
}
.fa-ellipsis-h:before {
  content: "\f141";
}
.fa-ellipsis-v:before {
  content: "\f142";
}
.fa-rss-square:before {
  content: "\f143";
}
.fa-play-circle:before {
  content: "\f144";
}
.fa-ticket:before {
  content: "\f145";
}
.fa-minus-square:before {
  content: "\f146";
}
.fa-minus-square-o:before {
  content: "\f147";
}
.fa-level-up:before {
  content: "\f148";
}
.fa-level-down:before {
  content: "\f149";
}
.fa-check-square:before {
  content: "\f14a";
}
.fa-pencil-square:before {
  content: "\f14b";
}
.fa-external-link-square:before {
  content: "\f14c";
}
.fa-share-square:before {
  content: "\f14d";
}
.fa-compass:before {
  content: "\f14e";
}
.fa-toggle-down:before,
.fa-caret-square-o-down:before {
  content: "\f150";
}
.fa-toggle-up:before,
.fa-caret-square-o-up:before {
  content: "\f151";
}
.fa-toggle-right:before,
.fa-caret-square-o-right:before {
  content: "\f152";
}
.fa-euro:before,
.fa-eur:before {
  content: "\f153";
}
.fa-gbp:before {
  content: "\f154";
}
.fa-dollar:before,
.fa-usd:before {
  content: "\f155";
}
.fa-rupee:before,
.fa-inr:before {
  content: "\f156";
}
.fa-cny:before,
.fa-rmb:before,
.fa-yen:before,
.fa-jpy:before {
  content: "\f157";
}
.fa-ruble:before,
.fa-rouble:before,
.fa-rub:before {
  content: "\f158";
}
.fa-won:before,
.fa-krw:before {
  content: "\f159";
}
.fa-bitcoin:before,
.fa-btc:before {
  content: "\f15a";
}
.fa-file:before {
  content: "\f15b";
}
.fa-file-text:before {
  content: "\f15c";
}
.fa-sort-alpha-asc:before {
  content: "\f15d";
}
.fa-sort-alpha-desc:before {
  content: "\f15e";
}
.fa-sort-amount-asc:before {
  content: "\f160";
}
.fa-sort-amount-desc:before {
  content: "\f161";
}
.fa-sort-numeric-asc:before {
  content: "\f162";
}
.fa-sort-numeric-desc:before {
  content: "\f163";
}
.fa-thumbs-up:before {
  content: "\f164";
}
.fa-thumbs-down:before {
  content: "\f165";
}
.fa-youtube-square:before {
  content: "\f166";
}
.fa-youtube:before {
  content: "\f167";
}
.fa-xing:before {
  content: "\f168";
}
.fa-xing-square:before {
  content: "\f169";
}
.fa-youtube-play:before {
  content: "\f16a";
}
.fa-dropbox:before {
  content: "\f16b";
}
.fa-stack-overflow:before {
  content: "\f16c";
}
.fa-instagram:before {
  content: "\f16d";
}
.fa-flickr:before {
  content: "\f16e";
}
.fa-adn:before {
  content: "\f170";
}
.fa-bitbucket:before {
  content: "\f171";
}
.fa-bitbucket-square:before {
  content: "\f172";
}
.fa-tumblr:before {
  content: "\f173";
}
.fa-tumblr-square:before {
  content: "\f174";
}
.fa-long-arrow-down:before {
  content: "\f175";
}
.fa-long-arrow-up:before {
  content: "\f176";
}
.fa-long-arrow-left:before {
  content: "\f177";
}
.fa-long-arrow-right:before {
  content: "\f178";
}
.fa-apple:before {
  content: "\f179";
}
.fa-windows:before {
  content: "\f17a";
}
.fa-android:before {
  content: "\f17b";
}
.fa-linux:before {
  content: "\f17c";
}
.fa-dribbble:before {
  content: "\f17d";
}
.fa-skype:before {
  content: "\f17e";
}
.fa-foursquare:before {
  content: "\f180";
}
.fa-trello:before {
  content: "\f181";
}
.fa-female:before {
  content: "\f182";
}
.fa-male:before {
  content: "\f183";
}
.fa-gittip:before,
.fa-gratipay:before {
  content: "\f184";
}
.fa-sun-o:before {
  content: "\f185";
}
.fa-moon-o:before {
  content: "\f186";
}
.fa-archive:before {
  content: "\f187";
}
.fa-bug:before {
  content: "\f188";
}
.fa-vk:before {
  content: "\f189";
}
.fa-weibo:before {
  content: "\f18a";
}
.fa-renren:before {
  content: "\f18b";
}
.fa-pagelines:before {
  content: "\f18c";
}
.fa-stack-exchange:before {
  content: "\f18d";
}
.fa-arrow-circle-o-right:before {
  content: "\f18e";
}
.fa-arrow-circle-o-left:before {
  content: "\f190";
}
.fa-toggle-left:before,
.fa-caret-square-o-left:before {
  content: "\f191";
}
.fa-dot-circle-o:before {
  content: "\f192";
}
.fa-wheelchair:before {
  content: "\f193";
}
.fa-vimeo-square:before {
  content: "\f194";
}
.fa-turkish-lira:before,
.fa-try:before {
  content: "\f195";
}
.fa-plus-square-o:before {
  content: "\f196";
}
.fa-space-shuttle:before {
  content: "\f197";
}
.fa-slack:before {
  content: "\f198";
}
.fa-envelope-square:before {
  content: "\f199";
}
.fa-wordpress:before {
  content: "\f19a";
}
.fa-openid:before {
  content: "\f19b";
}
.fa-institution:before,
.fa-bank:before,
.fa-university:before {
  content: "\f19c";
}
.fa-mortar-board:before,
.fa-graduation-cap:before {
  content: "\f19d";
}
.fa-yahoo:before {
  content: "\f19e";
}
.fa-google:before {
  content: "\f1a0";
}
.fa-reddit:before {
  content: "\f1a1";
}
.fa-reddit-square:before {
  content: "\f1a2";
}
.fa-stumbleupon-circle:before {
  content: "\f1a3";
}
.fa-stumbleupon:before {
  content: "\f1a4";
}
.fa-delicious:before {
  content: "\f1a5";
}
.fa-digg:before {
  content: "\f1a6";
}
.fa-pied-piper-pp:before {
  content: "\f1a7";
}
.fa-pied-piper-alt:before {
  content: "\f1a8";
}
.fa-drupal:before {
  content: "\f1a9";
}
.fa-joomla:before {
  content: "\f1aa";
}
.fa-language:before {
  content: "\f1ab";
}
.fa-fax:before {
  content: "\f1ac";
}
.fa-building:before {
  content: "\f1ad";
}
.fa-child:before {
  content: "\f1ae";
}
.fa-paw:before {
  content: "\f1b0";
}
.fa-spoon:before {
  content: "\f1b1";
}
.fa-cube:before {
  content: "\f1b2";
}
.fa-cubes:before {
  content: "\f1b3";
}
.fa-behance:before {
  content: "\f1b4";
}
.fa-behance-square:before {
  content: "\f1b5";
}
.fa-steam:before {
  content: "\f1b6";
}
.fa-steam-square:before {
  content: "\f1b7";
}
.fa-recycle:before {
  content: "\f1b8";
}
.fa-automobile:before,
.fa-car:before {
  content: "\f1b9";
}
.fa-cab:before,
.fa-taxi:before {
  content: "\f1ba";
}
.fa-tree:before {
  content: "\f1bb";
}
.fa-spotify:before {
  content: "\f1bc";
}
.fa-deviantart:before {
  content: "\f1bd";
}
.fa-soundcloud:before {
  content: "\f1be";
}
.fa-database:before {
  content: "\f1c0";
}
.fa-file-pdf-o:before {
  content: "\f1c1";
}
.fa-file-word-o:before {
  content: "\f1c2";
}
.fa-file-excel-o:before {
  content: "\f1c3";
}
.fa-file-powerpoint-o:before {
  content: "\f1c4";
}
.fa-file-photo-o:before,
.fa-file-picture-o:before,
.fa-file-image-o:before {
  content: "\f1c5";
}
.fa-file-zip-o:before,
.fa-file-archive-o:before {
  content: "\f1c6";
}
.fa-file-sound-o:before,
.fa-file-audio-o:before {
  content: "\f1c7";
}
.fa-file-movie-o:before,
.fa-file-video-o:before {
  content: "\f1c8";
}
.fa-file-code-o:before {
  content: "\f1c9";
}
.fa-vine:before {
  content: "\f1ca";
}
.fa-codepen:before {
  content: "\f1cb";
}
.fa-jsfiddle:before {
  content: "\f1cc";
}
.fa-life-bouy:before,
.fa-life-buoy:before,
.fa-life-saver:before,
.fa-support:before,
.fa-life-ring:before {
  content: "\f1cd";
}
.fa-circle-o-notch:before {
  content: "\f1ce";
}
.fa-ra:before,
.fa-resistance:before,
.fa-rebel:before {
  content: "\f1d0";
}
.fa-ge:before,
.fa-empire:before {
  content: "\f1d1";
}
.fa-git-square:before {
  content: "\f1d2";
}
.fa-git:before {
  content: "\f1d3";
}
.fa-y-combinator-square:before,
.fa-yc-square:before,
.fa-hacker-news:before {
  content: "\f1d4";
}
.fa-tencent-weibo:before {
  content: "\f1d5";
}
.fa-qq:before {
  content: "\f1d6";
}
.fa-wechat:before,
.fa-weixin:before {
  content: "\f1d7";
}
.fa-send:before,
.fa-paper-plane:before {
  content: "\f1d8";
}
.fa-send-o:before,
.fa-paper-plane-o:before {
  content: "\f1d9";
}
.fa-history:before {
  content: "\f1da";
}
.fa-circle-thin:before {
  content: "\f1db";
}
.fa-header:before {
  content: "\f1dc";
}
.fa-paragraph:before {
  content: "\f1dd";
}
.fa-sliders:before {
  content: "\f1de";
}
.fa-share-alt:before {
  content: "\f1e0";
}
.fa-share-alt-square:before {
  content: "\f1e1";
}
.fa-bomb:before {
  content: "\f1e2";
}
.fa-soccer-ball-o:before,
.fa-futbol-o:before {
  content: "\f1e3";
}
.fa-tty:before {
  content: "\f1e4";
}
.fa-binoculars:before {
  content: "\f1e5";
}
.fa-plug:before {
  content: "\f1e6";
}
.fa-slideshare:before {
  content: "\f1e7";
}
.fa-twitch:before {
  content: "\f1e8";
}
.fa-yelp:before {
  content: "\f1e9";
}
.fa-newspaper-o:before {
  content: "\f1ea";
}
.fa-wifi:before {
  content: "\f1eb";
}
.fa-calculator:before {
  content: "\f1ec";
}
.fa-paypal:before {
  content: "\f1ed";
}
.fa-google-wallet:before {
  content: "\f1ee";
}
.fa-cc-visa:before {
  content: "\f1f0";
}
.fa-cc-mastercard:before {
  content: "\f1f1";
}
.fa-cc-discover:before {
  content: "\f1f2";
}
.fa-cc-amex:before {
  content: "\f1f3";
}
.fa-cc-paypal:before {
  content: "\f1f4";
}
.fa-cc-stripe:before {
  content: "\f1f5";
}
.fa-bell-slash:before {
  content: "\f1f6";
}
.fa-bell-slash-o:before {
  content: "\f1f7";
}
.fa-trash:before {
  content: "\f1f8";
}
.fa-copyright:before {
  content: "\f1f9";
}
.fa-at:before {
  content: "\f1fa";
}
.fa-eyedropper:before {
  content: "\f1fb";
}
.fa-paint-brush:before {
  content: "\f1fc";
}
.fa-birthday-cake:before {
  content: "\f1fd";
}
.fa-area-chart:before {
  content: "\f1fe";
}
.fa-pie-chart:before {
  content: "\f200";
}
.fa-line-chart:before {
  content: "\f201";
}
.fa-lastfm:before {
  content: "\f202";
}
.fa-lastfm-square:before {
  content: "\f203";
}
.fa-toggle-off:before {
  content: "\f204";
}
.fa-toggle-on:before {
  content: "\f205";
}
.fa-bicycle:before {
  content: "\f206";
}
.fa-bus:before {
  content: "\f207";
}
.fa-ioxhost:before {
  content: "\f208";
}
.fa-angellist:before {
  content: "\f209";
}
.fa-cc:before {
  content: "\f20a";
}
.fa-shekel:before,
.fa-sheqel:before,
.fa-ils:before {
  content: "\f20b";
}
.fa-meanpath:before {
  content: "\f20c";
}
.fa-buysellads:before {
  content: "\f20d";
}
.fa-connectdevelop:before {
  content: "\f20e";
}
.fa-dashcube:before {
  content: "\f210";
}
.fa-forumbee:before {
  content: "\f211";
}
.fa-leanpub:before {
  content: "\f212";
}
.fa-sellsy:before {
  content: "\f213";
}
.fa-shirtsinbulk:before {
  content: "\f214";
}
.fa-simplybuilt:before {
  content: "\f215";
}
.fa-skyatlas:before {
  content: "\f216";
}
.fa-cart-plus:before {
  content: "\f217";
}
.fa-cart-arrow-down:before {
  content: "\f218";
}
.fa-diamond:before {
  content: "\f219";
}
.fa-ship:before {
  content: "\f21a";
}
.fa-user-secret:before {
  content: "\f21b";
}
.fa-motorcycle:before {
  content: "\f21c";
}
.fa-street-view:before {
  content: "\f21d";
}
.fa-heartbeat:before {
  content: "\f21e";
}
.fa-venus:before {
  content: "\f221";
}
.fa-mars:before {
  content: "\f222";
}
.fa-mercury:before {
  content: "\f223";
}
.fa-intersex:before,
.fa-transgender:before {
  content: "\f224";
}
.fa-transgender-alt:before {
  content: "\f225";
}
.fa-venus-double:before {
  content: "\f226";
}
.fa-mars-double:before {
  content: "\f227";
}
.fa-venus-mars:before {
  content: "\f228";
}
.fa-mars-stroke:before {
  content: "\f229";
}
.fa-mars-stroke-v:before {
  content: "\f22a";
}
.fa-mars-stroke-h:before {
  content: "\f22b";
}
.fa-neuter:before {
  content: "\f22c";
}
.fa-genderless:before {
  content: "\f22d";
}
.fa-facebook-official:before {
  content: "\f230";
}
.fa-pinterest-p:before {
  content: "\f231";
}
.fa-whatsapp:before {
  content: "\f232";
}
.fa-server:before {
  content: "\f233";
}
.fa-user-plus:before {
  content: "\f234";
}
.fa-user-times:before {
  content: "\f235";
}
.fa-hotel:before,
.fa-bed:before {
  content: "\f236";
}
.fa-viacoin:before {
  content: "\f237";
}
.fa-train:before {
  content: "\f238";
}
.fa-subway:before {
  content: "\f239";
}
.fa-medium:before {
  content: "\f23a";
}
.fa-yc:before,
.fa-y-combinator:before {
  content: "\f23b";
}
.fa-optin-monster:before {
  content: "\f23c";
}
.fa-opencart:before {
  content: "\f23d";
}
.fa-expeditedssl:before {
  content: "\f23e";
}
.fa-battery-4:before,
.fa-battery:before,
.fa-battery-full:before {
  content: "\f240";
}
.fa-battery-3:before,
.fa-battery-three-quarters:before {
  content: "\f241";
}
.fa-battery-2:before,
.fa-battery-half:before {
  content: "\f242";
}
.fa-battery-1:before,
.fa-battery-quarter:before {
  content: "\f243";
}
.fa-battery-0:before,
.fa-battery-empty:before {
  content: "\f244";
}
.fa-mouse-pointer:before {
  content: "\f245";
}
.fa-i-cursor:before {
  content: "\f246";
}
.fa-object-group:before {
  content: "\f247";
}
.fa-object-ungroup:before {
  content: "\f248";
}
.fa-sticky-note:before {
  content: "\f249";
}
.fa-sticky-note-o:before {
  content: "\f24a";
}
.fa-cc-jcb:before {
  content: "\f24b";
}
.fa-cc-diners-club:before {
  content: "\f24c";
}
.fa-clone:before {
  content: "\f24d";
}
.fa-balance-scale:before {
  content: "\f24e";
}
.fa-hourglass-o:before {
  content: "\f250";
}
.fa-hourglass-1:before,
.fa-hourglass-start:before {
  content: "\f251";
}
.fa-hourglass-2:before,
.fa-hourglass-half:before {
  content: "\f252";
}
.fa-hourglass-3:before,
.fa-hourglass-end:before {
  content: "\f253";
}
.fa-hourglass:before {
  content: "\f254";
}
.fa-hand-grab-o:before,
.fa-hand-rock-o:before {
  content: "\f255";
}
.fa-hand-stop-o:before,
.fa-hand-paper-o:before {
  content: "\f256";
}
.fa-hand-scissors-o:before {
  content: "\f257";
}
.fa-hand-lizard-o:before {
  content: "\f258";
}
.fa-hand-spock-o:before {
  content: "\f259";
}
.fa-hand-pointer-o:before {
  content: "\f25a";
}
.fa-hand-peace-o:before {
  content: "\f25b";
}
.fa-trademark:before {
  content: "\f25c";
}
.fa-registered:before {
  content: "\f25d";
}
.fa-creative-commons:before {
  content: "\f25e";
}
.fa-gg:before {
  content: "\f260";
}
.fa-gg-circle:before {
  content: "\f261";
}
.fa-tripadvisor:before {
  content: "\f262";
}
.fa-odnoklassniki:before {
  content: "\f263";
}
.fa-odnoklassniki-square:before {
  content: "\f264";
}
.fa-get-pocket:before {
  content: "\f265";
}
.fa-wikipedia-w:before {
  content: "\f266";
}
.fa-safari:before {
  content: "\f267";
}
.fa-chrome:before {
  content: "\f268";
}
.fa-firefox:before {
  content: "\f269";
}
.fa-opera:before {
  content: "\f26a";
}
.fa-internet-explorer:before {
  content: "\f26b";
}
.fa-tv:before,
.fa-television:before {
  content: "\f26c";
}
.fa-contao:before {
  content: "\f26d";
}
.fa-500px:before {
  content: "\f26e";
}
.fa-amazon:before {
  content: "\f270";
}
.fa-calendar-plus-o:before {
  content: "\f271";
}
.fa-calendar-minus-o:before {
  content: "\f272";
}
.fa-calendar-times-o:before {
  content: "\f273";
}
.fa-calendar-check-o:before {
  content: "\f274";
}
.fa-industry:before {
  content: "\f275";
}
.fa-map-pin:before {
  content: "\f276";
}
.fa-map-signs:before {
  content: "\f277";
}
.fa-map-o:before {
  content: "\f278";
}
.fa-map:before {
  content: "\f279";
}
.fa-commenting:before {
  content: "\f27a";
}
.fa-commenting-o:before {
  content: "\f27b";
}
.fa-houzz:before {
  content: "\f27c";
}
.fa-vimeo:before {
  content: "\f27d";
}
.fa-black-tie:before {
  content: "\f27e";
}
.fa-fonticons:before {
  content: "\f280";
}
.fa-reddit-alien:before {
  content: "\f281";
}
.fa-edge:before {
  content: "\f282";
}
.fa-credit-card-alt:before {
  content: "\f283";
}
.fa-codiepie:before {
  content: "\f284";
}
.fa-modx:before {
  content: "\f285";
}
.fa-fort-awesome:before {
  content: "\f286";
}
.fa-usb:before {
  content: "\f287";
}
.fa-product-hunt:before {
  content: "\f288";
}
.fa-mixcloud:before {
  content: "\f289";
}
.fa-scribd:before {
  content: "\f28a";
}
.fa-pause-circle:before {
  content: "\f28b";
}
.fa-pause-circle-o:before {
  content: "\f28c";
}
.fa-stop-circle:before {
  content: "\f28d";
}
.fa-stop-circle-o:before {
  content: "\f28e";
}
.fa-shopping-bag:before {
  content: "\f290";
}
.fa-shopping-basket:before {
  content: "\f291";
}
.fa-hashtag:before {
  content: "\f292";
}
.fa-bluetooth:before {
  content: "\f293";
}
.fa-bluetooth-b:before {
  content: "\f294";
}
.fa-percent:before {
  content: "\f295";
}
.fa-gitlab:before {
  content: "\f296";
}
.fa-wpbeginner:before {
  content: "\f297";
}
.fa-wpforms:before {
  content: "\f298";
}
.fa-envira:before {
  content: "\f299";
}
.fa-universal-access:before {
  content: "\f29a";
}
.fa-wheelchair-alt:before {
  content: "\f29b";
}
.fa-question-circle-o:before {
  content: "\f29c";
}
.fa-blind:before {
  content: "\f29d";
}
.fa-audio-description:before {
  content: "\f29e";
}
.fa-volume-control-phone:before {
  content: "\f2a0";
}
.fa-braille:before {
  content: "\f2a1";
}
.fa-assistive-listening-systems:before {
  content: "\f2a2";
}
.fa-asl-interpreting:before,
.fa-american-sign-language-interpreting:before {
  content: "\f2a3";
}
.fa-deafness:before,
.fa-hard-of-hearing:before,
.fa-deaf:before {
  content: "\f2a4";
}
.fa-glide:before {
  content: "\f2a5";
}
.fa-glide-g:before {
  content: "\f2a6";
}
.fa-signing:before,
.fa-sign-language:before {
  content: "\f2a7";
}
.fa-low-vision:before {
  content: "\f2a8";
}
.fa-viadeo:before {
  content: "\f2a9";
}
.fa-viadeo-square:before {
  content: "\f2aa";
}
.fa-snapchat:before {
  content: "\f2ab";
}
.fa-snapchat-ghost:before {
  content: "\f2ac";
}
.fa-snapchat-square:before {
  content: "\f2ad";
}
.fa-pied-piper:before {
  content: "\f2ae";
}
.fa-first-order:before {
  content: "\f2b0";
}
.fa-yoast:before {
  content: "\f2b1";
}
.fa-themeisle:before {
  content: "\f2b2";
}
.fa-google-plus-circle:before,
.fa-google-plus-official:before {
  content: "\f2b3";
}
.fa-fa:before,
.fa-font-awesome:before {
  content: "\f2b4";
}
.fa-handshake-o:before {
  content: "\f2b5";
}
.fa-envelope-open:before {
  content: "\f2b6";
}
.fa-envelope-open-o:before {
  content: "\f2b7";
}
.fa-linode:before {
  content: "\f2b8";
}
.fa-address-book:before {
  content: "\f2b9";
}
.fa-address-book-o:before {
  content: "\f2ba";
}
.fa-vcard:before,
.fa-address-card:before {
  content: "\f2bb";
}
.fa-vcard-o:before,
.fa-address-card-o:before {
  content: "\f2bc";
}
.fa-user-circle:before {
  content: "\f2bd";
}
.fa-user-circle-o:before {
  content: "\f2be";
}
.fa-user-o:before {
  content: "\f2c0";
}
.fa-id-badge:before {
  content: "\f2c1";
}
.fa-drivers-license:before,
.fa-id-card:before {
  content: "\f2c2";
}
.fa-drivers-license-o:before,
.fa-id-card-o:before {
  content: "\f2c3";
}
.fa-quora:before {
  content: "\f2c4";
}
.fa-free-code-camp:before {
  content: "\f2c5";
}
.fa-telegram:before {
  content: "\f2c6";
}
.fa-thermometer-4:before,
.fa-thermometer:before,
.fa-thermometer-full:before {
  content: "\f2c7";
}
.fa-thermometer-3:before,
.fa-thermometer-three-quarters:before {
  content: "\f2c8";
}
.fa-thermometer-2:before,
.fa-thermometer-half:before {
  content: "\f2c9";
}
.fa-thermometer-1:before,
.fa-thermometer-quarter:before {
  content: "\f2ca";
}
.fa-thermometer-0:before,
.fa-thermometer-empty:before {
  content: "\f2cb";
}
.fa-shower:before {
  content: "\f2cc";
}
.fa-bathtub:before,
.fa-s15:before,
.fa-bath:before {
  content: "\f2cd";
}
.fa-podcast:before {
  content: "\f2ce";
}
.fa-window-maximize:before {
  content: "\f2d0";
}
.fa-window-minimize:before {
  content: "\f2d1";
}
.fa-window-restore:before {
  content: "\f2d2";
}
.fa-times-rectangle:before,
.fa-window-close:before {
  content: "\f2d3";
}
.fa-times-rectangle-o:before,
.fa-window-close-o:before {
  content: "\f2d4";
}
.fa-bandcamp:before {
  content: "\f2d5";
}
.fa-grav:before {
  content: "\f2d6";
}
.fa-etsy:before {
  content: "\f2d7";
}
.fa-imdb:before {
  content: "\f2d8";
}
.fa-ravelry:before {
  content: "\f2d9";
}
.fa-eercast:before {
  content: "\f2da";
}
.fa-microchip:before {
  content: "\f2db";
}
.fa-snowflake-o:before {
  content: "\f2dc";
}
.fa-superpowers:before {
  content: "\f2dd";
}
.fa-wpexplorer:before {
  content: "\f2de";
}
.fa-meetup:before {
  content: "\f2e0";
}
.sr-only {
  position: absolute;
  width: 1px;
  height: 1px;
  padding: 0;
  margin: -1px;
  overflow: hidden;
  clip: rect(0, 0, 0, 0);
  border: 0;
}
.sr-only-focusable:active,
.sr-only-focusable:focus {
  position: static;
  width: auto;
  height: auto;
  margin: 0;
  overflow: visible;
  clip: auto;
}
.sr-only-focusable:active,
.sr-only-focusable:focus {
  position: static;
  width: auto;
  height: auto;
  margin: 0;
  overflow: visible;
  clip: auto;
}
/*!
*
* IPython base
*
*/
.modal.fade .modal-dialog {
  -webkit-transform: translate(0, 0);
  -ms-transform: translate(0, 0);
  -o-transform: translate(0, 0);
  transform: translate(0, 0);
}
code {
  color: #000;
}
pre {
  font-size: inherit;
  line-height: inherit;
}
label {
  font-weight: normal;
}
/* Make the page background atleast 100% the height of the view port */
/* Make the page itself atleast 70% the height of the view port */
.border-box-sizing {
  box-sizing: border-box;
  -moz-box-sizing: border-box;
  -webkit-box-sizing: border-box;
}
.corner-all {
  border-radius: 2px;
}
.no-padding {
  padding: 0px;
}
/* Flexible box model classes */
/* Taken from Alex Russell http://infrequently.org/2009/08/css-3-progress/ */
/* This file is a compatability layer.  It allows the usage of flexible box 
model layouts accross multiple browsers, including older browsers.  The newest,
universal implementation of the flexible box model is used when available (see
`Modern browsers` comments below).  Browsers that are known to implement this 
new spec completely include:

    Firefox 28.0+
    Chrome 29.0+
    Internet Explorer 11+ 
    Opera 17.0+

Browsers not listed, including Safari, are supported via the styling under the
`Old browsers` comments below.
*/
.hbox {
  /* Old browsers */
  display: -webkit-box;
  -webkit-box-orient: horizontal;
  -webkit-box-align: stretch;
  display: -moz-box;
  -moz-box-orient: horizontal;
  -moz-box-align: stretch;
  display: box;
  box-orient: horizontal;
  box-align: stretch;
  /* Modern browsers */
  display: flex;
  flex-direction: row;
  align-items: stretch;
}
.hbox > * {
  /* Old browsers */
  -webkit-box-flex: 0;
  -moz-box-flex: 0;
  box-flex: 0;
  /* Modern browsers */
  flex: none;
}
.vbox {
  /* Old browsers */
  display: -webkit-box;
  -webkit-box-orient: vertical;
  -webkit-box-align: stretch;
  display: -moz-box;
  -moz-box-orient: vertical;
  -moz-box-align: stretch;
  display: box;
  box-orient: vertical;
  box-align: stretch;
  /* Modern browsers */
  display: flex;
  flex-direction: column;
  align-items: stretch;
}
.vbox > * {
  /* Old browsers */
  -webkit-box-flex: 0;
  -moz-box-flex: 0;
  box-flex: 0;
  /* Modern browsers */
  flex: none;
}
.hbox.reverse,
.vbox.reverse,
.reverse {
  /* Old browsers */
  -webkit-box-direction: reverse;
  -moz-box-direction: reverse;
  box-direction: reverse;
  /* Modern browsers */
  flex-direction: row-reverse;
}
.hbox.box-flex0,
.vbox.box-flex0,
.box-flex0 {
  /* Old browsers */
  -webkit-box-flex: 0;
  -moz-box-flex: 0;
  box-flex: 0;
  /* Modern browsers */
  flex: none;
  width: auto;
}
.hbox.box-flex1,
.vbox.box-flex1,
.box-flex1 {
  /* Old browsers */
  -webkit-box-flex: 1;
  -moz-box-flex: 1;
  box-flex: 1;
  /* Modern browsers */
  flex: 1;
}
.hbox.box-flex,
.vbox.box-flex,
.box-flex {
  /* Old browsers */
  /* Old browsers */
  -webkit-box-flex: 1;
  -moz-box-flex: 1;
  box-flex: 1;
  /* Modern browsers */
  flex: 1;
}
.hbox.box-flex2,
.vbox.box-flex2,
.box-flex2 {
  /* Old browsers */
  -webkit-box-flex: 2;
  -moz-box-flex: 2;
  box-flex: 2;
  /* Modern browsers */
  flex: 2;
}
.box-group1 {
  /*  Deprecated */
  -webkit-box-flex-group: 1;
  -moz-box-flex-group: 1;
  box-flex-group: 1;
}
.box-group2 {
  /* Deprecated */
  -webkit-box-flex-group: 2;
  -moz-box-flex-group: 2;
  box-flex-group: 2;
}
.hbox.start,
.vbox.start,
.start {
  /* Old browsers */
  -webkit-box-pack: start;
  -moz-box-pack: start;
  box-pack: start;
  /* Modern browsers */
  justify-content: flex-start;
}
.hbox.end,
.vbox.end,
.end {
  /* Old browsers */
  -webkit-box-pack: end;
  -moz-box-pack: end;
  box-pack: end;
  /* Modern browsers */
  justify-content: flex-end;
}
.hbox.center,
.vbox.center,
.center {
  /* Old browsers */
  -webkit-box-pack: center;
  -moz-box-pack: center;
  box-pack: center;
  /* Modern browsers */
  justify-content: center;
}
.hbox.baseline,
.vbox.baseline,
.baseline {
  /* Old browsers */
  -webkit-box-pack: baseline;
  -moz-box-pack: baseline;
  box-pack: baseline;
  /* Modern browsers */
  justify-content: baseline;
}
.hbox.stretch,
.vbox.stretch,
.stretch {
  /* Old browsers */
  -webkit-box-pack: stretch;
  -moz-box-pack: stretch;
  box-pack: stretch;
  /* Modern browsers */
  justify-content: stretch;
}
.hbox.align-start,
.vbox.align-start,
.align-start {
  /* Old browsers */
  -webkit-box-align: start;
  -moz-box-align: start;
  box-align: start;
  /* Modern browsers */
  align-items: flex-start;
}
.hbox.align-end,
.vbox.align-end,
.align-end {
  /* Old browsers */
  -webkit-box-align: end;
  -moz-box-align: end;
  box-align: end;
  /* Modern browsers */
  align-items: flex-end;
}
.hbox.align-center,
.vbox.align-center,
.align-center {
  /* Old browsers */
  -webkit-box-align: center;
  -moz-box-align: center;
  box-align: center;
  /* Modern browsers */
  align-items: center;
}
.hbox.align-baseline,
.vbox.align-baseline,
.align-baseline {
  /* Old browsers */
  -webkit-box-align: baseline;
  -moz-box-align: baseline;
  box-align: baseline;
  /* Modern browsers */
  align-items: baseline;
}
.hbox.align-stretch,
.vbox.align-stretch,
.align-stretch {
  /* Old browsers */
  -webkit-box-align: stretch;
  -moz-box-align: stretch;
  box-align: stretch;
  /* Modern browsers */
  align-items: stretch;
}
div.error {
  margin: 2em;
  text-align: center;
}
div.error > h1 {
  font-size: 500%;
  line-height: normal;
}
div.error > p {
  font-size: 200%;
  line-height: normal;
}
div.traceback-wrapper {
  text-align: left;
  max-width: 800px;
  margin: auto;
}
div.traceback-wrapper pre.traceback {
  max-height: 600px;
  overflow: auto;
}
/**
 * Primary styles
 *
 * Author: Jupyter Development Team
 */
body {
  background-color: #fff;
  /* This makes sure that the body covers the entire window and needs to
       be in a different element than the display: box in wrapper below */
  position: absolute;
  left: 0px;
  right: 0px;
  top: 0px;
  bottom: 0px;
  overflow: visible;
}
body > #header {
  /* Initially hidden to prevent FLOUC */
  display: none;
  background-color: #fff;
  /* Display over codemirror */
  position: relative;
  z-index: 100;
}
body > #header #header-container {
  display: flex;
  flex-direction: row;
  justify-content: space-between;
  padding: 5px;
  padding-bottom: 5px;
  padding-top: 5px;
  box-sizing: border-box;
  -moz-box-sizing: border-box;
  -webkit-box-sizing: border-box;
}
body > #header .header-bar {
  width: 100%;
  height: 1px;
  background: #e7e7e7;
  margin-bottom: -1px;
}
@media print {
  body > #header {
    display: none !important;
  }
}
#header-spacer {
  width: 100%;
  visibility: hidden;
}
@media print {
  #header-spacer {
    display: none;
  }
}
#ipython_notebook {
  padding-left: 0px;
  padding-top: 1px;
  padding-bottom: 1px;
}
[dir="rtl"] #ipython_notebook {
  margin-right: 10px;
  margin-left: 0;
}
[dir="rtl"] #ipython_notebook.pull-left {
  float: right !important;
  float: right;
}
.flex-spacer {
  flex: 1;
}
#noscript {
  width: auto;
  padding-top: 16px;
  padding-bottom: 16px;
  text-align: center;
  font-size: 22px;
  color: red;
  font-weight: bold;
}
#ipython_notebook img {
  height: 28px;
}
#site {
  width: 100%;
  display: none;
  box-sizing: border-box;
  -moz-box-sizing: border-box;
  -webkit-box-sizing: border-box;
  overflow: auto;
}
@media print {
  #site {
    height: auto !important;
  }
}
/* Smaller buttons */
.ui-button .ui-button-text {
  padding: 0.2em 0.8em;
  font-size: 77%;
}
input.ui-button {
  padding: 0.3em 0.9em;
}
span#kernel_logo_widget {
  margin: 0 10px;
}
span#login_widget {
  float: right;
}
[dir="rtl"] span#login_widget {
  float: left;
}
span#login_widget > .button,
#logout {
  color: #333;
  background-color: #fff;
  border-color: #ccc;
}
span#login_widget > .button:focus,
#logout:focus,
span#login_widget > .button.focus,
#logout.focus {
  color: #333;
  background-color: #e6e6e6;
  border-color: #8c8c8c;
}
span#login_widget > .button:hover,
#logout:hover {
  color: #333;
  background-color: #e6e6e6;
  border-color: #adadad;
}
span#login_widget > .button:active,
#logout:active,
span#login_widget > .button.active,
#logout.active,
.open > .dropdown-togglespan#login_widget > .button,
.open > .dropdown-toggle#logout {
  color: #333;
  background-color: #e6e6e6;
  border-color: #adadad;
}
span#login_widget > .button:active:hover,
#logout:active:hover,
span#login_widget > .button.active:hover,
#logout.active:hover,
.open > .dropdown-togglespan#login_widget > .button:hover,
.open > .dropdown-toggle#logout:hover,
span#login_widget > .button:active:focus,
#logout:active:focus,
span#login_widget > .button.active:focus,
#logout.active:focus,
.open > .dropdown-togglespan#login_widget > .button:focus,
.open > .dropdown-toggle#logout:focus,
span#login_widget > .button:active.focus,
#logout:active.focus,
span#login_widget > .button.active.focus,
#logout.active.focus,
.open > .dropdown-togglespan#login_widget > .button.focus,
.open > .dropdown-toggle#logout.focus {
  color: #333;
  background-color: #d4d4d4;
  border-color: #8c8c8c;
}
span#login_widget > .button:active,
#logout:active,
span#login_widget > .button.active,
#logout.active,
.open > .dropdown-togglespan#login_widget > .button,
.open > .dropdown-toggle#logout {
  background-image: none;
}
span#login_widget > .button.disabled:hover,
#logout.disabled:hover,
span#login_widget > .button[disabled]:hover,
#logout[disabled]:hover,
fieldset[disabled] span#login_widget > .button:hover,
fieldset[disabled] #logout:hover,
span#login_widget > .button.disabled:focus,
#logout.disabled:focus,
span#login_widget > .button[disabled]:focus,
#logout[disabled]:focus,
fieldset[disabled] span#login_widget > .button:focus,
fieldset[disabled] #logout:focus,
span#login_widget > .button.disabled.focus,
#logout.disabled.focus,
span#login_widget > .button[disabled].focus,
#logout[disabled].focus,
fieldset[disabled] span#login_widget > .button.focus,
fieldset[disabled] #logout.focus {
  background-color: #fff;
  border-color: #ccc;
}
span#login_widget > .button .badge,
#logout .badge {
  color: #fff;
  background-color: #333;
}
.nav-header {
  text-transform: none;
}
#header > span {
  margin-top: 10px;
}
.modal_stretch .modal-dialog {
  /* Old browsers */
  display: -webkit-box;
  -webkit-box-orient: vertical;
  -webkit-box-align: stretch;
  display: -moz-box;
  -moz-box-orient: vertical;
  -moz-box-align: stretch;
  display: box;
  box-orient: vertical;
  box-align: stretch;
  /* Modern browsers */
  display: flex;
  flex-direction: column;
  align-items: stretch;
  min-height: 80vh;
}
.modal_stretch .modal-dialog .modal-body {
  max-height: calc(100vh - 200px);
  overflow: auto;
  flex: 1;
}
.modal-header {
  cursor: move;
}
@media (min-width: 768px) {
  .modal .modal-dialog {
    width: 700px;
  }
}
@media (min-width: 768px) {
  select.form-control {
    margin-left: 12px;
    margin-right: 12px;
  }
}
/*!
*
* IPython auth
*
*/
.center-nav {
  display: inline-block;
  margin-bottom: -4px;
}
[dir="rtl"] .center-nav form.pull-left {
  float: right !important;
  float: right;
}
[dir="rtl"] .center-nav .navbar-text {
  float: right;
}
[dir="rtl"] .navbar-inner {
  text-align: right;
}
[dir="rtl"] div.text-left {
  text-align: right;
}
/*!
*
* IPython tree view
*
*/
/* We need an invisible input field on top of the sentense*/
/* "Drag file onto the list ..." */
.alternate_upload {
  background-color: none;
  display: inline;
}
.alternate_upload.form {
  padding: 0;
  margin: 0;
}
.alternate_upload input.fileinput {
  position: absolute;
  display: block;
  width: 100%;
  height: 100%;
  overflow: hidden;
  cursor: pointer;
  opacity: 0;
  z-index: 2;
}
.alternate_upload .btn-xs > input.fileinput {
  margin: -1px -5px;
}
.alternate_upload .btn-upload {
  position: relative;
  height: 22px;
}
::-webkit-file-upload-button {
  cursor: pointer;
}
/**
 * Primary styles
 *
 * Author: Jupyter Development Team
 */
ul#tabs {
  margin-bottom: 4px;
}
ul#tabs a {
  padding-top: 6px;
  padding-bottom: 4px;
}
[dir="rtl"] ul#tabs.nav-tabs > li {
  float: right;
}
[dir="rtl"] ul#tabs.nav.nav-tabs {
  padding-right: 0;
}
ul.breadcrumb a:focus,
ul.breadcrumb a:hover {
  text-decoration: none;
}
ul.breadcrumb i.icon-home {
  font-size: 16px;
  margin-right: 4px;
}
ul.breadcrumb span {
  color: #5e5e5e;
}
.list_toolbar {
  padding: 4px 0 4px 0;
  vertical-align: middle;
}
.list_toolbar .tree-buttons {
  padding-top: 1px;
}
[dir="rtl"] .list_toolbar .tree-buttons .pull-right {
  float: left !important;
  float: left;
}
[dir="rtl"] .list_toolbar .col-sm-4,
[dir="rtl"] .list_toolbar .col-sm-8 {
  float: right;
}
.dynamic-buttons {
  padding-top: 3px;
  display: inline-block;
}
.list_toolbar [class*="span"] {
  min-height: 24px;
}
.list_header {
  font-weight: bold;
  background-color: #EEE;
}
.list_placeholder {
  font-weight: bold;
  padding-top: 4px;
  padding-bottom: 4px;
  padding-left: 7px;
  padding-right: 7px;
}
.list_container {
  margin-top: 4px;
  margin-bottom: 20px;
  border: 1px solid #ddd;
  border-radius: 2px;
}
.list_container > div {
  border-bottom: 1px solid #ddd;
}
.list_container > div:hover .list-item {
  background-color: red;
}
.list_container > div:last-child {
  border: none;
}
.list_item:hover .list_item {
  background-color: #ddd;
}
.list_item a {
  text-decoration: none;
}
.list_item:hover {
  background-color: #fafafa;
}
.list_header > div,
.list_item > div {
  padding-top: 4px;
  padding-bottom: 4px;
  padding-left: 7px;
  padding-right: 7px;
  line-height: 22px;
}
.list_header > div input,
.list_item > div input {
  margin-right: 7px;
  margin-left: 14px;
  vertical-align: text-bottom;
  line-height: 22px;
  position: relative;
  top: -1px;
}
.list_header > div .item_link,
.list_item > div .item_link {
  margin-left: -1px;
  vertical-align: baseline;
  line-height: 22px;
}
[dir="rtl"] .list_item > div input {
  margin-right: 0;
}
.new-file input[type=checkbox] {
  visibility: hidden;
}
.item_name {
  line-height: 22px;
  height: 24px;
}
.item_icon {
  font-size: 14px;
  color: #5e5e5e;
  margin-right: 7px;
  margin-left: 7px;
  line-height: 22px;
  vertical-align: baseline;
}
.item_modified {
  margin-right: 7px;
  margin-left: 7px;
}
[dir="rtl"] .item_modified.pull-right {
  float: left !important;
  float: left;
}
.item_buttons {
  line-height: 1em;
  margin-left: -5px;
}
.item_buttons .btn,
.item_buttons .btn-group,
.item_buttons .input-group {
  float: left;
}
.item_buttons > .btn,
.item_buttons > .btn-group,
.item_buttons > .input-group {
  margin-left: 5px;
}
.item_buttons .btn {
  min-width: 13ex;
}
.item_buttons .running-indicator {
  padding-top: 4px;
  color: #5cb85c;
}
.item_buttons .kernel-name {
  padding-top: 4px;
  color: #5bc0de;
  margin-right: 7px;
  float: left;
}
[dir="rtl"] .item_buttons.pull-right {
  float: left !important;
  float: left;
}
[dir="rtl"] .item_buttons .kernel-name {
  margin-left: 7px;
  float: right;
}
.toolbar_info {
  height: 24px;
  line-height: 24px;
}
.list_item input:not([type=checkbox]) {
  padding-top: 3px;
  padding-bottom: 3px;
  height: 22px;
  line-height: 14px;
  margin: 0px;
}
.highlight_text {
  color: blue;
}
#project_name {
  display: inline-block;
  padding-left: 7px;
  margin-left: -2px;
}
#project_name > .breadcrumb {
  padding: 0px;
  margin-bottom: 0px;
  background-color: transparent;
  font-weight: bold;
}
.sort_button {
  display: inline-block;
  padding-left: 7px;
}
[dir="rtl"] .sort_button.pull-right {
  float: left !important;
  float: left;
}
#tree-selector {
  padding-right: 0px;
}
#button-select-all {
  min-width: 50px;
}
[dir="rtl"] #button-select-all.btn {
  float: right ;
}
#select-all {
  margin-left: 7px;
  margin-right: 2px;
  margin-top: 2px;
  height: 16px;
}
[dir="rtl"] #select-all.pull-left {
  float: right !important;
  float: right;
}
.menu_icon {
  margin-right: 2px;
}
.tab-content .row {
  margin-left: 0px;
  margin-right: 0px;
}
.folder_icon:before {
  display: inline-block;
  font: normal normal normal 14px/1 FontAwesome;
  font-size: inherit;
  text-rendering: auto;
  -webkit-font-smoothing: antialiased;
  -moz-osx-font-smoothing: grayscale;
  content: "\f114";
}
.folder_icon:before.fa-pull-left {
  margin-right: .3em;
}
.folder_icon:before.fa-pull-right {
  margin-left: .3em;
}
.folder_icon:before.pull-left {
  margin-right: .3em;
}
.folder_icon:before.pull-right {
  margin-left: .3em;
}
.notebook_icon:before {
  display: inline-block;
  font: normal normal normal 14px/1 FontAwesome;
  font-size: inherit;
  text-rendering: auto;
  -webkit-font-smoothing: antialiased;
  -moz-osx-font-smoothing: grayscale;
  content: "\f02d";
  position: relative;
  top: -1px;
}
.notebook_icon:before.fa-pull-left {
  margin-right: .3em;
}
.notebook_icon:before.fa-pull-right {
  margin-left: .3em;
}
.notebook_icon:before.pull-left {
  margin-right: .3em;
}
.notebook_icon:before.pull-right {
  margin-left: .3em;
}
.running_notebook_icon:before {
  display: inline-block;
  font: normal normal normal 14px/1 FontAwesome;
  font-size: inherit;
  text-rendering: auto;
  -webkit-font-smoothing: antialiased;
  -moz-osx-font-smoothing: grayscale;
  content: "\f02d";
  position: relative;
  top: -1px;
  color: #5cb85c;
}
.running_notebook_icon:before.fa-pull-left {
  margin-right: .3em;
}
.running_notebook_icon:before.fa-pull-right {
  margin-left: .3em;
}
.running_notebook_icon:before.pull-left {
  margin-right: .3em;
}
.running_notebook_icon:before.pull-right {
  margin-left: .3em;
}
.file_icon:before {
  display: inline-block;
  font: normal normal normal 14px/1 FontAwesome;
  font-size: inherit;
  text-rendering: auto;
  -webkit-font-smoothing: antialiased;
  -moz-osx-font-smoothing: grayscale;
  content: "\f016";
  position: relative;
  top: -2px;
}
.file_icon:before.fa-pull-left {
  margin-right: .3em;
}
.file_icon:before.fa-pull-right {
  margin-left: .3em;
}
.file_icon:before.pull-left {
  margin-right: .3em;
}
.file_icon:before.pull-right {
  margin-left: .3em;
}
#notebook_toolbar .pull-right {
  padding-top: 0px;
  margin-right: -1px;
}
ul#new-menu {
  left: auto;
  right: 0;
}
#new-menu .dropdown-header {
  font-size: 10px;
  border-bottom: 1px solid #e5e5e5;
  padding: 0 0 3px;
  margin: -3px 20px 0;
}
.kernel-menu-icon {
  padding-right: 12px;
  width: 24px;
  content: "\f096";
}
.kernel-menu-icon:before {
  content: "\f096";
}
.kernel-menu-icon-current:before {
  content: "\f00c";
}
#tab_content {
  padding-top: 20px;
}
#running .panel-group .panel {
  margin-top: 3px;
  margin-bottom: 1em;
}
#running .panel-group .panel .panel-heading {
  background-color: #EEE;
  padding-top: 4px;
  padding-bottom: 4px;
  padding-left: 7px;
  padding-right: 7px;
  line-height: 22px;
}
#running .panel-group .panel .panel-heading a:focus,
#running .panel-group .panel .panel-heading a:hover {
  text-decoration: none;
}
#running .panel-group .panel .panel-body {
  padding: 0px;
}
#running .panel-group .panel .panel-body .list_container {
  margin-top: 0px;
  margin-bottom: 0px;
  border: 0px;
  border-radius: 0px;
}
#running .panel-group .panel .panel-body .list_container .list_item {
  border-bottom: 1px solid #ddd;
}
#running .panel-group .panel .panel-body .list_container .list_item:last-child {
  border-bottom: 0px;
}
.delete-button {
  display: none;
}
.duplicate-button {
  display: none;
}
.rename-button {
  display: none;
}
.move-button {
  display: none;
}
.download-button {
  display: none;
}
.shutdown-button {
  display: none;
}
.dynamic-instructions {
  display: inline-block;
  padding-top: 4px;
}
/*!
*
* IPython text editor webapp
*
*/
.selected-keymap i.fa {
  padding: 0px 5px;
}
.selected-keymap i.fa:before {
  content: "\f00c";
}
#mode-menu {
  overflow: auto;
  max-height: 20em;
}
.edit_app #header {
  -webkit-box-shadow: 0px 0px 12px 1px rgba(87, 87, 87, 0.2);
  box-shadow: 0px 0px 12px 1px rgba(87, 87, 87, 0.2);
}
.edit_app #menubar .navbar {
  /* Use a negative 1 bottom margin, so the border overlaps the border of the
    header */
  margin-bottom: -1px;
}
.dirty-indicator {
  display: inline-block;
  font: normal normal normal 14px/1 FontAwesome;
  font-size: inherit;
  text-rendering: auto;
  -webkit-font-smoothing: antialiased;
  -moz-osx-font-smoothing: grayscale;
  width: 20px;
}
.dirty-indicator.fa-pull-left {
  margin-right: .3em;
}
.dirty-indicator.fa-pull-right {
  margin-left: .3em;
}
.dirty-indicator.pull-left {
  margin-right: .3em;
}
.dirty-indicator.pull-right {
  margin-left: .3em;
}
.dirty-indicator-dirty {
  display: inline-block;
  font: normal normal normal 14px/1 FontAwesome;
  font-size: inherit;
  text-rendering: auto;
  -webkit-font-smoothing: antialiased;
  -moz-osx-font-smoothing: grayscale;
  width: 20px;
}
.dirty-indicator-dirty.fa-pull-left {
  margin-right: .3em;
}
.dirty-indicator-dirty.fa-pull-right {
  margin-left: .3em;
}
.dirty-indicator-dirty.pull-left {
  margin-right: .3em;
}
.dirty-indicator-dirty.pull-right {
  margin-left: .3em;
}
.dirty-indicator-clean {
  display: inline-block;
  font: normal normal normal 14px/1 FontAwesome;
  font-size: inherit;
  text-rendering: auto;
  -webkit-font-smoothing: antialiased;
  -moz-osx-font-smoothing: grayscale;
  width: 20px;
}
.dirty-indicator-clean.fa-pull-left {
  margin-right: .3em;
}
.dirty-indicator-clean.fa-pull-right {
  margin-left: .3em;
}
.dirty-indicator-clean.pull-left {
  margin-right: .3em;
}
.dirty-indicator-clean.pull-right {
  margin-left: .3em;
}
.dirty-indicator-clean:before {
  display: inline-block;
  font: normal normal normal 14px/1 FontAwesome;
  font-size: inherit;
  text-rendering: auto;
  -webkit-font-smoothing: antialiased;
  -moz-osx-font-smoothing: grayscale;
  content: "\f00c";
}
.dirty-indicator-clean:before.fa-pull-left {
  margin-right: .3em;
}
.dirty-indicator-clean:before.fa-pull-right {
  margin-left: .3em;
}
.dirty-indicator-clean:before.pull-left {
  margin-right: .3em;
}
.dirty-indicator-clean:before.pull-right {
  margin-left: .3em;
}
#filename {
  font-size: 16pt;
  display: table;
  padding: 0px 5px;
}
#current-mode {
  padding-left: 5px;
  padding-right: 5px;
}
#texteditor-backdrop {
  padding-top: 20px;
  padding-bottom: 20px;
}
@media not print {
  #texteditor-backdrop {
    background-color: #EEE;
  }
}
@media print {
  #texteditor-backdrop #texteditor-container .CodeMirror-gutter,
  #texteditor-backdrop #texteditor-container .CodeMirror-gutters {
    background-color: #fff;
  }
}
@media not print {
  #texteditor-backdrop #texteditor-container .CodeMirror-gutter,
  #texteditor-backdrop #texteditor-container .CodeMirror-gutters {
    background-color: #fff;
  }
}
@media not print {
  #texteditor-backdrop #texteditor-container {
    padding: 0px;
    background-color: #fff;
    -webkit-box-shadow: 0px 0px 12px 1px rgba(87, 87, 87, 0.2);
    box-shadow: 0px 0px 12px 1px rgba(87, 87, 87, 0.2);
  }
}
.CodeMirror-dialog {
  background-color: #fff;
}
/*!
*
* IPython notebook
*
*/
/* CSS font colors for translated ANSI escape sequences */
/* The color values are a mix of
   http://www.xcolors.net/dl/baskerville-ivorylight and
   http://www.xcolors.net/dl/euphrasia */
.ansi-black-fg {
  color: #3E424D;
}
.ansi-black-bg {
  background-color: #3E424D;
}
.ansi-black-intense-fg {
  color: #282C36;
}
.ansi-black-intense-bg {
  background-color: #282C36;
}
.ansi-red-fg {
  color: #E75C58;
}
.ansi-red-bg {
  background-color: #E75C58;
}
.ansi-red-intense-fg {
  color: #B22B31;
}
.ansi-red-intense-bg {
  background-color: #B22B31;
}
.ansi-green-fg {
  color: #00A250;
}
.ansi-green-bg {
  background-color: #00A250;
}
.ansi-green-intense-fg {
  color: #007427;
}
.ansi-green-intense-bg {
  background-color: #007427;
}
.ansi-yellow-fg {
  color: #DDB62B;
}
.ansi-yellow-bg {
  background-color: #DDB62B;
}
.ansi-yellow-intense-fg {
  color: #B27D12;
}
.ansi-yellow-intense-bg {
  background-color: #B27D12;
}
.ansi-blue-fg {
  color: #208FFB;
}
.ansi-blue-bg {
  background-color: #208FFB;
}
.ansi-blue-intense-fg {
  color: #0065CA;
}
.ansi-blue-intense-bg {
  background-color: #0065CA;
}
.ansi-magenta-fg {
  color: #D160C4;
}
.ansi-magenta-bg {
  background-color: #D160C4;
}
.ansi-magenta-intense-fg {
  color: #A03196;
}
.ansi-magenta-intense-bg {
  background-color: #A03196;
}
.ansi-cyan-fg {
  color: #60C6C8;
}
.ansi-cyan-bg {
  background-color: #60C6C8;
}
.ansi-cyan-intense-fg {
  color: #258F8F;
}
.ansi-cyan-intense-bg {
  background-color: #258F8F;
}
.ansi-white-fg {
  color: #C5C1B4;
}
.ansi-white-bg {
  background-color: #C5C1B4;
}
.ansi-white-intense-fg {
  color: #A1A6B2;
}
.ansi-white-intense-bg {
  background-color: #A1A6B2;
}
.ansi-default-inverse-fg {
  color: #FFFFFF;
}
.ansi-default-inverse-bg {
  background-color: #000000;
}
.ansi-bold {
  font-weight: bold;
}
.ansi-underline {
  text-decoration: underline;
}
/* The following styles are deprecated an will be removed in a future version */
.ansibold {
  font-weight: bold;
}
.ansi-inverse {
  outline: 0.5px dotted;
}
/* use dark versions for foreground, to improve visibility */
.ansiblack {
  color: black;
}
.ansired {
  color: darkred;
}
.ansigreen {
  color: darkgreen;
}
.ansiyellow {
  color: #c4a000;
}
.ansiblue {
  color: darkblue;
}
.ansipurple {
  color: darkviolet;
}
.ansicyan {
  color: steelblue;
}
.ansigray {
  color: gray;
}
/* and light for background, for the same reason */
.ansibgblack {
  background-color: black;
}
.ansibgred {
  background-color: red;
}
.ansibggreen {
  background-color: green;
}
.ansibgyellow {
  background-color: yellow;
}
.ansibgblue {
  background-color: blue;
}
.ansibgpurple {
  background-color: magenta;
}
.ansibgcyan {
  background-color: cyan;
}
.ansibggray {
  background-color: gray;
}
div.cell {
  /* Old browsers */
  display: -webkit-box;
  -webkit-box-orient: vertical;
  -webkit-box-align: stretch;
  display: -moz-box;
  -moz-box-orient: vertical;
  -moz-box-align: stretch;
  display: box;
  box-orient: vertical;
  box-align: stretch;
  /* Modern browsers */
  display: flex;
  flex-direction: column;
  align-items: stretch;
  border-radius: 2px;
  box-sizing: border-box;
  -moz-box-sizing: border-box;
  -webkit-box-sizing: border-box;
  border-width: 1px;
  border-style: solid;
  border-color: transparent;
  width: 100%;
  padding: 5px;
  /* This acts as a spacer between cells, that is outside the border */
  margin: 0px;
  outline: none;
  position: relative;
  overflow: visible;
}
div.cell:before {
  position: absolute;
  display: block;
  top: -1px;
  left: -1px;
  width: 5px;
  height: calc(100% +  2px);
  content: '';
  background: transparent;
}
div.cell.jupyter-soft-selected {
  border-left-color: #E3F2FD;
  border-left-width: 1px;
  padding-left: 5px;
  border-right-color: #E3F2FD;
  border-right-width: 1px;
  background: #E3F2FD;
}
@media print {
  div.cell.jupyter-soft-selected {
    border-color: transparent;
  }
}
div.cell.selected,
div.cell.selected.jupyter-soft-selected {
  border-color: #ababab;
}
div.cell.selected:before,
div.cell.selected.jupyter-soft-selected:before {
  position: absolute;
  display: block;
  top: -1px;
  left: -1px;
  width: 5px;
  height: calc(100% +  2px);
  content: '';
  background: #42A5F5;
}
@media print {
  div.cell.selected,
  div.cell.selected.jupyter-soft-selected {
    border-color: transparent;
  }
}
.edit_mode div.cell.selected {
  border-color: #66BB6A;
}
.edit_mode div.cell.selected:before {
  position: absolute;
  display: block;
  top: -1px;
  left: -1px;
  width: 5px;
  height: calc(100% +  2px);
  content: '';
  background: #66BB6A;
}
@media print {
  .edit_mode div.cell.selected {
    border-color: transparent;
  }
}
.prompt {
  /* This needs to be wide enough for 3 digit prompt numbers: In[100]: */
  min-width: 14ex;
  /* This padding is tuned to match the padding on the CodeMirror editor. */
  padding: 0.4em;
  margin: 0px;
  font-family: monospace;
  text-align: right;
  /* This has to match that of the the CodeMirror class line-height below */
  line-height: 1.21429em;
  /* Don't highlight prompt number selection */
  -webkit-touch-callout: none;
  -webkit-user-select: none;
  -khtml-user-select: none;
  -moz-user-select: none;
  -ms-user-select: none;
  user-select: none;
  /* Use default cursor */
  cursor: default;
}
@media (max-width: 540px) {
  .prompt {
    text-align: left;
  }
}
div.inner_cell {
  min-width: 0;
  /* Old browsers */
  display: -webkit-box;
  -webkit-box-orient: vertical;
  -webkit-box-align: stretch;
  display: -moz-box;
  -moz-box-orient: vertical;
  -moz-box-align: stretch;
  display: box;
  box-orient: vertical;
  box-align: stretch;
  /* Modern browsers */
  display: flex;
  flex-direction: column;
  align-items: stretch;
  /* Old browsers */
  -webkit-box-flex: 1;
  -moz-box-flex: 1;
  box-flex: 1;
  /* Modern browsers */
  flex: 1;
}
/* input_area and input_prompt must match in top border and margin for alignment */
div.input_area {
  border: 1px solid #cfcfcf;
  border-radius: 2px;
  background: #f7f7f7;
  line-height: 1.21429em;
}
/* This is needed so that empty prompt areas can collapse to zero height when there
   is no content in the output_subarea and the prompt. The main purpose of this is
   to make sure that empty JavaScript output_subareas have no height. */
div.prompt:empty {
  padding-top: 0;
  padding-bottom: 0;
}
div.unrecognized_cell {
  padding: 5px 5px 5px 0px;
  /* Old browsers */
  display: -webkit-box;
  -webkit-box-orient: horizontal;
  -webkit-box-align: stretch;
  display: -moz-box;
  -moz-box-orient: horizontal;
  -moz-box-align: stretch;
  display: box;
  box-orient: horizontal;
  box-align: stretch;
  /* Modern browsers */
  display: flex;
  flex-direction: row;
  align-items: stretch;
}
div.unrecognized_cell .inner_cell {
  border-radius: 2px;
  padding: 5px;
  font-weight: bold;
  color: red;
  border: 1px solid #cfcfcf;
  background: #eaeaea;
}
div.unrecognized_cell .inner_cell a {
  color: inherit;
  text-decoration: none;
}
div.unrecognized_cell .inner_cell a:hover {
  color: inherit;
  text-decoration: none;
}
@media (max-width: 540px) {
  div.unrecognized_cell > div.prompt {
    display: none;
  }
}
div.code_cell {
  /* avoid page breaking on code cells when printing */
}
@media print {
  div.code_cell {
    page-break-inside: avoid;
  }
}
/* any special styling for code cells that are currently running goes here */
div.input {
  page-break-inside: avoid;
  /* Old browsers */
  display: -webkit-box;
  -webkit-box-orient: horizontal;
  -webkit-box-align: stretch;
  display: -moz-box;
  -moz-box-orient: horizontal;
  -moz-box-align: stretch;
  display: box;
  box-orient: horizontal;
  box-align: stretch;
  /* Modern browsers */
  display: flex;
  flex-direction: row;
  align-items: stretch;
}
@media (max-width: 540px) {
  div.input {
    /* Old browsers */
    display: -webkit-box;
    -webkit-box-orient: vertical;
    -webkit-box-align: stretch;
    display: -moz-box;
    -moz-box-orient: vertical;
    -moz-box-align: stretch;
    display: box;
    box-orient: vertical;
    box-align: stretch;
    /* Modern browsers */
    display: flex;
    flex-direction: column;
    align-items: stretch;
  }
}
/* input_area and input_prompt must match in top border and margin for alignment */
div.input_prompt {
  color: #303F9F;
  border-top: 1px solid transparent;
}
div.input_area > div.highlight {
  margin: 0.4em;
  border: none;
  padding: 0px;
  background-color: transparent;
}
div.input_area > div.highlight > pre {
  margin: 0px;
  border: none;
  padding: 0px;
  background-color: transparent;
}
/* The following gets added to the <head> if it is detected that the user has a
 * monospace font with inconsistent normal/bold/italic height.  See
 * notebookmain.js.  Such fonts will have keywords vertically offset with
 * respect to the rest of the text.  The user should select a better font.
 * See: https://github.com/ipython/ipython/issues/1503
 *
 * .CodeMirror span {
 *      vertical-align: bottom;
 * }
 */
.CodeMirror {
  line-height: 1.21429em;
  /* Changed from 1em to our global default */
  font-size: 14px;
  height: auto;
  /* Changed to auto to autogrow */
  background: none;
  /* Changed from white to allow our bg to show through */
}
.CodeMirror-scroll {
  /*  The CodeMirror docs are a bit fuzzy on if overflow-y should be hidden or visible.*/
  /*  We have found that if it is visible, vertical scrollbars appear with font size changes.*/
  overflow-y: hidden;
  overflow-x: auto;
}
.CodeMirror-lines {
  /* In CM2, this used to be 0.4em, but in CM3 it went to 4px. We need the em value because */
  /* we have set a different line-height and want this to scale with that. */
  /* Note that this should set vertical padding only, since CodeMirror assumes
       that horizontal padding will be set on CodeMirror pre */
  padding: 0.4em 0;
}
.CodeMirror-linenumber {
  padding: 0 8px 0 4px;
}
.CodeMirror-gutters {
  border-bottom-left-radius: 2px;
  border-top-left-radius: 2px;
}
.CodeMirror pre {
  /* In CM3 this went to 4px from 0 in CM2. This sets horizontal padding only,
    use .CodeMirror-lines for vertical */
  padding: 0 0.4em;
  border: 0;
  border-radius: 0;
}
.CodeMirror-cursor {
  border-left: 1.4px solid black;
}
@media screen and (min-width: 2138px) and (max-width: 4319px) {
  .CodeMirror-cursor {
    border-left: 2px solid black;
  }
}
@media screen and (min-width: 4320px) {
  .CodeMirror-cursor {
    border-left: 4px solid black;
  }
}
/*

Original style from softwaremaniacs.org (c) Ivan Sagalaev <Maniac@SoftwareManiacs.Org>
Adapted from GitHub theme

*/
.highlight-base {
  color: #000;
}
.highlight-variable {
  color: #000;
}
.highlight-variable-2 {
  color: #1a1a1a;
}
.highlight-variable-3 {
  color: #333333;
}
.highlight-string {
  color: #BA2121;
}
.highlight-comment {
  color: #408080;
  font-style: italic;
}
.highlight-number {
  color: #080;
}
.highlight-atom {
  color: #88F;
}
.highlight-keyword {
  color: #008000;
  font-weight: bold;
}
.highlight-builtin {
  color: #008000;
}
.highlight-error {
  color: #f00;
}
.highlight-operator {
  color: #AA22FF;
  font-weight: bold;
}
.highlight-meta {
  color: #AA22FF;
}
/* previously not defined, copying from default codemirror */
.highlight-def {
  color: #00f;
}
.highlight-string-2 {
  color: #f50;
}
.highlight-qualifier {
  color: #555;
}
.highlight-bracket {
  color: #997;
}
.highlight-tag {
  color: #170;
}
.highlight-attribute {
  color: #00c;
}
.highlight-header {
  color: blue;
}
.highlight-quote {
  color: #090;
}
.highlight-link {
  color: #00c;
}
/* apply the same style to codemirror */
.cm-s-ipython span.cm-keyword {
  color: #008000;
  font-weight: bold;
}
.cm-s-ipython span.cm-atom {
  color: #88F;
}
.cm-s-ipython span.cm-number {
  color: #080;
}
.cm-s-ipython span.cm-def {
  color: #00f;
}
.cm-s-ipython span.cm-variable {
  color: #000;
}
.cm-s-ipython span.cm-operator {
  color: #AA22FF;
  font-weight: bold;
}
.cm-s-ipython span.cm-variable-2 {
  color: #1a1a1a;
}
.cm-s-ipython span.cm-variable-3 {
  color: #333333;
}
.cm-s-ipython span.cm-comment {
  color: #408080;
  font-style: italic;
}
.cm-s-ipython span.cm-string {
  color: #BA2121;
}
.cm-s-ipython span.cm-string-2 {
  color: #f50;
}
.cm-s-ipython span.cm-meta {
  color: #AA22FF;
}
.cm-s-ipython span.cm-qualifier {
  color: #555;
}
.cm-s-ipython span.cm-builtin {
  color: #008000;
}
.cm-s-ipython span.cm-bracket {
  color: #997;
}
.cm-s-ipython span.cm-tag {
  color: #170;
}
.cm-s-ipython span.cm-attribute {
  color: #00c;
}
.cm-s-ipython span.cm-header {
  color: blue;
}
.cm-s-ipython span.cm-quote {
  color: #090;
}
.cm-s-ipython span.cm-link {
  color: #00c;
}
.cm-s-ipython span.cm-error {
  color: #f00;
}
.cm-s-ipython span.cm-tab {
  background: url(data:image/png;base64,iVBORw0KGgoAAAANSUhEUgAAADAAAAAMCAYAAAAkuj5RAAAAAXNSR0IArs4c6QAAAGFJREFUSMft1LsRQFAQheHPowAKoACx3IgEKtaEHujDjORSgWTH/ZOdnZOcM/sgk/kFFWY0qV8foQwS4MKBCS3qR6ixBJvElOobYAtivseIE120FaowJPN75GMu8j/LfMwNjh4HUpwg4LUAAAAASUVORK5CYII=);
  background-position: right;
  background-repeat: no-repeat;
}
div.output_wrapper {
  /* this position must be relative to enable descendents to be absolute within it */
  position: relative;
  /* Old browsers */
  display: -webkit-box;
  -webkit-box-orient: vertical;
  -webkit-box-align: stretch;
  display: -moz-box;
  -moz-box-orient: vertical;
  -moz-box-align: stretch;
  display: box;
  box-orient: vertical;
  box-align: stretch;
  /* Modern browsers */
  display: flex;
  flex-direction: column;
  align-items: stretch;
  z-index: 1;
}
/* class for the output area when it should be height-limited */
div.output_scroll {
  /* ideally, this would be max-height, but FF barfs all over that */
  height: 24em;
  /* FF needs this *and the wrapper* to specify full width, or it will shrinkwrap */
  width: 100%;
  overflow: auto;
  border-radius: 2px;
  -webkit-box-shadow: inset 0 2px 8px rgba(0, 0, 0, 0.8);
  box-shadow: inset 0 2px 8px rgba(0, 0, 0, 0.8);
  display: block;
}
/* output div while it is collapsed */
div.output_collapsed {
  margin: 0px;
  padding: 0px;
  /* Old browsers */
  display: -webkit-box;
  -webkit-box-orient: vertical;
  -webkit-box-align: stretch;
  display: -moz-box;
  -moz-box-orient: vertical;
  -moz-box-align: stretch;
  display: box;
  box-orient: vertical;
  box-align: stretch;
  /* Modern browsers */
  display: flex;
  flex-direction: column;
  align-items: stretch;
}
div.out_prompt_overlay {
  height: 100%;
  padding: 0px 0.4em;
  position: absolute;
  border-radius: 2px;
}
div.out_prompt_overlay:hover {
  /* use inner shadow to get border that is computed the same on WebKit/FF */
  -webkit-box-shadow: inset 0 0 1px #000;
  box-shadow: inset 0 0 1px #000;
  background: rgba(240, 240, 240, 0.5);
}
div.output_prompt {
  color: #D84315;
}
/* This class is the outer container of all output sections. */
div.output_area {
  padding: 0px;
  page-break-inside: avoid;
  /* Old browsers */
  display: -webkit-box;
  -webkit-box-orient: horizontal;
  -webkit-box-align: stretch;
  display: -moz-box;
  -moz-box-orient: horizontal;
  -moz-box-align: stretch;
  display: box;
  box-orient: horizontal;
  box-align: stretch;
  /* Modern browsers */
  display: flex;
  flex-direction: row;
  align-items: stretch;
}
div.output_area .MathJax_Display {
  text-align: left !important;
}
div.output_area .rendered_html table {
  margin-left: 0;
  margin-right: 0;
}
div.output_area .rendered_html img {
  margin-left: 0;
  margin-right: 0;
}
div.output_area img,
div.output_area svg {
  max-width: 100%;
  height: auto;
}
div.output_area img.unconfined,
div.output_area svg.unconfined {
  max-width: none;
}
div.output_area .mglyph > img {
  max-width: none;
}
/* This is needed to protect the pre formating from global settings such
   as that of bootstrap */
.output {
  /* Old browsers */
  display: -webkit-box;
  -webkit-box-orient: vertical;
  -webkit-box-align: stretch;
  display: -moz-box;
  -moz-box-orient: vertical;
  -moz-box-align: stretch;
  display: box;
  box-orient: vertical;
  box-align: stretch;
  /* Modern browsers */
  display: flex;
  flex-direction: column;
  align-items: stretch;
}
@media (max-width: 540px) {
  div.output_area {
    /* Old browsers */
    display: -webkit-box;
    -webkit-box-orient: vertical;
    -webkit-box-align: stretch;
    display: -moz-box;
    -moz-box-orient: vertical;
    -moz-box-align: stretch;
    display: box;
    box-orient: vertical;
    box-align: stretch;
    /* Modern browsers */
    display: flex;
    flex-direction: column;
    align-items: stretch;
  }
}
div.output_area pre {
  margin: 0;
  padding: 1px 0 1px 0;
  border: 0;
  vertical-align: baseline;
  color: black;
  background-color: transparent;
  border-radius: 0;
}
/* This class is for the output subarea inside the output_area and after
   the prompt div. */
div.output_subarea {
  overflow-x: auto;
  padding: 0.4em;
  /* Old browsers */
  -webkit-box-flex: 1;
  -moz-box-flex: 1;
  box-flex: 1;
  /* Modern browsers */
  flex: 1;
  max-width: calc(100% - 14ex);
}
div.output_scroll div.output_subarea {
  overflow-x: visible;
}
/* The rest of the output_* classes are for special styling of the different
   output types */
/* all text output has this class: */
div.output_text {
  text-align: left;
  color: #000;
  /* This has to match that of the the CodeMirror class line-height below */
  line-height: 1.21429em;
}
/* stdout/stderr are 'text' as well as 'stream', but execute_result/error are *not* streams */
div.output_stderr {
  background: #fdd;
  /* very light red background for stderr */
}
div.output_latex {
  text-align: left;
}
/* Empty output_javascript divs should have no height */
div.output_javascript:empty {
  padding: 0;
}
.js-error {
  color: darkred;
}
/* raw_input styles */
div.raw_input_container {
  line-height: 1.21429em;
  padding-top: 5px;
}
pre.raw_input_prompt {
  /* nothing needed here. */
}
input.raw_input {
  font-family: monospace;
  font-size: inherit;
  color: inherit;
  width: auto;
  /* make sure input baseline aligns with prompt */
  vertical-align: baseline;
  /* padding + margin = 0.5em between prompt and cursor */
  padding: 0em 0.25em;
  margin: 0em 0.25em;
}
input.raw_input:focus {
  box-shadow: none;
}
p.p-space {
  margin-bottom: 10px;
}
div.output_unrecognized {
  padding: 5px;
  font-weight: bold;
  color: red;
}
div.output_unrecognized a {
  color: inherit;
  text-decoration: none;
}
div.output_unrecognized a:hover {
  color: inherit;
  text-decoration: none;
}
.rendered_html {
  color: #000;
  /* any extras will just be numbers: */
}
.rendered_html em {
  font-style: italic;
}
.rendered_html strong {
  font-weight: bold;
}
.rendered_html u {
  text-decoration: underline;
}
.rendered_html :link {
  text-decoration: underline;
}
.rendered_html :visited {
  text-decoration: underline;
}
.rendered_html h1 {
  font-size: 185.7%;
  margin: 1.08em 0 0 0;
  font-weight: bold;
  line-height: 1.0;
}
.rendered_html h2 {
  font-size: 157.1%;
  margin: 1.27em 0 0 0;
  font-weight: bold;
  line-height: 1.0;
}
.rendered_html h3 {
  font-size: 128.6%;
  margin: 1.55em 0 0 0;
  font-weight: bold;
  line-height: 1.0;
}
.rendered_html h4 {
  font-size: 100%;
  margin: 2em 0 0 0;
  font-weight: bold;
  line-height: 1.0;
}
.rendered_html h5 {
  font-size: 100%;
  margin: 2em 0 0 0;
  font-weight: bold;
  line-height: 1.0;
  font-style: italic;
}
.rendered_html h6 {
  font-size: 100%;
  margin: 2em 0 0 0;
  font-weight: bold;
  line-height: 1.0;
  font-style: italic;
}
.rendered_html h1:first-child {
  margin-top: 0.538em;
}
.rendered_html h2:first-child {
  margin-top: 0.636em;
}
.rendered_html h3:first-child {
  margin-top: 0.777em;
}
.rendered_html h4:first-child {
  margin-top: 1em;
}
.rendered_html h5:first-child {
  margin-top: 1em;
}
.rendered_html h6:first-child {
  margin-top: 1em;
}
.rendered_html ul:not(.list-inline),
.rendered_html ol:not(.list-inline) {
  padding-left: 2em;
}
.rendered_html ul {
  list-style: disc;
}
.rendered_html ul ul {
  list-style: square;
  margin-top: 0;
}
.rendered_html ul ul ul {
  list-style: circle;
}
.rendered_html ol {
  list-style: decimal;
}
.rendered_html ol ol {
  list-style: upper-alpha;
  margin-top: 0;
}
.rendered_html ol ol ol {
  list-style: lower-alpha;
}
.rendered_html ol ol ol ol {
  list-style: lower-roman;
}
.rendered_html ol ol ol ol ol {
  list-style: decimal;
}
.rendered_html * + ul {
  margin-top: 1em;
}
.rendered_html * + ol {
  margin-top: 1em;
}
.rendered_html hr {
  color: black;
  background-color: black;
}
.rendered_html pre {
  margin: 1em 2em;
  padding: 0px;
  background-color: #fff;
}
.rendered_html code {
  background-color: #eff0f1;
}
.rendered_html p code {
  padding: 1px 5px;
}
.rendered_html pre code {
  background-color: #fff;
}
.rendered_html pre,
.rendered_html code {
  border: 0;
  color: #000;
  font-size: 100%;
}
.rendered_html blockquote {
  margin: 1em 2em;
}
.rendered_html table {
  margin-left: auto;
  margin-right: auto;
  border: none;
  border-collapse: collapse;
  border-spacing: 0;
  color: black;
  font-size: 12px;
  table-layout: fixed;
}
.rendered_html thead {
  border-bottom: 1px solid black;
  vertical-align: bottom;
}
.rendered_html tr,
.rendered_html th,
.rendered_html td {
  text-align: right;
  vertical-align: middle;
  padding: 0.5em 0.5em;
  line-height: normal;
  white-space: normal;
  max-width: none;
  border: none;
}
.rendered_html th {
  font-weight: bold;
}
.rendered_html tbody tr:nth-child(odd) {
  background: #f5f5f5;
}
.rendered_html tbody tr:hover {
  background: rgba(66, 165, 245, 0.2);
}
.rendered_html * + table {
  margin-top: 1em;
}
.rendered_html p {
  text-align: left;
}
.rendered_html * + p {
  margin-top: 1em;
}
.rendered_html img {
  display: block;
  margin-left: auto;
  margin-right: auto;
}
.rendered_html * + img {
  margin-top: 1em;
}
.rendered_html img,
.rendered_html svg {
  max-width: 100%;
  height: auto;
}
.rendered_html img.unconfined,
.rendered_html svg.unconfined {
  max-width: none;
}
.rendered_html .alert {
  margin-bottom: initial;
}
.rendered_html * + .alert {
  margin-top: 1em;
}
[dir="rtl"] .rendered_html p {
  text-align: right;
}
div.text_cell {
  /* Old browsers */
  display: -webkit-box;
  -webkit-box-orient: horizontal;
  -webkit-box-align: stretch;
  display: -moz-box;
  -moz-box-orient: horizontal;
  -moz-box-align: stretch;
  display: box;
  box-orient: horizontal;
  box-align: stretch;
  /* Modern browsers */
  display: flex;
  flex-direction: row;
  align-items: stretch;
}
@media (max-width: 540px) {
  div.text_cell > div.prompt {
    display: none;
  }
}
div.text_cell_render {
  /*font-family: "Helvetica Neue", Arial, Helvetica, Geneva, sans-serif;*/
  outline: none;
  resize: none;
  width: inherit;
  border-style: none;
  padding: 0.5em 0.5em 0.5em 0.4em;
  color: #000;
  box-sizing: border-box;
  -moz-box-sizing: border-box;
  -webkit-box-sizing: border-box;
}
a.anchor-link:link {
  text-decoration: none;
  padding: 0px 20px;
  visibility: hidden;
}
h1:hover .anchor-link,
h2:hover .anchor-link,
h3:hover .anchor-link,
h4:hover .anchor-link,
h5:hover .anchor-link,
h6:hover .anchor-link {
  visibility: visible;
}
.text_cell.rendered .input_area {
  display: none;
}
.text_cell.rendered .rendered_html {
  overflow-x: auto;
  overflow-y: hidden;
}
.text_cell.rendered .rendered_html tr,
.text_cell.rendered .rendered_html th,
.text_cell.rendered .rendered_html td {
  max-width: none;
}
.text_cell.unrendered .text_cell_render {
  display: none;
}
.text_cell .dropzone .input_area {
  border: 2px dashed #bababa;
  margin: -1px;
}
.cm-header-1,
.cm-header-2,
.cm-header-3,
.cm-header-4,
.cm-header-5,
.cm-header-6 {
  font-weight: bold;
  font-family: "Helvetica Neue", Helvetica, Arial, sans-serif;
}
.cm-header-1 {
  font-size: 185.7%;
}
.cm-header-2 {
  font-size: 157.1%;
}
.cm-header-3 {
  font-size: 128.6%;
}
.cm-header-4 {
  font-size: 110%;
}
.cm-header-5 {
  font-size: 100%;
  font-style: italic;
}
.cm-header-6 {
  font-size: 100%;
  font-style: italic;
}
/*!
*
* IPython notebook webapp
*
*/
@media (max-width: 767px) {
  .notebook_app {
    padding-left: 0px;
    padding-right: 0px;
  }
}
#ipython-main-app {
  box-sizing: border-box;
  -moz-box-sizing: border-box;
  -webkit-box-sizing: border-box;
  height: 100%;
}
div#notebook_panel {
  margin: 0px;
  padding: 0px;
  box-sizing: border-box;
  -moz-box-sizing: border-box;
  -webkit-box-sizing: border-box;
  height: 100%;
}
div#notebook {
  font-size: 14px;
  line-height: 20px;
  overflow-y: hidden;
  overflow-x: auto;
  width: 100%;
  /* This spaces the page away from the edge of the notebook area */
  padding-top: 20px;
  margin: 0px;
  outline: none;
  box-sizing: border-box;
  -moz-box-sizing: border-box;
  -webkit-box-sizing: border-box;
  min-height: 100%;
}
@media not print {
  #notebook-container {
    padding: 15px;
    background-color: #fff;
    min-height: 0;
    -webkit-box-shadow: 0px 0px 12px 1px rgba(87, 87, 87, 0.2);
    box-shadow: 0px 0px 12px 1px rgba(87, 87, 87, 0.2);
  }
}
@media print {
  #notebook-container {
    width: 100%;
  }
}
div.ui-widget-content {
  border: 1px solid #ababab;
  outline: none;
}
pre.dialog {
  background-color: #f7f7f7;
  border: 1px solid #ddd;
  border-radius: 2px;
  padding: 0.4em;
  padding-left: 2em;
}
p.dialog {
  padding: 0.2em;
}
/* Word-wrap output correctly.  This is the CSS3 spelling, though Firefox seems
   to not honor it correctly.  Webkit browsers (Chrome, rekonq, Safari) do.
 */
pre,
code,
kbd,
samp {
  white-space: pre-wrap;
}
#fonttest {
  font-family: monospace;
}
p {
  margin-bottom: 0;
}
.end_space {
  min-height: 100px;
  transition: height .2s ease;
}
.notebook_app > #header {
  -webkit-box-shadow: 0px 0px 12px 1px rgba(87, 87, 87, 0.2);
  box-shadow: 0px 0px 12px 1px rgba(87, 87, 87, 0.2);
}
@media not print {
  .notebook_app {
    background-color: #EEE;
  }
}
kbd {
  border-style: solid;
  border-width: 1px;
  box-shadow: none;
  margin: 2px;
  padding-left: 2px;
  padding-right: 2px;
  padding-top: 1px;
  padding-bottom: 1px;
}
.jupyter-keybindings {
  padding: 1px;
  line-height: 24px;
  border-bottom: 1px solid gray;
}
.jupyter-keybindings input {
  margin: 0;
  padding: 0;
  border: none;
}
.jupyter-keybindings i {
  padding: 6px;
}
.well code {
  background-color: #ffffff;
  border-color: #ababab;
  border-width: 1px;
  border-style: solid;
  padding: 2px;
  padding-top: 1px;
  padding-bottom: 1px;
}
/* CSS for the cell toolbar */
.celltoolbar {
  border: thin solid #CFCFCF;
  border-bottom: none;
  background: #EEE;
  border-radius: 2px 2px 0px 0px;
  width: 100%;
  height: 29px;
  padding-right: 4px;
  /* Old browsers */
  display: -webkit-box;
  -webkit-box-orient: horizontal;
  -webkit-box-align: stretch;
  display: -moz-box;
  -moz-box-orient: horizontal;
  -moz-box-align: stretch;
  display: box;
  box-orient: horizontal;
  box-align: stretch;
  /* Modern browsers */
  display: flex;
  flex-direction: row;
  align-items: stretch;
  /* Old browsers */
  -webkit-box-pack: end;
  -moz-box-pack: end;
  box-pack: end;
  /* Modern browsers */
  justify-content: flex-end;
  display: -webkit-flex;
}
@media print {
  .celltoolbar {
    display: none;
  }
}
.ctb_hideshow {
  display: none;
  vertical-align: bottom;
}
/* ctb_show is added to the ctb_hideshow div to show the cell toolbar.
   Cell toolbars are only shown when the ctb_global_show class is also set.
*/
.ctb_global_show .ctb_show.ctb_hideshow {
  display: block;
}
.ctb_global_show .ctb_show + .input_area,
.ctb_global_show .ctb_show + div.text_cell_input,
.ctb_global_show .ctb_show ~ div.text_cell_render {
  border-top-right-radius: 0px;
  border-top-left-radius: 0px;
}
.ctb_global_show .ctb_show ~ div.text_cell_render {
  border: 1px solid #cfcfcf;
}
.celltoolbar {
  font-size: 87%;
  padding-top: 3px;
}
.celltoolbar select {
  display: block;
  width: 100%;
  height: 32px;
  padding: 6px 12px;
  font-size: 13px;
  line-height: 1.42857143;
  color: #555555;
  background-color: #fff;
  background-image: none;
  border: 1px solid #ccc;
  border-radius: 2px;
  -webkit-box-shadow: inset 0 1px 1px rgba(0, 0, 0, 0.075);
  box-shadow: inset 0 1px 1px rgba(0, 0, 0, 0.075);
  -webkit-transition: border-color ease-in-out .15s, box-shadow ease-in-out .15s;
  -o-transition: border-color ease-in-out .15s, box-shadow ease-in-out .15s;
  transition: border-color ease-in-out .15s, box-shadow ease-in-out .15s;
  height: 30px;
  padding: 5px 10px;
  font-size: 12px;
  line-height: 1.5;
  border-radius: 1px;
  width: inherit;
  font-size: inherit;
  height: 22px;
  padding: 0px;
  display: inline-block;
}
.celltoolbar select:focus {
  border-color: #66afe9;
  outline: 0;
  -webkit-box-shadow: inset 0 1px 1px rgba(0,0,0,.075), 0 0 8px rgba(102, 175, 233, 0.6);
  box-shadow: inset 0 1px 1px rgba(0,0,0,.075), 0 0 8px rgba(102, 175, 233, 0.6);
}
.celltoolbar select::-moz-placeholder {
  color: #999;
  opacity: 1;
}
.celltoolbar select:-ms-input-placeholder {
  color: #999;
}
.celltoolbar select::-webkit-input-placeholder {
  color: #999;
}
.celltoolbar select::-ms-expand {
  border: 0;
  background-color: transparent;
}
.celltoolbar select[disabled],
.celltoolbar select[readonly],
fieldset[disabled] .celltoolbar select {
  background-color: #eeeeee;
  opacity: 1;
}
.celltoolbar select[disabled],
fieldset[disabled] .celltoolbar select {
  cursor: not-allowed;
}
textarea.celltoolbar select {
  height: auto;
}
select.celltoolbar select {
  height: 30px;
  line-height: 30px;
}
textarea.celltoolbar select,
select[multiple].celltoolbar select {
  height: auto;
}
.celltoolbar label {
  margin-left: 5px;
  margin-right: 5px;
}
.tags_button_container {
  width: 100%;
  display: flex;
}
.tag-container {
  display: flex;
  flex-direction: row;
  flex-grow: 1;
  overflow: hidden;
  position: relative;
}
.tag-container > * {
  margin: 0 4px;
}
.remove-tag-btn {
  margin-left: 4px;
}
.tags-input {
  display: flex;
}
.cell-tag:last-child:after {
  content: "";
  position: absolute;
  right: 0;
  width: 40px;
  height: 100%;
  /* Fade to background color of cell toolbar */
  background: linear-gradient(to right, rgba(0, 0, 0, 0), #EEE);
}
.tags-input > * {
  margin-left: 4px;
}
.cell-tag,
.tags-input input,
.tags-input button {
  display: block;
  width: 100%;
  height: 32px;
  padding: 6px 12px;
  font-size: 13px;
  line-height: 1.42857143;
  color: #555555;
  background-color: #fff;
  background-image: none;
  border: 1px solid #ccc;
  border-radius: 2px;
  -webkit-box-shadow: inset 0 1px 1px rgba(0, 0, 0, 0.075);
  box-shadow: inset 0 1px 1px rgba(0, 0, 0, 0.075);
  -webkit-transition: border-color ease-in-out .15s, box-shadow ease-in-out .15s;
  -o-transition: border-color ease-in-out .15s, box-shadow ease-in-out .15s;
  transition: border-color ease-in-out .15s, box-shadow ease-in-out .15s;
  height: 30px;
  padding: 5px 10px;
  font-size: 12px;
  line-height: 1.5;
  border-radius: 1px;
  box-shadow: none;
  width: inherit;
  font-size: inherit;
  height: 22px;
  line-height: 22px;
  padding: 0px 4px;
  display: inline-block;
}
.cell-tag:focus,
.tags-input input:focus,
.tags-input button:focus {
  border-color: #66afe9;
  outline: 0;
  -webkit-box-shadow: inset 0 1px 1px rgba(0,0,0,.075), 0 0 8px rgba(102, 175, 233, 0.6);
  box-shadow: inset 0 1px 1px rgba(0,0,0,.075), 0 0 8px rgba(102, 175, 233, 0.6);
}
.cell-tag::-moz-placeholder,
.tags-input input::-moz-placeholder,
.tags-input button::-moz-placeholder {
  color: #999;
  opacity: 1;
}
.cell-tag:-ms-input-placeholder,
.tags-input input:-ms-input-placeholder,
.tags-input button:-ms-input-placeholder {
  color: #999;
}
.cell-tag::-webkit-input-placeholder,
.tags-input input::-webkit-input-placeholder,
.tags-input button::-webkit-input-placeholder {
  color: #999;
}
.cell-tag::-ms-expand,
.tags-input input::-ms-expand,
.tags-input button::-ms-expand {
  border: 0;
  background-color: transparent;
}
.cell-tag[disabled],
.tags-input input[disabled],
.tags-input button[disabled],
.cell-tag[readonly],
.tags-input input[readonly],
.tags-input button[readonly],
fieldset[disabled] .cell-tag,
fieldset[disabled] .tags-input input,
fieldset[disabled] .tags-input button {
  background-color: #eeeeee;
  opacity: 1;
}
.cell-tag[disabled],
.tags-input input[disabled],
.tags-input button[disabled],
fieldset[disabled] .cell-tag,
fieldset[disabled] .tags-input input,
fieldset[disabled] .tags-input button {
  cursor: not-allowed;
}
textarea.cell-tag,
textarea.tags-input input,
textarea.tags-input button {
  height: auto;
}
select.cell-tag,
select.tags-input input,
select.tags-input button {
  height: 30px;
  line-height: 30px;
}
textarea.cell-tag,
textarea.tags-input input,
textarea.tags-input button,
select[multiple].cell-tag,
select[multiple].tags-input input,
select[multiple].tags-input button {
  height: auto;
}
.cell-tag,
.tags-input button {
  padding: 0px 4px;
}
.cell-tag {
  background-color: #fff;
  white-space: nowrap;
}
.tags-input input[type=text]:focus {
  outline: none;
  box-shadow: none;
  border-color: #ccc;
}
.completions {
  position: absolute;
  z-index: 110;
  overflow: hidden;
  border: 1px solid #ababab;
  border-radius: 2px;
  -webkit-box-shadow: 0px 6px 10px -1px #adadad;
  box-shadow: 0px 6px 10px -1px #adadad;
  line-height: 1;
}
.completions select {
  background: white;
  outline: none;
  border: none;
  padding: 0px;
  margin: 0px;
  overflow: auto;
  font-family: monospace;
  font-size: 110%;
  color: #000;
  width: auto;
}
.completions select option.context {
  color: #286090;
}
#kernel_logo_widget .current_kernel_logo {
  display: none;
  margin-top: -1px;
  margin-bottom: -1px;
  width: 32px;
  height: 32px;
}
[dir="rtl"] #kernel_logo_widget {
  float: left !important;
  float: left;
}
.modal .modal-body .move-path {
  display: flex;
  flex-direction: row;
  justify-content: space;
  align-items: center;
}
.modal .modal-body .move-path .server-root {
  padding-right: 20px;
}
.modal .modal-body .move-path .path-input {
  flex: 1;
}
#menubar {
  box-sizing: border-box;
  -moz-box-sizing: border-box;
  -webkit-box-sizing: border-box;
  margin-top: 1px;
}
#menubar .navbar {
  border-top: 1px;
  border-radius: 0px 0px 2px 2px;
  margin-bottom: 0px;
}
#menubar .navbar-toggle {
  float: left;
  padding-top: 7px;
  padding-bottom: 7px;
  border: none;
}
#menubar .navbar-collapse {
  clear: left;
}
[dir="rtl"] #menubar .navbar-toggle {
  float: right;
}
[dir="rtl"] #menubar .navbar-collapse {
  clear: right;
}
[dir="rtl"] #menubar .navbar-nav {
  float: right;
}
[dir="rtl"] #menubar .nav {
  padding-right: 0px;
}
[dir="rtl"] #menubar .navbar-nav > li {
  float: right;
}
[dir="rtl"] #menubar .navbar-right {
  float: left !important;
}
[dir="rtl"] ul.dropdown-menu {
  text-align: right;
  left: auto;
}
[dir="rtl"] ul#new-menu.dropdown-menu {
  right: auto;
  left: 0;
}
.nav-wrapper {
  border-bottom: 1px solid #e7e7e7;
}
i.menu-icon {
  padding-top: 4px;
}
[dir="rtl"] i.menu-icon.pull-right {
  float: left !important;
  float: left;
}
ul#help_menu li a {
  overflow: hidden;
  padding-right: 2.2em;
}
ul#help_menu li a i {
  margin-right: -1.2em;
}
[dir="rtl"] ul#help_menu li a {
  padding-left: 2.2em;
}
[dir="rtl"] ul#help_menu li a i {
  margin-right: 0;
  margin-left: -1.2em;
}
[dir="rtl"] ul#help_menu li a i.pull-right {
  float: left !important;
  float: left;
}
.dropdown-submenu {
  position: relative;
}
.dropdown-submenu > .dropdown-menu {
  top: 0;
  left: 100%;
  margin-top: -6px;
  margin-left: -1px;
}
[dir="rtl"] .dropdown-submenu > .dropdown-menu {
  right: 100%;
  margin-right: -1px;
}
.dropdown-submenu:hover > .dropdown-menu {
  display: block;
}
.dropdown-submenu > a:after {
  display: inline-block;
  font: normal normal normal 14px/1 FontAwesome;
  font-size: inherit;
  text-rendering: auto;
  -webkit-font-smoothing: antialiased;
  -moz-osx-font-smoothing: grayscale;
  display: block;
  content: "\f0da";
  float: right;
  color: #333333;
  margin-top: 2px;
  margin-right: -10px;
}
.dropdown-submenu > a:after.fa-pull-left {
  margin-right: .3em;
}
.dropdown-submenu > a:after.fa-pull-right {
  margin-left: .3em;
}
.dropdown-submenu > a:after.pull-left {
  margin-right: .3em;
}
.dropdown-submenu > a:after.pull-right {
  margin-left: .3em;
}
[dir="rtl"] .dropdown-submenu > a:after {
  float: left;
  content: "\f0d9";
  margin-right: 0;
  margin-left: -10px;
}
.dropdown-submenu:hover > a:after {
  color: #262626;
}
.dropdown-submenu.pull-left {
  float: none;
}
.dropdown-submenu.pull-left > .dropdown-menu {
  left: -100%;
  margin-left: 10px;
}
#notification_area {
  float: right !important;
  float: right;
  z-index: 10;
}
[dir="rtl"] #notification_area {
  float: left !important;
  float: left;
}
.indicator_area {
  float: right !important;
  float: right;
  color: #777;
  margin-left: 5px;
  margin-right: 5px;
  width: 11px;
  z-index: 10;
  text-align: center;
  width: auto;
}
[dir="rtl"] .indicator_area {
  float: left !important;
  float: left;
}
#kernel_indicator {
  float: right !important;
  float: right;
  color: #777;
  margin-left: 5px;
  margin-right: 5px;
  width: 11px;
  z-index: 10;
  text-align: center;
  width: auto;
  border-left: 1px solid;
}
#kernel_indicator .kernel_indicator_name {
  padding-left: 5px;
  padding-right: 5px;
}
[dir="rtl"] #kernel_indicator {
  float: left !important;
  float: left;
  border-left: 0;
  border-right: 1px solid;
}
#modal_indicator {
  float: right !important;
  float: right;
  color: #777;
  margin-left: 5px;
  margin-right: 5px;
  width: 11px;
  z-index: 10;
  text-align: center;
  width: auto;
}
[dir="rtl"] #modal_indicator {
  float: left !important;
  float: left;
}
#readonly-indicator {
  float: right !important;
  float: right;
  color: #777;
  margin-left: 5px;
  margin-right: 5px;
  width: 11px;
  z-index: 10;
  text-align: center;
  width: auto;
  margin-top: 2px;
  margin-bottom: 0px;
  margin-left: 0px;
  margin-right: 0px;
  display: none;
}
.modal_indicator:before {
  width: 1.28571429em;
  text-align: center;
}
.edit_mode .modal_indicator:before {
  display: inline-block;
  font: normal normal normal 14px/1 FontAwesome;
  font-size: inherit;
  text-rendering: auto;
  -webkit-font-smoothing: antialiased;
  -moz-osx-font-smoothing: grayscale;
  content: "\f040";
}
.edit_mode .modal_indicator:before.fa-pull-left {
  margin-right: .3em;
}
.edit_mode .modal_indicator:before.fa-pull-right {
  margin-left: .3em;
}
.edit_mode .modal_indicator:before.pull-left {
  margin-right: .3em;
}
.edit_mode .modal_indicator:before.pull-right {
  margin-left: .3em;
}
.command_mode .modal_indicator:before {
  display: inline-block;
  font: normal normal normal 14px/1 FontAwesome;
  font-size: inherit;
  text-rendering: auto;
  -webkit-font-smoothing: antialiased;
  -moz-osx-font-smoothing: grayscale;
  content: ' ';
}
.command_mode .modal_indicator:before.fa-pull-left {
  margin-right: .3em;
}
.command_mode .modal_indicator:before.fa-pull-right {
  margin-left: .3em;
}
.command_mode .modal_indicator:before.pull-left {
  margin-right: .3em;
}
.command_mode .modal_indicator:before.pull-right {
  margin-left: .3em;
}
.kernel_idle_icon:before {
  display: inline-block;
  font: normal normal normal 14px/1 FontAwesome;
  font-size: inherit;
  text-rendering: auto;
  -webkit-font-smoothing: antialiased;
  -moz-osx-font-smoothing: grayscale;
  content: "\f10c";
}
.kernel_idle_icon:before.fa-pull-left {
  margin-right: .3em;
}
.kernel_idle_icon:before.fa-pull-right {
  margin-left: .3em;
}
.kernel_idle_icon:before.pull-left {
  margin-right: .3em;
}
.kernel_idle_icon:before.pull-right {
  margin-left: .3em;
}
.kernel_busy_icon:before {
  display: inline-block;
  font: normal normal normal 14px/1 FontAwesome;
  font-size: inherit;
  text-rendering: auto;
  -webkit-font-smoothing: antialiased;
  -moz-osx-font-smoothing: grayscale;
  content: "\f111";
}
.kernel_busy_icon:before.fa-pull-left {
  margin-right: .3em;
}
.kernel_busy_icon:before.fa-pull-right {
  margin-left: .3em;
}
.kernel_busy_icon:before.pull-left {
  margin-right: .3em;
}
.kernel_busy_icon:before.pull-right {
  margin-left: .3em;
}
.kernel_dead_icon:before {
  display: inline-block;
  font: normal normal normal 14px/1 FontAwesome;
  font-size: inherit;
  text-rendering: auto;
  -webkit-font-smoothing: antialiased;
  -moz-osx-font-smoothing: grayscale;
  content: "\f1e2";
}
.kernel_dead_icon:before.fa-pull-left {
  margin-right: .3em;
}
.kernel_dead_icon:before.fa-pull-right {
  margin-left: .3em;
}
.kernel_dead_icon:before.pull-left {
  margin-right: .3em;
}
.kernel_dead_icon:before.pull-right {
  margin-left: .3em;
}
.kernel_disconnected_icon:before {
  display: inline-block;
  font: normal normal normal 14px/1 FontAwesome;
  font-size: inherit;
  text-rendering: auto;
  -webkit-font-smoothing: antialiased;
  -moz-osx-font-smoothing: grayscale;
  content: "\f127";
}
.kernel_disconnected_icon:before.fa-pull-left {
  margin-right: .3em;
}
.kernel_disconnected_icon:before.fa-pull-right {
  margin-left: .3em;
}
.kernel_disconnected_icon:before.pull-left {
  margin-right: .3em;
}
.kernel_disconnected_icon:before.pull-right {
  margin-left: .3em;
}
.notification_widget {
  color: #777;
  z-index: 10;
  background: rgba(240, 240, 240, 0.5);
  margin-right: 4px;
  color: #333;
  background-color: #fff;
  border-color: #ccc;
}
.notification_widget:focus,
.notification_widget.focus {
  color: #333;
  background-color: #e6e6e6;
  border-color: #8c8c8c;
}
.notification_widget:hover {
  color: #333;
  background-color: #e6e6e6;
  border-color: #adadad;
}
.notification_widget:active,
.notification_widget.active,
.open > .dropdown-toggle.notification_widget {
  color: #333;
  background-color: #e6e6e6;
  border-color: #adadad;
}
.notification_widget:active:hover,
.notification_widget.active:hover,
.open > .dropdown-toggle.notification_widget:hover,
.notification_widget:active:focus,
.notification_widget.active:focus,
.open > .dropdown-toggle.notification_widget:focus,
.notification_widget:active.focus,
.notification_widget.active.focus,
.open > .dropdown-toggle.notification_widget.focus {
  color: #333;
  background-color: #d4d4d4;
  border-color: #8c8c8c;
}
.notification_widget:active,
.notification_widget.active,
.open > .dropdown-toggle.notification_widget {
  background-image: none;
}
.notification_widget.disabled:hover,
.notification_widget[disabled]:hover,
fieldset[disabled] .notification_widget:hover,
.notification_widget.disabled:focus,
.notification_widget[disabled]:focus,
fieldset[disabled] .notification_widget:focus,
.notification_widget.disabled.focus,
.notification_widget[disabled].focus,
fieldset[disabled] .notification_widget.focus {
  background-color: #fff;
  border-color: #ccc;
}
.notification_widget .badge {
  color: #fff;
  background-color: #333;
}
.notification_widget.warning {
  color: #fff;
  background-color: #f0ad4e;
  border-color: #eea236;
}
.notification_widget.warning:focus,
.notification_widget.warning.focus {
  color: #fff;
  background-color: #ec971f;
  border-color: #985f0d;
}
.notification_widget.warning:hover {
  color: #fff;
  background-color: #ec971f;
  border-color: #d58512;
}
.notification_widget.warning:active,
.notification_widget.warning.active,
.open > .dropdown-toggle.notification_widget.warning {
  color: #fff;
  background-color: #ec971f;
  border-color: #d58512;
}
.notification_widget.warning:active:hover,
.notification_widget.warning.active:hover,
.open > .dropdown-toggle.notification_widget.warning:hover,
.notification_widget.warning:active:focus,
.notification_widget.warning.active:focus,
.open > .dropdown-toggle.notification_widget.warning:focus,
.notification_widget.warning:active.focus,
.notification_widget.warning.active.focus,
.open > .dropdown-toggle.notification_widget.warning.focus {
  color: #fff;
  background-color: #d58512;
  border-color: #985f0d;
}
.notification_widget.warning:active,
.notification_widget.warning.active,
.open > .dropdown-toggle.notification_widget.warning {
  background-image: none;
}
.notification_widget.warning.disabled:hover,
.notification_widget.warning[disabled]:hover,
fieldset[disabled] .notification_widget.warning:hover,
.notification_widget.warning.disabled:focus,
.notification_widget.warning[disabled]:focus,
fieldset[disabled] .notification_widget.warning:focus,
.notification_widget.warning.disabled.focus,
.notification_widget.warning[disabled].focus,
fieldset[disabled] .notification_widget.warning.focus {
  background-color: #f0ad4e;
  border-color: #eea236;
}
.notification_widget.warning .badge {
  color: #f0ad4e;
  background-color: #fff;
}
.notification_widget.success {
  color: #fff;
  background-color: #5cb85c;
  border-color: #4cae4c;
}
.notification_widget.success:focus,
.notification_widget.success.focus {
  color: #fff;
  background-color: #449d44;
  border-color: #255625;
}
.notification_widget.success:hover {
  color: #fff;
  background-color: #449d44;
  border-color: #398439;
}
.notification_widget.success:active,
.notification_widget.success.active,
.open > .dropdown-toggle.notification_widget.success {
  color: #fff;
  background-color: #449d44;
  border-color: #398439;
}
.notification_widget.success:active:hover,
.notification_widget.success.active:hover,
.open > .dropdown-toggle.notification_widget.success:hover,
.notification_widget.success:active:focus,
.notification_widget.success.active:focus,
.open > .dropdown-toggle.notification_widget.success:focus,
.notification_widget.success:active.focus,
.notification_widget.success.active.focus,
.open > .dropdown-toggle.notification_widget.success.focus {
  color: #fff;
  background-color: #398439;
  border-color: #255625;
}
.notification_widget.success:active,
.notification_widget.success.active,
.open > .dropdown-toggle.notification_widget.success {
  background-image: none;
}
.notification_widget.success.disabled:hover,
.notification_widget.success[disabled]:hover,
fieldset[disabled] .notification_widget.success:hover,
.notification_widget.success.disabled:focus,
.notification_widget.success[disabled]:focus,
fieldset[disabled] .notification_widget.success:focus,
.notification_widget.success.disabled.focus,
.notification_widget.success[disabled].focus,
fieldset[disabled] .notification_widget.success.focus {
  background-color: #5cb85c;
  border-color: #4cae4c;
}
.notification_widget.success .badge {
  color: #5cb85c;
  background-color: #fff;
}
.notification_widget.info {
  color: #fff;
  background-color: #5bc0de;
  border-color: #46b8da;
}
.notification_widget.info:focus,
.notification_widget.info.focus {
  color: #fff;
  background-color: #31b0d5;
  border-color: #1b6d85;
}
.notification_widget.info:hover {
  color: #fff;
  background-color: #31b0d5;
  border-color: #269abc;
}
.notification_widget.info:active,
.notification_widget.info.active,
.open > .dropdown-toggle.notification_widget.info {
  color: #fff;
  background-color: #31b0d5;
  border-color: #269abc;
}
.notification_widget.info:active:hover,
.notification_widget.info.active:hover,
.open > .dropdown-toggle.notification_widget.info:hover,
.notification_widget.info:active:focus,
.notification_widget.info.active:focus,
.open > .dropdown-toggle.notification_widget.info:focus,
.notification_widget.info:active.focus,
.notification_widget.info.active.focus,
.open > .dropdown-toggle.notification_widget.info.focus {
  color: #fff;
  background-color: #269abc;
  border-color: #1b6d85;
}
.notification_widget.info:active,
.notification_widget.info.active,
.open > .dropdown-toggle.notification_widget.info {
  background-image: none;
}
.notification_widget.info.disabled:hover,
.notification_widget.info[disabled]:hover,
fieldset[disabled] .notification_widget.info:hover,
.notification_widget.info.disabled:focus,
.notification_widget.info[disabled]:focus,
fieldset[disabled] .notification_widget.info:focus,
.notification_widget.info.disabled.focus,
.notification_widget.info[disabled].focus,
fieldset[disabled] .notification_widget.info.focus {
  background-color: #5bc0de;
  border-color: #46b8da;
}
.notification_widget.info .badge {
  color: #5bc0de;
  background-color: #fff;
}
.notification_widget.danger {
  color: #fff;
  background-color: #d9534f;
  border-color: #d43f3a;
}
.notification_widget.danger:focus,
.notification_widget.danger.focus {
  color: #fff;
  background-color: #c9302c;
  border-color: #761c19;
}
.notification_widget.danger:hover {
  color: #fff;
  background-color: #c9302c;
  border-color: #ac2925;
}
.notification_widget.danger:active,
.notification_widget.danger.active,
.open > .dropdown-toggle.notification_widget.danger {
  color: #fff;
  background-color: #c9302c;
  border-color: #ac2925;
}
.notification_widget.danger:active:hover,
.notification_widget.danger.active:hover,
.open > .dropdown-toggle.notification_widget.danger:hover,
.notification_widget.danger:active:focus,
.notification_widget.danger.active:focus,
.open > .dropdown-toggle.notification_widget.danger:focus,
.notification_widget.danger:active.focus,
.notification_widget.danger.active.focus,
.open > .dropdown-toggle.notification_widget.danger.focus {
  color: #fff;
  background-color: #ac2925;
  border-color: #761c19;
}
.notification_widget.danger:active,
.notification_widget.danger.active,
.open > .dropdown-toggle.notification_widget.danger {
  background-image: none;
}
.notification_widget.danger.disabled:hover,
.notification_widget.danger[disabled]:hover,
fieldset[disabled] .notification_widget.danger:hover,
.notification_widget.danger.disabled:focus,
.notification_widget.danger[disabled]:focus,
fieldset[disabled] .notification_widget.danger:focus,
.notification_widget.danger.disabled.focus,
.notification_widget.danger[disabled].focus,
fieldset[disabled] .notification_widget.danger.focus {
  background-color: #d9534f;
  border-color: #d43f3a;
}
.notification_widget.danger .badge {
  color: #d9534f;
  background-color: #fff;
}
div#pager {
  background-color: #fff;
  font-size: 14px;
  line-height: 20px;
  overflow: hidden;
  display: none;
  position: fixed;
  bottom: 0px;
  width: 100%;
  max-height: 50%;
  padding-top: 8px;
  -webkit-box-shadow: 0px 0px 12px 1px rgba(87, 87, 87, 0.2);
  box-shadow: 0px 0px 12px 1px rgba(87, 87, 87, 0.2);
  /* Display over codemirror */
  z-index: 100;
  /* Hack which prevents jquery ui resizable from changing top. */
  top: auto !important;
}
div#pager pre {
  line-height: 1.21429em;
  color: #000;
  background-color: #f7f7f7;
  padding: 0.4em;
}
div#pager #pager-button-area {
  position: absolute;
  top: 8px;
  right: 20px;
}
div#pager #pager-contents {
  position: relative;
  overflow: auto;
  width: 100%;
  height: 100%;
}
div#pager #pager-contents #pager-container {
  position: relative;
  padding: 15px 0px;
  box-sizing: border-box;
  -moz-box-sizing: border-box;
  -webkit-box-sizing: border-box;
}
div#pager .ui-resizable-handle {
  top: 0px;
  height: 8px;
  background: #f7f7f7;
  border-top: 1px solid #cfcfcf;
  border-bottom: 1px solid #cfcfcf;
  /* This injects handle bars (a short, wide = symbol) for 
        the resize handle. */
}
div#pager .ui-resizable-handle::after {
  content: '';
  top: 2px;
  left: 50%;
  height: 3px;
  width: 30px;
  margin-left: -15px;
  position: absolute;
  border-top: 1px solid #cfcfcf;
}
.quickhelp {
  /* Old browsers */
  display: -webkit-box;
  -webkit-box-orient: horizontal;
  -webkit-box-align: stretch;
  display: -moz-box;
  -moz-box-orient: horizontal;
  -moz-box-align: stretch;
  display: box;
  box-orient: horizontal;
  box-align: stretch;
  /* Modern browsers */
  display: flex;
  flex-direction: row;
  align-items: stretch;
  line-height: 1.8em;
}
.shortcut_key {
  display: inline-block;
  width: 21ex;
  text-align: right;
  font-family: monospace;
}
.shortcut_descr {
  display: inline-block;
  /* Old browsers */
  -webkit-box-flex: 1;
  -moz-box-flex: 1;
  box-flex: 1;
  /* Modern browsers */
  flex: 1;
}
span.save_widget {
  height: 30px;
  margin-top: 4px;
  display: flex;
  justify-content: flex-start;
  align-items: baseline;
  width: 50%;
  flex: 1;
}
span.save_widget span.filename {
  height: 100%;
  line-height: 1em;
  margin-left: 16px;
  border: none;
  font-size: 146.5%;
  text-overflow: ellipsis;
  overflow: hidden;
  white-space: nowrap;
  border-radius: 2px;
}
span.save_widget span.filename:hover {
  background-color: #e6e6e6;
}
[dir="rtl"] span.save_widget.pull-left {
  float: right !important;
  float: right;
}
[dir="rtl"] span.save_widget span.filename {
  margin-left: 0;
  margin-right: 16px;
}
span.checkpoint_status,
span.autosave_status {
  font-size: small;
  white-space: nowrap;
  padding: 0 5px;
}
@media (max-width: 767px) {
  span.save_widget {
    font-size: small;
    padding: 0 0 0 5px;
  }
  span.checkpoint_status,
  span.autosave_status {
    display: none;
  }
}
@media (min-width: 768px) and (max-width: 991px) {
  span.checkpoint_status {
    display: none;
  }
  span.autosave_status {
    font-size: x-small;
  }
}
.toolbar {
  padding: 0px;
  margin-left: -5px;
  margin-top: 2px;
  margin-bottom: 5px;
  box-sizing: border-box;
  -moz-box-sizing: border-box;
  -webkit-box-sizing: border-box;
}
.toolbar select,
.toolbar label {
  width: auto;
  vertical-align: middle;
  margin-right: 2px;
  margin-bottom: 0px;
  display: inline;
  font-size: 92%;
  margin-left: 0.3em;
  margin-right: 0.3em;
  padding: 0px;
  padding-top: 3px;
}
.toolbar .btn {
  padding: 2px 8px;
}
.toolbar .btn-group {
  margin-top: 0px;
  margin-left: 5px;
}
.toolbar-btn-label {
  margin-left: 6px;
}
#maintoolbar {
  margin-bottom: -3px;
  margin-top: -8px;
  border: 0px;
  min-height: 27px;
  margin-left: 0px;
  padding-top: 11px;
  padding-bottom: 3px;
}
#maintoolbar .navbar-text {
  float: none;
  vertical-align: middle;
  text-align: right;
  margin-left: 5px;
  margin-right: 0px;
  margin-top: 0px;
}
.select-xs {
  height: 24px;
}
[dir="rtl"] .btn-group > .btn,
.btn-group-vertical > .btn {
  float: right;
}
.pulse,
.dropdown-menu > li > a.pulse,
li.pulse > a.dropdown-toggle,
li.pulse.open > a.dropdown-toggle {
  background-color: #F37626;
  color: white;
}
/**
 * Primary styles
 *
 * Author: Jupyter Development Team
 */
/** WARNING IF YOU ARE EDITTING THIS FILE, if this is a .css file, It has a lot
 * of chance of beeing generated from the ../less/[samename].less file, you can
 * try to get back the less file by reverting somme commit in history
 **/
/*
 * We'll try to get something pretty, so we
 * have some strange css to have the scroll bar on
 * the left with fix button on the top right of the tooltip
 */
@-moz-keyframes fadeOut {
  from {
    opacity: 1;
  }
  to {
    opacity: 0;
  }
}
@-webkit-keyframes fadeOut {
  from {
    opacity: 1;
  }
  to {
    opacity: 0;
  }
}
@-moz-keyframes fadeIn {
  from {
    opacity: 0;
  }
  to {
    opacity: 1;
  }
}
@-webkit-keyframes fadeIn {
  from {
    opacity: 0;
  }
  to {
    opacity: 1;
  }
}
/*properties of tooltip after "expand"*/
.bigtooltip {
  overflow: auto;
  height: 200px;
  -webkit-transition-property: height;
  -webkit-transition-duration: 500ms;
  -moz-transition-property: height;
  -moz-transition-duration: 500ms;
  transition-property: height;
  transition-duration: 500ms;
}
/*properties of tooltip before "expand"*/
.smalltooltip {
  -webkit-transition-property: height;
  -webkit-transition-duration: 500ms;
  -moz-transition-property: height;
  -moz-transition-duration: 500ms;
  transition-property: height;
  transition-duration: 500ms;
  text-overflow: ellipsis;
  overflow: hidden;
  height: 80px;
}
.tooltipbuttons {
  position: absolute;
  padding-right: 15px;
  top: 0px;
  right: 0px;
}
.tooltiptext {
  /*avoid the button to overlap on some docstring*/
  padding-right: 30px;
}
.ipython_tooltip {
  max-width: 700px;
  /*fade-in animation when inserted*/
  -webkit-animation: fadeOut 400ms;
  -moz-animation: fadeOut 400ms;
  animation: fadeOut 400ms;
  -webkit-animation: fadeIn 400ms;
  -moz-animation: fadeIn 400ms;
  animation: fadeIn 400ms;
  vertical-align: middle;
  background-color: #f7f7f7;
  overflow: visible;
  border: #ababab 1px solid;
  outline: none;
  padding: 3px;
  margin: 0px;
  padding-left: 7px;
  font-family: monospace;
  min-height: 50px;
  -moz-box-shadow: 0px 6px 10px -1px #adadad;
  -webkit-box-shadow: 0px 6px 10px -1px #adadad;
  box-shadow: 0px 6px 10px -1px #adadad;
  border-radius: 2px;
  position: absolute;
  z-index: 1000;
}
.ipython_tooltip a {
  float: right;
}
.ipython_tooltip .tooltiptext pre {
  border: 0;
  border-radius: 0;
  font-size: 100%;
  background-color: #f7f7f7;
}
.pretooltiparrow {
  left: 0px;
  margin: 0px;
  top: -16px;
  width: 40px;
  height: 16px;
  overflow: hidden;
  position: absolute;
}
.pretooltiparrow:before {
  background-color: #f7f7f7;
  border: 1px #ababab solid;
  z-index: 11;
  content: "";
  position: absolute;
  left: 15px;
  top: 10px;
  width: 25px;
  height: 25px;
  -webkit-transform: rotate(45deg);
  -moz-transform: rotate(45deg);
  -ms-transform: rotate(45deg);
  -o-transform: rotate(45deg);
}
ul.typeahead-list i {
  margin-left: -10px;
  width: 18px;
}
[dir="rtl"] ul.typeahead-list i {
  margin-left: 0;
  margin-right: -10px;
}
ul.typeahead-list {
  max-height: 80vh;
  overflow: auto;
}
ul.typeahead-list > li > a {
  /** Firefox bug **/
  /* see https://github.com/jupyter/notebook/issues/559 */
  white-space: normal;
}
ul.typeahead-list  > li > a.pull-right {
  float: left !important;
  float: left;
}
[dir="rtl"] .typeahead-list {
  text-align: right;
}
.cmd-palette .modal-body {
  padding: 7px;
}
.cmd-palette form {
  background: white;
}
.cmd-palette input {
  outline: none;
}
.no-shortcut {
  min-width: 20px;
  color: transparent;
}
[dir="rtl"] .no-shortcut.pull-right {
  float: left !important;
  float: left;
}
[dir="rtl"] .command-shortcut.pull-right {
  float: left !important;
  float: left;
}
.command-shortcut:before {
  content: "(command mode)";
  padding-right: 3px;
  color: #777777;
}
.edit-shortcut:before {
  content: "(edit)";
  padding-right: 3px;
  color: #777777;
}
[dir="rtl"] .edit-shortcut.pull-right {
  float: left !important;
  float: left;
}
#find-and-replace #replace-preview .match,
#find-and-replace #replace-preview .insert {
  background-color: #BBDEFB;
  border-color: #90CAF9;
  border-style: solid;
  border-width: 1px;
  border-radius: 0px;
}
[dir="ltr"] #find-and-replace .input-group-btn + .form-control {
  border-left: none;
}
[dir="rtl"] #find-and-replace .input-group-btn + .form-control {
  border-right: none;
}
#find-and-replace #replace-preview .replace .match {
  background-color: #FFCDD2;
  border-color: #EF9A9A;
  border-radius: 0px;
}
#find-and-replace #replace-preview .replace .insert {
  background-color: #C8E6C9;
  border-color: #A5D6A7;
  border-radius: 0px;
}
#find-and-replace #replace-preview {
  max-height: 60vh;
  overflow: auto;
}
#find-and-replace #replace-preview pre {
  padding: 5px 10px;
}
.terminal-app {
  background: #EEE;
}
.terminal-app #header {
  background: #fff;
  -webkit-box-shadow: 0px 0px 12px 1px rgba(87, 87, 87, 0.2);
  box-shadow: 0px 0px 12px 1px rgba(87, 87, 87, 0.2);
}
.terminal-app .terminal {
  width: 100%;
  float: left;
  font-family: monospace;
  color: white;
  background: black;
  padding: 0.4em;
  border-radius: 2px;
  -webkit-box-shadow: 0px 0px 12px 1px rgba(87, 87, 87, 0.4);
  box-shadow: 0px 0px 12px 1px rgba(87, 87, 87, 0.4);
}
.terminal-app .terminal,
.terminal-app .terminal dummy-screen {
  line-height: 1em;
  font-size: 14px;
}
.terminal-app .terminal .xterm-rows {
  padding: 10px;
}
.terminal-app .terminal-cursor {
  color: black;
  background: white;
}
.terminal-app #terminado-container {
  margin-top: 20px;
}
/*# sourceMappingURL=style.min.css.map */
    </style>
<style type="text/css">
    .highlight .hll { background-color: #ffffcc }
.highlight  { background: #f8f8f8; }
.highlight .c { color: #408080; font-style: italic } /* Comment */
.highlight .err { border: 1px solid #FF0000 } /* Error */
.highlight .k { color: #008000; font-weight: bold } /* Keyword */
.highlight .o { color: #666666 } /* Operator */
.highlight .ch { color: #408080; font-style: italic } /* Comment.Hashbang */
.highlight .cm { color: #408080; font-style: italic } /* Comment.Multiline */
.highlight .cp { color: #BC7A00 } /* Comment.Preproc */
.highlight .cpf { color: #408080; font-style: italic } /* Comment.PreprocFile */
.highlight .c1 { color: #408080; font-style: italic } /* Comment.Single */
.highlight .cs { color: #408080; font-style: italic } /* Comment.Special */
.highlight .gd { color: #A00000 } /* Generic.Deleted */
.highlight .ge { font-style: italic } /* Generic.Emph */
.highlight .gr { color: #FF0000 } /* Generic.Error */
.highlight .gh { color: #000080; font-weight: bold } /* Generic.Heading */
.highlight .gi { color: #00A000 } /* Generic.Inserted */
.highlight .go { color: #888888 } /* Generic.Output */
.highlight .gp { color: #000080; font-weight: bold } /* Generic.Prompt */
.highlight .gs { font-weight: bold } /* Generic.Strong */
.highlight .gu { color: #800080; font-weight: bold } /* Generic.Subheading */
.highlight .gt { color: #0044DD } /* Generic.Traceback */
.highlight .kc { color: #008000; font-weight: bold } /* Keyword.Constant */
.highlight .kd { color: #008000; font-weight: bold } /* Keyword.Declaration */
.highlight .kn { color: #008000; font-weight: bold } /* Keyword.Namespace */
.highlight .kp { color: #008000 } /* Keyword.Pseudo */
.highlight .kr { color: #008000; font-weight: bold } /* Keyword.Reserved */
.highlight .kt { color: #B00040 } /* Keyword.Type */
.highlight .m { color: #666666 } /* Literal.Number */
.highlight .s { color: #BA2121 } /* Literal.String */
.highlight .na { color: #7D9029 } /* Name.Attribute */
.highlight .nb { color: #008000 } /* Name.Builtin */
.highlight .nc { color: #0000FF; font-weight: bold } /* Name.Class */
.highlight .no { color: #880000 } /* Name.Constant */
.highlight .nd { color: #AA22FF } /* Name.Decorator */
.highlight .ni { color: #999999; font-weight: bold } /* Name.Entity */
.highlight .ne { color: #D2413A; font-weight: bold } /* Name.Exception */
.highlight .nf { color: #0000FF } /* Name.Function */
.highlight .nl { color: #A0A000 } /* Name.Label */
.highlight .nn { color: #0000FF; font-weight: bold } /* Name.Namespace */
.highlight .nt { color: #008000; font-weight: bold } /* Name.Tag */
.highlight .nv { color: #19177C } /* Name.Variable */
.highlight .ow { color: #AA22FF; font-weight: bold } /* Operator.Word */
.highlight .w { color: #bbbbbb } /* Text.Whitespace */
.highlight .mb { color: #666666 } /* Literal.Number.Bin */
.highlight .mf { color: #666666 } /* Literal.Number.Float */
.highlight .mh { color: #666666 } /* Literal.Number.Hex */
.highlight .mi { color: #666666 } /* Literal.Number.Integer */
.highlight .mo { color: #666666 } /* Literal.Number.Oct */
.highlight .sa { color: #BA2121 } /* Literal.String.Affix */
.highlight .sb { color: #BA2121 } /* Literal.String.Backtick */
.highlight .sc { color: #BA2121 } /* Literal.String.Char */
.highlight .dl { color: #BA2121 } /* Literal.String.Delimiter */
.highlight .sd { color: #BA2121; font-style: italic } /* Literal.String.Doc */
.highlight .s2 { color: #BA2121 } /* Literal.String.Double */
.highlight .se { color: #BB6622; font-weight: bold } /* Literal.String.Escape */
.highlight .sh { color: #BA2121 } /* Literal.String.Heredoc */
.highlight .si { color: #BB6688; font-weight: bold } /* Literal.String.Interpol */
.highlight .sx { color: #008000 } /* Literal.String.Other */
.highlight .sr { color: #BB6688 } /* Literal.String.Regex */
.highlight .s1 { color: #BA2121 } /* Literal.String.Single */
.highlight .ss { color: #19177C } /* Literal.String.Symbol */
.highlight .bp { color: #008000 } /* Name.Builtin.Pseudo */
.highlight .fm { color: #0000FF } /* Name.Function.Magic */
.highlight .vc { color: #19177C } /* Name.Variable.Class */
.highlight .vg { color: #19177C } /* Name.Variable.Global */
.highlight .vi { color: #19177C } /* Name.Variable.Instance */
.highlight .vm { color: #19177C } /* Name.Variable.Magic */
.highlight .il { color: #666666 } /* Literal.Number.Integer.Long */
    </style>


<style type="text/css">
/* Overrides of notebook CSS for static HTML export */
body {
  overflow: visible;
  padding: 8px;
}

div#notebook {
  overflow: visible;
  border-top: none;
}@media print {
  div.cell {
    display: block;
    page-break-inside: avoid;
  } 
  div.output_wrapper { 
    display: block;
    page-break-inside: avoid; 
  }
  div.output { 
    display: block;
    page-break-inside: avoid; 
  }
}
</style>

<!-- Custom stylesheet, it must be in the same directory as the html file -->
<link rel="stylesheet" href="custom.css">

<!-- Loading mathjax macro -->
<!-- Load mathjax -->
    <script src="https://cdnjs.cloudflare.com/ajax/libs/mathjax/2.7.5/latest.js?config=TeX-AMS_HTML"></script>
    <!-- MathJax configuration -->
    <script type="text/x-mathjax-config">
    MathJax.Hub.Config({
        tex2jax: {
            inlineMath: [ ['$','$'], ["\\(","\\)"] ],
            displayMath: [ ['$$','$$'], ["\\[","\\]"] ],
            processEscapes: true,
            processEnvironments: true
        },
        // Center justify equations in code and markdown cells. Elsewhere
        // we use CSS to left justify single line equations in code cells.
        displayAlign: 'center',
        "HTML-CSS": {
            styles: {'.MathJax_Display': {"margin": 0}},
            linebreaks: { automatic: true }
        }
    });
    </script>
    <!-- End of mathjax configuration --></head>
<body>
  <div tabindex="-1" id="notebook" class="border-box-sizing">
    <div class="container" id="notebook-container">

<div class="cell border-box-sizing code_cell rendered">
<div class="input">
<div class="prompt input_prompt">In&nbsp;[1]:</div>
<div class="inner_cell">
    <div class="input_area">
<div class=" highlight hl-ipython3"><pre><span></span><span class="c1">##importing necessary libaries </span>
<span class="kn">import</span> <span class="nn">numpy</span> <span class="k">as</span> <span class="nn">np</span>
<span class="kn">import</span> <span class="nn">pandas</span> <span class="k">as</span> <span class="nn">pd</span>
<span class="kn">import</span> <span class="nn">seaborn</span> <span class="k">as</span> <span class="nn">sns</span>
<span class="n">sns</span><span class="o">.</span><span class="n">set_style</span><span class="p">(</span><span class="s2">&quot;darkgrid&quot;</span><span class="p">)</span>
<span class="kn">import</span> <span class="nn">matplotlib.pyplot</span> <span class="k">as</span> <span class="nn">plt</span>
<span class="kn">from</span> <span class="nn">sklearn.preprocessing</span> <span class="kn">import</span> <span class="n">StandardScaler</span>
<span class="kn">import</span> <span class="nn">warnings</span>
<span class="n">warnings</span><span class="o">.</span><span class="n">filterwarnings</span><span class="p">(</span><span class="s2">&quot;ignore&quot;</span><span class="p">)</span>
</pre></div>

    </div>
</div>
</div>

</div>
<div class="cell border-box-sizing text_cell rendered"><div class="prompt input_prompt">
</div><div class="inner_cell">
<div class="text_cell_render border-box-sizing rendered_html">
<h5 id="Reading-the-dataset">Reading the dataset<a class="anchor-link" href="#Reading-the-dataset">&#182;</a></h5>
</div>
</div>
</div>
<div class="cell border-box-sizing code_cell rendered">
<div class="input">
<div class="prompt input_prompt">In&nbsp;[2]:</div>
<div class="inner_cell">
    <div class="input_area">
<div class=" highlight hl-ipython3"><pre><span></span><span class="n">df</span><span class="o">=</span><span class="n">pd</span><span class="o">.</span><span class="n">read_excel</span><span class="p">(</span><span class="s2">&quot;HeartDeasese.xlsx&quot;</span><span class="p">)</span>
</pre></div>

    </div>
</div>
</div>

</div>
<div class="cell border-box-sizing code_cell rendered">
<div class="input">
<div class="prompt input_prompt">In&nbsp;[3]:</div>
<div class="inner_cell">
    <div class="input_area">
<div class=" highlight hl-ipython3"><pre><span></span><span class="n">df</span><span class="o">.</span><span class="n">head</span><span class="p">()</span>
</pre></div>

    </div>
</div>
</div>

<div class="output_wrapper">
<div class="output">


<div class="output_area">

    <div class="prompt output_prompt">Out[3]:</div>



<div class="output_html rendered_html output_subarea output_execute_result">

  <div id="df-5b8ad39a-0b19-468b-9f65-527c7541c8ee">
    <div class="colab-df-container">
      <div>
<style scoped>
    .dataframe tbody tr th:only-of-type {
        vertical-align: middle;
    }

    .dataframe tbody tr th {
        vertical-align: top;
    }

    .dataframe thead th {
        text-align: right;
    }
</style>
<table border="1" class="dataframe">
  <thead>
    <tr style="text-align: right;">
      <th></th>
      <th>age</th>
      <th>sex</th>
      <th>cp</th>
      <th>trestbps</th>
      <th>chol</th>
      <th>fbs</th>
      <th>restecg</th>
      <th>thalach</th>
      <th>exang</th>
      <th>oldpeak</th>
      <th>slope</th>
      <th>ca</th>
      <th>thal</th>
      <th>target</th>
    </tr>
  </thead>
  <tbody>
    <tr>
      <th>0</th>
      <td>63</td>
      <td>1</td>
      <td>3</td>
      <td>145</td>
      <td>233</td>
      <td>1</td>
      <td>0</td>
      <td>150</td>
      <td>0</td>
      <td>2.3</td>
      <td>0</td>
      <td>0</td>
      <td>1</td>
      <td>1</td>
    </tr>
    <tr>
      <th>1</th>
      <td>37</td>
      <td>1</td>
      <td>2</td>
      <td>130</td>
      <td>250</td>
      <td>0</td>
      <td>1</td>
      <td>187</td>
      <td>0</td>
      <td>3.5</td>
      <td>0</td>
      <td>0</td>
      <td>2</td>
      <td>1</td>
    </tr>
    <tr>
      <th>2</th>
      <td>41</td>
      <td>0</td>
      <td>1</td>
      <td>130</td>
      <td>204</td>
      <td>0</td>
      <td>0</td>
      <td>172</td>
      <td>0</td>
      <td>1.4</td>
      <td>2</td>
      <td>0</td>
      <td>2</td>
      <td>1</td>
    </tr>
    <tr>
      <th>3</th>
      <td>56</td>
      <td>1</td>
      <td>1</td>
      <td>120</td>
      <td>236</td>
      <td>0</td>
      <td>1</td>
      <td>178</td>
      <td>0</td>
      <td>0.8</td>
      <td>2</td>
      <td>0</td>
      <td>2</td>
      <td>1</td>
    </tr>
    <tr>
      <th>4</th>
      <td>57</td>
      <td>0</td>
      <td>0</td>
      <td>120</td>
      <td>354</td>
      <td>0</td>
      <td>1</td>
      <td>163</td>
      <td>1</td>
      <td>0.6</td>
      <td>2</td>
      <td>0</td>
      <td>2</td>
      <td>1</td>
    </tr>
  </tbody>
</table>
</div>
      <button class="colab-df-convert" onclick="convertToInteractive('df-5b8ad39a-0b19-468b-9f65-527c7541c8ee')"
              title="Convert this dataframe to an interactive table."
              style="display:none;">
        
  <svg xmlns="http://www.w3.org/2000/svg" height="24px"viewBox="0 0 24 24"
       width="24px">
    <path d="M0 0h24v24H0V0z" fill="none"/>
    <path d="M18.56 5.44l.94 2.06.94-2.06 2.06-.94-2.06-.94-.94-2.06-.94 2.06-2.06.94zm-11 1L8.5 8.5l.94-2.06 2.06-.94-2.06-.94L8.5 2.5l-.94 2.06-2.06.94zm10 10l.94 2.06.94-2.06 2.06-.94-2.06-.94-.94-2.06-.94 2.06-2.06.94z"/><path d="M17.41 7.96l-1.37-1.37c-.4-.4-.92-.59-1.43-.59-.52 0-1.04.2-1.43.59L10.3 9.45l-7.72 7.72c-.78.78-.78 2.05 0 2.83L4 21.41c.39.39.9.59 1.41.59.51 0 1.02-.2 1.41-.59l7.78-7.78 2.81-2.81c.8-.78.8-2.07 0-2.86zM5.41 20L4 18.59l7.72-7.72 1.47 1.35L5.41 20z"/>
  </svg>
      </button>
      
  <style>
    .colab-df-container {
      display:flex;
      flex-wrap:wrap;
      gap: 12px;
    }

    .colab-df-convert {
      background-color: #E8F0FE;
      border: none;
      border-radius: 50%;
      cursor: pointer;
      display: none;
      fill: #1967D2;
      height: 32px;
      padding: 0 0 0 0;
      width: 32px;
    }

    .colab-df-convert:hover {
      background-color: #E2EBFA;
      box-shadow: 0px 1px 2px rgba(60, 64, 67, 0.3), 0px 1px 3px 1px rgba(60, 64, 67, 0.15);
      fill: #174EA6;
    }

    [theme=dark] .colab-df-convert {
      background-color: #3B4455;
      fill: #D2E3FC;
    }

    [theme=dark] .colab-df-convert:hover {
      background-color: #434B5C;
      box-shadow: 0px 1px 3px 1px rgba(0, 0, 0, 0.15);
      filter: drop-shadow(0px 1px 2px rgba(0, 0, 0, 0.3));
      fill: #FFFFFF;
    }
  </style>

      <script>
        const buttonEl =
          document.querySelector('#df-5b8ad39a-0b19-468b-9f65-527c7541c8ee button.colab-df-convert');
        buttonEl.style.display =
          google.colab.kernel.accessAllowed ? 'block' : 'none';

        async function convertToInteractive(key) {
          const element = document.querySelector('#df-5b8ad39a-0b19-468b-9f65-527c7541c8ee');
          const dataTable =
            await google.colab.kernel.invokeFunction('convertToInteractive',
                                                     [key], {});
          if (!dataTable) return;

          const docLinkHtml = 'Like what you see? Visit the ' +
            '<a target="_blank" href=https://colab.research.google.com/notebooks/data_table.ipynb>data table notebook</a>'
            + ' to learn more about interactive tables.';
          element.innerHTML = '';
          dataTable['output_type'] = 'display_data';
          await google.colab.output.renderOutput(dataTable, element);
          const docLink = document.createElement('div');
          docLink.innerHTML = docLinkHtml;
          element.appendChild(docLink);
        }
      </script>
    </div>
  </div>
  
</div>

</div>

</div>
</div>

</div>
<div class="cell border-box-sizing code_cell rendered">
<div class="input">
<div class="prompt input_prompt">In&nbsp;[4]:</div>
<div class="inner_cell">
    <div class="input_area">
<div class=" highlight hl-ipython3"><pre><span></span><span class="n">df</span><span class="o">.</span><span class="n">info</span><span class="p">()</span>
</pre></div>

    </div>
</div>
</div>

<div class="output_wrapper">
<div class="output">


<div class="output_area">

    <div class="prompt"></div>


<div class="output_subarea output_stream output_stdout output_text">
<pre>&lt;class &#39;pandas.core.frame.DataFrame&#39;&gt;
RangeIndex: 303 entries, 0 to 302
Data columns (total 14 columns):
 #   Column    Non-Null Count  Dtype  
---  ------    --------------  -----  
 0   age       303 non-null    int64  
 1   sex       303 non-null    int64  
 2   cp        303 non-null    int64  
 3   trestbps  303 non-null    int64  
 4   chol      303 non-null    int64  
 5   fbs       303 non-null    int64  
 6   restecg   303 non-null    int64  
 7   thalach   303 non-null    int64  
 8   exang     303 non-null    int64  
 9   oldpeak   303 non-null    float64
 10  slope     303 non-null    int64  
 11  ca        303 non-null    int64  
 12  thal      303 non-null    int64  
 13  target    303 non-null    int64  
dtypes: float64(1), int64(13)
memory usage: 33.3 KB
</pre>
</div>
</div>

</div>
</div>

</div>
<div class="cell border-box-sizing text_cell rendered"><div class="prompt input_prompt">
</div><div class="inner_cell">
<div class="text_cell_render border-box-sizing rendered_html">
<h4 id="No-null-Values">No null Values<a class="anchor-link" href="#No-null-Values">&#182;</a></h4>
</div>
</div>
</div>
<div class="cell border-box-sizing code_cell rendered">
<div class="input">
<div class="prompt input_prompt">In&nbsp;[5]:</div>
<div class="inner_cell">
    <div class="input_area">
<div class=" highlight hl-ipython3"><pre><span></span><span class="n">df</span><span class="o">.</span><span class="n">isnull</span><span class="p">()</span><span class="o">.</span><span class="n">sum</span><span class="p">()</span>
</pre></div>

    </div>
</div>
</div>

<div class="output_wrapper">
<div class="output">


<div class="output_area">

    <div class="prompt output_prompt">Out[5]:</div>




<div class="output_text output_subarea output_execute_result">
<pre>age         0
sex         0
cp          0
trestbps    0
chol        0
fbs         0
restecg     0
thalach     0
exang       0
oldpeak     0
slope       0
ca          0
thal        0
target      0
dtype: int64</pre>
</div>

</div>

</div>
</div>

</div>
<div class="cell border-box-sizing code_cell rendered">
<div class="input">
<div class="prompt input_prompt">In&nbsp;[6]:</div>
<div class="inner_cell">
    <div class="input_area">
<div class=" highlight hl-ipython3"><pre><span></span><span class="n">df</span><span class="o">.</span><span class="n">shape</span>
</pre></div>

    </div>
</div>
</div>

<div class="output_wrapper">
<div class="output">


<div class="output_area">

    <div class="prompt output_prompt">Out[6]:</div>




<div class="output_text output_subarea output_execute_result">
<pre>(303, 14)</pre>
</div>

</div>

</div>
</div>

</div>
<div class="cell border-box-sizing text_cell rendered"><div class="prompt input_prompt">
</div><div class="inner_cell">
<div class="text_cell_render border-box-sizing rendered_html">
<h5 id="Check-for-duplicates">Check for duplicates<a class="anchor-link" href="#Check-for-duplicates">&#182;</a></h5>
</div>
</div>
</div>
<div class="cell border-box-sizing code_cell rendered">
<div class="input">
<div class="prompt input_prompt">In&nbsp;[7]:</div>
<div class="inner_cell">
    <div class="input_area">
<div class=" highlight hl-ipython3"><pre><span></span><span class="n">duplicate</span><span class="o">=</span><span class="n">df</span><span class="p">[</span><span class="n">df</span><span class="o">.</span><span class="n">duplicated</span><span class="p">()]</span>
</pre></div>

    </div>
</div>
</div>

</div>
<div class="cell border-box-sizing code_cell rendered">
<div class="input">
<div class="prompt input_prompt">In&nbsp;[8]:</div>
<div class="inner_cell">
    <div class="input_area">
<div class=" highlight hl-ipython3"><pre><span></span><span class="n">duplicate</span>
</pre></div>

    </div>
</div>
</div>

<div class="output_wrapper">
<div class="output">


<div class="output_area">

    <div class="prompt output_prompt">Out[8]:</div>



<div class="output_html rendered_html output_subarea output_execute_result">

  <div id="df-74f78df5-7531-4d1e-aaf1-33b67b19ec7b">
    <div class="colab-df-container">
      <div>
<style scoped>
    .dataframe tbody tr th:only-of-type {
        vertical-align: middle;
    }

    .dataframe tbody tr th {
        vertical-align: top;
    }

    .dataframe thead th {
        text-align: right;
    }
</style>
<table border="1" class="dataframe">
  <thead>
    <tr style="text-align: right;">
      <th></th>
      <th>age</th>
      <th>sex</th>
      <th>cp</th>
      <th>trestbps</th>
      <th>chol</th>
      <th>fbs</th>
      <th>restecg</th>
      <th>thalach</th>
      <th>exang</th>
      <th>oldpeak</th>
      <th>slope</th>
      <th>ca</th>
      <th>thal</th>
      <th>target</th>
    </tr>
  </thead>
  <tbody>
    <tr>
      <th>164</th>
      <td>38</td>
      <td>1</td>
      <td>2</td>
      <td>138</td>
      <td>175</td>
      <td>0</td>
      <td>1</td>
      <td>173</td>
      <td>0</td>
      <td>0.0</td>
      <td>2</td>
      <td>4</td>
      <td>2</td>
      <td>1</td>
    </tr>
  </tbody>
</table>
</div>
      <button class="colab-df-convert" onclick="convertToInteractive('df-74f78df5-7531-4d1e-aaf1-33b67b19ec7b')"
              title="Convert this dataframe to an interactive table."
              style="display:none;">
        
  <svg xmlns="http://www.w3.org/2000/svg" height="24px"viewBox="0 0 24 24"
       width="24px">
    <path d="M0 0h24v24H0V0z" fill="none"/>
    <path d="M18.56 5.44l.94 2.06.94-2.06 2.06-.94-2.06-.94-.94-2.06-.94 2.06-2.06.94zm-11 1L8.5 8.5l.94-2.06 2.06-.94-2.06-.94L8.5 2.5l-.94 2.06-2.06.94zm10 10l.94 2.06.94-2.06 2.06-.94-2.06-.94-.94-2.06-.94 2.06-2.06.94z"/><path d="M17.41 7.96l-1.37-1.37c-.4-.4-.92-.59-1.43-.59-.52 0-1.04.2-1.43.59L10.3 9.45l-7.72 7.72c-.78.78-.78 2.05 0 2.83L4 21.41c.39.39.9.59 1.41.59.51 0 1.02-.2 1.41-.59l7.78-7.78 2.81-2.81c.8-.78.8-2.07 0-2.86zM5.41 20L4 18.59l7.72-7.72 1.47 1.35L5.41 20z"/>
  </svg>
      </button>
      
  <style>
    .colab-df-container {
      display:flex;
      flex-wrap:wrap;
      gap: 12px;
    }

    .colab-df-convert {
      background-color: #E8F0FE;
      border: none;
      border-radius: 50%;
      cursor: pointer;
      display: none;
      fill: #1967D2;
      height: 32px;
      padding: 0 0 0 0;
      width: 32px;
    }

    .colab-df-convert:hover {
      background-color: #E2EBFA;
      box-shadow: 0px 1px 2px rgba(60, 64, 67, 0.3), 0px 1px 3px 1px rgba(60, 64, 67, 0.15);
      fill: #174EA6;
    }

    [theme=dark] .colab-df-convert {
      background-color: #3B4455;
      fill: #D2E3FC;
    }

    [theme=dark] .colab-df-convert:hover {
      background-color: #434B5C;
      box-shadow: 0px 1px 3px 1px rgba(0, 0, 0, 0.15);
      filter: drop-shadow(0px 1px 2px rgba(0, 0, 0, 0.3));
      fill: #FFFFFF;
    }
  </style>

      <script>
        const buttonEl =
          document.querySelector('#df-74f78df5-7531-4d1e-aaf1-33b67b19ec7b button.colab-df-convert');
        buttonEl.style.display =
          google.colab.kernel.accessAllowed ? 'block' : 'none';

        async function convertToInteractive(key) {
          const element = document.querySelector('#df-74f78df5-7531-4d1e-aaf1-33b67b19ec7b');
          const dataTable =
            await google.colab.kernel.invokeFunction('convertToInteractive',
                                                     [key], {});
          if (!dataTable) return;

          const docLinkHtml = 'Like what you see? Visit the ' +
            '<a target="_blank" href=https://colab.research.google.com/notebooks/data_table.ipynb>data table notebook</a>'
            + ' to learn more about interactive tables.';
          element.innerHTML = '';
          dataTable['output_type'] = 'display_data';
          await google.colab.output.renderOutput(dataTable, element);
          const docLink = document.createElement('div');
          docLink.innerHTML = docLinkHtml;
          element.appendChild(docLink);
        }
      </script>
    </div>
  </div>
  
</div>

</div>

</div>
</div>

</div>
<div class="cell border-box-sizing text_cell rendered"><div class="prompt input_prompt">
</div><div class="inner_cell">
<div class="text_cell_render border-box-sizing rendered_html">
<h4 id="1-duplicate-found">1 duplicate found<a class="anchor-link" href="#1-duplicate-found">&#182;</a></h4><h4 id="Droping-the-duplicate">Droping the duplicate<a class="anchor-link" href="#Droping-the-duplicate">&#182;</a></h4>
</div>
</div>
</div>
<div class="cell border-box-sizing code_cell rendered">
<div class="input">
<div class="prompt input_prompt">In&nbsp;[9]:</div>
<div class="inner_cell">
    <div class="input_area">
<div class=" highlight hl-ipython3"><pre><span></span><span class="n">data</span><span class="o">=</span><span class="n">df</span><span class="o">.</span><span class="n">drop_duplicates</span><span class="p">()</span>
</pre></div>

    </div>
</div>
</div>

</div>
<div class="cell border-box-sizing code_cell rendered">
<div class="input">
<div class="prompt input_prompt">In&nbsp;[10]:</div>
<div class="inner_cell">
    <div class="input_area">
<div class=" highlight hl-ipython3"><pre><span></span><span class="n">data</span>
</pre></div>

    </div>
</div>
</div>

<div class="output_wrapper">
<div class="output">


<div class="output_area">

    <div class="prompt output_prompt">Out[10]:</div>



<div class="output_html rendered_html output_subarea output_execute_result">

  <div id="df-6abb7096-2463-4435-b92b-53c79c3cca6f">
    <div class="colab-df-container">
      <div>
<style scoped>
    .dataframe tbody tr th:only-of-type {
        vertical-align: middle;
    }

    .dataframe tbody tr th {
        vertical-align: top;
    }

    .dataframe thead th {
        text-align: right;
    }
</style>
<table border="1" class="dataframe">
  <thead>
    <tr style="text-align: right;">
      <th></th>
      <th>age</th>
      <th>sex</th>
      <th>cp</th>
      <th>trestbps</th>
      <th>chol</th>
      <th>fbs</th>
      <th>restecg</th>
      <th>thalach</th>
      <th>exang</th>
      <th>oldpeak</th>
      <th>slope</th>
      <th>ca</th>
      <th>thal</th>
      <th>target</th>
    </tr>
  </thead>
  <tbody>
    <tr>
      <th>0</th>
      <td>63</td>
      <td>1</td>
      <td>3</td>
      <td>145</td>
      <td>233</td>
      <td>1</td>
      <td>0</td>
      <td>150</td>
      <td>0</td>
      <td>2.3</td>
      <td>0</td>
      <td>0</td>
      <td>1</td>
      <td>1</td>
    </tr>
    <tr>
      <th>1</th>
      <td>37</td>
      <td>1</td>
      <td>2</td>
      <td>130</td>
      <td>250</td>
      <td>0</td>
      <td>1</td>
      <td>187</td>
      <td>0</td>
      <td>3.5</td>
      <td>0</td>
      <td>0</td>
      <td>2</td>
      <td>1</td>
    </tr>
    <tr>
      <th>2</th>
      <td>41</td>
      <td>0</td>
      <td>1</td>
      <td>130</td>
      <td>204</td>
      <td>0</td>
      <td>0</td>
      <td>172</td>
      <td>0</td>
      <td>1.4</td>
      <td>2</td>
      <td>0</td>
      <td>2</td>
      <td>1</td>
    </tr>
    <tr>
      <th>3</th>
      <td>56</td>
      <td>1</td>
      <td>1</td>
      <td>120</td>
      <td>236</td>
      <td>0</td>
      <td>1</td>
      <td>178</td>
      <td>0</td>
      <td>0.8</td>
      <td>2</td>
      <td>0</td>
      <td>2</td>
      <td>1</td>
    </tr>
    <tr>
      <th>4</th>
      <td>57</td>
      <td>0</td>
      <td>0</td>
      <td>120</td>
      <td>354</td>
      <td>0</td>
      <td>1</td>
      <td>163</td>
      <td>1</td>
      <td>0.6</td>
      <td>2</td>
      <td>0</td>
      <td>2</td>
      <td>1</td>
    </tr>
    <tr>
      <th>...</th>
      <td>...</td>
      <td>...</td>
      <td>...</td>
      <td>...</td>
      <td>...</td>
      <td>...</td>
      <td>...</td>
      <td>...</td>
      <td>...</td>
      <td>...</td>
      <td>...</td>
      <td>...</td>
      <td>...</td>
      <td>...</td>
    </tr>
    <tr>
      <th>298</th>
      <td>57</td>
      <td>0</td>
      <td>0</td>
      <td>140</td>
      <td>241</td>
      <td>0</td>
      <td>1</td>
      <td>123</td>
      <td>1</td>
      <td>0.2</td>
      <td>1</td>
      <td>0</td>
      <td>3</td>
      <td>0</td>
    </tr>
    <tr>
      <th>299</th>
      <td>45</td>
      <td>1</td>
      <td>3</td>
      <td>110</td>
      <td>264</td>
      <td>0</td>
      <td>1</td>
      <td>132</td>
      <td>0</td>
      <td>1.2</td>
      <td>1</td>
      <td>0</td>
      <td>3</td>
      <td>0</td>
    </tr>
    <tr>
      <th>300</th>
      <td>68</td>
      <td>1</td>
      <td>0</td>
      <td>144</td>
      <td>193</td>
      <td>1</td>
      <td>1</td>
      <td>141</td>
      <td>0</td>
      <td>3.4</td>
      <td>1</td>
      <td>2</td>
      <td>3</td>
      <td>0</td>
    </tr>
    <tr>
      <th>301</th>
      <td>57</td>
      <td>1</td>
      <td>0</td>
      <td>130</td>
      <td>131</td>
      <td>0</td>
      <td>1</td>
      <td>115</td>
      <td>1</td>
      <td>1.2</td>
      <td>1</td>
      <td>1</td>
      <td>3</td>
      <td>0</td>
    </tr>
    <tr>
      <th>302</th>
      <td>57</td>
      <td>0</td>
      <td>1</td>
      <td>130</td>
      <td>236</td>
      <td>0</td>
      <td>0</td>
      <td>174</td>
      <td>0</td>
      <td>0.0</td>
      <td>1</td>
      <td>1</td>
      <td>2</td>
      <td>0</td>
    </tr>
  </tbody>
</table>
<p>302 rows × 14 columns</p>
</div>
      <button class="colab-df-convert" onclick="convertToInteractive('df-6abb7096-2463-4435-b92b-53c79c3cca6f')"
              title="Convert this dataframe to an interactive table."
              style="display:none;">
        
  <svg xmlns="http://www.w3.org/2000/svg" height="24px"viewBox="0 0 24 24"
       width="24px">
    <path d="M0 0h24v24H0V0z" fill="none"/>
    <path d="M18.56 5.44l.94 2.06.94-2.06 2.06-.94-2.06-.94-.94-2.06-.94 2.06-2.06.94zm-11 1L8.5 8.5l.94-2.06 2.06-.94-2.06-.94L8.5 2.5l-.94 2.06-2.06.94zm10 10l.94 2.06.94-2.06 2.06-.94-2.06-.94-.94-2.06-.94 2.06-2.06.94z"/><path d="M17.41 7.96l-1.37-1.37c-.4-.4-.92-.59-1.43-.59-.52 0-1.04.2-1.43.59L10.3 9.45l-7.72 7.72c-.78.78-.78 2.05 0 2.83L4 21.41c.39.39.9.59 1.41.59.51 0 1.02-.2 1.41-.59l7.78-7.78 2.81-2.81c.8-.78.8-2.07 0-2.86zM5.41 20L4 18.59l7.72-7.72 1.47 1.35L5.41 20z"/>
  </svg>
      </button>
      
  <style>
    .colab-df-container {
      display:flex;
      flex-wrap:wrap;
      gap: 12px;
    }

    .colab-df-convert {
      background-color: #E8F0FE;
      border: none;
      border-radius: 50%;
      cursor: pointer;
      display: none;
      fill: #1967D2;
      height: 32px;
      padding: 0 0 0 0;
      width: 32px;
    }

    .colab-df-convert:hover {
      background-color: #E2EBFA;
      box-shadow: 0px 1px 2px rgba(60, 64, 67, 0.3), 0px 1px 3px 1px rgba(60, 64, 67, 0.15);
      fill: #174EA6;
    }

    [theme=dark] .colab-df-convert {
      background-color: #3B4455;
      fill: #D2E3FC;
    }

    [theme=dark] .colab-df-convert:hover {
      background-color: #434B5C;
      box-shadow: 0px 1px 3px 1px rgba(0, 0, 0, 0.15);
      filter: drop-shadow(0px 1px 2px rgba(0, 0, 0, 0.3));
      fill: #FFFFFF;
    }
  </style>

      <script>
        const buttonEl =
          document.querySelector('#df-6abb7096-2463-4435-b92b-53c79c3cca6f button.colab-df-convert');
        buttonEl.style.display =
          google.colab.kernel.accessAllowed ? 'block' : 'none';

        async function convertToInteractive(key) {
          const element = document.querySelector('#df-6abb7096-2463-4435-b92b-53c79c3cca6f');
          const dataTable =
            await google.colab.kernel.invokeFunction('convertToInteractive',
                                                     [key], {});
          if (!dataTable) return;

          const docLinkHtml = 'Like what you see? Visit the ' +
            '<a target="_blank" href=https://colab.research.google.com/notebooks/data_table.ipynb>data table notebook</a>'
            + ' to learn more about interactive tables.';
          element.innerHTML = '';
          dataTable['output_type'] = 'display_data';
          await google.colab.output.renderOutput(dataTable, element);
          const docLink = document.createElement('div');
          docLink.innerHTML = docLinkHtml;
          element.appendChild(docLink);
        }
      </script>
    </div>
  </div>
  
</div>

</div>

</div>
</div>

</div>
<div class="cell border-box-sizing code_cell rendered">
<div class="input">
<div class="prompt input_prompt">In&nbsp;[11]:</div>
<div class="inner_cell">
    <div class="input_area">
<div class=" highlight hl-ipython3"><pre><span></span><span class="n">data</span><span class="p">[</span><span class="n">data</span><span class="o">.</span><span class="n">duplicated</span><span class="p">()]</span>
</pre></div>

    </div>
</div>
</div>

<div class="output_wrapper">
<div class="output">


<div class="output_area">

    <div class="prompt output_prompt">Out[11]:</div>



<div class="output_html rendered_html output_subarea output_execute_result">

  <div id="df-950fdb44-5768-4e46-b128-228e43833d45">
    <div class="colab-df-container">
      <div>
<style scoped>
    .dataframe tbody tr th:only-of-type {
        vertical-align: middle;
    }

    .dataframe tbody tr th {
        vertical-align: top;
    }

    .dataframe thead th {
        text-align: right;
    }
</style>
<table border="1" class="dataframe">
  <thead>
    <tr style="text-align: right;">
      <th></th>
      <th>age</th>
      <th>sex</th>
      <th>cp</th>
      <th>trestbps</th>
      <th>chol</th>
      <th>fbs</th>
      <th>restecg</th>
      <th>thalach</th>
      <th>exang</th>
      <th>oldpeak</th>
      <th>slope</th>
      <th>ca</th>
      <th>thal</th>
      <th>target</th>
    </tr>
  </thead>
  <tbody>
  </tbody>
</table>
</div>
      <button class="colab-df-convert" onclick="convertToInteractive('df-950fdb44-5768-4e46-b128-228e43833d45')"
              title="Convert this dataframe to an interactive table."
              style="display:none;">
        
  <svg xmlns="http://www.w3.org/2000/svg" height="24px"viewBox="0 0 24 24"
       width="24px">
    <path d="M0 0h24v24H0V0z" fill="none"/>
    <path d="M18.56 5.44l.94 2.06.94-2.06 2.06-.94-2.06-.94-.94-2.06-.94 2.06-2.06.94zm-11 1L8.5 8.5l.94-2.06 2.06-.94-2.06-.94L8.5 2.5l-.94 2.06-2.06.94zm10 10l.94 2.06.94-2.06 2.06-.94-2.06-.94-.94-2.06-.94 2.06-2.06.94z"/><path d="M17.41 7.96l-1.37-1.37c-.4-.4-.92-.59-1.43-.59-.52 0-1.04.2-1.43.59L10.3 9.45l-7.72 7.72c-.78.78-.78 2.05 0 2.83L4 21.41c.39.39.9.59 1.41.59.51 0 1.02-.2 1.41-.59l7.78-7.78 2.81-2.81c.8-.78.8-2.07 0-2.86zM5.41 20L4 18.59l7.72-7.72 1.47 1.35L5.41 20z"/>
  </svg>
      </button>
      
  <style>
    .colab-df-container {
      display:flex;
      flex-wrap:wrap;
      gap: 12px;
    }

    .colab-df-convert {
      background-color: #E8F0FE;
      border: none;
      border-radius: 50%;
      cursor: pointer;
      display: none;
      fill: #1967D2;
      height: 32px;
      padding: 0 0 0 0;
      width: 32px;
    }

    .colab-df-convert:hover {
      background-color: #E2EBFA;
      box-shadow: 0px 1px 2px rgba(60, 64, 67, 0.3), 0px 1px 3px 1px rgba(60, 64, 67, 0.15);
      fill: #174EA6;
    }

    [theme=dark] .colab-df-convert {
      background-color: #3B4455;
      fill: #D2E3FC;
    }

    [theme=dark] .colab-df-convert:hover {
      background-color: #434B5C;
      box-shadow: 0px 1px 3px 1px rgba(0, 0, 0, 0.15);
      filter: drop-shadow(0px 1px 2px rgba(0, 0, 0, 0.3));
      fill: #FFFFFF;
    }
  </style>

      <script>
        const buttonEl =
          document.querySelector('#df-950fdb44-5768-4e46-b128-228e43833d45 button.colab-df-convert');
        buttonEl.style.display =
          google.colab.kernel.accessAllowed ? 'block' : 'none';

        async function convertToInteractive(key) {
          const element = document.querySelector('#df-950fdb44-5768-4e46-b128-228e43833d45');
          const dataTable =
            await google.colab.kernel.invokeFunction('convertToInteractive',
                                                     [key], {});
          if (!dataTable) return;

          const docLinkHtml = 'Like what you see? Visit the ' +
            '<a target="_blank" href=https://colab.research.google.com/notebooks/data_table.ipynb>data table notebook</a>'
            + ' to learn more about interactive tables.';
          element.innerHTML = '';
          dataTable['output_type'] = 'display_data';
          await google.colab.output.renderOutput(dataTable, element);
          const docLink = document.createElement('div');
          docLink.innerHTML = docLinkHtml;
          element.appendChild(docLink);
        }
      </script>
    </div>
  </div>
  
</div>

</div>

</div>
</div>

</div>
<div class="cell border-box-sizing code_cell rendered">
<div class="input">
<div class="prompt input_prompt">In&nbsp;[12]:</div>
<div class="inner_cell">
    <div class="input_area">
<div class=" highlight hl-ipython3"><pre><span></span><span class="n">data</span><span class="o">.</span><span class="n">shape</span>
</pre></div>

    </div>
</div>
</div>

<div class="output_wrapper">
<div class="output">


<div class="output_area">

    <div class="prompt output_prompt">Out[12]:</div>




<div class="output_text output_subarea output_execute_result">
<pre>(302, 14)</pre>
</div>

</div>

</div>
</div>

</div>
<div class="cell border-box-sizing text_cell rendered"><div class="prompt input_prompt">
</div><div class="inner_cell">
<div class="text_cell_render border-box-sizing rendered_html">
<h1 id="Central-Tendencies-and-Spread-of-data">Central Tendencies and Spread of data<a class="anchor-link" href="#Central-Tendencies-and-Spread-of-data">&#182;</a></h1>
</div>
</div>
</div>
<div class="cell border-box-sizing code_cell rendered">
<div class="input">
<div class="prompt input_prompt">In&nbsp;[13]:</div>
<div class="inner_cell">
    <div class="input_area">
<div class=" highlight hl-ipython3"><pre><span></span><span class="n">data</span><span class="o">.</span><span class="n">describe</span><span class="p">()</span>
</pre></div>

    </div>
</div>
</div>

<div class="output_wrapper">
<div class="output">


<div class="output_area">

    <div class="prompt output_prompt">Out[13]:</div>



<div class="output_html rendered_html output_subarea output_execute_result">

  <div id="df-f546b517-e060-4fa6-befa-618553d0c6fa">
    <div class="colab-df-container">
      <div>
<style scoped>
    .dataframe tbody tr th:only-of-type {
        vertical-align: middle;
    }

    .dataframe tbody tr th {
        vertical-align: top;
    }

    .dataframe thead th {
        text-align: right;
    }
</style>
<table border="1" class="dataframe">
  <thead>
    <tr style="text-align: right;">
      <th></th>
      <th>age</th>
      <th>sex</th>
      <th>cp</th>
      <th>trestbps</th>
      <th>chol</th>
      <th>fbs</th>
      <th>restecg</th>
      <th>thalach</th>
      <th>exang</th>
      <th>oldpeak</th>
      <th>slope</th>
      <th>ca</th>
      <th>thal</th>
      <th>target</th>
    </tr>
  </thead>
  <tbody>
    <tr>
      <th>count</th>
      <td>302.00000</td>
      <td>302.000000</td>
      <td>302.000000</td>
      <td>302.000000</td>
      <td>302.000000</td>
      <td>302.000000</td>
      <td>302.000000</td>
      <td>302.000000</td>
      <td>302.000000</td>
      <td>302.000000</td>
      <td>302.000000</td>
      <td>302.000000</td>
      <td>302.000000</td>
      <td>302.000000</td>
    </tr>
    <tr>
      <th>mean</th>
      <td>54.42053</td>
      <td>0.682119</td>
      <td>0.963576</td>
      <td>131.602649</td>
      <td>246.500000</td>
      <td>0.149007</td>
      <td>0.526490</td>
      <td>149.569536</td>
      <td>0.327815</td>
      <td>1.043046</td>
      <td>1.397351</td>
      <td>0.718543</td>
      <td>2.314570</td>
      <td>0.543046</td>
    </tr>
    <tr>
      <th>std</th>
      <td>9.04797</td>
      <td>0.466426</td>
      <td>1.032044</td>
      <td>17.563394</td>
      <td>51.753489</td>
      <td>0.356686</td>
      <td>0.526027</td>
      <td>22.903527</td>
      <td>0.470196</td>
      <td>1.161452</td>
      <td>0.616274</td>
      <td>1.006748</td>
      <td>0.613026</td>
      <td>0.498970</td>
    </tr>
    <tr>
      <th>min</th>
      <td>29.00000</td>
      <td>0.000000</td>
      <td>0.000000</td>
      <td>94.000000</td>
      <td>126.000000</td>
      <td>0.000000</td>
      <td>0.000000</td>
      <td>71.000000</td>
      <td>0.000000</td>
      <td>0.000000</td>
      <td>0.000000</td>
      <td>0.000000</td>
      <td>0.000000</td>
      <td>0.000000</td>
    </tr>
    <tr>
      <th>25%</th>
      <td>48.00000</td>
      <td>0.000000</td>
      <td>0.000000</td>
      <td>120.000000</td>
      <td>211.000000</td>
      <td>0.000000</td>
      <td>0.000000</td>
      <td>133.250000</td>
      <td>0.000000</td>
      <td>0.000000</td>
      <td>1.000000</td>
      <td>0.000000</td>
      <td>2.000000</td>
      <td>0.000000</td>
    </tr>
    <tr>
      <th>50%</th>
      <td>55.50000</td>
      <td>1.000000</td>
      <td>1.000000</td>
      <td>130.000000</td>
      <td>240.500000</td>
      <td>0.000000</td>
      <td>1.000000</td>
      <td>152.500000</td>
      <td>0.000000</td>
      <td>0.800000</td>
      <td>1.000000</td>
      <td>0.000000</td>
      <td>2.000000</td>
      <td>1.000000</td>
    </tr>
    <tr>
      <th>75%</th>
      <td>61.00000</td>
      <td>1.000000</td>
      <td>2.000000</td>
      <td>140.000000</td>
      <td>274.750000</td>
      <td>0.000000</td>
      <td>1.000000</td>
      <td>166.000000</td>
      <td>1.000000</td>
      <td>1.600000</td>
      <td>2.000000</td>
      <td>1.000000</td>
      <td>3.000000</td>
      <td>1.000000</td>
    </tr>
    <tr>
      <th>max</th>
      <td>77.00000</td>
      <td>1.000000</td>
      <td>3.000000</td>
      <td>200.000000</td>
      <td>564.000000</td>
      <td>1.000000</td>
      <td>2.000000</td>
      <td>202.000000</td>
      <td>1.000000</td>
      <td>6.200000</td>
      <td>2.000000</td>
      <td>4.000000</td>
      <td>3.000000</td>
      <td>1.000000</td>
    </tr>
  </tbody>
</table>
</div>
      <button class="colab-df-convert" onclick="convertToInteractive('df-f546b517-e060-4fa6-befa-618553d0c6fa')"
              title="Convert this dataframe to an interactive table."
              style="display:none;">
        
  <svg xmlns="http://www.w3.org/2000/svg" height="24px"viewBox="0 0 24 24"
       width="24px">
    <path d="M0 0h24v24H0V0z" fill="none"/>
    <path d="M18.56 5.44l.94 2.06.94-2.06 2.06-.94-2.06-.94-.94-2.06-.94 2.06-2.06.94zm-11 1L8.5 8.5l.94-2.06 2.06-.94-2.06-.94L8.5 2.5l-.94 2.06-2.06.94zm10 10l.94 2.06.94-2.06 2.06-.94-2.06-.94-.94-2.06-.94 2.06-2.06.94z"/><path d="M17.41 7.96l-1.37-1.37c-.4-.4-.92-.59-1.43-.59-.52 0-1.04.2-1.43.59L10.3 9.45l-7.72 7.72c-.78.78-.78 2.05 0 2.83L4 21.41c.39.39.9.59 1.41.59.51 0 1.02-.2 1.41-.59l7.78-7.78 2.81-2.81c.8-.78.8-2.07 0-2.86zM5.41 20L4 18.59l7.72-7.72 1.47 1.35L5.41 20z"/>
  </svg>
      </button>
      
  <style>
    .colab-df-container {
      display:flex;
      flex-wrap:wrap;
      gap: 12px;
    }

    .colab-df-convert {
      background-color: #E8F0FE;
      border: none;
      border-radius: 50%;
      cursor: pointer;
      display: none;
      fill: #1967D2;
      height: 32px;
      padding: 0 0 0 0;
      width: 32px;
    }

    .colab-df-convert:hover {
      background-color: #E2EBFA;
      box-shadow: 0px 1px 2px rgba(60, 64, 67, 0.3), 0px 1px 3px 1px rgba(60, 64, 67, 0.15);
      fill: #174EA6;
    }

    [theme=dark] .colab-df-convert {
      background-color: #3B4455;
      fill: #D2E3FC;
    }

    [theme=dark] .colab-df-convert:hover {
      background-color: #434B5C;
      box-shadow: 0px 1px 3px 1px rgba(0, 0, 0, 0.15);
      filter: drop-shadow(0px 1px 2px rgba(0, 0, 0, 0.3));
      fill: #FFFFFF;
    }
  </style>

      <script>
        const buttonEl =
          document.querySelector('#df-f546b517-e060-4fa6-befa-618553d0c6fa button.colab-df-convert');
        buttonEl.style.display =
          google.colab.kernel.accessAllowed ? 'block' : 'none';

        async function convertToInteractive(key) {
          const element = document.querySelector('#df-f546b517-e060-4fa6-befa-618553d0c6fa');
          const dataTable =
            await google.colab.kernel.invokeFunction('convertToInteractive',
                                                     [key], {});
          if (!dataTable) return;

          const docLinkHtml = 'Like what you see? Visit the ' +
            '<a target="_blank" href=https://colab.research.google.com/notebooks/data_table.ipynb>data table notebook</a>'
            + ' to learn more about interactive tables.';
          element.innerHTML = '';
          dataTable['output_type'] = 'display_data';
          await google.colab.output.renderOutput(dataTable, element);
          const docLink = document.createElement('div');
          docLink.innerHTML = docLinkHtml;
          element.appendChild(docLink);
        }
      </script>
    </div>
  </div>
  
</div>

</div>

</div>
</div>

</div>
<div class="cell border-box-sizing text_cell rendered"><div class="prompt input_prompt">
</div><div class="inner_cell">
<div class="text_cell_render border-box-sizing rendered_html">
<h6 id="Using-count-plot-on-the-categorical-variables-for-better-understanding">Using count plot on the categorical variables for better understanding<a class="anchor-link" href="#Using-count-plot-on-the-categorical-variables-for-better-understanding">&#182;</a></h6>
</div>
</div>
</div>
<div class="cell border-box-sizing code_cell rendered">
<div class="input">
<div class="prompt input_prompt">In&nbsp;[14]:</div>
<div class="inner_cell">
    <div class="input_area">
<div class=" highlight hl-ipython3"><pre><span></span><span class="n">category</span><span class="o">=</span><span class="n">data</span><span class="o">.</span><span class="n">loc</span><span class="p">[:,[</span><span class="s2">&quot;sex&quot;</span><span class="p">,</span><span class="s2">&quot;cp&quot;</span><span class="p">,</span><span class="s2">&quot;thal&quot;</span><span class="p">,</span><span class="s2">&quot;restecg&quot;</span><span class="p">,</span><span class="s2">&quot;slope&quot;</span><span class="p">,</span><span class="s2">&quot;ca&quot;</span><span class="p">,</span><span class="s2">&quot;fbs&quot;</span><span class="p">,</span><span class="s2">&quot;exang&quot;</span><span class="p">]]</span>
<span class="k">for</span> <span class="n">col</span> <span class="ow">in</span> <span class="n">category</span><span class="p">:</span>
     <span class="n">plt</span><span class="o">.</span><span class="n">figure</span><span class="p">(</span><span class="n">figsize</span><span class="o">=</span><span class="p">(</span><span class="mi">7</span><span class="p">,</span><span class="mi">5</span><span class="p">))</span>
     <span class="n">sns</span><span class="o">.</span><span class="n">countplot</span><span class="p">(</span><span class="n">x</span><span class="o">=</span><span class="n">category</span><span class="p">[</span><span class="n">col</span><span class="p">])</span>
     <span class="n">plt</span><span class="o">.</span><span class="n">show</span><span class="p">()</span>
</pre></div>

    </div>
</div>
</div>

<div class="output_wrapper">
<div class="output">


<div class="output_area">

    <div class="prompt"></div>




<div class="output_png output_subarea ">
<img src="data:image/png;base64,iVBORw0KGgoAAAANSUhEUgAAAb0AAAE9CAYAAACfnrycAAAAOXRFWHRTb2Z0d2FyZQBNYXRwbG90bGliIHZlcnNpb24zLjUuMywgaHR0cHM6Ly9tYXRwbG90bGliLm9yZy/NK7nSAAAACXBIWXMAAAsTAAALEwEAmpwYAAAXYElEQVR4nO3df0xV9/3H8dflXmlxUBC89xIJtLLSLFGry3csvbHDFIeugpVg7GaCVcZmOg3EsnSVNjOWGtGZZWiTuhKz1O/iNq0j3A3symD+2rqNqnVqo91cJYWm3Gv4VSxdpdf7/cPvbr9829Fbes89yOf5+MfLufee+za53GfO5957cITD4bAAADBAgt0DAAAQL0QPAGAMogcAMAbRAwAYg+gBAIxB9AAAxnDZPcDncePGDYVCfOMCAPCRadOc//G6Wzp6oVBYg4Mjdo8BAJhE3O6U/3gdy5sAAGMQPQCAMYgeAMAYRA8AYAyiBwAwBtEDABiD6AEAjEH0AADGIHoAAGMQPQCAMYgeAMAYt/S5NwFYIz11mpyJt9s9BgwRuv4v9Q+NxuWxiB6Aj3Em3q636ubZPQYMkbPlvKT4RI/lTQCAMYgeAMAYlkXvnXfe0Zo1a7Rs2TIVFxdr//79kqTBwUFVVFRoyZIlqqio0NDQkCQpHA5r27ZtKioq0vLly/X6669bNRoAwFCWRc/pdGrz5s06cuSIDh48qF/84he6fPmyGhsb5fP51NbWJp/Pp8bGRknSiRMn1NXVpba2Nj3zzDPaunWrVaMBAAxlWfQ8Ho/mzJkjSUpOTlZubq4CgYA6OjpUWloqSSotLVV7e7skRbY7HA4tWLBA7777roLBoFXjAQAMFJdPb/b09OjixYuaP3+++vr65PF4JElut1t9fX2SpEAgoMzMzMh9MjMzFQgEIrf9JE6nQ2lp060dHgBguXi9llsevffee0/V1dV68sknlZycPOY6h8Mhh8Mx4X2HQmENDo583hEB/D9ud4rdI8AwsXwtH+/5a+mnN0dHR1VdXa3ly5dryZIlkqSMjIzIsmUwGFR6erokyev1qre3N3Lf3t5eeb1eK8cDABjGsuiFw2E99dRTys3NVUVFRWR7YWGhmpubJUnNzc1avHjxmO3hcFhnz55VSkrKuEubAAB8VpYtb54+fVp+v1/33HOPVqxYIUmqqanR+vXrtWnTJh0+fFizZs1SQ0ODJGnRokU6fvy4ioqKlJSUpO3bt1s1GgDAUI5wOBy2e4iJGh0N8Z4eYAG3O4XTkCFucrac19WrwzHbn23v6QEAMJkQPQCAMYgeAMAYRA8AYAyiBwAwBtEDABiD6AEAjEH0AADGIHoAAGMQPQCAMYgeAMAYRA8AYAyiBwAwBtEDABiD6AEAjEH0AADGIHoAAGMQPQCAMYgeAMAYRA8AYAyiBwAwBtEDABjDZdWOa2trdezYMWVkZKilpUWStGnTJl25ckWSNDw8rJSUFPn9fvX09GjZsmWaPXu2JGn+/Pmqq6uzajQAgKEsi15ZWZnKy8v1xBNPRLY1NDRELu/YsUPJycmRn3NycuT3+60aBwAA65Y38/PzlZqa+onXhcNhvfTSSyopKbHq4QEA+Bhb3tM7deqUMjIydNddd0W29fT0qLS0VOXl5Tp16pQdYwEApjjLljfH09LSMuYoz+Px6OjRo5oxY4YuXLigjRs3qrW1dczy5ydxOh1KS5tu9bgAAIvF67U87tH78MMP9fvf/15NTU2RbYmJiUpMTJQkzZ07Vzk5Obpy5YrmzZs37r5CobAGB0csnRcwkdudYvcIMEwsX8vHe/7GfXnzlVdeUW5urjIzMyPb+vv7FQqFJEnd3d3q6upSdnZ2vEcDAExxlh3p1dTUqLOzUwMDAyooKFBVVZVWrVqlI0eOqLi4eMxtX331Ve3Zs0cul0sJCQl6+umnlZaWZtVoAABDOcLhcNjuISZqdDTE8iZgAbc7RW/Vjf/2AhArOVvO6+rV4Zjtb1ItbwIAYBeiBwAwBtEDABiD6AEAjEH0AADGIHoAAGMQPQCAMYgeAMAYRA8AYAyiBwAwBtEDABiD6AEAjEH0AADGIHoAAGMQPQCAMYgeAMAYRA8AYAyiBwAwBtEDABiD6AEAjEH0AADGIHoAAGMQPQCAMSyLXm1trXw+n0pKSiLbnn32WX3ta1/TihUrtGLFCh0/fjxy3fPPP6+ioiItXbpUJ0+etGosAIDBXFbtuKysTOXl5XriiSfGbF+3bp0qKyvHbLt8+bJaW1vV2tqqQCCgiooKvfzyy3I6nVaNBwAwkGVHevn5+UpNTY3qth0dHSouLlZiYqKys7N155136ty5c1aNBgAwlGVHev/JgQMH1NzcrLlz52rz5s1KTU1VIBDQ/PnzI7fxer0KBAKfui+n06G0tOlWjgsAiIN4vZbHNXqrV6/Whg0b5HA4tHv3bu3YsUP19fUT3l8oFNbg4EgMJwQgSW53it0jwDCxfC0f7/kb109vzpw5U06nUwkJCVq1apXOnz8v6eaRXW9vb+R2gUBAXq83nqMBAAwQ1+gFg8HI5fb2duXl5UmSCgsL1draquvXr6u7u1tdXV2699574zkaAMAAli1v1tTUqLOzUwMDAyooKFBVVZU6Ozt16dIlSVJWVpbq6uokSXl5eXrwwQe1bNkyOZ1ObdmyhU9uAgBizhEOh8N2DzFRo6Mh3tMDLOB2p+itunl2jwFD5Gw5r6tXh2O2v0nznh4AAHYiegAAYxA9AIAxiB4AwBhEDwBgDKIHADAG0QMAGIPoAQCMQfQAAMYgegAAYxA9AIAxiB4AwBhEDwBgDKIHADAG0QMAGIPoAQCMQfQAAMYgegAAYxA9AIAxiB4AwBhEDwBgDKIHADCGy6od19bW6tixY8rIyFBLS4skaefOnTp69KimTZumnJwc1dfX64477lBPT4+WLVum2bNnS5Lmz5+vuro6q0YDABjKsiO9srIy7du3b8y2hQsXqqWlRb/97W9111136fnnn49cl5OTI7/fL7/fT/AAAJawLHr5+flKTU0ds+3++++Xy3Xz4HLBggXq7e216uEBAPgY297T+/Wvf62CgoLIzz09PSotLVV5eblOnTpl11gAgCnMsvf0xrN37145nU499NBDkiSPx6OjR49qxowZunDhgjZu3KjW1lYlJyePux+n06G0tOnxGBkAYKF4vZbHPXpNTU06duyYXnjhBTkcDklSYmKiEhMTJUlz585VTk6Orly5onnz5o27r1AorMHBEctnBkzjdqfYPQIME8vX8vGev3Fd3jxx4oT27dunvXv3KikpKbK9v79foVBIktTd3a2uri5lZ2fHczQAgAEsO9KrqalRZ2enBgYGVFBQoKqqKjU2Nur69euqqKiQ9NFXE1599VXt2bNHLpdLCQkJevrpp5WWlmbVaAAAQznC4XDY7iEmanQ0xPImYAG3O0Vv1Y3/9gIQKzlbzuvq1eGY7W/SLG8CAGAnogcAMAbRAwAYg+gBAIwRVfTWrl0b1TYAACazcb+y8MEHH+j999/XwMCAhoaG9O8Pel67dk2BQCAuAwIAECvjRu9Xv/qV9u/fr2AwqLKyskj0kpOTVV5eHpcBAQCIlXGjt3btWq1du1Y///nPtWbNmnjNBACAJaI6I8uaNWt05swZvf3225HThUlSaWmpVXMBABBzUUXv8ccfV3d3t770pS/J6XRKkhwOB9EDANxSoorehQsXdOTIkchfRQAA4FYU1VcW8vLydPXqVatnAQDAUlEd6Q0MDKi4uFj33nuvpk2bFtn+05/+1LLBAACItaiiV1VVZfUcAABYLqroffWrX7V6DgAALBdV9L785S9HPsQyOjqqDz/8UElJSTpz5oylwwEAEEtRRe+1116LXA6Hw+ro6NDZs2etmgkAAEt85r+y4HA49PWvf11//OMfrZgHAADLRHWk19bWFrl848YNXbhwQbfddptlQwEAYIWoonf06NHIZafTqaysLD333HOWDQUAgBWiil59fb3VcwAAYLmo3tPr7e3Vxo0b5fP55PP5VFVVpd7eXqtnAwAgpqKKXm1trQoLC3Xy5EmdPHlSDzzwgGpra6O6n8/nU0lJSWTb4OCgKioqtGTJElVUVGhoaEjSzU+Fbtu2TUVFRVq+fLlef/31Cf6XAAD4ZFFFr7+/XytXrpTL5ZLL5VJZWZn6+/s/9X5lZWXat2/fmG2NjY3y+Xxqa2uTz+dTY2OjJOnEiRPq6upSW1ubnnnmGW3duvWz/28AABhHVNFLS0uT3+9XKBRSKBSS3+9XWlrap94vPz9fqampY7Z1dHRE/iRRaWmp2tvbx2x3OBxasGCB3n33XQWDwc/2vwEAYBxRRW/79u166aWXtHDhQt1///16+eWXtWPHjgk9YF9fnzwejyTJ7Xarr69PkhQIBJSZmRm5XWZmpgKBwIQeAwCATxLVpzf37NmjnTt3Ro7aBgcHtXPnzs/9qU6Hw/G5/kaf0+lQWtr0zzUDAMB+8Xotjyp6b7zxxphlyrS0NF28eHFCD5iRkaFgMCiPx6NgMKj09HRJktfrHfOJ0N7eXnm93nH3FQqFNTg4MqE5APxnbneK3SPAMLF8LR/v+RvV8uaNGzcin7KUbh7phUKhCQ1TWFio5uZmSVJzc7MWL148Zns4HNbZs2eVkpISWQYFACAWojrS+/a3v61vfvOb+sY3viFJ+t3vfqdHH330U+9XU1Ojzs5ODQwMqKCgQFVVVVq/fr02bdqkw4cPa9asWWpoaJAkLVq0SMePH1dRUZGSkpK0ffv2if+vAAD4BI5wOByO5oaXL1/WX/7yF0nSfffdp7vvvtvSwaIxOhpieROwgNudorfq5tk9BgyRs+W8rl4djtn+xlvejOpIT5LuvvvuSRE6KyXfcbuSbptm9xgwxPsfjOrau/+yewzAKFFHzwRJt03Tfz3+33aPAUOc3vWIronoAfH0mf+eHgAAtyqiBwAwBtEDABiD6AEAjEH0AADGIHoAAGMQPQCAMYgeAMAYRA8AYAyiBwAwBtEDABiD6AEAjEH0AADGIHoAAGMQPQCAMYgeAMAYRA8AYAyiBwAwBtEDABiD6AEAjEH0AADGcMX7Ad9880099thjkZ+7u7tVXV2t4eFhHTp0SOnp6ZKkmpoaLVq0KN7jAQCmsLhHLzc3V36/X5IUCoVUUFCgoqIiNTU1ad26daqsrIz3SAAAQ9i6vPnnP/9Z2dnZysrKsnMMAIAhbI1ea2urSkpKIj8fOHBAy5cvV21trYaGhmycDAAwFcV9efPfrl+/rj/84Q/6/ve/L0lavXq1NmzYIIfDod27d2vHjh2qr68fdx9Op0NpadPjMS5gCZ6/wE3x+l2wLXonTpzQnDlzNHPmTEmK/CtJq1at0qOPPvqp+wiFwhocHInZTG53Ssz2BUQjls/fWOJ3AfEWr9dy25Y3W1tbVVxcHPk5GAxGLre3tysvL8+OsQAAU5gtR3ojIyN65ZVXVFdXF9m2a9cuXbp0SZKUlZU15joAAGLBluhNnz5df/3rX8ds27Vrlx2jAAAMwhlZAADGIHoAAGMQPQCAMYgeAMAYRA8AYAyiBwAwBtEDABiD6AEAjEH0AADGIHoAAGMQPQCAMYgeAMAYRA8AYAyiBwAwBtEDABiD6AEAjEH0AADGIHoAAGMQPQCAMYgeAMAYRA8AYAyiBwAwhsuuBy4sLNQXvvAFJSQkyOl0qqmpSYODg3rsscf09ttvKysrSw0NDUpNTbVrRADAFGPrkd7+/fvl9/vV1NQkSWpsbJTP51NbW5t8Pp8aGxvtHA8AMMVMquXNjo4OlZaWSpJKS0vV3t5u70AAgCnF1uhVVlaqrKxMBw8elCT19fXJ4/FIktxut/r6+uwcDwAwxdj2nt4vf/lLeb1e9fX1qaKiQrm5uWOudzgccjgc4+7D6XQoLW26lWMCluL5C9wUr98F26Ln9XolSRkZGSoqKtK5c+eUkZGhYDAoj8ejYDCo9PT0cfcRCoU1ODgSs5nc7pSY7QuIRiyfv7HE7wLiLV6v5bYsb46MjOjatWuRy3/605+Ul5enwsJCNTc3S5Kam5u1ePFiO8YDAExRthzp9fX1aePGjZKkUCikkpISFRQUaN68edq0aZMOHz6sWbNmqaGhwY7xAABTlC3Ry87O1m9+85uPbZ8xY4b2799vw0QAABNMqq8sAABgJaIHADAG0QMAGIPoAQCMQfQAAMYgegAAYxA9AIAxiB4AwBhEDwBgDKIHADAG0QMAGIPoAQCMQfQAAMYgegAAYxA9AIAxiB4AwBhEDwBgDKIHADAG0QMAGIPoAQCMQfQAAMYgegAAYxA9AIAxXPF+wHfeeUc/+MEP1NfXJ4fDoYcfflhr167Vs88+q0OHDik9PV2SVFNTo0WLFsV7PADAFBb36DmdTm3evFlz5szRtWvXtHLlSi1cuFCStG7dOlVWVsZ7JACAIeIePY/HI4/HI0lKTk5Wbm6uAoFAvMcAABgo7tH7v3p6enTx4kXNnz9fZ86c0YEDB9Tc3Ky5c+dq8+bNSk1NHff+TqdDaWnT4zQtEHs8f4Gb4vW7YFv03nvvPVVXV+vJJ59UcnKyVq9erQ0bNsjhcGj37t3asWOH6uvrx91HKBTW4OBIzGZyu1Niti8gGrF8/sYSvwuIt3i9ltvy6c3R0VFVV1dr+fLlWrJkiSRp5syZcjqdSkhI0KpVq3T+/Hk7RgMATGFxj144HNZTTz2l3NxcVVRURLYHg8HI5fb2duXl5cV7NADAFBf35c3Tp0/L7/frnnvu0YoVKyTd/HpCS0uLLl26JEnKyspSXV1dvEcDAExxcY/eV77yFb3xxhsf28538gAAVuOMLAAAYxA9AIAxiB4AwBhEDwBgDKIHADAG0QMAGIPoAQCMQfQAAMYgegAAYxA9AIAxiB4AwBhEDwBgDKIHADAG0QMAGIPoAQCMQfQAAMYgegAAYxA9AIAxiB4AwBhEDwBgDKIHADAG0QMAGGPSRe/EiRNaunSpioqK1NjYaPc4AIApZFJFLxQKqa6uTvv27VNra6taWlp0+fJlu8cCAEwRkyp6586d05133qns7GwlJiaquLhYHR0ddo8FAJgiJlX0AoGAMjMzIz97vV4FAgEbJwIATCUuuwf4PKZNc8rtTonpPk/veiSm+wPGE+vnbyzlbDlv9wgwSLx+FybVkZ7X61Vvb2/k50AgIK/Xa+NEAICpZFJFb968eerq6lJ3d7euX7+u1tZWFRYW2j0WAGCKmFTLmy6XS1u2bNF3vvMdhUIhrVy5Unl5eXaPBQCYIhzhcDhs9xAAAMTDpFreBADASkQPAGAMoocJ45RxwE21tbXy+XwqKSmxexR8CqKHCeGUccBHysrKtG/fPrvHQBSIHiaEU8YBH8nPz1dqaqrdYyAKRA8TwinjANyKiB4AwBhEDxPCKeMA3IqIHiaEU8YBuBVxRhZM2PHjx7V9+/bIKeO+973v2T0SYIuamhp1dnZqYGBAGRkZqqqq0qpVq+weC5+A6AEAjMHyJgDAGEQPAGAMogcAMAbRAwAYg+gBAIxB9AAAxiB6AABjED3gFjEyMqL169froYceUklJiY4cOaILFy6ovLxcZWVlqqysVDAY1PDwsJYuXao333xT0s0vTh86dMjm6YHJwWX3AACic/LkSXk8nsgf7B0eHtZ3v/tdPffcc0pPT9eRI0f0k5/8RPX19dqyZYtqa2v1yCOPaGhoSA8//LDN0wOTA2dkAW4RV65cUWVlpR588EE98MADuuOOO/Stb31L2dnZkqQbN27I7XbrZz/7mSTphz/8odra2uT3+8f8GSjAZBzpAbeI2bNnq6mpScePH1dDQ4Puu+8+5eXl6eDBgx+77Y0bN/TPf/5Tt99+u4aGhoge8L94Tw+4RQQCASUlJWnFihWqrKzU3/72N/X39+u1116TJI2Ojuof//iHJOmFF17QF7/4Rf34xz9WbW2tRkdH7RwdmDQ40gNuEX//+9/1ox/9SAkJCXK5XNq6datcLpe2bdum4eFhhUIhrV27Vk6nUy+++KJefPFFJScnKz8/X3v37lV1dbXd/wXAdrynBwAwBsubAABjED0AgDGIHgDAGEQPAGAMogcAMAbRAwAYg+gBAIxB9AAAxvgfH8cHTx66wK0AAAAASUVORK5CYII=
"
>
</div>

</div>

<div class="output_area">

    <div class="prompt"></div>




<div class="output_png output_subarea ">
<img src="data:image/png;base64,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
"
>
</div>

</div>

<div class="output_area">

    <div class="prompt"></div>




<div class="output_png output_subarea ">
<img src="data:image/png;base64,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
"
>
</div>

</div>

<div class="output_area">

    <div class="prompt"></div>




<div class="output_png output_subarea ">
<img src="data:image/png;base64,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
"
>
</div>

</div>

<div class="output_area">

    <div class="prompt"></div>




<div class="output_png output_subarea ">
<img src="data:image/png;base64,iVBORw0KGgoAAAANSUhEUgAAAb0AAAE9CAYAAACfnrycAAAAOXRFWHRTb2Z0d2FyZQBNYXRwbG90bGliIHZlcnNpb24zLjUuMywgaHR0cHM6Ly9tYXRwbG90bGliLm9yZy/NK7nSAAAACXBIWXMAAAsTAAALEwEAmpwYAAAXQUlEQVR4nO3df2xV9f3H8dflXpCS/krZvbdBmRsIQkAKcYg3IMxi+VU6SrXzj41h3eI2TSvWdbMSkF/C+DHWbGaMpnFWFzNjxTIpSuWilCEMBBRUdCELAQz3lpReKr/b2/v9g3i/I2pp6z333PbzfPzVe245593cc3nmnHvvuY5IJBIRAAAG6GP3AAAAxAvRAwAYg+gBAIxB9AAAxiB6AABjED0AgDFcdg/wbbS3tysc5hMXAID/17ev8xvv69HRC4cjCoUu2j0GACCBuN0p33gfpzcBAMYgegAAYxA9AIAxiB4AwBhEDwBgDKIHADAG0QMAGIPoAQCMQfQAAMawLHrl5eXy+XyaPXv2V+57/vnndfvtt+vs2bOSpEgkohUrVignJ0d5eXn6+OOPrRoLAGAwy6JXUFCgqqqqryw/ffq0du/erUGDBkWXNTQ06Pjx46qvr9fy5cu1ZMkSq8YCABjMsmtvjh8/XqdOnfrK8lWrVqmsrEyPPvpodJnf71d+fr4cDofGjh2rlpYWNTY2yuPxWDUeAEiSktP6Kqlff7vHwDe4dPWyzp9rjdn64nrB6e3bt8vj8WjEiBHXLQ8Gg8rMzIzezszMVDAYJHoALJfUr78m/nmi3WPgG+wu3q3z6oHRu3TpkjZu3Kjnn38+Zut0Oh1KTx8Qs/XBHE61qU/fm+weAx1ob72icM/+IhjESCz/n4/bHnXixAmdOnVKc+bMkSQFAgEVFBTo1VdfldfrVSAQiP5uIBCQ1+u94Tr5aiF0l9udohPL7rB7DHTgu4uPqOnMF5Zvp6OvoUFi6Or/8x09pnGL3u233649e/ZEb2dnZ6umpkYZGRnKzs7W3//+d+Xm5urDDz9USkoKpzYBADFnWfRKS0u1b98+NTc3a/LkySouLlZhYeHX/u6UKVO0c+dO5eTkKCkpSStXrrRqLACAwSyL3vr16zu8f8eOHdGfHQ6HnnnmGatGAQBAEldkAQAYhOgBAIxB9AAAxiB6AABjED0AgDGIHgDAGEQPAGAMogcAMAbRAwAYg+gBAIxB9AAAxiB6AABjED0AgDGIHgDAGEQPAGAMogcAMAbRAwAYg+gBAIxB9AAAxiB6AABjED0AgDGIHgDAGEQPAGAMogcAMAbRAwAYg+gBAIxB9AAAxiB6AABjWBa98vJy+Xw+zZ49O7ps9erVmjFjhvLy8vTYY4+ppaUlet/GjRuVk5Oj6dOna9euXVaNBQAwmGXRKygoUFVV1XXLJk6cqC1btuiNN97Q9773PW3cuFGSdOzYMdXV1amurk5VVVVaunSpwuGwVaMBAAxlWfTGjx+vtLS065ZNmjRJLpdLkjR27FgFAgFJkt/vV25urvr166fBgwfr1ltv1eHDh60aDQBgKJddG37ttdc0c+ZMSVIwGFRWVlb0Pq/Xq2AweMN1OJ0OpacPsGxGAPbi+Q0ptvuBLdHbsGGDnE6nfvSjH32r9YTDEYVCF2M0FUzidqfYPQI6IR7Pb/aFxNfV/aCjxzTu0du0aZPeffddvfDCC3I4HJKuHdl9eapTunbk5/V64z0aAKCXi+tHFhoaGlRVVaUNGzYoKSkpujw7O1t1dXW6evWqTp48qePHj2vMmDHxHA0AYADLjvRKS0u1b98+NTc3a/LkySouLlZlZaWuXr2qoqIiSVJWVpaWLVumYcOGaebMmZo1a5acTqcWL14sp9Np1WgAAEM5IpFIxO4huqu1NcxreugWtztFJ5bdYfcY6MB3Fx/RmTNfWL4dtztFE/880fLtoHt2F+/u8n7Q0Wt6XJEFAGAMogcAMAbRAwAYg+gBAIxB9AAAxiB6AABjED0AgDGIHgDAGEQPAGAMogcAMAbRAwAYg+gBAIxB9AAAxiB6AABjED0AgDGIHgDAGEQPAGAMogcAMAbRAwAYg+gBAIxB9AAAxiB6AABjED0AgDGIHgDAGEQPAGAMogcAMAbRAwAYw7LolZeXy+fzafbs2dFloVBIRUVFmjZtmoqKinTu3DlJUiQS0YoVK5STk6O8vDx9/PHHVo0FADCYZdErKChQVVXVdcsqKyvl8/lUX18vn8+nyspKSVJDQ4OOHz+u+vp6LV++XEuWLLFqLACAwSyL3vjx45WWlnbdMr/fr/z8fElSfn6+tm/fft1yh8OhsWPHqqWlRY2NjVaNBgAwVFxf02tqapLH45Ekud1uNTU1SZKCwaAyMzOjv5eZmalgMBjP0QAABnDZtWGHwyGHw/Gt1uF0OpSePiBGEwFINDy/IcV2P4hr9AYOHKjGxkZ5PB41NjYqIyNDkuT1ehUIBKK/FwgE5PV6b7i+cDiiUOiiZfOi93K7U+weAZ0Qj+c3+0Li6+p+0NFjGtfTm9nZ2aqtrZUk1dbWaurUqdctj0Qi+uCDD5SSkhI9DQoAQKxYdqRXWlqqffv2qbm5WZMnT1ZxcbEeeeQRLViwQDU1NRo0aJAqKiokSVOmTNHOnTuVk5OjpKQkrVy50qqxAAAGsyx669ev/9rl1dXVX1nmcDj0zDPPWDUKAACSuCILAMAgRA8AYAyiBwAwBtEDABiD6AEAjEH0AADGIHoAAGMQPQCAMYgeAMAYRA8AYAyiBwAwBtEDABiD6AEAjEH0AADGIHoAAGMQPQCAMYgeAMAYRA8AYAyiBwAwBtEDABiD6AEAjEH0AADGIHoAAGMQPQCAMYgeAMAYRA8AYAyiBwAwBtEDABjDZcdGX3jhBb366qtyOBwaPny4Vq1apcbGRpWWlioUCmnUqFFas2aN+vXrZ8d4AIBeKu5HesFgUC+++KJee+01bdmyReFwWHV1dVq3bp0eeughvf3220pNTVVNTU28RwMA9HK2nN4Mh8O6fPmy2tradPnyZbndbu3du1fTp0+XJM2dO1d+v9+O0QAAvVinojd//vxOLesMr9erhx9+WPfee68mTZqk5ORkjRo1SqmpqXK5rp1tzczMVDAY7Nb6AQD4Jh2+pnflyhVdunRJzc3NOnfunCKRiCTp/Pnz3Y7SuXPn5Pf75ff7lZKSoscff1y7du3q1rqcTofS0wd0698CSHw8vyHFdj/oMHr/+Mc/VF1drcbGRhUUFESjl5ycrJ/+9Kfd2uB7772nW265RRkZGZKkadOm6eDBg2ppaVFbW5tcLpcCgYC8Xu8N1xUORxQKXezWHDCb251i9wjohHg8v9kXEl9X94OOHtMOozd//nzNnz9fL730kubNm9eljX6TQYMG6cMPP9SlS5fUv39/7dmzR6NHj9aECRO0bds25ebm6vXXX1d2dnZMtgcAwJc69ZGFefPm6eDBg/r8888VDoejy/Pz87u8waysLE2fPl1z586Vy+XSyJEj9eCDD+qHP/yhnnjiCVVUVGjkyJEqLCzs8roBAOhIp6JXVlamkydPasSIEXI6nZIkh8PRrehJUklJiUpKSq5bNnjwYD6mAACwVKei99FHH2nr1q1yOBxWzwMAgGU69ZGFYcOG6cyZM1bPAgCApTp1pNfc3Kzc3FyNGTNGffv2jS7/61//atlgAADEWqeiV1xcbPUcAABYrlPRu+uuu6yeAwAAy3UqeuPGjYu+iaW1tVVtbW1KSkrSwYMHLR0OAIBY6lT0Dh06FP05EonI7/frgw8+sGomAAAs0eVvWXA4HLrvvvv0r3/9y4p5AACwTKeO9Orr66M/t7e366OPPtJNN91k2VAAAFihU9F75513oj87nU7dfPPN+stf/mLZUAAAWKFT0Vu1apXVcwAAYLlOvaYXCAT02GOPyefzyefzqbi4WIFAwOrZAACIqU5Fr7y8XNnZ2dq1a5d27dqle++9V+Xl5VbPBgBATHUqemfPntX9998vl8sll8ulgoICnT171urZAACIqU5FLz09XZs3b1Y4HFY4HNbmzZuVnp5u8WgAAMRWp6K3cuVKvfnmm5o4caImTZqkbdu26fe//73VswEAEFOdevfmn/70J61evVppaWmSpFAopNWrV/OuTgBAj9KpI73PPvssGjzp2unOo0ePWjYUAABW6FT02tvbde7cuejtUCikcDhs2VAAAFihU6c3H374YT344IOaMWOGJOmtt97Sr371K0sHAwAg1joVvfz8fI0ePVp79+6VJD333HO67bbbLB0MAIBY61T0JOm2224jdACAHq3LXy0EAEBPRfQAAMYgegAAYxA9AIAxiB4AwBhEDwBgDFui19LSopKSEs2YMUMzZ87UoUOHFAqFVFRUpGnTpqmoqOi6K8AAABALtkTv2Wef1T333KO33npLmzdv1tChQ1VZWSmfz6f6+nr5fD5VVlbaMRoAoBeLe/S++OIL7d+/Xw888IAkqV+/fkpNTZXf71d+fr6ka1eA2b59e7xHAwD0cp2+IkusnDp1ShkZGSovL9enn36qUaNGaeHChWpqapLH45Ekud1uNTU1xXs0AEAvF/fotbW16ZNPPtGiRYuUlZWlFStWfOVUpsPhkMPhuOG6nE6H0tMHWDUqAJvx/IYU2/0g7tHLzMxUZmamsrKyJEkzZsxQZWWlBg4cqMbGRnk8HjU2NiojI+OG6wqHIwqFLlo9MnohtzvF7hHQCfF4frMvJL6u7gcdPaZxf03P7XYrMzNT//3vfyVJe/bs0dChQ5Wdna3a2lpJUm1traZOnRrv0QAAvVzcj/QkadGiRfrNb36j1tZWDR48WKtWrVJ7e7sWLFigmpoaDRo0SBUVFXaMBgDoxWyJ3siRI7Vp06avLK+urrZhGgCAKbgiCwDAGEQPAGAMogcAMAbRAwAYg+gBAIxB9AAAxiB6AABjED0AgDGIHgDAGEQPAGAMogcAMAbRAwAYg+gBAIxB9AAAxiB6AABjED0AgDGIHgDAGEQPAGAMogcAMAbRAwAYg+gBAIxB9AAAxiB6AABjED0AgDGIHgDAGEQPAGAMogcAMAbRAwAYw7bohcNh5efn65e//KUk6eTJkyosLFROTo4WLFigq1ev2jUaAKCXsi16L774ooYOHRq9vW7dOj300EN6++23lZqaqpqaGrtGAwD0UrZELxAI6N1339UDDzwgSYpEItq7d6+mT58uSZo7d678fr8dowEAejGXHRtduXKlysrKdOHCBUlSc3OzUlNT5XJdGyczM1PBYPCG63E6HUpPH2DprADsw/MbUmz3g7hH75133lFGRoZGjx6tf//7399qXeFwRKHQxRhNBpO43Sl2j4BOiMfzm30h8XV1P+joMY179A4ePKgdO3aooaFBV65c0fnz5/Xss8+qpaVFbW1tcrlcCgQC8nq98R4NANDLxf01vSeffFINDQ3asWOH1q9fr7vvvlt/+MMfNGHCBG3btk2S9Prrrys7OzveowEAermE+ZxeWVmZ/va3vyknJ0ehUEiFhYV2jwQA6GVseSPLlyZMmKAJEyZIkgYPHszHFAAAlkqYIz0AAKxG9AAAxiB6AABjED0AgDGIHgDAGEQPAGAMogcAMAbRAwAYg+gBAIxB9AAAxiB6AABjED0AgDGIHgDAGEQPAGAMogcAMAbRAwAYg+gBAIxB9AAAxiB6AABjED0AgDGIHgDAGEQPAGAMogcAMAbRAwAYg+gBAIxB9AAAxiB6AABjuOK9wdOnT+u3v/2tmpqa5HA49OMf/1jz589XKBTSE088oc8//1w333yzKioqlJaWFu/xAAC9WNyP9JxOp5566ilt3bpVr7zyil5++WUdO3ZMlZWV8vl8qq+vl8/nU2VlZbxHAwD0cnE/0vN4PPJ4PJKk5ORkDRkyRMFgUH6/Xy+99JIkKT8/X/PmzVNZWVnMt5+c2l9JN/WN+XoRG5eutOp8y2W7xwDQS8U9ev/r1KlTOnr0qLKystTU1BSNodvtVlNTkyXbTLqpr+4se9GSdePbO7D2ZzovogfAGrZF78KFCyopKdHTTz+t5OTk6+5zOBxyOBw3XIfT6VB6+gCrRoRNeEzxJfYFSLHdD2yJXmtrq0pKSpSXl6dp06ZJkgYOHKjGxkZ5PB41NjYqIyPjhusJhyMKhS52adtud0q3Zkb8dPUx7Q72g56BfQFS1/eDjh7TuL+RJRKJaOHChRoyZIiKioqiy7Ozs1VbWytJqq2t1dSpU+M9GgCgl4v7kd6BAwe0efNmDR8+XHPmzJEklZaW6pFHHtGCBQtUU1OjQYMGqaKiIt6jAQB6ubhH7wc/+IE+++yzr72vuro6ztMAAEzCFVkAAMYgegAAYxA9AIAxiB4AwBhEDwBgDKIHADAG0QMAGIPoAQCMQfQAAMYgegAAYxA9AIAxiB4AwBhEDwBgDKIHADAG0QMAGIPoAQCMQfQAAMYgegAAYxA9AIAxiB4AwBhEDwBgDKIHADAG0QMAGIPoAQCMQfQAAMYgegAAYxA9AIAxiB4AwBgJF72GhgZNnz5dOTk5qqystHscAEAvklDRC4fDWrZsmaqqqlRXV6ctW7bo2LFjdo8FAOglEip6hw8f1q233qrBgwerX79+ys3Nld/vt3ssAEAvkVDRCwaDyszMjN72er0KBoM2TgQA6E1cdg/wbfTt65TbndLlf3dg7c8smAax0p3HtDu+u/hIXLaD7ovXvrC7eHdctoPuieV+kFBHel6vV4FAIHo7GAzK6/XaOBEAoDdJqOjdcccdOn78uE6ePKmrV6+qrq5O2dnZdo8FAOglEur0psvl0uLFi/WLX/xC4XBY999/v4YNG2b3WACAXsIRiUQidg8BAEA8JNTpTQAArET0AADGIHo9GJdsQ3l5uXw+n2bPnm33KLDR6dOnNW/ePM2aNUu5ubmqrq62e6SERfR6KC7ZBkkqKChQVVWV3WPAZk6nU0899ZS2bt2qV155RS+//DL/H3wDotdDcck2SNL48eOVlpZm9xiwmcfj0ahRoyRJycnJGjJkCFez+gZEr4fikm0Avs6pU6d09OhRZWVl2T1KQiJ6ANBLXLhwQSUlJXr66aeVnJxs9zgJiej1UFyyDcD/am1tVUlJifLy8jRt2jS7x0lYRK+H4pJtAL4UiUS0cOFCDRkyREVFRXaPk9C4IksPtnPnTq1cuTJ6ybZf//rXdo+EOCstLdW+ffvU3NysgQMHqri4WIWFhXaPhTh7//339ZOf/ETDhw9Xnz7XjmVKS0s1ZcoUmydLPEQPAGAMTm8CAIxB9AAAxiB6AABjED0AgDGIHgDAGEQP6CHmzZunI0eO2D0G0KMRPQCAMVx2DwDgqy5evKgFCxYoEAiovb1djz766HX3b9myRRs3blQkEtGUKVNUVlYmSRo3bpwKCwu1e/dufec739Ef//hHZWRk6MSJE1q6dKmam5vVv39/LV++XEOHDrXjTwNsxZEekIB27dolj8ejf/7zn9qyZYvuueee6H3BYFDr1q1TdXW1amtrdeTIEW3fvl3StViOHj1adXV1Gj9+vJ577jlJ0qJFi7Ro0SJt2rRJv/vd77R06VJb/i7AbkQPSEDDhw/Xe++9p7Vr1+r9999XSkpK9L4jR47orrvuUkZGhlwul/Ly8rR//35JUp8+fTRr1ixJ0pw5c3TgwAFduHBBhw4d0uOPP645c+Zo8eLFOnPmjC1/F2A3Tm8CCej73/++Nm3apJ07d6qiokJ33313t9bjcDgUiUSUmpqqzZs3x3hKoOfhSA9IQMFgUElJSZozZ45+/vOf65NPPoneN2bMGO3fv19nz55VOByOnsqUpPb2dm3btk2S9MYbb+jOO+9UcnKybrnlFr355puSrl2R/9NPP43/HwUkAI70gAT0n//8R2vWrFGfPn3kcrm0ZMkSrVmzRpLk8Xj05JNPav78+dE3stx3332SpAEDBujw4cPasGGDMjIyVFFRIUlau3atlixZog0bNqitrU2zZs3SiBEj7PrzANvwLQtALzJu3DgdOnTI7jGAhMXpTQCAMTjSAwAYgyM9AIAxiB4AwBhEDwBgDKIHADAG0QMAGIPoAQCM8X90eQAAS4OVBAAAAABJRU5ErkJggg==
"
>
</div>

</div>

<div class="output_area">

    <div class="prompt"></div>




<div class="output_png output_subarea ">
<img src="data:image/png;base64,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
"
>
</div>

</div>

<div class="output_area">

    <div class="prompt"></div>




<div class="output_png output_subarea ">
<img src="data:image/png;base64,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
"
>
</div>

</div>

<div class="output_area">

    <div class="prompt"></div>




<div class="output_png output_subarea ">
<img src="data:image/png;base64,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
"
>
</div>

</div>

</div>
</div>

</div>
<div class="cell border-box-sizing code_cell rendered">
<div class="input">
<div class="prompt input_prompt">In&nbsp;[15]:</div>
<div class="inner_cell">
    <div class="input_area">
<div class=" highlight hl-ipython3"><pre><span></span><span class="n">youngage</span> <span class="o">=</span> <span class="n">data</span><span class="p">[(</span><span class="n">data</span><span class="o">.</span><span class="n">age</span><span class="o">&lt;</span><span class="mi">40</span><span class="p">)</span> <span class="o">&amp;</span> <span class="p">(</span><span class="n">data</span><span class="o">.</span><span class="n">target</span><span class="o">==</span><span class="mi">0</span><span class="p">)]</span>
<span class="n">actyoungage</span> <span class="o">=</span> <span class="n">data</span><span class="p">[(</span><span class="n">data</span><span class="o">.</span><span class="n">age</span><span class="o">&lt;</span><span class="mi">40</span><span class="p">)]</span>
<span class="n">middleage</span> <span class="o">=</span><span class="n">data</span><span class="p">[(</span><span class="n">data</span><span class="o">.</span><span class="n">age</span><span class="o">&gt;</span><span class="mi">40</span><span class="p">)</span> <span class="o">&amp;</span> <span class="p">(</span><span class="n">data</span><span class="o">.</span><span class="n">age</span><span class="o">&lt;</span><span class="mi">50</span><span class="p">)</span> <span class="o">&amp;</span> <span class="p">(</span><span class="n">data</span><span class="o">.</span><span class="n">target</span><span class="o">==</span><span class="mi">0</span><span class="p">)]</span>
<span class="n">actmiddleage</span> <span class="o">=</span><span class="n">data</span><span class="p">[(</span><span class="n">data</span><span class="o">.</span><span class="n">age</span><span class="o">&gt;</span><span class="mi">40</span><span class="p">)</span> <span class="o">&amp;</span> <span class="p">(</span><span class="n">data</span><span class="o">.</span><span class="n">age</span><span class="o">&lt;</span><span class="mi">50</span><span class="p">)]</span>
<span class="n">oldage</span><span class="o">=</span><span class="n">data</span><span class="p">[(</span><span class="n">data</span><span class="o">.</span><span class="n">age</span><span class="o">&gt;</span><span class="mi">50</span><span class="p">)</span> <span class="o">&amp;</span> <span class="p">(</span><span class="n">data</span><span class="o">.</span><span class="n">target</span><span class="o">==</span><span class="mi">0</span><span class="p">)]</span>
<span class="n">actoldage</span><span class="o">=</span><span class="n">data</span><span class="p">[(</span><span class="n">data</span><span class="o">.</span><span class="n">age</span><span class="o">&gt;</span><span class="mi">50</span><span class="p">)]</span>
</pre></div>

    </div>
</div>
</div>

</div>
<div class="cell border-box-sizing code_cell rendered">
<div class="input">
<div class="prompt input_prompt">In&nbsp;[16]:</div>
<div class="inner_cell">
    <div class="input_area">
<div class=" highlight hl-ipython3"><pre><span></span><span class="n">x</span><span class="o">=</span><span class="p">[</span><span class="s2">&quot;YoungPeopleWithCVD&quot;</span><span class="p">,</span><span class="s2">&quot;TotalNoOfYoung&quot;</span><span class="p">,</span><span class="s2">&quot;MiddleAgePeopleWithCVD&quot;</span><span class="p">,</span><span class="s2">&quot;TotalNoOfMiddleAge&quot;</span><span class="p">,</span><span class="s2">&quot;OldPeopleWithCVD&quot;</span><span class="p">,</span><span class="s2">&quot;TotalNoOfOldage&quot;</span><span class="p">]</span>
<span class="n">y</span><span class="o">=</span><span class="p">[</span><span class="nb">len</span><span class="p">(</span><span class="n">youngage</span><span class="p">),</span><span class="nb">len</span><span class="p">(</span><span class="n">actyoungage</span><span class="p">),</span><span class="nb">len</span><span class="p">(</span><span class="n">middleage</span><span class="p">),</span><span class="nb">len</span><span class="p">(</span><span class="n">actmiddleage</span><span class="p">),</span><span class="nb">len</span><span class="p">(</span><span class="n">oldage</span><span class="p">),</span><span class="nb">len</span><span class="p">(</span><span class="n">actoldage</span><span class="p">)]</span>
</pre></div>

    </div>
</div>
</div>

</div>
<div class="cell border-box-sizing code_cell rendered">
<div class="input">
<div class="prompt input_prompt">In&nbsp;[17]:</div>
<div class="inner_cell">
    <div class="input_area">
<div class=" highlight hl-ipython3"><pre><span></span><span class="c1">#plotting the bar graph for different age intervals and their CVD impact </span>
<span class="n">plt</span><span class="o">.</span><span class="n">title</span><span class="p">(</span><span class="s2">&quot;Age feature into 3 groups CVD Vs NonCVD/CVD &quot;</span><span class="p">)</span>
<span class="n">w</span><span class="o">=</span><span class="p">[</span><span class="s2">&quot;b&quot;</span><span class="p">,</span><span class="s2">&quot;r&quot;</span><span class="p">]</span>
<span class="n">ax</span> <span class="o">=</span> <span class="n">sns</span><span class="o">.</span><span class="n">barplot</span><span class="p">(</span><span class="n">x</span><span class="o">=</span><span class="n">y</span><span class="p">,</span> <span class="n">y</span><span class="o">=</span><span class="n">x</span><span class="p">,</span><span class="n">palette</span><span class="o">=</span><span class="n">w</span><span class="p">)</span>
</pre></div>

    </div>
</div>
</div>

<div class="output_wrapper">
<div class="output">


<div class="output_area">

    <div class="prompt"></div>




<div class="output_png output_subarea ">
<img src="data:image/png;base64,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
"
>
</div>

</div>

</div>
</div>

</div>
<div class="cell border-box-sizing code_cell rendered">
<div class="input">
<div class="prompt input_prompt">In&nbsp;[18]:</div>
<div class="inner_cell">
    <div class="input_area">
<div class=" highlight hl-ipython3"><pre><span></span><span class="c1">#Study the occurrence of CVD across the Age category</span>
<span class="n">cvd_true</span> <span class="o">=</span> <span class="n">data</span><span class="o">.</span><span class="n">loc</span><span class="p">[</span><span class="n">data</span><span class="o">.</span><span class="n">target</span> <span class="o">==</span> <span class="mi">0</span><span class="p">]</span>
<span class="n">plt</span><span class="o">.</span><span class="n">figure</span><span class="p">(</span><span class="n">figsize</span><span class="o">=</span><span class="p">(</span><span class="mi">8</span><span class="p">,</span><span class="mi">5</span><span class="p">))</span>
<span class="n">sns</span><span class="o">.</span><span class="n">histplot</span><span class="p">(</span><span class="n">x</span><span class="o">=</span><span class="n">cvd_true</span><span class="o">.</span><span class="n">age</span><span class="p">,</span><span class="n">kde</span><span class="o">=</span><span class="kc">True</span><span class="p">,</span><span class="n">label</span><span class="o">=</span><span class="s1">&#39;Cvd_True&#39;</span><span class="p">,</span><span class="n">color</span><span class="o">=</span><span class="s1">&#39;red&#39;</span><span class="p">,</span><span class="n">alpha</span><span class="o">=</span><span class="mf">0.4</span><span class="p">)</span>
<span class="n">sns</span><span class="o">.</span><span class="n">histplot</span><span class="p">(</span><span class="n">x</span><span class="o">=</span><span class="n">data</span><span class="o">.</span><span class="n">age</span><span class="p">,</span><span class="n">kde</span><span class="o">=</span><span class="kc">True</span><span class="p">,</span><span class="n">label</span><span class="o">=</span><span class="s1">&#39;All data&#39;</span><span class="p">,</span><span class="n">color</span><span class="o">=</span><span class="s1">&#39;blue&#39;</span><span class="p">,</span><span class="n">alpha</span><span class="o">=</span><span class="mf">0.5</span><span class="p">)</span>
<span class="n">plt</span><span class="o">.</span><span class="n">legend</span><span class="p">()</span>
<span class="n">plt</span><span class="o">.</span><span class="n">show</span><span class="p">()</span>
</pre></div>

    </div>
</div>
</div>

<div class="output_wrapper">
<div class="output">


<div class="output_area">

    <div class="prompt"></div>




<div class="output_png output_subarea ">
<img src="data:image/png;base64,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
"
>
</div>

</div>

</div>
</div>

</div>
<div class="cell border-box-sizing code_cell rendered">
<div class="input">
<div class="prompt input_prompt">In&nbsp;[19]:</div>
<div class="inner_cell">
    <div class="input_area">
<div class=" highlight hl-ipython3"><pre><span></span><span class="n">data</span><span class="p">[</span><span class="s2">&quot;trestbps&quot;</span><span class="p">]</span><span class="o">.</span><span class="n">unique</span><span class="p">()</span>
</pre></div>

    </div>
</div>
</div>

<div class="output_wrapper">
<div class="output">


<div class="output_area">

    <div class="prompt output_prompt">Out[19]:</div>




<div class="output_text output_subarea output_execute_result">
<pre>array([145, 130, 120, 140, 172, 150, 110, 135, 160, 105, 125, 142, 155,
       104, 138, 128, 108, 134, 122, 115, 118, 100, 124,  94, 112, 102,
       152, 101, 132, 148, 178, 129, 180, 136, 126, 106, 156, 170, 146,
       117, 200, 165, 174, 192, 144, 123, 154, 114, 164])</pre>
</div>

</div>

</div>
</div>

</div>
<div class="cell border-box-sizing code_cell rendered">
<div class="input">
<div class="prompt input_prompt">In&nbsp;[20]:</div>
<div class="inner_cell">
    <div class="input_area">
<div class=" highlight hl-ipython3"><pre><span></span><span class="c1">#Plotting the CVD wrt sex of two catagories  </span>
<span class="n">plt</span><span class="o">.</span><span class="n">figure</span><span class="p">(</span><span class="n">figsize</span><span class="o">=</span><span class="p">(</span><span class="mi">7</span><span class="p">,</span> <span class="mi">5</span><span class="p">))</span>
<span class="n">ax</span> <span class="o">=</span> <span class="n">sns</span><span class="o">.</span><span class="n">countplot</span><span class="p">(</span><span class="n">data</span><span class="o">=</span><span class="n">data</span><span class="p">,</span> <span class="n">x</span><span class="o">=</span><span class="s1">&#39;sex&#39;</span><span class="p">,</span>
                   <span class="n">hue</span><span class="o">=</span><span class="s1">&#39;target&#39;</span><span class="p">,</span> 
                   <span class="n">palette</span><span class="o">=</span><span class="p">[</span><span class="s1">&#39;chartreuse&#39;</span><span class="p">,</span> <span class="s1">&#39;darkviolet&#39;</span><span class="p">])</span>
<span class="n">plt</span><span class="o">.</span><span class="n">xticks</span><span class="p">(</span><span class="n">size</span><span class="o">=</span><span class="mi">12</span><span class="p">)</span>
<span class="n">plt</span><span class="o">.</span><span class="n">xlabel</span><span class="p">(</span><span class="s1">&#39;Sex&#39;</span><span class="p">,</span> <span class="n">size</span><span class="o">=</span><span class="mi">14</span><span class="p">)</span>
<span class="n">plt</span><span class="o">.</span><span class="n">yticks</span><span class="p">(</span><span class="n">size</span><span class="o">=</span><span class="mi">12</span><span class="p">)</span>
<span class="n">plt</span><span class="o">.</span><span class="n">ylabel</span><span class="p">(</span><span class="s1">&#39;Number of People&#39;</span><span class="p">,</span> <span class="n">size</span><span class="o">=</span><span class="mi">12</span><span class="p">)</span>
<span class="n">plt</span><span class="o">.</span><span class="n">title</span><span class="p">(</span><span class="s2">&quot;Comparison among sex with CVD and Non-CVD&quot;</span><span class="p">,</span> <span class="n">size</span><span class="o">=</span><span class="mi">16</span><span class="p">)</span>
<span class="n">ax</span><span class="o">.</span><span class="n">set_xticklabels</span><span class="p">(</span><span class="n">ax</span><span class="o">.</span><span class="n">get_xticklabels</span><span class="p">(),</span> <span class="n">rotation</span><span class="o">=</span><span class="mi">40</span><span class="p">,</span> <span class="n">ha</span><span class="o">=</span><span class="s2">&quot;right&quot;</span><span class="p">)</span>

<span class="n">total</span> <span class="o">=</span> <span class="nb">len</span><span class="p">(</span><span class="n">data</span><span class="p">[</span><span class="s1">&#39;sex&#39;</span><span class="p">])</span>
<span class="k">for</span> <span class="n">p</span> <span class="ow">in</span> <span class="n">ax</span><span class="o">.</span><span class="n">patches</span><span class="p">:</span>
    <span class="n">percentage</span> <span class="o">=</span> <span class="sa">f</span><span class="s1">&#39;</span><span class="si">{</span><span class="mi">100</span> <span class="o">*</span> <span class="n">p</span><span class="o">.</span><span class="n">get_height</span><span class="p">()</span> <span class="o">/</span> <span class="n">total</span><span class="si">:</span><span class="s1">.1f</span><span class="si">}</span><span class="s1">%</span><span class="se">\n</span><span class="s1">&#39;</span>
    <span class="n">x</span> <span class="o">=</span> <span class="n">p</span><span class="o">.</span><span class="n">get_x</span><span class="p">()</span> <span class="o">+</span> <span class="n">p</span><span class="o">.</span><span class="n">get_width</span><span class="p">()</span> <span class="o">/</span> <span class="mi">2</span>
    <span class="n">y</span> <span class="o">=</span> <span class="n">p</span><span class="o">.</span><span class="n">get_height</span><span class="p">()</span>
    <span class="n">ax</span><span class="o">.</span><span class="n">annotate</span><span class="p">(</span><span class="n">percentage</span><span class="p">,</span> <span class="p">(</span><span class="n">x</span><span class="p">,</span> <span class="n">y</span><span class="p">),</span> <span class="n">ha</span><span class="o">=</span><span class="s1">&#39;center&#39;</span><span class="p">,</span> <span class="n">va</span><span class="o">=</span><span class="s1">&#39;center&#39;</span><span class="p">)</span>
<span class="n">plt</span><span class="o">.</span><span class="n">tight_layout</span><span class="p">()</span>
<span class="n">plt</span><span class="o">.</span><span class="n">show</span><span class="p">()</span>
</pre></div>

    </div>
</div>
</div>

<div class="output_wrapper">
<div class="output">


<div class="output_area">

    <div class="prompt"></div>




<div class="output_png output_subarea ">
<img src="data:image/png;base64,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
"
>
</div>

</div>

</div>
</div>

</div>
<div class="cell border-box-sizing code_cell rendered">
<div class="input">
<div class="prompt input_prompt">In&nbsp;[21]:</div>
<div class="inner_cell">
    <div class="input_area">
<div class=" highlight hl-ipython3"><pre><span></span><span class="c1">#comparing the resting blood pressure for both cvd and non-cvd </span>
<span class="n">sns</span><span class="o">.</span><span class="n">violinplot</span><span class="p">(</span><span class="n">data</span><span class="o">=</span><span class="n">data</span><span class="p">,</span><span class="n">x</span><span class="o">=</span><span class="n">data</span><span class="p">[</span><span class="s2">&quot;target&quot;</span><span class="p">],</span><span class="n">y</span><span class="o">=</span><span class="n">data</span><span class="p">[</span><span class="s2">&quot;trestbps&quot;</span><span class="p">])</span>
</pre></div>

    </div>
</div>
</div>

<div class="output_wrapper">
<div class="output">


<div class="output_area">

    <div class="prompt output_prompt">Out[21]:</div>




<div class="output_text output_subarea output_execute_result">
<pre>&lt;AxesSubplot:xlabel=&#39;target&#39;, ylabel=&#39;trestbps&#39;&gt;</pre>
</div>

</div>

<div class="output_area">

    <div class="prompt"></div>




<div class="output_png output_subarea ">
<img src="data:image/png;base64,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
"
>
</div>

</div>

</div>
</div>

</div>
<div class="cell border-box-sizing code_cell rendered">
<div class="input">
<div class="prompt input_prompt">In&nbsp;[22]:</div>
<div class="inner_cell">
    <div class="input_area">
<div class=" highlight hl-ipython3"><pre><span></span><span class="n">sns</span><span class="o">.</span><span class="n">boxplot</span><span class="p">(</span><span class="n">x</span><span class="o">=</span><span class="n">data</span><span class="p">[</span><span class="s2">&quot;target&quot;</span><span class="p">],</span><span class="n">y</span><span class="o">=</span><span class="n">data</span><span class="p">[</span><span class="s2">&quot;trestbps&quot;</span><span class="p">])</span>
</pre></div>

    </div>
</div>
</div>

<div class="output_wrapper">
<div class="output">


<div class="output_area">

    <div class="prompt output_prompt">Out[22]:</div>




<div class="output_text output_subarea output_execute_result">
<pre>&lt;AxesSubplot:xlabel=&#39;target&#39;, ylabel=&#39;trestbps&#39;&gt;</pre>
</div>

</div>

<div class="output_area">

    <div class="prompt"></div>




<div class="output_png output_subarea ">
<img src="data:image/png;base64,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
"
>
</div>

</div>

</div>
</div>

</div>
<div class="cell border-box-sizing code_cell rendered">
<div class="input">
<div class="prompt input_prompt">In&nbsp;[23]:</div>
<div class="inner_cell">
    <div class="input_area">
<div class=" highlight hl-ipython3"><pre><span></span><span class="n">sns</span><span class="o">.</span><span class="n">stripplot</span><span class="p">(</span><span class="n">y</span><span class="o">=</span><span class="n">data</span><span class="p">[</span><span class="s2">&quot;chol&quot;</span><span class="p">],</span><span class="n">x</span><span class="o">=</span><span class="n">data</span><span class="p">[</span><span class="s2">&quot;target&quot;</span><span class="p">])</span>
</pre></div>

    </div>
</div>
</div>

<div class="output_wrapper">
<div class="output">


<div class="output_area">

    <div class="prompt output_prompt">Out[23]:</div>




<div class="output_text output_subarea output_execute_result">
<pre>&lt;AxesSubplot:xlabel=&#39;target&#39;, ylabel=&#39;chol&#39;&gt;</pre>
</div>

</div>

<div class="output_area">

    <div class="prompt"></div>




<div class="output_png output_subarea ">
<img src="data:image/png;base64,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
"
>
</div>

</div>

</div>
</div>

</div>
<div class="cell border-box-sizing code_cell rendered">
<div class="input">
<div class="prompt input_prompt">In&nbsp;[24]:</div>
<div class="inner_cell">
    <div class="input_area">
<div class=" highlight hl-ipython3"><pre><span></span><span class="n">sns</span><span class="o">.</span><span class="n">countplot</span><span class="p">(</span><span class="n">data</span><span class="p">[</span><span class="s1">&#39;slope&#39;</span><span class="p">],</span><span class="n">hue</span><span class="o">=</span><span class="n">data</span><span class="p">[</span><span class="s2">&quot;target&quot;</span><span class="p">]</span>
<span class="p">,</span><span class="n">palette</span><span class="o">=</span><span class="s1">&#39;Set2&#39;</span><span class="p">)</span>
</pre></div>

    </div>
</div>
</div>

<div class="output_wrapper">
<div class="output">


<div class="output_area">

    <div class="prompt output_prompt">Out[24]:</div>




<div class="output_text output_subarea output_execute_result">
<pre>&lt;AxesSubplot:xlabel=&#39;slope&#39;, ylabel=&#39;count&#39;&gt;</pre>
</div>

</div>

<div class="output_area">

    <div class="prompt"></div>




<div class="output_png output_subarea ">
<img src="data:image/png;base64,iVBORw0KGgoAAAANSUhEUgAAAYUAAAEGCAYAAACKB4k+AAAAOXRFWHRTb2Z0d2FyZQBNYXRwbG90bGliIHZlcnNpb24zLjUuMywgaHR0cHM6Ly9tYXRwbG90bGliLm9yZy/NK7nSAAAACXBIWXMAAAsTAAALEwEAmpwYAAAXxElEQVR4nO3dfXhU9YH28XvI5AUISQhOEnlZHxNEaMBIW8QUkBpeBVkCil7bNgbUotaHCEFQZEGoBjSCpj5u0VzslmAvWh8phja8RYK8iVQUBKygS61bSMkkV8gkQEpeJrN/sP1tKQqTMDNnkvl+/iJnJr9zH+Ykd87vnDlj83g8HgEAIKmT1QEAAMGDUgAAGJQCAMCgFAAABqUAADDsVge4Fi0tLXK7uXgKAFojPDzsGx9r16XgdnvkctVbHQMA2hWHo9s3Psb0EQDAoBQAAAalAAAw2vU5ha/jdjerpqZKzc2NVkf5RnZ7hLp3dygsrMP99wNo5zrcb6WamipFRXVR165JstlsVse5jMfj0fnzdaqpqdJ1111vdRwAuESHmz5qbm5U164xQVkIkmSz2dS1a0xQH8kACF0drhQkBW0h/E2w5wMQujpkKQAA2iZkSuHs2bPasOFtv69n9+6d+tOfvvT7egDAHzrcieZvcu7cWb3zztuaOnWaV8/3eDzyeDzq1Kl1vblnz05973vDdeONya0PCSAoxMdGKiwiwuoYreJubNSZ2oZrHidkSuH11/+fysvLNX36D/Ttb39Hf/zjCZ09W6fm5mb9+MePacSI7+v06b8oN/f/6lvfGqjPPz+uFSt+pq1bN2nbts2Ki+uuhIRE3XzzAP3gB1kqLz+llStflMtVo6ioKD311L+qrq5We/fu1iefHFRR0X8oLy9fvXr1tnrTAbRSWESEKlfNtzpGqyQ8li+JUvDao4/O0pdf/lFr1qxTc3OzGhouqGvXaLlcLj3yyHQNHz5SknTq1EktXLhUAwcO0rFjf9DOnTu0Zs2v5HY368EHf6Sbbx4gScrPz9OTTy5Qnz7/pD/84VOtXPmCXn31dQ0ffoe+973huvPO0VZuLgC0SciUwj96441/0+HDh2SzdVJVVZXOnKmWJCUlXa+BAwdJko4ePawRI0YqMjJSUqSGDRshSaqvr9fRo0e0aNHTZrymJi4xBdD+hWQplJZukcvl0r//+y9lt9t1772T1Nh48Zd6VFTUVb/f42lRt27RWrNmnb+jAkBAhczVR126dFF9/cXbbJ87d07du3eX3W7XwYMfqaLi9Nd+z6BBaXr//d1qaGhQfX293n9/rySpa9doXX99L+3YsV3SxZPS//mfX1y2HgBob0KmFGJj4zRoUJqysu7TiRNf6PjxY3rggfu1desm3XDD//na7xkwIFXDht2h7Ox/0ZNP5iglJUXR0dGSpMWLn1NJyUZlZ/+LsrLu0969uyRJo0aN1a9+9aZmzPiBystPBWrzAMAnbB6Pp91+dFlTk/uyD9mpqPgvJSXd4LN11NfXq0uXLrpw4YIef/zHmj9/oW6+uf81j+vrnAB8x+Ho1i6vPqqqOuvVc6/0ITt+O6ewYMEC7dy5Uz169FBJSYkkyeVyac6cOSovL1evXr1UUFCg2NhYeTwe5eXladeuXYqKitILL7yg1NRUf0Vrlfz8PH311Z/U2Nigu+662yeFAADBym/TR1OnTtXq1asvWVZYWKj09HSVlpYqPT1dhYWFkqTdu3frq6++UmlpqZ577jktWbLEX7FabcmSPK1Zs07r1v1GWVkzrI4DAH7lt1IYMmSIYmNjL1lWVlamzMxMSVJmZqa2b99+yXKbzaZbb71VdXV1qqys9Fc0AMA3COglqdXV1UpISJAkORwOVVdffG+A0+lUUlKSeV5SUpKcTqd57jcJC7MpLq7LJcucTpvCwoL//LnNdnl2ALgWvvidYtn7FGw22zXfQtrt9lx2otnj8cjtbrmmcQPB47k8O4DgcKUTscHM298pV9q+gP5J3aNHDzMtVFlZqfj4eElSYmKiKioqzPMqKiqUmJgYyGgAAAX4SCEjI0PFxcWaOXOmiouLNWrUKLP8l7/8pSZOnKjDhw+rW7duV5068lZMXJQiw8N9MpYkNTQ1qc514arP279/n372sxVqaWnR3XdnKitrus8yAIC/+K0UcnNz9eGHH6qmpkZ33HGHZs2apZkzZ2r27Nlav369evbsqYKCAknSyJEjtWvXLo0ZM0adO3fWsmXLfJYjMjxcc7es9dl4K+96QNKVS8Htduvll1/UK6/8mxISEvXwww9o+PA7uJ02gKDnt1J4+eWXv3Z5UVHRZctsNpueffZZf0UJuGPH/qDevfuY22aPHj1We/fuohQABL3gv0ynHaqqqlRCwv+eE3E4ElRVxSW2AIIfpQAAMCgFP3A4ElRZ6TRfV1VVyuHwzYlzAPAnSsEP+vf/lk6ePKm//KVcTU1N2r69VMOG3WF1LAC4qg7/ITsNTU3/c8WQ78a7GrvdrtzcecrNnaWWFrcmTvxnJSen+CwDAPhLhy+Fi+8puPr7CnwtPX240tOHB3y9AHAtmD4CABiUAgDAoBQAAAalAAAwKAUAgEEpAACMDn9JanxspMIiInw2nruxUWdqG674nGXLlmrfvr3q3r273nzz//ts3aHM17dA9zdvb7EOBJsOXwphERGqXDXfZ+MlPJYv6cqlMGHCJN1zz/16/vnFPltvqPP1LdD9zZtbrAPBiOkjP7j11m8rJibG6hgA0GqUAgDAoBQAAAalAAAwKAUAgNHhrz5yNzb+zxVDvhvvap599hl98snHcrlcmjJlgh56aKbuvjvTZxkAwF86fClcfE/BlS8h9bWlS5cFdH0A4CtMHwEADEoBAGB0yFLweDxWR7iiYM8HIHR1uFKw2yN0/nxd0P7i9Xg8On++Tna77+7HBAC+0uFONHfv7lBNTZXOnXNZHeUb2e0R6t7dYXUMALhMhyuFsDC7rrvueqtjAEC71OGmjwAAbUcpAAAMSgEAYFhyTmHNmjV6++23ZbPZ1K9fPy1fvlyVlZXKzc2Vy+VSamqq8vPzFeHDT0wDAFxdwI8UnE6n1q5dq9/85jcqKSmR2+3Wpk2btGLFCk2fPl3vvvuuYmJitH79+kBHA4CQZ8n0kdvt1oULF9Tc3KwLFy7I4XBo//79GjdunCRpypQpKisrsyIaAIS0gE8fJSYm6sEHH9Sdd96pyMhIDRs2TKmpqYqJiZHdfjFOUlKSnE5noKMBQMgLeCnU1taqrKxMZWVl6tatm5544gnt2bOnTWOFhdkUF9fFxwkB32DfRKD5Yp8LeCns27dPvXv3Vnx8vCRp7NixOnjwoOrq6tTc3Cy73a6KigolJiZedSy32yOXq97fkREEHI5uVkdoNfbN9qs97m+S9/vclbYv4OcUevbsqcOHD+uvf/2rPB6PPvjgA/Xt21dDhw7Vtm3bJEnvvPOOMjIyAh0NAEJewI8U0tLSNG7cOE2ZMkV2u10DBgzQ/fffr+9///uaM2eOCgoKNGDAAE2bNi3Q0QAg5FnyPoWcnBzl5ORcsqxPnz5chgoAFuMdzQAAg1IAABiUAgDAoBQAAAalAAAwKAUAgEEpAAAMSgEAYFAKAACDUgAAGJQCAMCgFAAABqUAADAoBQCAQSkAAAxKAQBgUAoAAINSAAAYlAIAwKAUAAAGpQAAMCgFAIBBKQAADEoBAGBQCgAAg1IAABiUAgDAoBQAAAalAAAwKAUAgGFJKdTV1SknJ0fjx4/XXXfdpUOHDsnlcmnGjBkaO3asZsyYodraWiuiAUBI86oUsrOzvVrmrby8PI0YMUJbt27Vxo0blZKSosLCQqWnp6u0tFTp6ekqLCxs8/gAgLa5Yik0NDTI5XKppqZGtbW1crlccrlcOnXqlJxOZ5tWePbsWR04cED33nuvJCkiIkIxMTEqKytTZmamJCkzM1Pbt29v0/gAgLazX+nBX//61yoqKlJlZaWmTp0qj8cjSYqOjtaPfvSjNq3w1KlTio+P14IFC3T8+HGlpqZq4cKFqq6uVkJCgiTJ4XCourq6TeMDANruiqWQnZ2t7Oxsvfnmm8rKyvLJCpubm/XZZ59p0aJFSktL0/PPP3/ZVJHNZpPNZrvqWGFhNsXFdfFJLsDX2DcRaL7Y565YCn+TlZWlgwcPqry8XG632yz/23RPayQlJSkpKUlpaWmSpPHjx6uwsFA9evRQZWWlEhISVFlZqfj4+KuO5XZ75HLVtzoD2h+Ho5vVEVqNfbP9ao/7m+T9Pnel7fOqFObNm6eTJ0+qf//+CgsLk3Txr/m2lILD4VBSUpK+/PJLJScn64MPPlBKSopSUlJUXFysmTNnqri4WKNGjWr12ACAa+NVKXz66afavHmzV1M63li0aJGefPJJNTU1qU+fPlq+fLlaWlo0e/ZsrV+/Xj179lRBQYFP1gUA8J5XpXDTTTepqqrKnAi+VgMGDNCGDRsuW15UVOST8QEAbeNVKdTU1GjixIm65ZZbFB4ebpa//vrrfgsGAAg8r0ph1qxZ/s4BAAgCXpXCbbfd5u8cAIAg4FUpDB482JxkbmpqUnNzszp37qyDBw/6NRwAILC8KoVDhw6Zf3s8HpWVlemTTz7xVyYAgEVafZdUm82m0aNHa+/evf7IAwCwkFdHCqWlpebfLS0t+vTTTxUZGem3UAAAa3hVCu+99575d1hYmHr16qWf//znfgsFALCGV6WwfPlyf+cAAAQBr84pVFRU6PHHH1d6errS09M1a9YsVVRU+DsbACDAvCqFBQsWKCMjQ3v27NGePXt05513asGCBf7OBgAIMK9K4cyZM7rnnntkt9tlt9s1depUnTlzxt/ZAAAB5lUpxMXFaePGjXK73XK73dq4caPi4uL8HA0AEGhelcKyZcu0ZcsWDRs2TMOHD9e2bdv0wgsv+DsbACDAvLr66NVXX9WLL76o2NhYSZLL5dKLL77IVUkA0MF4daTw+eefm0KQLk4nHTt2zG+hAADW8OpIoaWlRbW1tZccKfz9ZzUDuJSnuandfc6vu7FRZ2obrI4Bi3lVCg8++KDuv/9+jR8/XpK0detWPfroo34NBrRnNnu4KlfNtzpGqyQ8li+JUgh1XpVCZmamBg4cqP3790uSXnvtNfXt29evwQAAgedVKUhS3759KQIA6OBafetsAEDHRSkAAAxKAQBgUAoAAINSAAAYlAIAwKAUAAAGpQAAMCgFAIBBKQAADMtKwe12KzMzU4888ogk6eTJk5o2bZrGjBmj2bNnq7Gx0apoABCyLCuFtWvXKiUlxXy9YsUKTZ8+Xe+++65iYmK0fv16q6IBQMiypBQqKiq0c+dO3XvvvZIkj8ej/fv3a9y4cZKkKVOmqKyszIpoABDSLCmFZcuWad68eerU6eLqa2pqFBMTI7v94k1bk5KS5HQ6rYgGACHN61tn+8p7772n+Ph4DRw4UL///e+vaaywMJvi4rr4KBkAfp7aN1+8fgEvhYMHD2rHjh3avXu3GhoadO7cOeXl5amurk7Nzc2y2+2qqKhQYmLiVcdyuz1yueoDkBpWa28fbdle8fN0UXvd37x9/a60fQGfPpo7d652796tHTt26OWXX9btt9+ulStXaujQodq2bZsk6Z133lFGRkagowFAyAua9ynMmzdPv/jFLzRmzBi5XC5NmzbN6kgAEHICPn3094YOHaqhQ4dKkvr06cNlqABgsaA5UgAAWI9SAAAYlAIAwKAUAACGpSeaAXR8MXFRigwPtzoGvEQpAPCryPBwzd2y1uoYrbLyrgesjmAZpo8AAAalAAAwKAUAgEEpAAAMSgEAYFAKAACDUgAAGJQCAMCgFAAABqUAADAoBQCAQSkAAAxKAQBgUAoAAINSAAAYlAIAwKAUAAAGpQAAMCgFAIBBKQAADEoBAGBQCgAAg1IAABiUAgDAoBQAAIY90Cs8ffq05s+fr+rqatlsNt13333Kzs6Wy+XSnDlzVF5erl69eqmgoECxsbGBjgcAIS3gRwphYWF6+umntXnzZr311ltat26dTpw4ocLCQqWnp6u0tFTp6ekqLCwMdDQACHkBL4WEhASlpqZKkqKjo5WcnCyn06mysjJlZmZKkjIzM7V9+/ZARwOAkBfw6aO/d+rUKR07dkxpaWmqrq5WQkKCJMnhcKi6uvqq3x8WZlNcXBd/xwRCBj9P7ZsvXj/LSuH8+fPKycnRM888o+jo6Eses9lsstlsVx3D7fbI5ar3V0QEEYejm9URQoI/fp547QLH29fvSq+JJVcfNTU1KScnR5MmTdLYsWMlST169FBlZaUkqbKyUvHx8VZEA4CQFvBS8Hg8WrhwoZKTkzVjxgyzPCMjQ8XFxZKk4uJijRo1KtDRACDkBXz66OOPP9bGjRvVr18/TZ48WZKUm5urmTNnavbs2Vq/fr169uypgoKCQEcDgJAX8FL47ne/q88///xrHysqKgpwGgDA3+MdzQAAg1IAABiUAgDAoBQAAAalAAAwKAUAgEEpAAAMSgEAYFAKAADD0ltnB1JMXJQiw8OtjtEqDU1NqnNdsDoGgBASMqUQGR6uuVvWWh2jVVbe9YAkSgFA4DB9BAAwKAUAgEEpAAAMSgEAYITMieb2yNPc1O4+39bd2KgztQ1WxwDQRpRCELPZw1W5ar7VMVol4bF8SZQC0F4xfQQAMCgFAIBBKQAADEoBAGBQCgAAg1IAABiUAgDAoBQAAAalAAAwKAUAgEEpAAAMSgEAYFAKAAAjqEph9+7dGjdunMaMGaPCwkKr4wBAyAmaUnC73frpT3+q1atXa9OmTSopKdGJEyesjgUAISVoSuHIkSO64YYb1KdPH0VERGjixIkqKyuzOhYAhBSbx+PxWB1CkrZu3ao9e/YoLy9PklRcXKwjR45o8eLFFicDgNARNEcKAADrBU0pJCYmqqKiwnztdDqVmJhoYSIACD1BUwqDBg3SV199pZMnT6qxsVGbNm1SRkaG1bEAIKTYrQ7wN3a7XYsXL9bDDz8st9ute+65RzfddJPVsQAgpATNiWYAgPWCZvoIAGA9SgEAYFAKQYjbfbRfCxYsUHp6uu6++26ro6ANTp8+raysLE2YMEETJ05UUVGR1ZECjlIIMtzuo32bOnWqVq9ebXUMtFFYWJiefvppbd68WW+99ZbWrVsXcj9/lEKQ4XYf7duQIUMUGxtrdQy0UUJCglJTUyVJ0dHRSk5OltPptDhVYFEKQcbpdCopKcl8nZiYGHI7JRAMTp06pWPHjiktLc3qKAFFKQDAPzh//rxycnL0zDPPKDo62uo4AUUpBBlu9wFYq6mpSTk5OZo0aZLGjh1rdZyAoxSCDLf7AKzj8Xi0cOFCJScna8aMGVbHsQTvaA5Cu3bt0rJly8ztPh577DGrI8FLubm5+vDDD1VTU6MePXpo1qxZmjZtmtWx4KWPPvpIP/zhD9WvXz916nTxb+bc3FyNHDnS4mSBQykAAAymjwAABqUAADAoBQCAQSkAAAxKAQBgUApAG2VlZeno0aNWxwB8ilIAABhB8xnNQDCrr6/X7NmzVVFRoZaWFv3kJz+55PGSkhK98cYb8ng8GjlypObNmydJGjx4sKZNm6b3339f1113nV555RXFx8frz3/+s5YuXaqamhpFRUXpueeeU0pKihWbBlyCIwXAC3v27FFCQoJ++9vfqqSkRCNGjDCPOZ1OrVixQkVFRSouLtbRo0e1fft2SRfLZODAgdq0aZOGDBmi1157TZK0aNEiLVq0SBs2bNBTTz2lpUuXWrJdwD+iFAAv9OvXT/v27dNLL72kjz76SN26dTOPHT16VLfddpvi4+Nlt9s1adIkHThwQJLUqVMnTZgwQZI0efJkffzxxzp//rwOHTqkJ554QpMnT9bixYtVVVVlyXYB/4jpI8ALN954ozZs2KBdu3apoKBAt99+e5vGsdls8ng8iomJ0caNG32cErh2HCkAXnA6nercubMmT56shx56SJ999pl57JZbbtGBAwd05swZud1uM1UkSS0tLdq2bZsk6Xe/+52+853vKDo6Wr1799aWLVskXbwz5/HjxwO/UcDX4EgB8MIXX3yh/Px8derUSXa7XUuWLFF+fr6kix/hOHfuXGVnZ5sTzaNHj5YkdenSRUeOHNGqVasUHx+vgoICSdJLL72kJUuWaNWqVWpubtaECRPUv39/qzYPMLhLKuBHgwcP1qFDh6yOAXiN6SMAgMGRAgDA4EgBAGBQCgAAg1IAABiUAgDAoBQAAMZ/A4GfzrJNHpxAAAAAAElFTkSuQmCC
"
>
</div>

</div>

</div>
</div>

</div>
<div class="cell border-box-sizing text_cell rendered"><div class="prompt input_prompt">
</div><div class="inner_cell">
<div class="text_cell_render border-box-sizing rendered_html">

</div>
</div>
</div>
<div class="cell border-box-sizing code_cell rendered">
<div class="input">
<div class="prompt input_prompt">In&nbsp;[25]:</div>
<div class="inner_cell">
    <div class="input_area">
<div class=" highlight hl-ipython3"><pre><span></span><span class="c1">#data.thal.drop(&#39;0&#39;,axis=0,inplace=True)</span>
<span class="n">data</span><span class="o">=</span><span class="n">data</span><span class="o">.</span><span class="n">loc</span><span class="p">[</span><span class="n">data</span><span class="p">[</span><span class="s1">&#39;thal&#39;</span><span class="p">]</span><span class="o">!=</span> <span class="mi">0</span> <span class="p">]</span>
<span class="n">data</span>
</pre></div>

    </div>
</div>
</div>

<div class="output_wrapper">
<div class="output">


<div class="output_area">

    <div class="prompt output_prompt">Out[25]:</div>



<div class="output_html rendered_html output_subarea output_execute_result">

  <div id="df-8cb0a973-ffda-4a90-84a1-ae3b99ccfffc">
    <div class="colab-df-container">
      <div>
<style scoped>
    .dataframe tbody tr th:only-of-type {
        vertical-align: middle;
    }

    .dataframe tbody tr th {
        vertical-align: top;
    }

    .dataframe thead th {
        text-align: right;
    }
</style>
<table border="1" class="dataframe">
  <thead>
    <tr style="text-align: right;">
      <th></th>
      <th>age</th>
      <th>sex</th>
      <th>cp</th>
      <th>trestbps</th>
      <th>chol</th>
      <th>fbs</th>
      <th>restecg</th>
      <th>thalach</th>
      <th>exang</th>
      <th>oldpeak</th>
      <th>slope</th>
      <th>ca</th>
      <th>thal</th>
      <th>target</th>
    </tr>
  </thead>
  <tbody>
    <tr>
      <th>0</th>
      <td>63</td>
      <td>1</td>
      <td>3</td>
      <td>145</td>
      <td>233</td>
      <td>1</td>
      <td>0</td>
      <td>150</td>
      <td>0</td>
      <td>2.3</td>
      <td>0</td>
      <td>0</td>
      <td>1</td>
      <td>1</td>
    </tr>
    <tr>
      <th>1</th>
      <td>37</td>
      <td>1</td>
      <td>2</td>
      <td>130</td>
      <td>250</td>
      <td>0</td>
      <td>1</td>
      <td>187</td>
      <td>0</td>
      <td>3.5</td>
      <td>0</td>
      <td>0</td>
      <td>2</td>
      <td>1</td>
    </tr>
    <tr>
      <th>2</th>
      <td>41</td>
      <td>0</td>
      <td>1</td>
      <td>130</td>
      <td>204</td>
      <td>0</td>
      <td>0</td>
      <td>172</td>
      <td>0</td>
      <td>1.4</td>
      <td>2</td>
      <td>0</td>
      <td>2</td>
      <td>1</td>
    </tr>
    <tr>
      <th>3</th>
      <td>56</td>
      <td>1</td>
      <td>1</td>
      <td>120</td>
      <td>236</td>
      <td>0</td>
      <td>1</td>
      <td>178</td>
      <td>0</td>
      <td>0.8</td>
      <td>2</td>
      <td>0</td>
      <td>2</td>
      <td>1</td>
    </tr>
    <tr>
      <th>4</th>
      <td>57</td>
      <td>0</td>
      <td>0</td>
      <td>120</td>
      <td>354</td>
      <td>0</td>
      <td>1</td>
      <td>163</td>
      <td>1</td>
      <td>0.6</td>
      <td>2</td>
      <td>0</td>
      <td>2</td>
      <td>1</td>
    </tr>
    <tr>
      <th>...</th>
      <td>...</td>
      <td>...</td>
      <td>...</td>
      <td>...</td>
      <td>...</td>
      <td>...</td>
      <td>...</td>
      <td>...</td>
      <td>...</td>
      <td>...</td>
      <td>...</td>
      <td>...</td>
      <td>...</td>
      <td>...</td>
    </tr>
    <tr>
      <th>298</th>
      <td>57</td>
      <td>0</td>
      <td>0</td>
      <td>140</td>
      <td>241</td>
      <td>0</td>
      <td>1</td>
      <td>123</td>
      <td>1</td>
      <td>0.2</td>
      <td>1</td>
      <td>0</td>
      <td>3</td>
      <td>0</td>
    </tr>
    <tr>
      <th>299</th>
      <td>45</td>
      <td>1</td>
      <td>3</td>
      <td>110</td>
      <td>264</td>
      <td>0</td>
      <td>1</td>
      <td>132</td>
      <td>0</td>
      <td>1.2</td>
      <td>1</td>
      <td>0</td>
      <td>3</td>
      <td>0</td>
    </tr>
    <tr>
      <th>300</th>
      <td>68</td>
      <td>1</td>
      <td>0</td>
      <td>144</td>
      <td>193</td>
      <td>1</td>
      <td>1</td>
      <td>141</td>
      <td>0</td>
      <td>3.4</td>
      <td>1</td>
      <td>2</td>
      <td>3</td>
      <td>0</td>
    </tr>
    <tr>
      <th>301</th>
      <td>57</td>
      <td>1</td>
      <td>0</td>
      <td>130</td>
      <td>131</td>
      <td>0</td>
      <td>1</td>
      <td>115</td>
      <td>1</td>
      <td>1.2</td>
      <td>1</td>
      <td>1</td>
      <td>3</td>
      <td>0</td>
    </tr>
    <tr>
      <th>302</th>
      <td>57</td>
      <td>0</td>
      <td>1</td>
      <td>130</td>
      <td>236</td>
      <td>0</td>
      <td>0</td>
      <td>174</td>
      <td>0</td>
      <td>0.0</td>
      <td>1</td>
      <td>1</td>
      <td>2</td>
      <td>0</td>
    </tr>
  </tbody>
</table>
<p>300 rows × 14 columns</p>
</div>
      <button class="colab-df-convert" onclick="convertToInteractive('df-8cb0a973-ffda-4a90-84a1-ae3b99ccfffc')"
              title="Convert this dataframe to an interactive table."
              style="display:none;">
        
  <svg xmlns="http://www.w3.org/2000/svg" height="24px"viewBox="0 0 24 24"
       width="24px">
    <path d="M0 0h24v24H0V0z" fill="none"/>
    <path d="M18.56 5.44l.94 2.06.94-2.06 2.06-.94-2.06-.94-.94-2.06-.94 2.06-2.06.94zm-11 1L8.5 8.5l.94-2.06 2.06-.94-2.06-.94L8.5 2.5l-.94 2.06-2.06.94zm10 10l.94 2.06.94-2.06 2.06-.94-2.06-.94-.94-2.06-.94 2.06-2.06.94z"/><path d="M17.41 7.96l-1.37-1.37c-.4-.4-.92-.59-1.43-.59-.52 0-1.04.2-1.43.59L10.3 9.45l-7.72 7.72c-.78.78-.78 2.05 0 2.83L4 21.41c.39.39.9.59 1.41.59.51 0 1.02-.2 1.41-.59l7.78-7.78 2.81-2.81c.8-.78.8-2.07 0-2.86zM5.41 20L4 18.59l7.72-7.72 1.47 1.35L5.41 20z"/>
  </svg>
      </button>
      
  <style>
    .colab-df-container {
      display:flex;
      flex-wrap:wrap;
      gap: 12px;
    }

    .colab-df-convert {
      background-color: #E8F0FE;
      border: none;
      border-radius: 50%;
      cursor: pointer;
      display: none;
      fill: #1967D2;
      height: 32px;
      padding: 0 0 0 0;
      width: 32px;
    }

    .colab-df-convert:hover {
      background-color: #E2EBFA;
      box-shadow: 0px 1px 2px rgba(60, 64, 67, 0.3), 0px 1px 3px 1px rgba(60, 64, 67, 0.15);
      fill: #174EA6;
    }

    [theme=dark] .colab-df-convert {
      background-color: #3B4455;
      fill: #D2E3FC;
    }

    [theme=dark] .colab-df-convert:hover {
      background-color: #434B5C;
      box-shadow: 0px 1px 3px 1px rgba(0, 0, 0, 0.15);
      filter: drop-shadow(0px 1px 2px rgba(0, 0, 0, 0.3));
      fill: #FFFFFF;
    }
  </style>

      <script>
        const buttonEl =
          document.querySelector('#df-8cb0a973-ffda-4a90-84a1-ae3b99ccfffc button.colab-df-convert');
        buttonEl.style.display =
          google.colab.kernel.accessAllowed ? 'block' : 'none';

        async function convertToInteractive(key) {
          const element = document.querySelector('#df-8cb0a973-ffda-4a90-84a1-ae3b99ccfffc');
          const dataTable =
            await google.colab.kernel.invokeFunction('convertToInteractive',
                                                     [key], {});
          if (!dataTable) return;

          const docLinkHtml = 'Like what you see? Visit the ' +
            '<a target="_blank" href=https://colab.research.google.com/notebooks/data_table.ipynb>data table notebook</a>'
            + ' to learn more about interactive tables.';
          element.innerHTML = '';
          dataTable['output_type'] = 'display_data';
          await google.colab.output.renderOutput(dataTable, element);
          const docLink = document.createElement('div');
          docLink.innerHTML = docLinkHtml;
          element.appendChild(docLink);
        }
      </script>
    </div>
  </div>
  
</div>

</div>

</div>
</div>

</div>
<div class="cell border-box-sizing code_cell rendered">
<div class="input">
<div class="prompt input_prompt">In&nbsp;[26]:</div>
<div class="inner_cell">
    <div class="input_area">
<div class=" highlight hl-ipython3"><pre><span></span><span class="c1"># checking if the thalassemia is the major cause</span>
<span class="n">sns</span><span class="o">.</span><span class="n">countplot</span><span class="p">(</span><span class="n">data</span><span class="o">.</span><span class="n">thal</span><span class="p">,</span><span class="n">hue</span><span class="o">=</span><span class="n">data</span><span class="o">.</span><span class="n">target</span><span class="p">)</span>
</pre></div>

    </div>
</div>
</div>

<div class="output_wrapper">
<div class="output">


<div class="output_area">

    <div class="prompt output_prompt">Out[26]:</div>




<div class="output_text output_subarea output_execute_result">
<pre>&lt;AxesSubplot:xlabel=&#39;thal&#39;, ylabel=&#39;count&#39;&gt;</pre>
</div>

</div>

<div class="output_area">

    <div class="prompt"></div>




<div class="output_png output_subarea ">
<img src="data:image/png;base64,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
"
>
</div>

</div>

</div>
</div>

</div>
<div class="cell border-box-sizing code_cell rendered">
<div class="input">
<div class="prompt input_prompt">In&nbsp;[27]:</div>
<div class="inner_cell">
    <div class="input_area">
<div class=" highlight hl-ipython3"><pre><span></span><span class="c1">#how the other factors determine the occurrence of CVD</span>

<span class="n">sns</span><span class="o">.</span><span class="n">catplot</span><span class="p">(</span><span class="n">x</span> <span class="o">=</span><span class="s1">&#39;fbs&#39;</span><span class="p">,</span> <span class="n">y</span> <span class="o">=</span><span class="s1">&#39;age&#39;</span><span class="p">,</span> <span class="n">data</span> <span class="o">=</span> <span class="n">data</span><span class="p">)</span> 
<span class="n">sns</span><span class="o">.</span><span class="n">catplot</span><span class="p">(</span><span class="n">x</span> <span class="o">=</span><span class="s1">&#39;thalach&#39;</span><span class="p">,</span> <span class="n">y</span> <span class="o">=</span><span class="s1">&#39;age&#39;</span><span class="p">,</span> <span class="n">data</span> <span class="o">=</span> <span class="n">data</span><span class="p">)</span>
<span class="n">plt</span><span class="o">.</span><span class="n">show</span><span class="p">()</span>
<span class="n">sns</span><span class="o">.</span><span class="n">catplot</span><span class="p">(</span><span class="n">x</span> <span class="o">=</span><span class="s1">&#39;oldpeak&#39;</span><span class="p">,</span> <span class="n">y</span> <span class="o">=</span><span class="s1">&#39;age&#39;</span><span class="p">,</span> <span class="n">data</span> <span class="o">=</span> <span class="n">data</span><span class="p">,</span> <span class="n">kind</span><span class="o">=</span><span class="s1">&#39;violin&#39;</span><span class="p">)</span>
<span class="n">plt</span><span class="o">.</span><span class="n">show</span><span class="p">()</span>
<span class="n">sns</span><span class="o">.</span><span class="n">catplot</span><span class="p">(</span><span class="n">x</span> <span class="o">=</span><span class="s1">&#39;ca&#39;</span><span class="p">,</span> <span class="n">y</span> <span class="o">=</span><span class="s1">&#39;age&#39;</span><span class="p">,</span> <span class="n">data</span> <span class="o">=</span> <span class="n">data</span><span class="p">,</span> <span class="n">kind</span><span class="o">=</span><span class="s1">&#39;bar&#39;</span><span class="p">)</span>
<span class="n">plt</span><span class="o">.</span><span class="n">show</span><span class="p">()</span>
</pre></div>

    </div>
</div>
</div>

<div class="output_wrapper">
<div class="output">


<div class="output_area">

    <div class="prompt"></div>




<div class="output_png output_subarea ">
<img src="data:image/png;base64,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
"
>
</div>

</div>

<div class="output_area">

    <div class="prompt"></div>




<div class="output_png output_subarea ">
<img src="data:image/png;base64,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
"
>
</div>

</div>

<div class="output_area">

    <div class="prompt"></div>




<div class="output_png output_subarea ">
<img src="data:image/png;base64,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
"
>
</div>

</div>

<div class="output_area">

    <div class="prompt"></div>




<div class="output_png output_subarea ">
<img src="data:image/png;base64,iVBORw0KGgoAAAANSUhEUgAAAWAAAAFgCAYAAACFYaNMAAAAOXRFWHRTb2Z0d2FyZQBNYXRwbG90bGliIHZlcnNpb24zLjUuMywgaHR0cHM6Ly9tYXRwbG90bGliLm9yZy/NK7nSAAAACXBIWXMAAAsTAAALEwEAmpwYAAAWDUlEQVR4nO3df2zV9b3H8deXU4pCOa2n9ofVXrZWGAwM266uHI0YixQQGIWVZRvxzmYGTdQOUDaQSNSAJrtImt27LGl0S7tMYmjgVOeCSFFLYEyxOq4ZMp3sAsa224FDKZS25/C9f5hLZFCoPz7nfXrO8/HPsV/g+31/RJ/55tPzPfV83/cFAEi6EdYDAECmIsAAYIQAA4ARAgwARggwABjJsh5gKPr74zpxotd6DAD4XAoKxl70+LC4A/Y8z3oEAPjSDYsAA0A6IsAAYIQAA4ARAgwARggwABghwABghAADgBECDABGCDAAGCHAAGCEAAOAEQIMAEYIMJBh2tv36fHH16i9fZ/1KBlvWHwcJYAvz+bNz+nQoQ915kyvvvWtG63HyWjcAQMZprf3zHmvsEOAAcAIAQYAIwQYAIwQYAAwQoCR0XhLFizxNjRkNN6SBUvcASOj8ZYsWCLAAGCEAAOAEQIMAEacBri7u1t1dXWaPXu25syZo7fffluxWEy1tbWqqqpSbW2tTpw44XIEAEhZTgO8fv163Xrrrdq2bZtaWlpUXl6uhoYGhcNhbd++XeFwWA0NDS5HAICU5SzAJ0+e1JtvvqmamhpJUnZ2toLBoFpbW1VdXS1Jqq6u1o4dO1yNAAApzdn7gI8ePapQKKTVq1frvffe0+TJk7VmzRpFo1EVFhZKkgoKChSNRi97rkDAU17eaFejIoMFAt6510z5bywT15yqnAU4Ho/rL3/5ix599FFNnTpV69atu2C7wfM8eZ532XMlEr5isdOuRkWKy8kdqSuzr3B+nZEjA87O3dt/Rj0nBob8+6/KGamsK4f3muO9Z3S8Z+hrTmcFBWMvetxZgIuLi1VcXKypU6dKkmbPnq2Ghgbl5+erq6tLhYWF6urqUigUcjUC0sSV2Vfolv+6xcm5s2PZGqEROhI74uwakrT7wd3q0dBjlHXlFXp9+m1OZunNCkiep96jR51dQ5Jua3tdIsCX5GwPuKCgQMXFxfrwww8lSX/84x9VXl6uyspKRSIRSVIkEtGMGTNcjYDPiM9FAJLL6WdBPProo3r44Yc1MDCg0tJSPfXUUzp79qyWLVum5uZmlZSUqL6+3uUI+Az4XAQguZwGeNKkSdqyZcsFxxsbG11eFp8Tn4sAJBdPwgGAEQIMAEYIMAAYIcAAYIQAA4ARAozMlvUvr0AS8Z/dMBPKHamAo8dyP/0ZAYM9OvllSPSf0bHP8FiuS/FJcQU+CChxfcJ6FGQgAjzMBLKv0OEnbnBy7vixkKQsxY/9r7NrSNK/rf0f6TM8luvS2eKzOlt81noMZCi2IADACAEGACMEGMgwo/7lFXYIMJBhbkuc1bizZ3Vbgr1va3wTDsgwE3xfExK+9RgQd8AAYIYA45wrAv55rwDcIsA4Z+FXTmlibr8WfuWU9ShARmAPGOdMze/X1Px+6zGAL117+z69+OJWzZ+/MKV+2gsBBpD2UvXHbbEFASDtpeqP2yLAAGCEAAOAEQIMAEYIMAAYIcAAYIQAA4ARAgwARgjwINrb9+nxx9eovX2f9SgA0hRPwg0iVZ+cAZA+uAMeRKo+OQMgfRBgADBCgAHACAEGACMEGACMDOt3QeQEr9CVo0Y6OXcg4J17LSgY6+QaktTbN6Cebr7RB2SiYR3gK0eN1L+vbHJy7rH/PKmApMP/POnsGpL01n/+h3pEgIFMxBYEABghwABgxOkWRGVlpcaMGaMRI0YoEAhoy5YtisViWr58uT766CNde+21qq+vV25urssxACAlOb8DbmxsVEtLi7Zs2SJJamhoUDgc1vbt2xUOh9XQ0OB6BABISUnfgmhtbVV1dbUkqbq6Wjt27Ej2CEPij8g67xUAvmzOA/zjH/9YixYt0vPPPy9JikajKiwslCQVFBQoGo26HuFzOVPyTQ3kFOtMyTetRwGQppze3m3atElFRUWKRqOqra1VWVnZeb/ueZ48z7vseQIBT3l5o12NeVHx3OsUz70uKddK9tpSAWvODKmy5k+/rz9VZpIcB7ioqEiSlJ+fr5kzZ2r//v3Kz89XV1eXCgsL1dXVpVAodNnzJBK+YrHTFxx3+YBEMl1sbYNhzcMXa7aTSPjnXi1mGuzv09kWxOnTp9XT03Pun3fv3q3x48ersrJSkUhEkhSJRDRjxgxXIwBASnN2BxyNRnX//fdLkhKJhObNm6fp06frhhtu0LJly9Tc3KySkhLV19e7GgEAUpqzAJeWluqFF1644PhVV12lxsZGV5cFgGGDJ+EAwAgBBgAjBBgAjBBgADBCgAHACB90ACAl5AavVPYoN0lK1k+46e+L60R375B/PwEGkBKyR2Xpvx960cm5Y/88de7V1TUk6YGn53+m388WBAAYIcAAYIQAA4ARAgwARggwABghwABghAADgBECDABGCDAAGCHAAGCEAAOAEQIMAEYIMAAYIcAAYIQAA4ARAgwARggwABghwABghAADgBECDABGCDAAGCHAAGCEAAOAEQIMAEYIMAAYIcAAYIQAA4ARAgwARggwABghwABghAADgBHnAU4kEqqurta9994rSTpy5IgWL16smTNnatmyZerv73c9AoAMN3JE9nmvqcJ5gJuamlReXn7u6w0bNujuu+/WK6+8omAwqObmZtcjAMhwk4rDujrnOk0qDluPch6nAe7o6NBrr72mmpoaSZLv+9q7d69mzZolSVq4cKFaW1tdjgAAKs79qm69vkbFuV+1HuU8WS5P/uSTT2rlypU6deqUJOn48eMKBoPKyvrkssXFxers7LzseQIBT3l5o12Oaiqd1zYY1pwZWPOlOQvwq6++qlAopClTpuhPf/rTFzpXIuErFjt9wfGCgrFf6Lyp4mJrGwxrHr5Y86Wl85oHW5uzALe3t2vnzp1qa2tTX1+fenp6tH79enV3dysejysrK0sdHR0qKipyNQIApDRne8APPfSQ2tratHPnTm3cuFHTpk3T008/rYqKCr388suSpK1bt6qystLVCACQ0pL+PuCVK1fqN7/5jWbOnKlYLKbFixcnewQASAlOvwn3/yoqKlRRUSFJKi0t5a1nACCehAMAMwQYAIwQYAAwQoABwAgBBgAjBBgAjBBgADBCgAHACAEGACMEGACMEGAAMEKAAcAIAQYAIwQYAIwQYAAwQoABwAgBBgAjBBgAjHymAPf29rqaAwAyzpAC3N7erjvvvFNz5syRJL333nt67LHHXM4FAGlvSAF+6qmn9OyzzyovL0+SNHHiRO3bt8/lXACQ9oa8BXHNNdec/wdHsH0MAF/EkH4s/TXXXKP29nZ5nqeBgQE1NTWpvLzc9WwAkNaGdBv72GOP6Xe/+506Ozs1ffp0HThwQGvXrnU9GwCktSHdAYdCIT399NOuZwGAjDKkAK9bt+6CYzk5OZoyZYruuOOOL30oAMgEQ9qC6Ovr04EDBzRu3DiNGzdOBw8eVGdnp5qbm7V+/XrXMwJAWhrSHfDBgwe1adMmBQIBSdIPfvADLVmyRM8995zmz5/vdEAASFdDugM+ceKETp8+fe7r3t5exWIxBQIBZWdnOxsOANLZkO6A77nnHi1YsEAVFRXyfV9vvvmm7rvvPp0+fVrhcNj1jACQloYU4MWLF2v69OlqaWlReXm5brnlFhUXF2v06NH62c9+5npGAEhLQwrw5s2b1dTUpI6ODk2cOFF//vOf9Y1vfENNTU2u5wOAtDWkPeCmpiY1NzerpKREv/3tb7V161YFg0HXswFAWhtSgLOzszVq1ChJUn9/v8rLy3Xo0CGngwFAuhvSFkRxcbG6u7t1xx13qLa2VsFgUCUlJa5nA4C0NqQA//KXv5QkPfjgg6qoqNDJkyd16623Oh0MANLdkAL8ad/+9rddzAEAGeczB3io+vr6tGTJEvX39yuRSGjWrFmqq6vTkSNHtGLFCsViMU2ePFk///nPeZgDQEZy9qnq2dnZamxs1AsvvKBIJKJdu3bpnXfe0YYNG3T33XfrlVdeUTAYVHNzs6sRACClOQuw53kaM2aMJCkejysej8vzPO3du1ezZs2SJC1cuFCtra2uRgCAlOZsC0KSEomEFi1apMOHD+uHP/yhSktLFQwGlZX1yWWLi4vV2dl52fMEAp7y8ka7HNVUOq9tMKw5M7DmS3Ma4EAgoJaWFnV3d+v+++/Xhx9++LnOk0j4isVOX3C8oGDsFx0xJVxsbYNhzcMXa760dF7zYGtLyk/WDAaDqqio0DvvvKPu7m7F43FJUkdHh4qKipIxAgCkHGcBPnbsmLq7uyVJZ86c0Z49e1ReXq6Kigq9/PLLkqStW7eqsrLS1QgAkNKcbUF0dXVp1apVSiQS8n1fs2fP1u23367rr79ey5cvV319vSZNmqTFixe7GgEAUpqzAE+cOFGRSOSC46Wlpbz1DACUpD1gAMCFCDAAGCHAAGCEAAOAEQIMAEYIMAAYIcAAYIQAA4ARAgwARggwABghwABghAADgBECDABGCDAAGCHAAGCEAAOAEQIMAEYIMAAYIcAAYIQAA4ARAgwARggwABghwABghAADgBECDABGCDAAGCHAAGCEAAOAEQIMAEYIMAAYIcAAYIQAA4ARAgwARggwABghwABghAADgBECDABGslyd+OOPP9ZPf/pTRaNReZ6n733ve/rRj36kWCym5cuX66OPPtK1116r+vp65ebmuhoDAFKWszvgQCCgVatW6Q9/+IOef/55Pffcc/rggw/U0NCgcDis7du3KxwOq6GhwdUIAJDSnAW4sLBQkydPliTl5OSorKxMnZ2dam1tVXV1tSSpurpaO3bscDUCAKQ0Z1sQn3b06FEdOHBAU6dOVTQaVWFhoSSpoKBA0Wj0sn8+EPCUlzfa9Zhm0nltg2HNmYE1X5rzAJ86dUp1dXV65JFHlJOTc96veZ4nz/Mue45EwlcsdvqC4wUFY7+0OS1dbG2DYc3DF2u+tHRe82Brc/ouiIGBAdXV1Wn+/PmqqqqSJOXn56urq0uS1NXVpVAo5HIEAEhZzgLs+77WrFmjsrIy1dbWnjteWVmpSCQiSYpEIpoxY4arEQAgpTnbgnjrrbfU0tKiCRMmaMGCBZKkFStWaOnSpVq2bJmam5tVUlKi+vp6VyMAQEpzFuAbb7xRBw8evOivNTY2urosAAwbPAkHAEYIMAAYIcAAYIQAA4ARAgwARggwABghwABghAADgBECDABGCDAAGCHAAGCEAAOAEQIMAEYIMAAYIcAAYIQAA4ARAgwARggwABghwABghAADgBECDABGCDAAGCHAAGCEAAOAEQIMAEYIMAAYIcAAYIQAA4ARAgwARggwABghwABghAADgBECDABGCDAAGCHAAGCEAAOAEQIMAEacBXj16tUKh8OaN2/euWOxWEy1tbWqqqpSbW2tTpw44eryAJDynAV40aJFeuaZZ8471tDQoHA4rO3btyscDquhocHV5QEg5TkL8E033aTc3NzzjrW2tqq6ulqSVF1drR07dri6PACkvKTuAUejURUWFkqSCgoKFI1Gk3l5AEgpWVYX9jxPnucN6fcGAp7y8kY7nshOOq9tMKw5M7DmS0tqgPPz89XV1aXCwkJ1dXUpFAoN6c8lEr5isdMXHC8oGPtlj2jiYmsbDGsevljzpaXzmgdbW1K3ICorKxWJRCRJkUhEM2bMSOblASClOAvwihUr9P3vf1+HDh3S9OnTtXnzZi1dulS7d+9WVVWV9uzZo6VLl7q6PACkPGdbEBs3brzo8cbGRleXBIBhhSfhAMAIAQYAIwQYAIwQYAAwQoABwAgBBgAjBBgAjBBgADBCgAHACAEGACMEGACMEGAAMEKAAcAIAQYAIwQYAIwQYAAwQoABwAgBBgAjBBgAjBBgADBCgAHACAEGACMEGACMEGAAMEKAAcAIAQYAIwQYAIwQYAAwQoABwAgBBgAjBBgAjBBgADBCgAHACAEGACMEGACMEGAAMEKAAcAIAQYAIyYBbmtr06xZszRz5kw1NDRYjAAA5pIe4EQioSeeeELPPPOMXnrpJf3+97/XBx98kOwxAMBc0gO8f/9+jRs3TqWlpcrOztbcuXPV2tqa7DEAwJzn+76fzAtu27ZNu3bt0vr16yVJkUhE+/fv19q1a5M5BgCY45twAGAk6QEuKipSR0fHua87OztVVFSU7DEAwFzSA3zDDTfo73//u44cOaL+/n699NJLqqysTPYYAGAuK+kXzMrS2rVrdc899yiRSOi73/2uxo8fn+wxAMBc0r8JBwD4BN+EAwAjBBgAjBDgQWTa49KrV69WOBzWvHnzrEdJmo8//lh33XWX7rzzTs2dO1eNjY3WIznX19enmpoafec739HcuXP1i1/8wnqkpEgkEqqurta9995rPcr5fFwgHo/7M2bM8A8fPuz39fX58+fP999//33rsZx64403/HfffdefO3eu9ShJ09nZ6b/77ru+7/v+yZMn/aqqqrT/ez579qzf09Pj+77v9/f3+zU1Nf7bb79tO1QS/PrXv/ZXrFjhL1261HqU83AHfBGZ+Lj0TTfdpNzcXOsxkqqwsFCTJ0+WJOXk5KisrEydnZ3GU7nleZ7GjBkjSYrH44rH4/I8z3gqtzo6OvTaa6+ppqbGepQLEOCL6OzsVHFx8bmvi4qK0v5/zEx39OhRHThwQFOnTrUexblEIqEFCxbo5ptv1s0335z2a37yySe1cuVKjRiRerlLvYmAJDt16pTq6ur0yCOPKCcnx3oc5wKBgFpaWvT6669r//79+utf/2o9kjOvvvqqQqGQpkyZYj3KRSX9QYzhgMelM8fAwIDq6uo0f/58VVVVWY+TVMFgUBUVFdq1a5cmTJhgPY4T7e3t2rlzp9ra2tTX16eenh49/PDD2rBhg/VokrgDvigel84Mvu9rzZo1KisrU21trfU4SXHs2DF1d3dLks6cOaM9e/aorKzMeCp3HnroIbW1tWnnzp3auHGjpk2bljLxlbgDvqhMfFx6xYoVeuONN3T8+HFNnz5dDz74oBYvXmw9llNvvfWWWlpaNGHCBC1YsEDSJ/8ebrvtNuPJ3Onq6tKqVauUSCTk+75mz56t22+/3XqsjMWjyABghC0IADBCgAHACAEGACMEGACMEGAAMEKAAcAIAQYAIzyIgYwTiUT07LPPyvM8fe1rX9OcOXP0q1/9SgMDA8rLy9OGDRt09dVXW4+JDMCDGMgo77//vh544AFt2rRJoVBIsVhMnucpGAzK8zxt3rxZf/vb37Rq1SrrUZEBuANGRtm7d69mz56tUCgkScrLy9PBgwe1fPly/eMf/1B/f7+uu+464ymRKdgDRsZbt26dlixZohdffFFPPPGE+vv7rUdChiDAyCjTpk3Ttm3bdPz4cUlSLBbTyZMnz33caCQSMZwOmYYtCGSU8ePH67777tNdd92lESNG6Otf/7oeeOAB/eQnP1Fubq4qKip09OhR6zGRIfgmHAAYYQsCAIwQYAAwQoABwAgBBgAjBBgAjBBgADBCgAHAyP8BDLoTLC3YK9QAAAAASUVORK5CYII=
"
>
</div>

</div>

</div>
</div>

</div>
<div class="cell border-box-sizing code_cell rendered">
<div class="input">
<div class="prompt input_prompt">In&nbsp;[28]:</div>
<div class="inner_cell">
    <div class="input_area">
<div class=" highlight hl-ipython3"><pre><span></span><span class="c1">#mutivarient analysis done across all variables</span>
<span class="c1">#sns.pairplot(data)</span>
</pre></div>

    </div>
</div>
</div>

</div>
<div class="cell border-box-sizing code_cell rendered">
<div class="input">
<div class="prompt input_prompt">In&nbsp;[29]:</div>
<div class="inner_cell">
    <div class="input_area">
<div class=" highlight hl-ipython3"><pre><span></span><span class="c1">#Plotting a heatmap for correlation</span>
<span class="n">plt</span><span class="o">.</span><span class="n">figure</span><span class="p">(</span><span class="n">figsize</span><span class="o">=</span><span class="p">(</span><span class="mi">18</span><span class="p">,</span><span class="mi">16</span><span class="p">))</span>
<span class="n">sns</span><span class="o">.</span><span class="n">heatmap</span><span class="p">(</span><span class="n">data</span><span class="o">.</span><span class="n">corr</span><span class="p">(),</span><span class="n">annot</span><span class="o">=</span><span class="kc">True</span><span class="p">,</span> <span class="n">fmt</span><span class="o">=</span><span class="s1">&#39;.1f&#39;</span><span class="p">,</span> <span class="n">linecolor</span><span class="o">=</span><span class="s1">&#39;white&#39;</span><span class="p">,</span><span class="n">linewidths</span><span class="o">=</span> <span class="mf">1.001</span><span class="p">,</span><span class="n">cmap</span><span class="o">=</span><span class="s1">&#39;inferno&#39;</span><span class="p">)</span>
</pre></div>

    </div>
</div>
</div>

<div class="output_wrapper">
<div class="output">


<div class="output_area">

    <div class="prompt output_prompt">Out[29]:</div>




<div class="output_text output_subarea output_execute_result">
<pre>&lt;AxesSubplot:&gt;</pre>
</div>

</div>

<div class="output_area">

    <div class="prompt"></div>




<div class="output_png output_subarea ">
<img src="data:image/png;base64,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
"
>
</div>

</div>

</div>
</div>

</div>
<div class="cell border-box-sizing code_cell rendered">
<div class="input">
<div class="prompt input_prompt">In&nbsp;[30]:</div>
<div class="inner_cell">
    <div class="input_area">
<div class=" highlight hl-ipython3"><pre><span></span><span class="ch">#!pip install autoviz</span>
</pre></div>

    </div>
</div>
</div>

</div>
<div class="cell border-box-sizing code_cell rendered">
<div class="input">
<div class="prompt input_prompt">In&nbsp;[31]:</div>
<div class="inner_cell">
    <div class="input_area">
<div class=" highlight hl-ipython3"><pre><span></span><span class="c1">#from autoviz.AutoViz_Class import AutoViz_Class</span>

<span class="c1">#AV = AutoViz_Class()</span>
</pre></div>

    </div>
</div>
</div>

</div>
<div class="cell border-box-sizing code_cell rendered">
<div class="input">
<div class="prompt input_prompt">In&nbsp;[32]:</div>
<div class="inner_cell">
    <div class="input_area">
<div class=" highlight hl-ipython3"><pre><span></span><span class="c1"># filename = &quot;HeartDeasese.xlsx&quot;</span>
<span class="c1"># sep = &quot;,&quot;</span>
<span class="c1"># dft = AV.AutoViz(</span>
<span class="c1">#     filename,</span>
<span class="c1">#     sep=&quot;,&quot;,</span>
<span class="c1">#     depVar=&quot;&quot;,</span>
<span class="c1">#     dfte=None,</span>
<span class="c1">#     header=0,</span>
<span class="c1">#     verbose=0,</span>
<span class="c1">#     lowess=False,</span>
<span class="c1">#     chart_format=&quot;svg&quot;,</span>
<span class="c1">#     max_rows_analyzed=500,</span>
<span class="c1">#     max_cols_analyzed=30,</span>
<span class="c1"># )</span>
</pre></div>

    </div>
</div>
</div>

</div>
<div class="cell border-box-sizing code_cell rendered">
<div class="input">
<div class="prompt input_prompt">In&nbsp;[33]:</div>
<div class="inner_cell">
    <div class="input_area">
<div class=" highlight hl-ipython3"><pre><span></span><span class="c1"># Using standard scaling for catogorical variables</span>
<span class="n">b</span><span class="o">=</span><span class="p">[</span><span class="s2">&quot;age&quot;</span><span class="p">,</span><span class="s2">&quot;trestbps&quot;</span><span class="p">,</span><span class="s2">&quot;chol&quot;</span><span class="p">,</span><span class="s2">&quot;thalach&quot;</span><span class="p">,</span><span class="s2">&quot;oldpeak&quot;</span><span class="p">]</span>
<span class="n">ss</span> <span class="o">=</span> <span class="n">StandardScaler</span><span class="p">()</span>
<span class="n">data</span><span class="p">[</span><span class="n">b</span><span class="p">]</span> <span class="o">=</span> <span class="n">ss</span><span class="o">.</span><span class="n">fit_transform</span><span class="p">(</span><span class="n">data</span><span class="p">[</span><span class="n">b</span><span class="p">])</span>
</pre></div>

    </div>
</div>
</div>

</div>
<div class="cell border-box-sizing code_cell rendered">
<div class="input">
<div class="prompt input_prompt">In&nbsp;[34]:</div>
<div class="inner_cell">
    <div class="input_area">
<div class=" highlight hl-ipython3"><pre><span></span><span class="n">data</span>
</pre></div>

    </div>
</div>
</div>

<div class="output_wrapper">
<div class="output">


<div class="output_area">

    <div class="prompt output_prompt">Out[34]:</div>



<div class="output_html rendered_html output_subarea output_execute_result">

  <div id="df-a4814a6c-a038-4828-a4cd-67a482dc0db1">
    <div class="colab-df-container">
      <div>
<style scoped>
    .dataframe tbody tr th:only-of-type {
        vertical-align: middle;
    }

    .dataframe tbody tr th {
        vertical-align: top;
    }

    .dataframe thead th {
        text-align: right;
    }
</style>
<table border="1" class="dataframe">
  <thead>
    <tr style="text-align: right;">
      <th></th>
      <th>age</th>
      <th>sex</th>
      <th>cp</th>
      <th>trestbps</th>
      <th>chol</th>
      <th>fbs</th>
      <th>restecg</th>
      <th>thalach</th>
      <th>exang</th>
      <th>oldpeak</th>
      <th>slope</th>
      <th>ca</th>
      <th>thal</th>
      <th>target</th>
    </tr>
  </thead>
  <tbody>
    <tr>
      <th>0</th>
      <td>0.945383</td>
      <td>1</td>
      <td>3</td>
      <td>0.760273</td>
      <td>-0.265566</td>
      <td>1</td>
      <td>0</td>
      <td>0.014733</td>
      <td>0</td>
      <td>1.078769</td>
      <td>0</td>
      <td>0</td>
      <td>1</td>
      <td>1</td>
    </tr>
    <tr>
      <th>1</th>
      <td>-1.923874</td>
      <td>1</td>
      <td>2</td>
      <td>-0.092476</td>
      <td>0.062929</td>
      <td>0</td>
      <td>1</td>
      <td>1.633884</td>
      <td>0</td>
      <td>2.111632</td>
      <td>0</td>
      <td>0</td>
      <td>2</td>
      <td>1</td>
    </tr>
    <tr>
      <th>2</th>
      <td>-1.482449</td>
      <td>0</td>
      <td>1</td>
      <td>-0.092476</td>
      <td>-0.825941</td>
      <td>0</td>
      <td>0</td>
      <td>0.977471</td>
      <td>0</td>
      <td>0.304121</td>
      <td>2</td>
      <td>0</td>
      <td>2</td>
      <td>1</td>
    </tr>
    <tr>
      <th>3</th>
      <td>0.172891</td>
      <td>1</td>
      <td>1</td>
      <td>-0.660975</td>
      <td>-0.207596</td>
      <td>0</td>
      <td>1</td>
      <td>1.240037</td>
      <td>0</td>
      <td>-0.212311</td>
      <td>2</td>
      <td>0</td>
      <td>2</td>
      <td>1</td>
    </tr>
    <tr>
      <th>4</th>
      <td>0.283247</td>
      <td>0</td>
      <td>0</td>
      <td>-0.660975</td>
      <td>2.072551</td>
      <td>0</td>
      <td>1</td>
      <td>0.583624</td>
      <td>1</td>
      <td>-0.384455</td>
      <td>2</td>
      <td>0</td>
      <td>2</td>
      <td>1</td>
    </tr>
    <tr>
      <th>...</th>
      <td>...</td>
      <td>...</td>
      <td>...</td>
      <td>...</td>
      <td>...</td>
      <td>...</td>
      <td>...</td>
      <td>...</td>
      <td>...</td>
      <td>...</td>
      <td>...</td>
      <td>...</td>
      <td>...</td>
      <td>...</td>
    </tr>
    <tr>
      <th>298</th>
      <td>0.283247</td>
      <td>0</td>
      <td>0</td>
      <td>0.476024</td>
      <td>-0.110980</td>
      <td>0</td>
      <td>1</td>
      <td>-1.166810</td>
      <td>1</td>
      <td>-0.728743</td>
      <td>1</td>
      <td>0</td>
      <td>3</td>
      <td>0</td>
    </tr>
    <tr>
      <th>299</th>
      <td>-1.041025</td>
      <td>1</td>
      <td>3</td>
      <td>-1.229475</td>
      <td>0.333455</td>
      <td>0</td>
      <td>1</td>
      <td>-0.772962</td>
      <td>0</td>
      <td>0.131977</td>
      <td>1</td>
      <td>0</td>
      <td>3</td>
      <td>0</td>
    </tr>
    <tr>
      <th>300</th>
      <td>1.497164</td>
      <td>1</td>
      <td>0</td>
      <td>0.703423</td>
      <td>-1.038498</td>
      <td>1</td>
      <td>1</td>
      <td>-0.379115</td>
      <td>0</td>
      <td>2.025560</td>
      <td>1</td>
      <td>2</td>
      <td>3</td>
      <td>0</td>
    </tr>
    <tr>
      <th>301</th>
      <td>0.283247</td>
      <td>1</td>
      <td>0</td>
      <td>-0.092476</td>
      <td>-2.236541</td>
      <td>0</td>
      <td>1</td>
      <td>-1.516897</td>
      <td>1</td>
      <td>0.131977</td>
      <td>1</td>
      <td>1</td>
      <td>3</td>
      <td>0</td>
    </tr>
    <tr>
      <th>302</th>
      <td>0.283247</td>
      <td>0</td>
      <td>1</td>
      <td>-0.092476</td>
      <td>-0.207596</td>
      <td>0</td>
      <td>0</td>
      <td>1.064993</td>
      <td>0</td>
      <td>-0.900887</td>
      <td>1</td>
      <td>1</td>
      <td>2</td>
      <td>0</td>
    </tr>
  </tbody>
</table>
<p>300 rows × 14 columns</p>
</div>
      <button class="colab-df-convert" onclick="convertToInteractive('df-a4814a6c-a038-4828-a4cd-67a482dc0db1')"
              title="Convert this dataframe to an interactive table."
              style="display:none;">
        
  <svg xmlns="http://www.w3.org/2000/svg" height="24px"viewBox="0 0 24 24"
       width="24px">
    <path d="M0 0h24v24H0V0z" fill="none"/>
    <path d="M18.56 5.44l.94 2.06.94-2.06 2.06-.94-2.06-.94-.94-2.06-.94 2.06-2.06.94zm-11 1L8.5 8.5l.94-2.06 2.06-.94-2.06-.94L8.5 2.5l-.94 2.06-2.06.94zm10 10l.94 2.06.94-2.06 2.06-.94-2.06-.94-.94-2.06-.94 2.06-2.06.94z"/><path d="M17.41 7.96l-1.37-1.37c-.4-.4-.92-.59-1.43-.59-.52 0-1.04.2-1.43.59L10.3 9.45l-7.72 7.72c-.78.78-.78 2.05 0 2.83L4 21.41c.39.39.9.59 1.41.59.51 0 1.02-.2 1.41-.59l7.78-7.78 2.81-2.81c.8-.78.8-2.07 0-2.86zM5.41 20L4 18.59l7.72-7.72 1.47 1.35L5.41 20z"/>
  </svg>
      </button>
      
  <style>
    .colab-df-container {
      display:flex;
      flex-wrap:wrap;
      gap: 12px;
    }

    .colab-df-convert {
      background-color: #E8F0FE;
      border: none;
      border-radius: 50%;
      cursor: pointer;
      display: none;
      fill: #1967D2;
      height: 32px;
      padding: 0 0 0 0;
      width: 32px;
    }

    .colab-df-convert:hover {
      background-color: #E2EBFA;
      box-shadow: 0px 1px 2px rgba(60, 64, 67, 0.3), 0px 1px 3px 1px rgba(60, 64, 67, 0.15);
      fill: #174EA6;
    }

    [theme=dark] .colab-df-convert {
      background-color: #3B4455;
      fill: #D2E3FC;
    }

    [theme=dark] .colab-df-convert:hover {
      background-color: #434B5C;
      box-shadow: 0px 1px 3px 1px rgba(0, 0, 0, 0.15);
      filter: drop-shadow(0px 1px 2px rgba(0, 0, 0, 0.3));
      fill: #FFFFFF;
    }
  </style>

      <script>
        const buttonEl =
          document.querySelector('#df-a4814a6c-a038-4828-a4cd-67a482dc0db1 button.colab-df-convert');
        buttonEl.style.display =
          google.colab.kernel.accessAllowed ? 'block' : 'none';

        async function convertToInteractive(key) {
          const element = document.querySelector('#df-a4814a6c-a038-4828-a4cd-67a482dc0db1');
          const dataTable =
            await google.colab.kernel.invokeFunction('convertToInteractive',
                                                     [key], {});
          if (!dataTable) return;

          const docLinkHtml = 'Like what you see? Visit the ' +
            '<a target="_blank" href=https://colab.research.google.com/notebooks/data_table.ipynb>data table notebook</a>'
            + ' to learn more about interactive tables.';
          element.innerHTML = '';
          dataTable['output_type'] = 'display_data';
          await google.colab.output.renderOutput(dataTable, element);
          const docLink = document.createElement('div');
          docLink.innerHTML = docLinkHtml;
          element.appendChild(docLink);
        }
      </script>
    </div>
  </div>
  
</div>

</div>

</div>
</div>

</div>
<div class="cell border-box-sizing code_cell rendered">
<div class="input">
<div class="prompt input_prompt">In&nbsp;[35]:</div>
<div class="inner_cell">
    <div class="input_area">
<div class=" highlight hl-ipython3"><pre><span></span><span class="c1">#splitting data into dependent and independent variable</span>
<span class="n">X</span><span class="o">=</span><span class="n">data</span><span class="o">.</span><span class="n">drop</span><span class="p">(</span><span class="s2">&quot;target&quot;</span><span class="p">,</span><span class="n">axis</span><span class="o">=</span><span class="mi">1</span><span class="p">)</span>
<span class="n">y</span><span class="o">=</span><span class="n">data</span><span class="o">.</span><span class="n">target</span>
</pre></div>

    </div>
</div>
</div>

</div>
<div class="cell border-box-sizing text_cell rendered"><div class="prompt input_prompt">
</div><div class="inner_cell">
<div class="text_cell_render border-box-sizing rendered_html">
<h2 id="Creation-of-ML-model-for-prediction">Creation of ML model for prediction<a class="anchor-link" href="#Creation-of-ML-model-for-prediction">&#182;</a></h2>
</div>
</div>
</div>
<div class="cell border-box-sizing code_cell rendered">
<div class="input">
<div class="prompt input_prompt">In&nbsp;[36]:</div>
<div class="inner_cell">
    <div class="input_area">
<div class=" highlight hl-ipython3"><pre><span></span><span class="c1"># importing some Sklearn libaries</span>
<span class="kn">from</span> <span class="nn">sklearn.linear_model</span> <span class="kn">import</span> <span class="n">LogisticRegression</span>
<span class="kn">from</span> <span class="nn">sklearn.model_selection</span> <span class="kn">import</span> <span class="n">train_test_split</span>
</pre></div>

    </div>
</div>
</div>

</div>
<div class="cell border-box-sizing code_cell rendered">
<div class="input">
<div class="prompt input_prompt">In&nbsp;[37]:</div>
<div class="inner_cell">
    <div class="input_area">
<div class=" highlight hl-ipython3"><pre><span></span><span class="c1"># Splitting the data into train and test</span>
<span class="n">X_train</span><span class="p">,</span><span class="n">X_test</span><span class="p">,</span><span class="n">y_train</span><span class="p">,</span><span class="n">y_test</span><span class="o">=</span><span class="n">train_test_split</span><span class="p">(</span><span class="n">X</span><span class="p">,</span><span class="n">y</span><span class="p">,</span><span class="n">test_size</span><span class="o">=</span><span class="mf">0.3</span><span class="p">,</span><span class="n">random_state</span><span class="o">=</span><span class="mi">59</span><span class="p">)</span>
</pre></div>

    </div>
</div>
</div>

</div>
<div class="cell border-box-sizing code_cell rendered">
<div class="input">
<div class="prompt input_prompt">In&nbsp;[38]:</div>
<div class="inner_cell">
    <div class="input_area">
<div class=" highlight hl-ipython3"><pre><span></span><span class="c1"># creating a logistic regression model and training it</span>
<span class="n">Lr</span><span class="o">=</span><span class="n">LogisticRegression</span><span class="p">()</span>
<span class="n">Lr</span><span class="o">.</span><span class="n">fit</span><span class="p">(</span><span class="n">X_train</span><span class="p">,</span><span class="n">y_train</span><span class="p">)</span>
</pre></div>

    </div>
</div>
</div>

<div class="output_wrapper">
<div class="output">


<div class="output_area">

    <div class="prompt output_prompt">Out[38]:</div>



<div class="output_html rendered_html output_subarea output_execute_result">
<style>#sk-container-id-1 {color: black;background-color: white;}#sk-container-id-1 pre{padding: 0;}#sk-container-id-1 div.sk-toggleable {background-color: white;}#sk-container-id-1 label.sk-toggleable__label {cursor: pointer;display: block;width: 100%;margin-bottom: 0;padding: 0.3em;box-sizing: border-box;text-align: center;}#sk-container-id-1 label.sk-toggleable__label-arrow:before {content: "▸";float: left;margin-right: 0.25em;color: #696969;}#sk-container-id-1 label.sk-toggleable__label-arrow:hover:before {color: black;}#sk-container-id-1 div.sk-estimator:hover label.sk-toggleable__label-arrow:before {color: black;}#sk-container-id-1 div.sk-toggleable__content {max-height: 0;max-width: 0;overflow: hidden;text-align: left;background-color: #f0f8ff;}#sk-container-id-1 div.sk-toggleable__content pre {margin: 0.2em;color: black;border-radius: 0.25em;background-color: #f0f8ff;}#sk-container-id-1 input.sk-toggleable__control:checked~div.sk-toggleable__content {max-height: 200px;max-width: 100%;overflow: auto;}#sk-container-id-1 input.sk-toggleable__control:checked~label.sk-toggleable__label-arrow:before {content: "▾";}#sk-container-id-1 div.sk-estimator input.sk-toggleable__control:checked~label.sk-toggleable__label {background-color: #d4ebff;}#sk-container-id-1 div.sk-label input.sk-toggleable__control:checked~label.sk-toggleable__label {background-color: #d4ebff;}#sk-container-id-1 input.sk-hidden--visually {border: 0;clip: rect(1px 1px 1px 1px);clip: rect(1px, 1px, 1px, 1px);height: 1px;margin: -1px;overflow: hidden;padding: 0;position: absolute;width: 1px;}#sk-container-id-1 div.sk-estimator {font-family: monospace;background-color: #f0f8ff;border: 1px dotted black;border-radius: 0.25em;box-sizing: border-box;margin-bottom: 0.5em;}#sk-container-id-1 div.sk-estimator:hover {background-color: #d4ebff;}#sk-container-id-1 div.sk-parallel-item::after {content: "";width: 100%;border-bottom: 1px solid gray;flex-grow: 1;}#sk-container-id-1 div.sk-label:hover label.sk-toggleable__label {background-color: #d4ebff;}#sk-container-id-1 div.sk-serial::before {content: "";position: absolute;border-left: 1px solid gray;box-sizing: border-box;top: 0;bottom: 0;left: 50%;z-index: 0;}#sk-container-id-1 div.sk-serial {display: flex;flex-direction: column;align-items: center;background-color: white;padding-right: 0.2em;padding-left: 0.2em;position: relative;}#sk-container-id-1 div.sk-item {position: relative;z-index: 1;}#sk-container-id-1 div.sk-parallel {display: flex;align-items: stretch;justify-content: center;background-color: white;position: relative;}#sk-container-id-1 div.sk-item::before, #sk-container-id-1 div.sk-parallel-item::before {content: "";position: absolute;border-left: 1px solid gray;box-sizing: border-box;top: 0;bottom: 0;left: 50%;z-index: -1;}#sk-container-id-1 div.sk-parallel-item {display: flex;flex-direction: column;z-index: 1;position: relative;background-color: white;}#sk-container-id-1 div.sk-parallel-item:first-child::after {align-self: flex-end;width: 50%;}#sk-container-id-1 div.sk-parallel-item:last-child::after {align-self: flex-start;width: 50%;}#sk-container-id-1 div.sk-parallel-item:only-child::after {width: 0;}#sk-container-id-1 div.sk-dashed-wrapped {border: 1px dashed gray;margin: 0 0.4em 0.5em 0.4em;box-sizing: border-box;padding-bottom: 0.4em;background-color: white;}#sk-container-id-1 div.sk-label label {font-family: monospace;font-weight: bold;display: inline-block;line-height: 1.2em;}#sk-container-id-1 div.sk-label-container {text-align: center;}#sk-container-id-1 div.sk-container {/* jupyter's `normalize.less` sets `[hidden] { display: none; }` but bootstrap.min.css set `[hidden] { display: none !important; }` so we also need the `!important` here to be able to override the default hidden behavior on the sphinx rendered scikit-learn.org. See: https://github.com/scikit-learn/scikit-learn/issues/21755 */display: inline-block !important;position: relative;}#sk-container-id-1 div.sk-text-repr-fallback {display: none;}</style><div id="sk-container-id-1" class="sk-top-container"><div class="sk-text-repr-fallback"><pre>LogisticRegression()</pre><b>In a Jupyter environment, please rerun this cell to show the HTML representation or trust the notebook. <br />On GitHub, the HTML representation is unable to render, please try loading this page with nbviewer.org.</b></div><div class="sk-container" hidden><div class="sk-item"><div class="sk-estimator sk-toggleable"><input class="sk-toggleable__control sk-hidden--visually" id="sk-estimator-id-1" type="checkbox" checked><label for="sk-estimator-id-1" class="sk-toggleable__label sk-toggleable__label-arrow">LogisticRegression</label><div class="sk-toggleable__content"><pre>LogisticRegression()</pre></div></div></div></div></div>
</div>

</div>

</div>
</div>

</div>
<div class="cell border-box-sizing code_cell rendered">
<div class="input">
<div class="prompt input_prompt">In&nbsp;[39]:</div>
<div class="inner_cell">
    <div class="input_area">
<div class=" highlight hl-ipython3"><pre><span></span><span class="c1"># Prediction of data</span>
<span class="n">pred</span><span class="o">=</span><span class="n">Lr</span><span class="o">.</span><span class="n">predict</span><span class="p">(</span><span class="n">X_test</span><span class="p">)</span>
</pre></div>

    </div>
</div>
</div>

</div>
<div class="cell border-box-sizing code_cell rendered">
<div class="input">
<div class="prompt input_prompt">In&nbsp;[40]:</div>
<div class="inner_cell">
    <div class="input_area">
<div class=" highlight hl-ipython3"><pre><span></span><span class="c1"># checking the accuracy </span>
<span class="kn">from</span> <span class="nn">sklearn.metrics</span> <span class="kn">import</span> <span class="n">accuracy_score</span>

<span class="nb">print</span><span class="p">(</span><span class="s1">&#39;test accuracy: &#39;</span><span class="p">,</span><span class="n">accuracy_score</span><span class="p">(</span><span class="n">y_test</span><span class="p">,</span><span class="n">pred</span><span class="p">)</span><span class="o">*</span><span class="mi">100</span><span class="p">)</span>
</pre></div>

    </div>
</div>
</div>

<div class="output_wrapper">
<div class="output">


<div class="output_area">

    <div class="prompt"></div>


<div class="output_subarea output_stream output_stdout output_text">
<pre>test accuracy:  80.0
</pre>
</div>
</div>

</div>
</div>

</div>
<div class="cell border-box-sizing code_cell rendered">
<div class="input">
<div class="prompt input_prompt">In&nbsp;[41]:</div>
<div class="inner_cell">
    <div class="input_area">
<div class=" highlight hl-ipython3"><pre><span></span><span class="c1">#Plotting confusion matrix </span>
<span class="kn">from</span> <span class="nn">sklearn.metrics</span> <span class="kn">import</span> <span class="n">confusion_matrix</span>
<span class="n">ss</span><span class="o">=</span><span class="n">confusion_matrix</span><span class="p">(</span><span class="n">y_test</span><span class="p">,</span><span class="n">pred</span><span class="p">)</span>
<span class="n">sns</span><span class="o">.</span><span class="n">heatmap</span><span class="p">(</span><span class="n">ss</span><span class="p">,</span><span class="n">annot</span><span class="o">=</span><span class="kc">True</span><span class="p">)</span>
</pre></div>

    </div>
</div>
</div>

<div class="output_wrapper">
<div class="output">


<div class="output_area">

    <div class="prompt output_prompt">Out[41]:</div>




<div class="output_text output_subarea output_execute_result">
<pre>&lt;AxesSubplot:&gt;</pre>
</div>

</div>

<div class="output_area">

    <div class="prompt"></div>




<div class="output_png output_subarea ">
<img src="data:image/png;base64,iVBORw0KGgoAAAANSUhEUgAAAVoAAAD4CAYAAACt8i4nAAAAOXRFWHRTb2Z0d2FyZQBNYXRwbG90bGliIHZlcnNpb24zLjUuMywgaHR0cHM6Ly9tYXRwbG90bGliLm9yZy/NK7nSAAAACXBIWXMAAAsTAAALEwEAmpwYAAAV70lEQVR4nO3df3RU5Z3H8c/MhFQbCJUfCcqmtMFQOJDiL0yDbZRQEnZNGgyGQRBJiqUqS1bGBYIWrLTijwpCObs9m0VtdLU7ChoULCJBQaFAF7WhVfSIWvmVjMRADggkM3P3D85mRXBmEuaZmVzeL849Ze7MPPM9p/Xj0+997nMdlmVZAgAY44x3AQBgdwQtABhG0AKAYQQtABhG0AKAYUmmf+Do3FLTP4EuaH3NBfEuAQmotOGZcx6j7dBHEX+2W5/Mc/69SBgPWgCIqWAg3hWcgaAFYC9WMN4VnIGgBWAvQYIWAIyymNECgGEBf7wrOANBC8BeuBgGAIYlYOuAGxYA2EswGPkRgUAgoHHjxunnP/+5JGnv3r0qKyvTmDFjdOedd6q1tTXsGAQtAFuxrGDERySefPJJDRw4sP31I488ovLycr366qtKTU3VypUrw45B0AKwlyjOaBsaGvT666/rxhtvlCRZlqVt27apsLBQknTDDTeorq4u7Dj0aAHYS6At4o96vV55vd721263W263u/31okWLNHv2bB07dkyS1NzcrNTUVCUlnYrOfv36qbGxMezvELQA7KUDF8O+Gqxf9tprr6lXr14aNmyYtm/ffk4lEbQA7CVKd4a99dZb2rhxozZv3qyTJ0/q6NGjuv/++9XS0iK/36+kpCQ1NDQoPT097Fj0aAHYixWM/Ajhrrvu0ubNm7Vx40YtWbJEP/jBD7R48WLl5OTolVdekSS98MILys/PD1sSQQvAXqK8vOurZs+erSeeeEJjxozR4cOHVVZWFvY7tA4A2IoVjPxiWKRycnKUk5MjScrIyIhoSdeXEbQA7IXduwDAsAS8BZegBWAvbCoDAIYxowUAw+jRAoBhbPwNAIYxowUAsyyLi2EAYBYzWgAwjFUHAGAYM1oAMIxVBwBgGK0DADCM1gEAGEbQAoBhtA4AwLAoXQw7efKkJk+erNbWVgUCARUWFqqyslJVVVXasWOHevToIUl68MEHNWTIkJBjEbQA7CVKrYPk5GTV1NQoJSVFbW1tmjRpkvLy8iRJc+bM0dixYyMei6AFYC9Rah04HA6lpKRIkvx+v/x+vxwOR6fG4uGMAOwlig9nDAQCKikp0ciRIzVy5EgNHz5ckvToo4+quLhYixYtUmtra9hxCFoA9tKBoPV6vSotLW0/vF7vaUO5XC6tXr1amzZtUn19vT744AN5PB6tW7dOq1at0pEjR1RdXR22JFoHAOzFsiL+qNvtltvtDvu51NRU5eTk6I033tC0adMknerhlpaW6vHHHw/7fWa0AOzF74/8COHzzz9XS0uLJOnEiRPaunWrMjMz5fP5JEmWZWnDhg3KysoKWxIzWgD2EqWLYT6fT1VVVQoEArIsS2PHjtWoUaN0yy23qLm5WZZlafDgwbrvvvvCjkXQArCXKC3vGjx4sGpra884/+STT3Z4LIIWgL10oEcbKwQtAHthrwMAMIygBQCzrAAPZwQAs5jRAoBhbJMIAIYFWXUAAGbROgAAw7gYdh5J6qYLb/u15OomuZwK7PqTWl/1ynFRmi6Y5JHjmz0U2P+RTnqXJeTjkWHGFY9OV78xl+vkoRbVXTdXktRz6ABd/vBP5fxGN1mBoN6pekLNb++Jc6VdWALOaNlUxhR/m45X36vjyzw6vvQuuQZdLue3Byn5n6ao7c2X9MVvZkjHjyppxOh4V4oY+rt3s7be9NBp54bNv0nvLX5eG398t959eKWGzb8pTtXZRNCK/IgRgtak1hOn/tPlklxJkmUpaWC2/Lv+JElq2/makoZeHccCEWtN23ar9fDR009aUlKPCyVJ3XpcqBMNzXGozEasYORHjIRtHezZs0d1dXXtW4OlpaVp9OjRGjhwoPHiujyHUxdW/kbO3v3U9qd1CjY1yDp+rP3/2lhHmuRI7R3nIhFv9Que1DV/qFL2gslyOB16vfiX8S6pa0vAVQchZ7TV1dXyeDySpOzsbGVnZ0uSPB5PRLuKn/esoI4vu0vHFv1MzoxL5UzrH++KkIC+O/XHqr/3Ka27cqbq731KVy6ZHu+SujQrGIz4iJWQM9pVq1ZpzZo16tat22nny8vLVVRUpOnT+R9ERE58ocCev8r17e/JcWGK5HRKwaAcPXvLammKd3WIswET8lT/i1Nb7+1/cbuuWPyzOFfUxSXgqoOQM1qHw9HeMviyzz77rNNPgzxvpKRKF3zz1N+TkpWUNVxB3z4F9vxVSdm5kqRuV46S/29/jmORSATHG5rVZ+QQSVLfHw7V0Y8a41xRF5eAF8NCzmjvvvtulZeXa8CAAbr44oslSQcOHNCnn36q+fPnx6TArsrZ4yJ9Y8LMU7NXh1P++i0K7N6poG+fLpjkUXLBJAUPfCz/nzfEu1TE0Ijf/bP6jhyi5F499I9vLde7v1mlt/91hb7/q1vkSHIqeLJNb89eEe8yu7YEXN7lsKzQu+QGg0HV19ersfHUv2XT09OVnZ0tl8sV0Q8cnVt67lXCdtbXXBDvEpCAShueOecxji2YGPFnUxb+99e+d/LkSU2ePFmtra0KBAIqLCxUZWWl9u7dK4/Ho8OHD2vo0KF6+OGHlZycHPJ3wq46cDqduuyyyyIuHADiKkrLtpKTk1VTU6OUlBS1tbVp0qRJysvL0xNPPKHy8nJdf/31WrBggVauXKlJkyaFHIt1tADsJUo9WofDoZSUFEmS3++X3++Xw+HQtm3bVFhYKEm64YYbVFdXF7YkbsEFYCuWP/JVB16vV16vt/212+2W2+1ufx0IBFRaWqpPP/1UkyZNUkZGhlJTU5WUdCo6+/Xr195WDYWgBWAvHVhN8NVg/SqXy6XVq1erpaVFM2bM0EcffdSpkghaAPZi4Nba1NRU5eTk6J133lFLS4v8fr+SkpLU0NCg9PT0sN+nRwvAXqLUo/3888/V0tIiSTpx4oS2bt2qgQMHKicnR6+88ook6YUXXlB+fn7YkpjRArAVK0o3Ivh8PlVVVSkQCMiyLI0dO1ajRo3SpZdeqlmzZmnp0qUaMmSIysrKwo5F0AKwlw5cDAtl8ODBqq2tPeN8RkaGVq5c2aGxCFoA9pKAu3cRtADshaAFALPC7CoQFwQtAHthRgsAhhG0AGCW5U+8bRIJWgD2kng5S9ACsJdo3bAQTQQtAHshaAHAMFoHAGAWrQMAMMzyE7QAYBatAwAwy8C+3+eMoAVgLwQtAJjFjBYADLP88a7gTAQtAFuJ1oz24MGDmjNnjpqamuRwODRhwgRNnTpVy5cv17PPPqtevXpJkjwej6699tqQYxG0AGwlWkHrcrlUVVWloUOH6ujRoxo/fryuueYaSVJ5ebmmTZsW8VgELQB7sRxRGSYtLU1paWmSpO7duyszM1ONjY2dGovHjQOwFSsY+eH1elVaWtp+eL3es465b98+vffeexo+fLgk6emnn1ZxcbHmzZunI0eOhK3JYRl+7sPRuaUmh0cXtb7mgniXgARU2vDMOY9x8IejIv7sxW++FvYzx44d05QpU3TbbbepoKBAhw4d0kUXXSSHw6Fly5bJ5/PpgQceCDkGM1oAthIMOCI+wmlra1NlZaWKi4tVUFAgSerTp49cLpecTqfKysq0a9eusOMQtABspSOtg5DjWJbuueceZWZmqqKiov28z+dr//uGDRuUlZUVtiYuhgGwFSsYnYthO3fu1OrVqzVo0CCVlJRIOrWUa82aNdq9e7ckqX///lq4cGHYsQhaALYSratOV111ld5///0zzodbM3s2BC0AW4nWjDaaCFoAthLJRa5YI2gB2AozWgAwzIrSnWHRRNACsBW2SQQAw4LMaAHALFoHAGAYqw4AwDBWHQCAYfRoAcAwerQAYJjZHbY7h6AFYCu0DgDAsCAXwwDArPNyRvutR7eb/gl0QccPvBHvEmBTXAwDAMPOyxktAMRStBYdHDx4UHPmzFFTU5McDocmTJigqVOn6vDhw5o1a5b279+v/v37a+nSperZs2fIsXg4IwBbCQSdER+huFwuVVVV6eWXX5bX69UzzzyjDz/8UNXV1crNzdX69euVm5ur6urqsDURtABsJdiBI5S0tDQNHTpUktS9e3dlZmaqsbFRdXV1GjdunCRp3Lhx2rBhQ9iaaB0AsBVLkfdovV6vvF5v+2u32y23233G5/bt26f33ntPw4cPV1NTk9LS0iRJffv2VVNTU9jfIWgB2EqwA03arwvWLzt27JgqKyt19913q3v37qe953A45HCED3ZaBwBsJShHxEc4bW1tqqysVHFxsQoKCiRJvXv3ls/nkyT5fD716tUr7DgELQBbseSI+Ag5jmXpnnvuUWZmpioqKtrP5+fnq7a2VpJUW1ur0aNHh62J1gEAWwl0oEcbys6dO7V69WoNGjRIJSUlkiSPx6Pp06frzjvv1MqVK3XJJZdo6dKlYcciaAHYSrSezXjVVVfp/fffP+t7NTU1HRqLoAVgKwn4EFyCFoC9dGR5V6wQtABsJQF3SSRoAdhLJMu2Yo2gBWArgXgXcBYELQBbCUZwp1asEbQAbCUBn81I0AKwF5Z3AYBhrDoAAMOidQtuNBG0AGyFGS0AGEaPFgAMY9UBABhG6wAADKN1AACGBZjRAoBZiTij5ZlhAGwl2IEjnHnz5ik3N1dFRUXt55YvX64f/ehHKikpUUlJiTZt2hR2HGa0AGwlmqsOSktLdfPNN2vu3LmnnS8vL9e0adMiHocZLQBbCToiP8IZMWKEevbsec41MaMFYCsd6dF6vV55vd721263W263O+z3nn76adXW1mrYsGGqqqoKG8YELQBb6cjG35EG65fddNNNuuOOO+RwOLRs2TI9+OCDeuCBB0J+h9YBAFuJZuvgbPr06SOXyyWn06mysjLt2rUr7HcIWgC2Es1VB2fj8/na/75hwwZlZWWF/Q6tAwC2Es1VBx6PRzt27FBzc7Py8vI0c+ZM7dixQ7t375Yk9e/fXwsXLgw7DkELwFaCUYzaJUuWnHGurKysw+MQtABshafgAoBhiXgLLkELwFbYJhEADItmjzZaCFoAtpJ4MUvQArAZerQAYFggAee0BC0AW2FGCwCGcTEMAAxLvJglaAHYDK0DADCMi2EAYFgi9mjZjzZGCguu09/+ulm7331Tc2bPiHc5iKNAIKAby2fojtn3SpLm/vIhFU28VeNuvk2/WLREbX5/nCvs2qwOHLFC0MaA0+nUb5fdr6Lim5U9fJTc7nEaMiT8ZsGwp/96brUyv/Pt9tfXF4zSS3/4T73w1O908mSrVr20Lo7VdX1BWREfsULQxsDVIy7Xnj2f6OOPP1VbW5uefXa1flJcGO+yEAcNvs+0eesOjf/Sf/95I6+Ww+GQw+FQ9pDvqdF3KI4Vdn2mn7DQGQRtDFzSv5/27jvQ/nrf/oO65JJ+cawI8fLQsv+Q545pcjjO/Eevze/XS6/U6Yc5V8WhMvuwOvAnVjodtKtWrYpmHYDtvb5lu3pd9C0NHXz2ttGvH/k3XTl8mK68bFiMK7OXgKyIj3DmzZun3NxcFRUVtZ87fPiwKioqVFBQoIqKCh05ciTsOJ0O2uXLl3f2q+edA/sblPEPl7S//of+F+vAgYY4VoR4eLv+Xb3+5jYVjJ+q2fc+qB07/6K59z0sSfr3x59W8+EjmlM5Pc5Vdn3RbB2UlpZqxYoVp52rrq5Wbm6u1q9fr9zcXFVXV4cdJ+TyruLi4q9979Ah+kiR+vP/vKNLL/2uvvOdDO3f36AJE0o05RZWHpxvZt1eoVm3V0iSdrxVr9//YZUeuneOVr64Tlu279Rjv31ATifdvHMVtKLXEhgxYoT27dt32rm6ujo99dRTkqRx48ZpypQpmj17dshxQgZtU1OTHnvsMaWmpp523rIsTZw4sTN1n5cCgYD+5c5f6OW1z8jldOr3NV69++4H8S4LCeJXjyzXxelpmjzdI0n68bUjdftPJ8e5qq6rIzHr9Xrl9XrbX7vdbrnd7pDfaWpqUlpamiSpb9++ampqCvs7IYP2uuuu07FjxzRkyJAz3svJyQk7OP7fH9dt1B/XbYx3GUgQV1/xfV19xfclSX/ZvDbO1dhLR5ZtRRKsofzfapFwQgbtokWLvva9xYsXd7wqADDM9GqC3r17y+fzKS0tTT6fT7169Qr7HRpCAGzFLyviozPy8/NVW1srSaqtrdXo0aPDfoegBWAr0VxH6/F4NHHiRH388cfKy8vTc889p+nTp2vLli0qKCjQ1q1bNX16+JUiDsuK4iW6s0hK7m9yeHRRxw+8Ee8SkIC69ck85zFKB/wk4s8+//cXz/n3IsHuXQBsxfDcsVMIWgC2kojbJBK0AGyFjb8BwDBmtABgGD1aADCMhzMCgGGx3Gc2UgQtAFuhRwsAhgWsxGseELQAbIXWAQAYFs2Nv6OFoAVgK4kXswQtAJvhYhgAGEbQAoBhrDoAAMNYdQAAhrHXAQAYFs0ebX5+vlJSUuR0OuVyufT88893ahyCFoCtRHtGW1NTE9GTbkMhaAHYSiAB9+8iaAHYSkfuDPN6vfJ6ve2v3W633G73aZ+ZNm2aHA7HWd+LFE/BRVzwFFycTTSegjs0PSfiz/6tcXvI9xsbG5Wenq6mpiZVVFRo/vz5GjFiRIdrcnb4GwCQwIKWFfERTnp6uiSpd+/eGjNmjOrr6ztVE0ELwFasDvwJ5YsvvtDRo0fb/75lyxZlZWV1qiZ6tABsJVq7dzU1NWnGjBmSpEAgoKKiIuXl5XVqLIIWgK1E6xbcjIwMvfjii1EZi6AFYCvcggsAhllsKgMAZrFNIgAYxqYyAGAYM1oAMCwQpEcLAEax6gAADKNHCwCG0aMFAMOY0QKAYVwMAwDDaB0AgGG0DgDAsGhtkxhNBC0AW2EdLQAYxowWAAwLJuA2iTwzDICtWJYV8RHO5s2bVVhYqDFjxqi6urrTNRG0AGwlWkEbCAS0cOFCrVixQmvXrtWaNWv04YcfdqomghaArVgdOEKpr6/XgAEDlJGRoeTkZF1//fWqq6vrVE3Ge7T+1v2mfwIA2nUkc7xer7xeb/trt9stt9stSWpsbFS/fv3a30tPT1d9fX2nauJiGIDz1peD1SRaBwBwFunp6WpoaGh/3djYqPT09E6NRdACwFlkZ2frk08+0d69e9Xa2qq1a9cqPz+/U2PROgCAs0hKStKCBQt06623KhAIaPz48crKyurUWA4rEXdgAAAboXUAAIYRtABgGEEbI9G6lQ/2MW/ePOXm5qqoqCjepcAwgjYGonkrH+yjtLRUK1asiHcZiAGCNgaieSsf7GPEiBHq2bNnvMtADBC0MXC2W/kaGxvjWBGAWCJoAcAwgjYGonkrH4Cuh6CNgWjeygeg6+HOsBjZtGmTFi1a1H4r3+233x7vkhBnHo9HO3bsUHNzs3r37q2ZM2eqrKws3mXBAIIWAAyjdQAAhhG0AGAYQQsAhhG0AGAYQQsAhhG0AGAYQQsAhv0vj560FJd3EysAAAAASUVORK5CYII=
"
>
</div>

</div>

</div>
</div>

</div>
<div class="cell border-box-sizing text_cell rendered"><div class="prompt input_prompt">
</div><div class="inner_cell">
<div class="text_cell_render border-box-sizing rendered_html">
<p>Classification report of the Model</p>

</div>
</div>
</div>
<div class="cell border-box-sizing code_cell rendered">
<div class="input">
<div class="prompt input_prompt">In&nbsp;[42]:</div>
<div class="inner_cell">
    <div class="input_area">
<div class=" highlight hl-ipython3"><pre><span></span><span class="kn">from</span> <span class="nn">sklearn.metrics</span> <span class="kn">import</span> <span class="n">classification_report</span><span class="p">,</span><span class="n">confusion_matrix</span><span class="p">,</span><span class="n">accuracy_score</span>
<span class="n">report</span><span class="o">=</span><span class="n">classification_report</span><span class="p">(</span><span class="n">y_test</span><span class="p">,</span><span class="n">pred</span><span class="p">)</span>
<span class="nb">print</span><span class="p">(</span><span class="n">report</span><span class="p">)</span>
</pre></div>

    </div>
</div>
</div>

<div class="output_wrapper">
<div class="output">


<div class="output_area">

    <div class="prompt"></div>


<div class="output_subarea output_stream output_stdout output_text">
<pre>              precision    recall  f1-score   support

           0       1.00      0.62      0.77        48
           1       0.70      1.00      0.82        42

    accuracy                           0.80        90
   macro avg       0.85      0.81      0.80        90
weighted avg       0.86      0.80      0.79        90

</pre>
</div>
</div>

</div>
</div>

</div>
<div class="cell border-box-sizing code_cell rendered">
<div class="input">
<div class="prompt input_prompt">In&nbsp;[43]:</div>
<div class="inner_cell">
    <div class="input_area">
<div class=" highlight hl-ipython3"><pre><span></span><span class="c1">#creating a logistic regression using statsmodel API</span>
<span class="kn">from</span> <span class="nn">statsmodels.base</span> <span class="kn">import</span> <span class="n">model</span>
<span class="kn">import</span> <span class="nn">statsmodels.api</span> <span class="k">as</span> <span class="nn">sm</span>
<span class="kn">from</span> <span class="nn">scipy</span> <span class="kn">import</span> <span class="n">stats</span>
</pre></div>

    </div>
</div>
</div>

</div>
<div class="cell border-box-sizing code_cell rendered">
<div class="input">
<div class="prompt input_prompt">In&nbsp;[44]:</div>
<div class="inner_cell">
    <div class="input_area">
<div class=" highlight hl-ipython3"><pre><span></span><span class="n">logreg</span> <span class="o">=</span> <span class="n">sm</span><span class="o">.</span><span class="n">Logit</span><span class="p">(</span><span class="n">y_train</span><span class="p">,</span><span class="n">X_train</span><span class="p">)</span><span class="o">.</span><span class="n">fit</span><span class="p">()</span>
<span class="nb">print</span><span class="p">(</span><span class="n">logreg</span><span class="o">.</span><span class="n">summary</span><span class="p">())</span>
</pre></div>

    </div>
</div>
</div>

<div class="output_wrapper">
<div class="output">


<div class="output_area">

    <div class="prompt"></div>


<div class="output_subarea output_stream output_stdout output_text">
<pre>Optimization terminated successfully.
         Current function value: 0.343215
         Iterations 7
                           Logit Regression Results                           
==============================================================================
Dep. Variable:                 target   No. Observations:                  210
Model:                          Logit   Df Residuals:                      197
Method:                           MLE   Df Model:                           12
Date:                Sat, 11 Mar 2023   Pseudo R-squ.:                  0.4964
Time:                        10:35:51   Log-Likelihood:                -72.075
converged:                       True   LL-Null:                       -143.11
Covariance Type:            nonrobust   LLR p-value:                 2.280e-24
==============================================================================
                 coef    std err          z      P&gt;|z|      [0.025      0.975]
------------------------------------------------------------------------------
age           -0.0981      0.260     -0.377      0.706      -0.608       0.412
sex           -1.5038      0.523     -2.878      0.004      -2.528      -0.480
cp             0.9758      0.223      4.384      0.000       0.539       1.412
trestbps      -0.2063      0.254     -0.813      0.416      -0.704       0.291
chol          -0.2426      0.263     -0.924      0.356      -0.757       0.272
fbs           -0.4738      0.665     -0.713      0.476      -1.776       0.829
restecg        0.5649      0.427      1.321      0.186      -0.273       1.403
thalach        0.3845      0.266      1.443      0.149      -0.138       0.907
exang         -0.7387      0.482     -1.533      0.125      -1.683       0.206
oldpeak       -0.8718      0.318     -2.740      0.006      -1.495      -0.248
slope          0.7365      0.380      1.940      0.052      -0.008       1.481
ca            -0.6640      0.234     -2.837      0.005      -1.123      -0.205
thal          -0.0692      0.268     -0.258      0.796      -0.595       0.457
==============================================================================
</pre>
</div>
</div>

</div>
</div>

</div>
<div class="cell border-box-sizing code_cell rendered">
<div class="input">
<div class="prompt input_prompt">In&nbsp;[45]:</div>
<div class="inner_cell">
    <div class="input_area">
<div class=" highlight hl-ipython3"><pre><span></span><span class="c1"># Selection of those features with P value &lt; 0.05</span>
<span class="n">new_features</span> <span class="o">=</span> <span class="p">[</span><span class="s1">&#39;sex&#39;</span><span class="p">,</span><span class="s1">&#39;cp&#39;</span><span class="p">,</span><span class="s1">&#39;ca&#39;</span><span class="p">,</span><span class="s1">&#39;oldpeak&#39;</span><span class="p">]</span>
<span class="n">new_X</span> <span class="o">=</span> <span class="n">data</span><span class="p">[</span><span class="n">new_features</span><span class="p">]</span>
<span class="n">new_X</span><span class="o">.</span><span class="n">head</span><span class="p">()</span>
</pre></div>

    </div>
</div>
</div>

<div class="output_wrapper">
<div class="output">


<div class="output_area">

    <div class="prompt output_prompt">Out[45]:</div>



<div class="output_html rendered_html output_subarea output_execute_result">

  <div id="df-e0bf2dff-633f-42cd-988f-5f3803406908">
    <div class="colab-df-container">
      <div>
<style scoped>
    .dataframe tbody tr th:only-of-type {
        vertical-align: middle;
    }

    .dataframe tbody tr th {
        vertical-align: top;
    }

    .dataframe thead th {
        text-align: right;
    }
</style>
<table border="1" class="dataframe">
  <thead>
    <tr style="text-align: right;">
      <th></th>
      <th>sex</th>
      <th>cp</th>
      <th>ca</th>
      <th>oldpeak</th>
    </tr>
  </thead>
  <tbody>
    <tr>
      <th>0</th>
      <td>1</td>
      <td>3</td>
      <td>0</td>
      <td>1.078769</td>
    </tr>
    <tr>
      <th>1</th>
      <td>1</td>
      <td>2</td>
      <td>0</td>
      <td>2.111632</td>
    </tr>
    <tr>
      <th>2</th>
      <td>0</td>
      <td>1</td>
      <td>0</td>
      <td>0.304121</td>
    </tr>
    <tr>
      <th>3</th>
      <td>1</td>
      <td>1</td>
      <td>0</td>
      <td>-0.212311</td>
    </tr>
    <tr>
      <th>4</th>
      <td>0</td>
      <td>0</td>
      <td>0</td>
      <td>-0.384455</td>
    </tr>
  </tbody>
</table>
</div>
      <button class="colab-df-convert" onclick="convertToInteractive('df-e0bf2dff-633f-42cd-988f-5f3803406908')"
              title="Convert this dataframe to an interactive table."
              style="display:none;">
        
  <svg xmlns="http://www.w3.org/2000/svg" height="24px"viewBox="0 0 24 24"
       width="24px">
    <path d="M0 0h24v24H0V0z" fill="none"/>
    <path d="M18.56 5.44l.94 2.06.94-2.06 2.06-.94-2.06-.94-.94-2.06-.94 2.06-2.06.94zm-11 1L8.5 8.5l.94-2.06 2.06-.94-2.06-.94L8.5 2.5l-.94 2.06-2.06.94zm10 10l.94 2.06.94-2.06 2.06-.94-2.06-.94-.94-2.06-.94 2.06-2.06.94z"/><path d="M17.41 7.96l-1.37-1.37c-.4-.4-.92-.59-1.43-.59-.52 0-1.04.2-1.43.59L10.3 9.45l-7.72 7.72c-.78.78-.78 2.05 0 2.83L4 21.41c.39.39.9.59 1.41.59.51 0 1.02-.2 1.41-.59l7.78-7.78 2.81-2.81c.8-.78.8-2.07 0-2.86zM5.41 20L4 18.59l7.72-7.72 1.47 1.35L5.41 20z"/>
  </svg>
      </button>
      
  <style>
    .colab-df-container {
      display:flex;
      flex-wrap:wrap;
      gap: 12px;
    }

    .colab-df-convert {
      background-color: #E8F0FE;
      border: none;
      border-radius: 50%;
      cursor: pointer;
      display: none;
      fill: #1967D2;
      height: 32px;
      padding: 0 0 0 0;
      width: 32px;
    }

    .colab-df-convert:hover {
      background-color: #E2EBFA;
      box-shadow: 0px 1px 2px rgba(60, 64, 67, 0.3), 0px 1px 3px 1px rgba(60, 64, 67, 0.15);
      fill: #174EA6;
    }

    [theme=dark] .colab-df-convert {
      background-color: #3B4455;
      fill: #D2E3FC;
    }

    [theme=dark] .colab-df-convert:hover {
      background-color: #434B5C;
      box-shadow: 0px 1px 3px 1px rgba(0, 0, 0, 0.15);
      filter: drop-shadow(0px 1px 2px rgba(0, 0, 0, 0.3));
      fill: #FFFFFF;
    }
  </style>

      <script>
        const buttonEl =
          document.querySelector('#df-e0bf2dff-633f-42cd-988f-5f3803406908 button.colab-df-convert');
        buttonEl.style.display =
          google.colab.kernel.accessAllowed ? 'block' : 'none';

        async function convertToInteractive(key) {
          const element = document.querySelector('#df-e0bf2dff-633f-42cd-988f-5f3803406908');
          const dataTable =
            await google.colab.kernel.invokeFunction('convertToInteractive',
                                                     [key], {});
          if (!dataTable) return;

          const docLinkHtml = 'Like what you see? Visit the ' +
            '<a target="_blank" href=https://colab.research.google.com/notebooks/data_table.ipynb>data table notebook</a>'
            + ' to learn more about interactive tables.';
          element.innerHTML = '';
          dataTable['output_type'] = 'display_data';
          await google.colab.output.renderOutput(dataTable, element);
          const docLink = document.createElement('div');
          docLink.innerHTML = docLinkHtml;
          element.appendChild(docLink);
        }
      </script>
    </div>
  </div>
  
</div>

</div>

</div>
</div>

</div>
<div class="cell border-box-sizing code_cell rendered">
<div class="input">
<div class="prompt input_prompt">In&nbsp;[46]:</div>
<div class="inner_cell">
    <div class="input_area">
<div class=" highlight hl-ipython3"><pre><span></span><span class="c1">#splitting the data into train and test</span>
<span class="n">X1_train</span><span class="p">,</span> <span class="n">X1_test</span><span class="p">,</span> <span class="n">y1_train</span><span class="p">,</span> <span class="n">y1_test</span> <span class="o">=</span> <span class="n">train_test_split</span><span class="p">(</span><span class="n">new_X</span><span class="p">,</span> <span class="n">y</span><span class="p">,</span> <span class="n">test_size</span> <span class="o">=</span> <span class="mf">0.3</span><span class="p">,</span> <span class="n">random_state</span><span class="o">=</span><span class="mi">5</span><span class="p">)</span>

<span class="nb">print</span><span class="p">(</span><span class="s1">&#39;X1_train:&#39;</span><span class="p">,</span><span class="n">X1_train</span><span class="o">.</span><span class="n">shape</span><span class="p">)</span>
<span class="nb">print</span><span class="p">(</span><span class="s1">&#39;X1_test :&#39;</span><span class="p">,</span><span class="n">X1_test</span><span class="o">.</span><span class="n">shape</span><span class="p">)</span>
<span class="nb">print</span><span class="p">(</span><span class="s1">&#39;y1_train:&#39;</span><span class="p">,</span><span class="n">y1_train</span><span class="o">.</span><span class="n">shape</span><span class="p">)</span>
<span class="nb">print</span><span class="p">(</span><span class="s1">&#39;y1_test :&#39;</span><span class="p">,</span><span class="n">y1_test</span><span class="o">.</span><span class="n">shape</span><span class="p">)</span>
</pre></div>

    </div>
</div>
</div>

<div class="output_wrapper">
<div class="output">


<div class="output_area">

    <div class="prompt"></div>


<div class="output_subarea output_stream output_stdout output_text">
<pre>X1_train: (210, 4)
X1_test : (90, 4)
y1_train: (210,)
y1_test : (90,)
</pre>
</div>
</div>

</div>
</div>

</div>
<div class="cell border-box-sizing code_cell rendered">
<div class="input">
<div class="prompt input_prompt">In&nbsp;[47]:</div>
<div class="inner_cell">
    <div class="input_area">
<div class=" highlight hl-ipython3"><pre><span></span><span class="c1">#implementing the model</span>
<span class="n">logreg1</span> <span class="o">=</span> <span class="n">sm</span><span class="o">.</span><span class="n">Logit</span><span class="p">(</span><span class="n">y1_train</span><span class="p">,</span> <span class="n">X1_train</span><span class="p">)</span><span class="o">.</span><span class="n">fit</span><span class="p">()</span>
</pre></div>

    </div>
</div>
</div>

<div class="output_wrapper">
<div class="output">


<div class="output_area">

    <div class="prompt"></div>


<div class="output_subarea output_stream output_stdout output_text">
<pre>Optimization terminated successfully.
         Current function value: 0.411345
         Iterations 7
</pre>
</div>
</div>

</div>
</div>

</div>
<div class="cell border-box-sizing code_cell rendered">
<div class="input">
<div class="prompt input_prompt">In&nbsp;[48]:</div>
<div class="inner_cell">
    <div class="input_area">
<div class=" highlight hl-ipython3"><pre><span></span><span class="c1"># checking the model summary</span>
<span class="nb">print</span><span class="p">(</span><span class="n">logreg1</span><span class="o">.</span><span class="n">summary</span><span class="p">())</span>
</pre></div>

    </div>
</div>
</div>

<div class="output_wrapper">
<div class="output">


<div class="output_area">

    <div class="prompt"></div>


<div class="output_subarea output_stream output_stdout output_text">
<pre>                           Logit Regression Results                           
==============================================================================
Dep. Variable:                 target   No. Observations:                  210
Model:                          Logit   Df Residuals:                      206
Method:                           MLE   Df Model:                            3
Date:                Sat, 11 Mar 2023   Pseudo R-squ.:                  0.4018
Time:                        10:35:52   Log-Likelihood:                -86.383
converged:                       True   LL-Null:                       -144.41
Covariance Type:            nonrobust   LLR p-value:                 5.476e-25
==============================================================================
                 coef    std err          z      P&gt;|z|      [0.025      0.975]
------------------------------------------------------------------------------
sex           -1.0548      0.315     -3.343      0.001      -1.673      -0.436
cp             1.2127      0.187      6.471      0.000       0.845       1.580
ca            -0.6852      0.200     -3.425      0.001      -1.077      -0.293
oldpeak       -1.2024      0.245     -4.915      0.000      -1.682      -0.723
==============================================================================
</pre>
</div>
</div>

</div>
</div>

</div>
<div class="cell border-box-sizing code_cell rendered">
<div class="input">
<div class="prompt input_prompt">In&nbsp;[49]:</div>
<div class="inner_cell">
    <div class="input_area">
<div class=" highlight hl-ipython3"><pre><span></span><span class="kn">from</span> <span class="nn">sklearn.metrics</span> <span class="kn">import</span> <span class="n">accuracy_score</span><span class="p">,</span> <span class="n">precision_score</span><span class="p">,</span> <span class="n">recall_score</span><span class="p">,</span> <span class="n">f1_score</span><span class="p">,</span> <span class="n">confusion_matrix</span>

<span class="n">logreg1_pred</span> <span class="o">=</span> <span class="n">logreg1</span><span class="o">.</span><span class="n">predict</span><span class="p">(</span><span class="n">X1_test</span><span class="p">)</span>
<span class="n">preds1</span> <span class="o">=</span> <span class="nb">list</span><span class="p">(</span><span class="nb">map</span><span class="p">(</span><span class="nb">round</span><span class="p">,</span> <span class="n">logreg1_pred</span><span class="p">))</span>

<span class="nb">print</span><span class="p">(</span><span class="s1">&#39;Accuracy score&#39;</span><span class="p">,</span><span class="n">accuracy_score</span><span class="p">(</span><span class="n">y1_test</span><span class="p">,</span> <span class="n">preds1</span><span class="p">))</span>
<span class="nb">print</span><span class="p">(</span><span class="s1">&#39;Recall score&#39;</span><span class="p">,</span><span class="n">recall_score</span><span class="p">(</span><span class="n">y1_test</span><span class="p">,</span> <span class="n">preds1</span><span class="p">))</span>
<span class="nb">print</span><span class="p">(</span><span class="s1">&#39;Precision score&#39;</span><span class="p">,</span><span class="n">precision_score</span><span class="p">(</span><span class="n">y1_test</span><span class="p">,</span> <span class="n">preds1</span><span class="p">))</span>
<span class="nb">print</span><span class="p">(</span><span class="s1">&#39;f1 score&#39;</span><span class="p">,</span><span class="n">f1_score</span><span class="p">(</span><span class="n">y1_test</span><span class="p">,</span> <span class="n">preds1</span><span class="p">))</span>
</pre></div>

    </div>
</div>
</div>

<div class="output_wrapper">
<div class="output">


<div class="output_area">

    <div class="prompt"></div>


<div class="output_subarea output_stream output_stdout output_text">
<pre>Accuracy score 0.8333333333333334
Recall score 0.8297872340425532
Precision score 0.8478260869565217
f1 score 0.8387096774193549
</pre>
</div>
</div>

</div>
</div>

</div>
<div class="cell border-box-sizing code_cell rendered">
<div class="input">
<div class="prompt input_prompt">In&nbsp;[50]:</div>
<div class="inner_cell">
    <div class="input_area">
<div class=" highlight hl-ipython3"><pre><span></span><span class="n">cm</span> <span class="o">=</span> <span class="n">confusion_matrix</span><span class="p">(</span><span class="n">y1_test</span><span class="p">,</span><span class="n">preds1</span><span class="p">)</span>
<span class="n">sns</span><span class="o">.</span><span class="n">heatmap</span><span class="p">(</span><span class="n">cm</span><span class="p">,</span><span class="n">annot</span><span class="o">=</span><span class="kc">True</span><span class="p">)</span>
</pre></div>

    </div>
</div>
</div>

<div class="output_wrapper">
<div class="output">


<div class="output_area">

    <div class="prompt output_prompt">Out[50]:</div>




<div class="output_text output_subarea output_execute_result">
<pre>&lt;AxesSubplot:&gt;</pre>
</div>

</div>

<div class="output_area">

    <div class="prompt"></div>




<div class="output_png output_subarea ">
<img src="data:image/png;base64,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
"
>
</div>

</div>

</div>
</div>

</div>
<div class="cell border-box-sizing code_cell rendered">
<div class="input">
<div class="prompt input_prompt">In&nbsp;[51]:</div>
<div class="inner_cell">
    <div class="input_area">
<div class=" highlight hl-ipython3"><pre><span></span><span class="c1"># creating a random forest model</span>
<span class="kn">from</span> <span class="nn">sklearn.ensemble</span> <span class="kn">import</span> <span class="n">RandomForestClassifier</span>
<span class="n">Rf</span><span class="o">=</span><span class="n">RandomForestClassifier</span><span class="p">()</span>
</pre></div>

    </div>
</div>
</div>

</div>
<div class="cell border-box-sizing code_cell rendered">
<div class="input">
<div class="prompt input_prompt">In&nbsp;[52]:</div>
<div class="inner_cell">
    <div class="input_area">
<div class=" highlight hl-ipython3"><pre><span></span><span class="c1"># training and predicting </span>
<span class="n">Rf</span><span class="o">.</span><span class="n">fit</span><span class="p">(</span><span class="n">X_train</span><span class="p">,</span><span class="n">y_train</span><span class="p">)</span>

<span class="n">pred1</span><span class="o">=</span><span class="n">Rf</span><span class="o">.</span><span class="n">predict</span><span class="p">(</span><span class="n">X_test</span><span class="p">)</span>
</pre></div>

    </div>
</div>
</div>

</div>
<div class="cell border-box-sizing code_cell rendered">
<div class="input">
<div class="prompt input_prompt">In&nbsp;[53]:</div>
<div class="inner_cell">
    <div class="input_area">
<div class=" highlight hl-ipython3"><pre><span></span><span class="nb">print</span><span class="p">(</span><span class="s2">&quot;Test Accuracy :&quot;</span><span class="p">,</span><span class="n">accuracy_score</span><span class="p">(</span><span class="n">y_test</span><span class="p">,</span><span class="n">pred1</span><span class="p">)</span><span class="o">*</span><span class="mi">100</span><span class="p">)</span>
</pre></div>

    </div>
</div>
</div>

<div class="output_wrapper">
<div class="output">


<div class="output_area">

    <div class="prompt"></div>


<div class="output_subarea output_stream output_stdout output_text">
<pre>Test Accuracy : 75.55555555555556
</pre>
</div>
</div>

</div>
</div>

</div>
<div class="cell border-box-sizing code_cell rendered">
<div class="input">
<div class="prompt input_prompt">In&nbsp;[54]:</div>
<div class="inner_cell">
    <div class="input_area">
<div class=" highlight hl-ipython3"><pre><span></span><span class="n">ss1</span><span class="o">=</span><span class="n">confusion_matrix</span><span class="p">(</span><span class="n">y_test</span><span class="p">,</span><span class="n">pred1</span><span class="p">)</span>
<span class="n">sns</span><span class="o">.</span><span class="n">heatmap</span><span class="p">(</span><span class="n">ss1</span><span class="p">,</span><span class="n">annot</span><span class="o">=</span><span class="kc">True</span><span class="p">)</span>
</pre></div>

    </div>
</div>
</div>

<div class="output_wrapper">
<div class="output">


<div class="output_area">

    <div class="prompt output_prompt">Out[54]:</div>




<div class="output_text output_subarea output_execute_result">
<pre>&lt;AxesSubplot:&gt;</pre>
</div>

</div>

<div class="output_area">

    <div class="prompt"></div>




<div class="output_png output_subarea ">
<img src="data:image/png;base64,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
"
>
</div>

</div>

</div>
</div>

</div>
<div class="cell border-box-sizing code_cell rendered">
<div class="input">
<div class="prompt input_prompt">In&nbsp;[55]:</div>
<div class="inner_cell">
    <div class="input_area">
<div class=" highlight hl-ipython3"><pre><span></span><span class="n">report1</span><span class="o">=</span><span class="n">classification_report</span><span class="p">(</span><span class="n">y_test</span><span class="p">,</span><span class="n">pred1</span><span class="p">)</span>
<span class="nb">print</span><span class="p">(</span><span class="n">report1</span><span class="p">)</span>
</pre></div>

    </div>
</div>
</div>

<div class="output_wrapper">
<div class="output">


<div class="output_area">

    <div class="prompt"></div>


<div class="output_subarea output_stream output_stdout output_text">
<pre>              precision    recall  f1-score   support

           0       0.86      0.65      0.74        48
           1       0.69      0.88      0.77        42

    accuracy                           0.76        90
   macro avg       0.77      0.76      0.75        90
weighted avg       0.78      0.76      0.75        90

</pre>
</div>
</div>

</div>
</div>

</div>
<div class="cell border-box-sizing text_cell rendered"><div class="prompt input_prompt">
</div><div class="inner_cell">
<div class="text_cell_render border-box-sizing rendered_html">
<h1 id="This-is-All-thanks">This is All thanks<a class="anchor-link" href="#This-is-All-thanks">&#182;</a></h1>
</div>
</div>
</div>
    </div>
  </div>
<script defer src="https://static.cloudflareinsights.com/beacon.min.js/vaafb692b2aea4879b33c060e79fe94621666317369993" integrity="sha512-0ahDYl866UMhKuYcW078ScMalXqtFJggm7TmlUtp0UlD4eQk0Ixfnm5ykXKvGJNFjLMoortdseTfsRT8oCfgGA==" data-cf-beacon='{"rayId":"7a633561fc8a26b9","token":"a73834a4a1444e9ab89e8da06da41720","version":"2023.2.0","si":100}' crossorigin="anonymous"></script>
</body>

 


</html>
